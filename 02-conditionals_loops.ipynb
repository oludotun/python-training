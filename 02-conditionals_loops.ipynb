{
 "cells": [
  {
   "attachments": {},
   "cell_type": "markdown",
   "metadata": {},
   "source": [
    "(conditionals-and-loops)=\n",
    "# Conditionals and loops"
   ]
  },
  {
   "attachments": {},
   "cell_type": "markdown",
   "metadata": {},
   "source": [
    "*****"
   ]
  },
  {
   "attachments": {},
   "cell_type": "markdown",
   "metadata": {},
   "source": [
    "## Introduction"
   ]
  },
  {
   "attachments": {},
   "cell_type": "markdown",
   "metadata": {},
   "source": [
    "In the previous notebook, we leaned to create, access, and modify Python's basic data structures. In this notebook, we are going to learn several important techniques of writing code, thus expanding our set of tools for writing Python code beyond simple data creation and access. "
   ]
  },
  {
   "attachments": {},
   "cell_type": "markdown",
   "metadata": {},
   "source": [
    "First, we are going to learn about *control flow*, a term that encompasses two techniques:\n",
    "\n",
    "* Conditionals—methods for conditional code execution, such as `if`-`else` conditionals (see {ref}`conditionals`)\n",
    "* Loops—methods for repeated code execution, such as `for` loops (see {ref}`for-loops`)"
   ]
  },
  {
   "attachments": {},
   "cell_type": "markdown",
   "metadata": {},
   "source": [
    "Then, we introduce the basic methods for reading plain text files ({ref}`working-with-files`), and a more specific method to read the tabular CSV format ({ref}`reading-csv-files`). As we will see, these methods involve both flow control techniques: \n",
    "\n",
    "* Loops—to go over the lines in a file, one by one, and \n",
    "* Conditionals—to do something with only those lines that satisfy a given condition."
   ]
  },
  {
   "attachments": {},
   "cell_type": "markdown",
   "metadata": {},
   "source": [
    "Finally, we learn about: \n",
    "\n",
    "* {ref}`range`—which is used create numeric sequences\n",
    "* {ref}`list-comprehension`—a powerful technique to write a certain type of loops more concisely\n",
    "* {ref}`defining-functions`—to repeat the same calculation in more then one place in our code"
   ]
  },
  {
   "attachments": {},
   "cell_type": "markdown",
   "metadata": {},
   "source": [
    "(conditionals)=\n",
    "## Conditionals"
   ]
  },
  {
   "attachments": {},
   "cell_type": "markdown",
   "metadata": {},
   "source": [
    "### The `if` conditional"
   ]
  },
  {
   "attachments": {},
   "cell_type": "markdown",
   "metadata": {},
   "source": [
    "Conditionals are used to *condition* the execution of a particular code section based on a criterion. For example, the following expression prints `'Its hot!'` only if `latitude` is smaller than `66.5`. We are using the `print` function to explicitly indicate that the value needs to be printed:"
   ]
  },
  {
   "attachments": {},
   "cell_type": "markdown",
   "metadata": {},
   "source": [
    "```python\n",
    "if latitude < 66.5:\n",
    "    print('It is hot!')\n",
    "```"
   ]
  },
  {
   "attachments": {},
   "cell_type": "markdown",
   "metadata": {},
   "source": [
    "Note the syntax of the `if` conditional:"
   ]
  },
  {
   "attachments": {},
   "cell_type": "markdown",
   "metadata": {},
   "source": [
    "```text\n",
    "if condition:\n",
    "    expression1\n",
    "    expression2\n",
    "    ...\n",
    "```"
   ]
  },
  {
   "attachments": {},
   "cell_type": "markdown",
   "metadata": {},
   "source": [
    "The `if` keyword is followed a `condition`, which should be a boolean value, or an expression that can be evaluated as a boolean value, ending with a colon (`:`). Next comes a block of code, comprised of one or more expressions and marked by *indentation*. If `condition` is `True`, the block of code is executed. If `condition` is `False`, the block of code is ignored."
   ]
  },
  {
   "attachments": {},
   "cell_type": "markdown",
   "metadata": {},
   "source": [
    "For example, if `latitude` is equal to `31.25`, then `latitude<66.5` returns `True`. Therefore, the `print` expression would be excuted, printing the string `'It is hot!'` in the console:"
   ]
  },
  {
   "cell_type": "code",
   "execution_count": 1,
   "metadata": {},
   "outputs": [
    {
     "name": "stdout",
     "output_type": "stream",
     "text": [
      "It is hot!\n"
     ]
    }
   ],
   "source": [
    "latitude = 31.25  # Latitude of Beer-Sheva, Israel\n",
    "if latitude < 66.5:\n",
    "    print('It is hot!')"
   ]
  },
  {
   "attachments": {},
   "cell_type": "markdown",
   "metadata": {},
   "source": [
    "If `latitude` is `77.5`, then the expression `latitude<66.5` returns `False`. Therefore, the `print` expression is ignored, and nothing happens:"
   ]
  },
  {
   "cell_type": "code",
   "execution_count": 2,
   "metadata": {},
   "outputs": [],
   "source": [
    "latitude = 71.5  # Latitude of Nuugaatsiaq, Greenland\n",
    "if latitude < 66.5:\n",
    "    print('It is hot!')"
   ]
  },
  {
   "attachments": {},
   "cell_type": "markdown",
   "metadata": {},
   "source": [
    "### The `if`-`else` conditional"
   ]
  },
  {
   "attachments": {},
   "cell_type": "markdown",
   "metadata": {},
   "source": [
    "The `if` conditional may optionally be expanded, adding the `else` keyword followed by a second code block:"
   ]
  },
  {
   "attachments": {},
   "cell_type": "markdown",
   "metadata": {},
   "source": [
    "```text\n",
    "if condition:\n",
    "    expression1\n",
    "    expression2\n",
    "    ...\n",
    "else:\n",
    "    expression1\n",
    "    expression2\n",
    "    ...\n",
    "```"
   ]
  },
  {
   "attachments": {},
   "cell_type": "markdown",
   "metadata": {},
   "source": [
    "In this `if`-`else` variant, one of the two code blocks is always executed. If `condition` is `True` then the *first* code block is executed. If `condition` is `False`, then the *second* code block is executed. Here are examples of these two scenarios, respectively:"
   ]
  },
  {
   "cell_type": "code",
   "execution_count": 3,
   "metadata": {},
   "outputs": [
    {
     "name": "stdout",
     "output_type": "stream",
     "text": [
      "It is hot!\n"
     ]
    }
   ],
   "source": [
    "latitude = 31.25  # Latitude of Beer-Sheva, Israel\n",
    "if latitude < 66.5:\n",
    "    print('It is hot!')\n",
    "else:\n",
    "    print('It is cold!')"
   ]
  },
  {
   "cell_type": "code",
   "execution_count": 3,
   "metadata": {},
   "outputs": [
    {
     "name": "stdout",
     "output_type": "stream",
     "text": [
      "It's cold!\n"
     ]
    }
   ],
   "source": [
    "latitude = 71.5  # Latitude of Nuugaatsiaq, Greenland\n",
    "if latitude < 66.5:\n",
    "    print('It is hot!')\n",
    "else:\n",
    "    print('It is cold!')"
   ]
  },
  {
   "attachments": {},
   "cell_type": "markdown",
   "metadata": {},
   "source": [
    "## Indentation in Python"
   ]
  },
  {
   "attachments": {},
   "cell_type": "markdown",
   "metadata": {},
   "source": [
    "As mentioned above, the expressions that follow `if` and `else` are *indented*. This is not a coincidence. In fact, Python recognizes multi-line code blocks through indentation. For example, in the context of a conditional, indentation is our way to tell the Python interpreter \"these expressions belong to the `if` statement\". You can use any number of spaces or tabs for indentation, as long as you are consistent. The convention, however, is to use *four spaces* for each level of indentation. For example, consider the following example which has several expressions inside two levels of indentation:"
   ]
  },
  {
   "cell_type": "code",
   "execution_count": 1,
   "metadata": {},
   "outputs": [
    {
     "name": "stdout",
     "output_type": "stream",
     "text": [
      "Negative number\n"
     ]
    }
   ],
   "source": [
    "x = -2\n",
    "if x >= 0:\n",
    "    if x == 0:\n",
    "        print('Zero')\n",
    "    else:\n",
    "        print('Positive number')\n",
    "else:\n",
    "    print('Negative number')"
   ]
  },
  {
   "attachments": {},
   "cell_type": "markdown",
   "metadata": {},
   "source": [
    "In many other programming languages (such as R and JavaScript) indentation is ignored by the computer, and code sections are marked by other means (such as `{` and `}`). In Python, indentation is the only way to mark code sections. Therefore, when writing Python code you must pay close attention to indentation. Make sure there is no unnecessary indentation, and that indentation is uniform (preferably using four spaces). "
   ]
  },
  {
   "attachments": {},
   "cell_type": "markdown",
   "metadata": {},
   "source": [
    "As we will see later on, marking code sections using indentation is not specific to conditionals. It is also used in all other contexts where we need to mark a *code block*, such as in `for` loops (see {ref}`for-loops`), in file contexts (see {ref}`using-contexts-with`), and in function definitions (see {ref}`defining-functions`)."
   ]
  },
  {
   "attachments": {},
   "cell_type": "markdown",
   "metadata": {},
   "source": [
    "(for-loops)=\n",
    "## `for` loops"
   ]
  },
  {
   "attachments": {},
   "cell_type": "markdown",
   "metadata": {},
   "source": [
    "### What are `for` loops?"
   ]
  },
  {
   "attachments": {},
   "cell_type": "markdown",
   "metadata": {},
   "source": [
    "Loops are used to run a particular code section more than once. For example, we may want to apply the same calculation for every element in a list (see {ref}`lists`), for each of 100 separate files, and so on. Python has two types to loops, namely: \n",
    "\n",
    "* `while` loops—A (potentially) infinite loop with a stopping condition\n",
    "* `for` loops—An iteration over a sequence"
   ]
  },
  {
   "attachments": {},
   "cell_type": "markdown",
   "metadata": {},
   "source": [
    " In this book we focus on `for` loops, which is by far the most useful type of loop when working with data."
   ]
  },
  {
   "attachments": {},
   "cell_type": "markdown",
   "metadata": {},
   "source": [
    "`for` loops are used to *iterate* over sequences. This means that the `for` loop executes a particular code section for each item in the sequence. Often, the code section does something with each particular \"item\" in the sequence. The \"sequence\" we iterate over is often a list, but it can also be a tuple, a dictionary, a set, or a string."
   ]
  },
  {
   "attachments": {},
   "cell_type": "markdown",
   "metadata": {},
   "source": [
    "As we will see later on, `for` loops can even be used to iterate over sequences generated in \"real-time\", such as lines read one-by-one from a file ({ref}`working-with-files`), which means we can process very large data structures without loading all data into memory at once."
   ]
  },
  {
   "attachments": {},
   "cell_type": "markdown",
   "metadata": {},
   "source": [
    "### The `for` loop syntax"
   ]
  },
  {
   "attachments": {},
   "cell_type": "markdown",
   "metadata": {},
   "source": [
    "The syntax of a `for` loop is as follows:"
   ]
  },
  {
   "attachments": {},
   "cell_type": "markdown",
   "metadata": {},
   "source": [
    "```text\n",
    "for i in sequence:\n",
    "    expression1\n",
    "    expression2\n",
    "    ...\n",
    "```"
   ]
  },
  {
   "attachments": {},
   "cell_type": "markdown",
   "metadata": {},
   "source": [
    "Note the following components:\n",
    "\n",
    "* The `for` keyword\n",
    "* Name of the variable that gets consecutive values (`i`)\n",
    "* The `in` keyword\n",
    "* The object where consecutive values come from (`sequence`). This is typically a \"collection\" data type such as a `list` or `tuple` (see {ref}`basic-data-types-overview`), or another type of *iterable* object (i.e., that can be iterated) such as a `range` object (see {ref}`range`), or a file connection (see {ref}`reading-csv-files`).\n",
    "* Colon (`:`)\n",
    "* Code block that gets executed in each iteration, typically using the current value (`i`)"
   ]
  },
  {
   "attachments": {},
   "cell_type": "markdown",
   "metadata": {},
   "source": [
    "Here is an example of a `for` loop:"
   ]
  },
  {
   "cell_type": "code",
   "execution_count": 2,
   "metadata": {},
   "outputs": [
    {
     "name": "stdout",
     "output_type": "stream",
     "text": [
      "Orange\n",
      "Banana\n",
      "Mango\n",
      "Apple\n"
     ]
    }
   ],
   "source": [
    "fruits = ['Orange', 'Banana', 'Mango', 'Apple']\n",
    "for i in fruits:\n",
    "    print(i)"
   ]
  },
  {
   "attachments": {},
   "cell_type": "markdown",
   "metadata": {},
   "source": [
    "In this example, we go over the elements of a `list` named `fruits`. For each element `i`, we execute the expression `print(i)`. As a result, we get a consecutive printout of all elements in `fruits`."
   ]
  },
  {
   "attachments": {},
   "cell_type": "markdown",
   "metadata": {},
   "source": [
    "```{admonition} Exercise 03-a\n",
    ":class: important\n",
    "* Define a list named `lunch`, as shown below.\n",
    "* Use a `for` loop and conditionals to create a dictionary with the count of each item in `lunch`.\n",
    "* Hint: create an empty dictionary, then use a `for` loop to go over the items, and a conditional to add a new item with count `1` (if it is not yet in the dictionary), or to increment an existing item count.\n",
    "* Answer: `{'Salad':2,'Egg':1,'Beef':1,'Potato':3,'Tea':1,'Coffee':1}`\n",
    "\n",
    "```py\n",
    "lunch = [\n",
    "    'Salad', \n",
    "    'Salad', \n",
    "    'Egg', \n",
    "    'Beef', \n",
    "    'Potato', \n",
    "    'Tea', \n",
    "    'Potato', \n",
    "    'Potato', \n",
    "    'Coffee'\n",
    "]\n",
    "```"
   ]
  },
  {
   "attachments": {},
   "cell_type": "markdown",
   "metadata": {},
   "source": [
    "(using-enumerate)=\n",
    "### Using `enumerate`"
   ]
  },
  {
   "attachments": {},
   "cell_type": "markdown",
   "metadata": {},
   "source": [
    "Sometimes we need to work with both the index *and* value of the sequence we iterate on. To do that, we can encompass the sequence inside `enumerate`. That way, each value becomes a `tuple` of the form `(index,value)`. For example, we are going to use `enumerate` when stacking raster bands from separate files (see {ref}`stacking-raster-bands`), where the `for` loop requires both:\n",
    "\n",
    "* the value (file name to read from), and \n",
    "* the index (index of the raster band to write into)."
   ]
  },
  {
   "attachments": {},
   "cell_type": "markdown",
   "metadata": {},
   "source": [
    "Here is an example of using `enumerate` in a for loop. The difference, compared to the last example, is that the *sequence* we iterate on is now `enumerate(fruits)`, instead of just `fruits`:"
   ]
  },
  {
   "cell_type": "code",
   "execution_count": 13,
   "metadata": {},
   "outputs": [
    {
     "name": "stdout",
     "output_type": "stream",
     "text": [
      "(0, 'Orange')\n",
      "(1, 'Banana')\n",
      "(2, 'Mango')\n",
      "(3, 'Apple')\n"
     ]
    }
   ],
   "source": [
    "for i in enumerate(fruits):\n",
    "    print(i)"
   ]
  },
  {
   "attachments": {},
   "cell_type": "markdown",
   "metadata": {},
   "source": [
    "Here is the last value of `i`:"
   ]
  },
  {
   "cell_type": "code",
   "execution_count": 4,
   "metadata": {},
   "outputs": [
    {
     "data": {
      "text/plain": [
       "(3, 'Apple')"
      ]
     },
     "execution_count": 4,
     "metadata": {},
     "output_type": "execute_result"
    }
   ],
   "source": [
    "i"
   ]
  },
  {
   "attachments": {},
   "cell_type": "markdown",
   "metadata": {},
   "source": [
    "We can see that it is indeed a `tuple`, using `type`:"
   ]
  },
  {
   "cell_type": "code",
   "execution_count": 5,
   "metadata": {},
   "outputs": [
    {
     "data": {
      "text/plain": [
       "tuple"
      ]
     },
     "execution_count": 5,
     "metadata": {},
     "output_type": "execute_result"
    }
   ],
   "source": [
    "type(i)"
   ]
  },
  {
   "attachments": {},
   "cell_type": "markdown",
   "metadata": {},
   "source": [
    "If necessary, we can modify the starting point of the indices (default is `0`), using the `start` parameter of `enumerate`. For example:"
   ]
  },
  {
   "cell_type": "code",
   "execution_count": 9,
   "metadata": {},
   "outputs": [
    {
     "name": "stdout",
     "output_type": "stream",
     "text": [
      "(1, 'Orange')\n",
      "(2, 'Banana')\n",
      "(3, 'Mango')\n",
      "(4, 'Apple')\n"
     ]
    }
   ],
   "source": [
    "for i in enumerate(fruits, start=1):\n",
    "    print(i)"
   ]
  },
  {
   "attachments": {},
   "cell_type": "markdown",
   "metadata": {},
   "source": [
    "Finally, we can also split the indices and values into separate variables, so that we do not need to deal with tuples. For example, in the following version we have the variables `index` and `value` to access the index and value in each `for` loop iteration:"
   ]
  },
  {
   "cell_type": "code",
   "execution_count": 11,
   "metadata": {},
   "outputs": [
    {
     "name": "stdout",
     "output_type": "stream",
     "text": [
      "1\n",
      "Orange\n",
      "2\n",
      "Banana\n",
      "3\n",
      "Mango\n",
      "4\n",
      "Apple\n"
     ]
    }
   ],
   "source": [
    "for index, value in enumerate(fruits, start=1):\n",
    "    print(index)\n",
    "    print(value)"
   ]
  },
  {
   "attachments": {},
   "cell_type": "markdown",
   "metadata": {},
   "source": [
    "(working-with-files)=\n",
    "## Working with files"
   ]
  },
  {
   "attachments": {},
   "cell_type": "markdown",
   "metadata": {},
   "source": [
    "### Overview"
   ]
  },
  {
   "attachments": {},
   "cell_type": "markdown",
   "metadata": {},
   "source": [
    "Python provides built-in methods for reading (and writing) plain text files, such as CSV, using line-by-line iteration. Although we will later learn abount a concise approach to read CSV files, all at once, using the `pandas` package (see {ref}`pandas-reading-from-file`), the basic approach which we learn in this section has some advantages, and therefore worthwhile to be familiar with. Specifically:\n",
    "\n",
    "* Using external packages, such as `pandas`, may be impossible in some situations, such as systems that are not connected to the internet or have other security restrictions that prevent downloading and installation of third-party packages. In some situations we may wish to limit reliance on third-party packages for other reasons, such as making our code as reproducible and stable as possible. \n",
    "* Reading a file by iterating along rows has a very small memory footprint, since only the current row is stored in memory at any given time. This makes it possible to process huge files that cannot fit into memory all at once."
   ]
  },
  {
   "attachments": {},
   "cell_type": "markdown",
   "metadata": {},
   "source": [
    "Before we move on to a more specific example of reading a CSV file (see {ref}`reading-csv-files`), let us go over a minimal example which works with any type of plain text file (not just CSV) and demonstrates the general principles of reading a file in Python, namely the concepts of a file connection object, and reading one line at a time."
   ]
  },
  {
   "attachments": {},
   "cell_type": "markdown",
   "metadata": {},
   "source": [
    "(file-object-and-reading-lines)=\n",
    "### File object and reading lines"
   ]
  },
  {
   "attachments": {},
   "cell_type": "markdown",
   "metadata": {},
   "source": [
    "To read from a text file in Python, we first need to create a file connection object, using the [`open`](https://docs.python.org/3/library/functions.html#open) function. The `open` function has three important arguments:\n",
    "\n",
    "* The file path, such as `'data/gtfs/stops.txt'` (see {ref}`file-paths`)\n",
    "* The mode, typically `'r'` for *text reading* mode (the default), or `'w'` for *text writing* mode\n",
    "* The encoding, such as `'utf-8'` or `'utf-8-sig'`"
   ]
  },
  {
   "attachments": {},
   "cell_type": "markdown",
   "metadata": {},
   "source": [
    "The concept of file encoding deserves a few notes. In general, encoding defines how the information in the file is interpreted by the computer. In order for the information  to be interpreted correctly, the encoding setting must match to the encoding which was used when creating the file in the first place. If the encoding is left unspecified, the system default will be used. In case the system default does not match the file encoding, the contents may be interpreted incorrectly, or there may be an error and contents will not be read at all. Anyone working with data, especially in languages other than English, will encounter this situation sooner or later. The problem is that text files, including CSV, do not always store the encoding specification internally, as part of the file. In such case, the user must figure out the right encoding from context (such as metadata, if any), or through trial and error. "
   ]
  },
  {
   "attachments": {},
   "cell_type": "markdown",
   "metadata": {},
   "source": [
    "[UTF-8](https://en.wikipedia.org/wiki/UTF-8) is the most widely used file encoding when working with data. All CSV sample data files we use in this book are encoded in UTF-8. The difference between `'utf-8'` or `'utf-8-sig'` is that the latter specifies the input file has a [Byte Order Mark (BOM)](https://en.wikipedia.org/wiki/Byte_order_mark) signature, namely `\\ufeff`. The BOM is omitted from the result when the right encoding is specified in `open`. For example, try opening the file connection with `open('data/gtfs/stops.txt',encoding='utf-8')`, then inspecting the contents of the first line (see below). You should see `\\ufeff` at the beginning of the string. "
   ]
  },
  {
   "attachments": {},
   "cell_type": "markdown",
   "metadata": {},
   "source": [
    "```{note}\n",
    "For more information on the difference between `'utf-8'` or `'utf-8-sig'`, check out the following threads: \n",
    "\n",
    "* <https://stackoverflow.com/questions/57152985/what-is-the-difference-between-utf-8-and-utf-8-sig> \n",
    "* <https://stackoverflow.com/questions/17912307/u-ufeff-in-python-string>\n",
    "```"
   ]
  },
  {
   "attachments": {},
   "cell_type": "markdown",
   "metadata": {},
   "source": [
    "For example, the following expression creates a connection to the file `stops.txt` from the sample data (see {ref}`sample-data`), in `'r'` (reading) mode, using the `'utf-8-sig'` encoding, which is the right encoding for this file. The file connection object is assigned to a variable named `file`:"
   ]
  },
  {
   "cell_type": "code",
   "execution_count": 3,
   "metadata": {},
   "outputs": [
    {
     "data": {
      "text/plain": [
       "<_io.TextIOWrapper name='data/gtfs/stops.txt' mode='r' encoding='utf-8-sig'>"
      ]
     },
     "execution_count": 3,
     "metadata": {},
     "output_type": "execute_result"
    }
   ],
   "source": [
    "file = open('data/gtfs/stops.txt', 'r', encoding='utf-8-sig')\n",
    "file"
   ]
  },
  {
   "attachments": {},
   "cell_type": "markdown",
   "metadata": {},
   "source": [
    "To demonstrate reading from a file, we will will use the [`.readline`](https://docs.python.org/3/tutorial/inputoutput.html#reading-and-writing-files) method of the connection object. The `.readline` method reads one line at a time. For example, the following expression reads the *first* line in `stops.txt`, and assigns the resulting string to `x`:"
   ]
  },
  {
   "cell_type": "code",
   "execution_count": 4,
   "metadata": {},
   "outputs": [
    {
     "data": {
      "text/plain": [
       "'stop_id,stop_code,stop_name,stop_desc,stop_lat,stop_lon,location_type,parent_station,zone_id\\n'"
      ]
     },
     "execution_count": 4,
     "metadata": {},
     "output_type": "execute_result"
    }
   ],
   "source": [
    "x = file.readline()\n",
    "x"
   ]
  },
  {
   "attachments": {},
   "cell_type": "markdown",
   "metadata": {},
   "source": [
    "Keep in mind that strings obtained from a text file may include special characters, such as *newline* (`\\n`). These are interpreted when printing the string with `print`:"
   ]
  },
  {
   "cell_type": "code",
   "execution_count": 4,
   "metadata": {},
   "outputs": [
    {
     "name": "stdout",
     "output_type": "stream",
     "text": [
      "stop_id,stop_code,stop_name,stop_desc,stop_lat,stop_lon,location_type,parent_station,zone_id\n",
      "\n"
     ]
    }
   ],
   "source": [
    "print(x)"
   ]
  },
  {
   "attachments": {},
   "cell_type": "markdown",
   "metadata": {},
   "source": [
    "If we run `.readline` once again, we get the string with the contents of the *second* line in the file, and so on, until the final line is reached. Here, we are reading the next three lines (i.e., lines 2-4):"
   ]
  },
  {
   "cell_type": "code",
   "execution_count": 5,
   "metadata": {},
   "outputs": [
    {
     "data": {
      "text/plain": [
       "\"1,38831,בי''ס בר לב/בן יהודה, רחוב:בן יהודה 74 עיר: כפר סבא רציף:   קומה:  ,32.183985,34.917554,0,,6900\\n\""
      ]
     },
     "execution_count": 5,
     "metadata": {},
     "output_type": "execute_result"
    }
   ],
   "source": [
    "file.readline()"
   ]
  },
  {
   "cell_type": "code",
   "execution_count": 6,
   "metadata": {},
   "outputs": [
    {
     "data": {
      "text/plain": [
       "'2,38832,הרצל/צומת בילו, רחוב:הרצל  עיר: קרית עקרון רציף:   קומה:  ,31.870034,34.819541,0,,469\\n'"
      ]
     },
     "execution_count": 6,
     "metadata": {},
     "output_type": "execute_result"
    }
   ],
   "source": [
    "file.readline()"
   ]
  },
  {
   "cell_type": "code",
   "execution_count": 7,
   "metadata": {},
   "outputs": [
    {
     "data": {
      "text/plain": [
       "'3,38833,הנחשול/הדייגים, רחוב:הנחשול 30 עיר: ראשון לציון רציף:   קומה:  ,31.984553,34.782828,0,,8300\\n'"
      ]
     },
     "execution_count": 7,
     "metadata": {},
     "output_type": "execute_result"
    }
   ],
   "source": [
    "file.readline()"
   ]
  },
  {
   "attachments": {},
   "cell_type": "markdown",
   "metadata": {},
   "source": [
    "The `stops.txt` file is one of ten CSV files comprising the GTFS dataset (see the `gtfs` directory in the {ref}`sample-data`). The GTFS dataset describes public transport routes and timetables [in Israel](https://www.gov.il/he/departments/general/gtfs_general_transit_feed_specifications), in the standard format known as [General Transit Feed Specification (GTFS)](https://en.wikipedia.org/wiki/General_Transit_Feed_Specification). We are going to elaborate on the structure of the dataset later on (see {ref}`what-is-gtfs`). In this chapter, we will only be working with the `stops.txt` file, which describes the public transport *stops*. For example, it contains the following columns we will be interested in:\n",
    "\n",
    "* `stop_name`—Stop name\n",
    "* `stop_lat`—Stop latitude, in decimal degrees\n",
    "* `stop_lon`—Stop longitude, in decimal degrees"
   ]
  },
  {
   "attachments": {},
   "cell_type": "markdown",
   "metadata": {},
   "source": [
    "Keep in mind that:\n",
    "\n",
    "* columns in a CSV file are separated by commas, and\n",
    "* the first line (usually) describes the order of the columns (see {ref}`reading-csv-files`)."
   ]
  },
  {
   "attachments": {},
   "cell_type": "markdown",
   "metadata": {},
   "source": [
    "It is easier to understand the columns structure when viewing the file in a spreadsheet software ({numref}`stops-txt-calc`). "
   ]
  },
  {
   "attachments": {},
   "cell_type": "markdown",
   "metadata": {},
   "source": [
    "```{figure} images/stops_txt_calc.png\n",
    "---\n",
    "name: stops-txt-calc\n",
    "width: 100%\n",
    "---\n",
    "The `stops.txt` file from the GTFS dataset when opened in a spreadsheet software (LibreOffice Calc)\n",
    "```"
   ]
  },
  {
   "attachments": {},
   "cell_type": "markdown",
   "metadata": {},
   "source": [
    "When we are done working with the file, the file connection needs to be *closed* using [`.close`](https://docs.python.org/3/tutorial/inputoutput.html#reading-and-writing-files):"
   ]
  },
  {
   "cell_type": "code",
   "execution_count": 8,
   "metadata": {},
   "outputs": [],
   "source": [
    "file.close()"
   ]
  },
  {
   "attachments": {},
   "cell_type": "markdown",
   "metadata": {},
   "source": [
    "Closing a file connection is necessary to make sure that:\n",
    "\n",
    "* All information is actually written into the file (when in writing mode)\n",
    "* The memory is freed"
   ]
  },
  {
   "attachments": {},
   "cell_type": "markdown",
   "metadata": {},
   "source": [
    "We will learn about automated closing of file connections, using `with`, later on (see {ref}`using-contexts-with`)."
   ]
  },
  {
   "attachments": {},
   "cell_type": "markdown",
   "metadata": {},
   "source": [
    "(reading-csv-files)=\n",
    "### Reading CSV files"
   ]
  },
  {
   "attachments": {},
   "cell_type": "markdown",
   "metadata": {},
   "source": [
    "Comma Separated Values (CSV) is a commonly used plain text format to store tabular data. In a CSV file, each line represents a table row, whereas column are separtated by commas (thus the \"Comma Separated\"). The first line usually contains the column names, also separated by commas. "
   ]
  },
  {
   "attachments": {},
   "cell_type": "markdown",
   "metadata": {},
   "source": [
    "CSV files are a special case of plain text files, which means they can be read using general methods such as `.readline` as shown above (see {ref}`file-object-and-reading-lines`). However, there is also a more specialized method to read CSV files, namely the [`csv.DictReader`](https://docs.python.org/3/library/csv.html#csv.DictReader) function, combined with `next`, defined in the standard `csv` Python package. The advantage of `csv.DictReader`, compared to the general `readlines` method (see {ref}`file-object-and-reading-lines`), is that the CSV lines are automatically split by commas and placed into a `dict` where: \n",
    "\n",
    "* *keys* are the column names (by default, obtained from the first line)\n",
    "* *values* are the current row values"
   ]
  },
  {
   "attachments": {},
   "cell_type": "markdown",
   "metadata": {},
   "source": [
    "For example, the following code section reads and prints the first 4 rows (excluding the header) in `stops.txt`:"
   ]
  },
  {
   "cell_type": "code",
   "execution_count": 3,
   "metadata": {},
   "outputs": [
    {
     "name": "stdout",
     "output_type": "stream",
     "text": [
      "{'stop_id': '1', 'stop_code': '38831', 'stop_name': \"בי''ס בר לב/בן יהודה\", 'stop_desc': ' רחוב:בן יהודה 74 עיר: כפר סבא רציף:   קומה:  ', 'stop_lat': '32.183985', 'stop_lon': '34.917554', 'location_type': '0', 'parent_station': '', 'zone_id': '6900'}\n",
      "{'stop_id': '2', 'stop_code': '38832', 'stop_name': 'הרצל/צומת בילו', 'stop_desc': ' רחוב:הרצל  עיר: קרית עקרון רציף:   קומה:  ', 'stop_lat': '31.870034', 'stop_lon': '34.819541', 'location_type': '0', 'parent_station': '', 'zone_id': '469'}\n",
      "{'stop_id': '3', 'stop_code': '38833', 'stop_name': 'הנחשול/הדייגים', 'stop_desc': ' רחוב:הנחשול 30 עיר: ראשון לציון רציף:   קומה:  ', 'stop_lat': '31.984553', 'stop_lon': '34.782828', 'location_type': '0', 'parent_station': '', 'zone_id': '8300'}\n",
      "{'stop_id': '6', 'stop_code': '38836', 'stop_name': 'ת. מרכזית לוד/הורדה', 'stop_desc': ' רחוב:  עיר: לוד רציף:   קומה:  ', 'stop_lat': '31.956392', 'stop_lon': '34.898098', 'location_type': '0', 'parent_station': '', 'zone_id': '7000'}\n"
     ]
    }
   ],
   "source": [
    "import csv\n",
    "file = open('data/gtfs/stops.txt', 'r', encoding='utf-8-sig')\n",
    "reader = csv.DictReader(file)\n",
    "row = next(reader)\n",
    "print(row)\n",
    "row = next(reader)\n",
    "print(row)\n",
    "row = next(reader)\n",
    "print(row)\n",
    "row = next(reader)\n",
    "print(row)\n",
    "file.close()"
   ]
  },
  {
   "attachments": {},
   "cell_type": "markdown",
   "metadata": {},
   "source": [
    "Here is what is happening in the above code section: \n",
    "\n",
    "* First, we import the `csv` package (see {ref}`loading-packages`)\n",
    "* Next, we create a file connection object to the CSV file (see {ref}`file-object-and-reading-lines`)\n",
    "* Then, we create a \"reader\" object, applying the `csv.DictReader` function on the file connection\n",
    "* Then, we apply the `next` function on the `csv.DictReader` object, which reads one line at a time into a `dict`, consecutively going through rows 2-4 in the file\n",
    "* Finally, the file connection is closed using `.close`"
   ]
  },
  {
   "attachments": {},
   "cell_type": "markdown",
   "metadata": {},
   "source": [
    "Note how, by default, the first row is assumed to be the header and therefore only used to obtain the keys. That is, the first use of `next` returns the 2<sup>nd</sup> row in the CSV file."
   ]
  },
  {
   "attachments": {},
   "cell_type": "markdown",
   "metadata": {},
   "source": [
    "```{note}\n",
    "There is also a [`csv.reader`](https://docs.python.org/3/library/csv.html#csv.reader) method, which returns a `list` of row values (rather than a `dict` as in the case of `csv.DictReader`), including the first row (!). For example, try executing `reader=csv.reader(file)`, and then, consecutively, `next(reader)`. Accessing the CSV file values through `list` indices may be easier for files that have two or three columns. However, accessing the values through `dict` keys (i.e., the column names) is more convenient with files that have many columns (such as `stops.txt`).\n",
    "```"
   ]
  },
  {
   "attachments": {},
   "cell_type": "markdown",
   "metadata": {},
   "source": [
    "```{admonition} Exercise 03-b\n",
    ":class: important\n",
    "* Create a new code cell with the expressions to open the file connection and to create the file reader. \n",
    "* Then create another cell with the expression `next(reader)`.\n",
    "* Execute the second code cell repeatedly several times. You should see the contents of consecutive lines being read from the CSV file.\n",
    "```"
   ]
  },
  {
   "attachments": {},
   "cell_type": "markdown",
   "metadata": {},
   "source": [
    "When reading a CSV file using `csv.DictReader` and `next`, each row in the CSV file is being read as a `dict` of *strings* (even if some of the values are numeric). For example, here is the contents of the 4<sup>th</sup> row in `stops.txt`:"
   ]
  },
  {
   "cell_type": "code",
   "execution_count": 2,
   "metadata": {},
   "outputs": [
    {
     "data": {
      "text/plain": [
       "{'stop_id': '6',\n",
       " 'stop_code': '38836',\n",
       " 'stop_name': 'ת. מרכזית לוד/הורדה',\n",
       " 'stop_desc': ' רחוב:  עיר: לוד רציף:   קומה:  ',\n",
       " 'stop_lat': '31.956392',\n",
       " 'stop_lon': '34.898098',\n",
       " 'location_type': '0',\n",
       " 'parent_station': '',\n",
       " 'zone_id': '7000'}"
      ]
     },
     "execution_count": 2,
     "metadata": {},
     "output_type": "execute_result"
    }
   ],
   "source": [
    "row"
   ]
  },
  {
   "attachments": {},
   "cell_type": "markdown",
   "metadata": {},
   "source": [
    "To get a particular value from a given row, we can use the ordinary method of accessing `dict` values (see {ref}`accessing-dict-values`). For example, the following expression returns the value in the `'stop_name'` column:"
   ]
  },
  {
   "cell_type": "code",
   "execution_count": 5,
   "metadata": {},
   "outputs": [
    {
     "data": {
      "text/plain": [
       "'ת. מרכזית לוד/הורדה'"
      ]
     },
     "execution_count": 5,
     "metadata": {},
     "output_type": "execute_result"
    }
   ],
   "source": [
    "row['stop_name']"
   ]
  },
  {
   "attachments": {},
   "cell_type": "markdown",
   "metadata": {},
   "source": [
    "whereas the following expression returns the value in the `'stop_lat'` (stop latitude) column:"
   ]
  },
  {
   "cell_type": "code",
   "execution_count": 5,
   "metadata": {},
   "outputs": [
    {
     "data": {
      "text/plain": [
       "'31.956392'"
      ]
     },
     "execution_count": 5,
     "metadata": {},
     "output_type": "execute_result"
    }
   ],
   "source": [
    "row['stop_lat']"
   ]
  },
  {
   "attachments": {},
   "cell_type": "markdown",
   "metadata": {},
   "source": [
    "Here is a slightly modified code block, which prints just the values in the `'stop_name'` column, rather than the entire rows:"
   ]
  },
  {
   "cell_type": "code",
   "execution_count": 1,
   "metadata": {},
   "outputs": [
    {
     "name": "stdout",
     "output_type": "stream",
     "text": [
      "בי''ס בר לב/בן יהודה\n",
      "הרצל/צומת בילו\n",
      "הנחשול/הדייגים\n",
      "ת. מרכזית לוד/הורדה\n"
     ]
    }
   ],
   "source": [
    "import csv\n",
    "file = open('data/gtfs/stops.txt', 'r', encoding='utf-8-sig')\n",
    "reader = csv.DictReader(file)\n",
    "row = next(reader)\n",
    "print(row['stop_name'])\n",
    "row = next(reader)\n",
    "print(row['stop_name'])\n",
    "row = next(reader)\n",
    "print(row['stop_name'])\n",
    "row = next(reader)\n",
    "print(row['stop_name'])\n",
    "file.close()"
   ]
  },
  {
   "attachments": {},
   "cell_type": "markdown",
   "metadata": {},
   "source": [
    "In practice, we usually need to go over the entire file, not just the first few rows, which makes using `next` impractical. Instead, we can use a `for` loop such as the following one:"
   ]
  },
  {
   "cell_type": "code",
   "execution_count": 2,
   "metadata": {},
   "outputs": [],
   "source": [
    "import csv\n",
    "file = open('data/gtfs/stops.txt', 'r', encoding='utf-8-sig')\n",
    "reader = csv.DictReader(file)\n",
    "for row in reader:\n",
    "    x = row\n",
    "    # Do something with each row\n",
    "file.close()"
   ]
  },
  {
   "cell_type": "markdown",
   "metadata": {},
   "source": [
    "```{admonition} Exercise 03-b\n",
    ":class: important\n",
    "* What do you think is the value of `x` after running the above code block? Print `x` to check your answer.\n",
    "```"
   ]
  },
  {
   "attachments": {},
   "cell_type": "markdown",
   "metadata": {},
   "source": [
    "In each iteration of the `for` loop, the `row` object contains the `dict` with values from that particular row, which we can do something with."
   ]
  },
  {
   "attachments": {},
   "cell_type": "markdown",
   "metadata": {},
   "source": [
    "Keep in mind that you can only go through a file connection, using methods such as `.readline`, `next`, or a `for` loop, or any combination of them, only once. When the file contents are \"exhausted\", such as when trying to run a `for` loop on the same `csv.DictReader` for a second time, there will be no output. Similarly, if you run `next` to get the contents of the 1<sup>st</sup> row in the file, and subsequently run a `for` loop on *the same* file connection, then the `for` loop will start from the 2<sup>nd</sup> row—because the 1<sup>st</sup> was already read. Therefore, if you need to go over the file again, you need to re-create the file connection."
   ]
  },
  {
   "attachments": {},
   "cell_type": "markdown",
   "metadata": {},
   "source": [
    "```{admonition} Exercise 03-c\n",
    ":class: important\n",
    "* Calculate the number of rows (lines) in the `stops.txt` file, excluding the first row (answer: {glue:}`exercise-03-c`).\n",
    "* Hint: Set a counter variable to zero, then increment it by `1` in each iteration of a `for` loop that goes over the rows.\n",
    "```"
   ]
  },
  {
   "attachments": {},
   "cell_type": "markdown",
   "metadata": {},
   "source": [
    "(writing-csv-files)=\n",
    "### Writing CSV files"
   ]
  },
  {
   "attachments": {},
   "cell_type": "markdown",
   "metadata": {},
   "source": [
    "Writing to CSV files is conceptually similar to reading. We will not go into details, but here is a small self-contained example that you can try to get the idea:"
   ]
  },
  {
   "cell_type": "code",
   "execution_count": 5,
   "metadata": {},
   "outputs": [],
   "source": [
    "import csv\n",
    "file = open('output/packages.csv', 'w')\n",
    "writer = csv.writer(file)\n",
    "writer.writerow(['Package', 'Functionality', 'Website'])\n",
    "writer.writerow(['numpy', 'Arrays', 'https://numpy.org/'])\n",
    "writer.writerow(['pandas', 'Tables', 'https://pandas.pydata.org/'])\n",
    "writer.writerow(['shapely', 'Vector geometries', 'https://shapely.readthedocs.io/'])\n",
    "writer.writerow(['geopandas', 'Vector layers', 'https://geopandas.org/'])\n",
    "writer.writerow(['rasterio', 'Rasters', 'https://rasterio.readthedocs.io/'])\n",
    "file.close()"
   ]
  },
  {
   "attachments": {},
   "cell_type": "markdown",
   "metadata": {},
   "source": [
    "The above code section reproduces and writes the contents of {numref}`python-packages` into a CSV file named `'csv_write_test.csv'` in the `'output'` directory. Beware that opening a file in writing `'w'` mode deletes the original file contents in case the file already exists! "
   ]
  },
  {
   "attachments": {},
   "cell_type": "markdown",
   "metadata": {},
   "source": [
    "```{note}\n",
    "The above code uses `csv.writer`, which is analogous to `csv.reader`, as both work with lists. Perhaps you can guess that there is also a `csv.DictWriter` function, which is analogous to `csv.DictReader` (see {ref}`reading-csv-files`)—both working with dictionaries.\n",
    "```"
   ]
  },
  {
   "attachments": {},
   "cell_type": "markdown",
   "metadata": {},
   "source": [
    "(using-contexts-with)=\n",
    "### Using contexts (`with`)"
   ]
  },
  {
   "attachments": {},
   "cell_type": "markdown",
   "metadata": {},
   "source": [
    "When opening a file to do something with it, such as reading from it, we need to `open` it at the beginning and then `.close` it at the end (see {ref}`file-object-and-reading-lines`). This is essential to make sure that memory is freed and all information pending to be written is actually written."
   ]
  },
  {
   "attachments": {},
   "cell_type": "markdown",
   "metadata": {},
   "source": [
    "To make sure we do not forget to \"close\" a file connection, Python has the `with` method to create a file connection *context*. The `with` expression is followed by a code block where we do something with the file connection. After the code block is completed, the file connection is automatically closed."
   ]
  },
  {
   "attachments": {},
   "cell_type": "markdown",
   "metadata": {},
   "source": [
    "For example, instead of the `for` loop from the last example (see {ref}`reading-csv-files`):"
   ]
  },
  {
   "cell_type": "code",
   "execution_count": 16,
   "metadata": {},
   "outputs": [],
   "source": [
    "import csv\n",
    "file = open('data/gtfs/stops.txt', 'r', encoding='utf-8-sig')\n",
    "reader = csv.DictReader(file)\n",
    "for row in reader:\n",
    "    x = row\n",
    "    # Do something with each row\n",
    "file.close()"
   ]
  },
  {
   "attachments": {},
   "cell_type": "markdown",
   "metadata": {},
   "source": [
    "we can do this:"
   ]
  },
  {
   "cell_type": "code",
   "execution_count": 14,
   "metadata": {},
   "outputs": [],
   "source": [
    "with open('data/gtfs/stops.txt', 'r', encoding='utf-8-sig') as file:\n",
    "    reader = csv.DictReader(file)\n",
    "    next(reader)\n",
    "    for row in reader:\n",
    "        x = row\n",
    "        # Do something with each row"
   ]
  },
  {
   "attachments": {},
   "cell_type": "markdown",
   "metadata": {},
   "source": [
    "Namely, instead of `open` and `close`, we have a code block that begins with `with open(...) as file:`, followed by the same code as before excluding the `.close` part."
   ]
  },
  {
   "attachments": {},
   "cell_type": "markdown",
   "metadata": {},
   "source": [
    "```{admonition} Exercise 03-d\n",
    ":class: important\n",
    "* Calculate the range of longitudes and latitudes of all stops in the `stops.txt` file, i.e., the bounding box of the point layer that the file represents: $lon_{min}$, $lat_{min}$, $lon_{max}$, and $lat_{max}$. \n",
    "* Print the result as an array of the form `[xmin,ymin,xmax,ymax]`.\n",
    "* Go through the following steps:\n",
    "    * Define a variable named `xmin` to hold the value of $lon_{min}$. Initialize it with the value of `stop_lon` from the first row of data (i.e., the second row in the file!). \n",
    "    * Use a `for` loop to go over the rows of `stops.txt`. Inside the `for` loop, use a conditional to check whether the `stop_lon` value from the current row in `stops.txt` is *smaller* than the current value of `xmin`. If it is, replace `xmin` with the `stop_lon` value. If it is not, do nothing. \n",
    "    * When the loop ends, `xmin` should contain the minimal value from the `stop_lon` column in the `stops.txt` file. \n",
    "    * Once your code works properly for `xmin`, expand it to do the same for the other three variables (`ymin`, `xmax`, and `ymax`) to hold the values $lat_{min}$, $lon_{max}$, and $lat_{max}$, respectively. Make sure you use the right type of conditional (smaller/larger) and the right variable (`stop_lon`/`stop_lat`) when calculating each variable.\n",
    "    * Finally, collect the four values (`xmin`, `ymin`, `xmax`, and `ymax`) into a `list` of the form `[xmin, ymin, xmax, ymax]` (answer: {glue:}`exercise-03-d`).\n",
    "```"
   ]
  },
  {
   "attachments": {},
   "cell_type": "markdown",
   "metadata": {},
   "source": [
    "(range)=\n",
    "## The `range` function"
   ]
  },
  {
   "attachments": {},
   "cell_type": "markdown",
   "metadata": {},
   "source": [
    "The `range` function is used to generate a sequence of values, given:\n",
    "* `start`—Start value (inclusive), default is `0`\n",
    "* `stop`—Stop value (exclusive)\n",
    "* `step`—Step size, default is `1`"
   ]
  },
  {
   "attachments": {},
   "cell_type": "markdown",
   "metadata": {},
   "source": [
    "If just one value is given, then it is passed to `stop`. Namely, `range(stop)` is equivalent to `range(0,stop,1)`."
   ]
  },
  {
   "attachments": {},
   "cell_type": "markdown",
   "metadata": {},
   "source": [
    " The `range` function is commonly used with `for` loops (see {ref}`for-loops`), to iterate over a sequence of numbers. For example:"
   ]
  },
  {
   "cell_type": "code",
   "execution_count": 1,
   "metadata": {},
   "outputs": [
    {
     "name": "stdout",
     "output_type": "stream",
     "text": [
      "0\n",
      "1\n",
      "2\n",
      "3\n",
      "4\n"
     ]
    }
   ],
   "source": [
    "for i in range(5):\n",
    "    print(i)"
   ]
  },
  {
   "attachments": {},
   "cell_type": "markdown",
   "metadata": {},
   "source": [
    "The `range` function returns a special kind of object which can be thought of as a [\"lazy sequence\"](https://treyhunner.com/2018/02/python-range-is-not-an-iterator/). It is \"lazy\" in the sense that it does not compute all values at once, but only one at a time, on demand, which is a more memory-efficient approach:"
   ]
  },
  {
   "cell_type": "code",
   "execution_count": 2,
   "metadata": {},
   "outputs": [
    {
     "data": {
      "text/plain": [
       "range(0, 5)"
      ]
     },
     "execution_count": 2,
     "metadata": {},
     "output_type": "execute_result"
    }
   ],
   "source": [
    "range(5)"
   ]
  },
  {
   "attachments": {},
   "cell_type": "markdown",
   "metadata": {},
   "source": [
    "To \"force\" the generation of all values at once, we can wrap the `range` object inside a `list`:"
   ]
  },
  {
   "cell_type": "code",
   "execution_count": 1,
   "metadata": {},
   "outputs": [
    {
     "data": {
      "text/plain": [
       "[0, 1, 2, 3, 4]"
      ]
     },
     "execution_count": 1,
     "metadata": {},
     "output_type": "execute_result"
    }
   ],
   "source": [
    "list(range(5))"
   ]
  },
  {
   "attachments": {},
   "cell_type": "markdown",
   "metadata": {},
   "source": [
    "```{admonition} Exercise 03-e\n",
    ":class: important\n",
    "* Which expression do we need to use to get a sequence of all *even* numbers between `0` and `30`, i.e., `0`, `2`, ..., `30`?\n",
    "```"
   ]
  },
  {
   "attachments": {},
   "cell_type": "markdown",
   "metadata": {},
   "source": [
    "```{note}\n",
    "When working with Python loops and iteration, you will eventually encounter the technical terms *iterable*, *iterator*, and *generator*. The definitions and distinction can be confusing, so here is a short summary. The terms are hereby ordered from most general to most specific:\n",
    "\n",
    "* An *iterable* is any object that can be iterated, such as in a `for` loop. For example, a `list` is iterable, therefore if we have a list `x` we can use `for i in x:` to iterate on all elements `i` of `x`. \n",
    "* An *iterator* is an object that represents a stream of data, which we can go over, each time getting the next element using `next`. Iterators are also iterable, meaning that you can over them in a loop, but they are stateful (e.g., they remember which item was obtained using `next`), meaning that you can go over them just once. For example, file reader objects, such as the ones created with `csv.DictReader` (see {ref}`reading-csv-files`), are iterators.\n",
    "* A *generator* is a function that returns an iterator. For example, `csv.DictReader` is a generator. The `rasterio` packages extensively uses generators, as we will see later on (see {ref}`extracting-to-points-using-rasterio` and {ref}`rasterio-features-shapes-function`)\n",
    "\n",
    "For a discussion about the difference between *iterable*, *iterator*, and *generator*, check out the following threads:\n",
    "\n",
    "* <https://stackoverflow.com/questions/2776829/difference-between-pythons-generators-and-iterators> \n",
    "* <https://stackoverflow.com/questions/47747299/iterators-vs-generators-vs-iterables>\n",
    "```"
   ]
  },
  {
   "attachments": {},
   "cell_type": "markdown",
   "metadata": {},
   "source": [
    "(list-comprehension)=\n",
    "## List comprehension"
   ]
  },
  {
   "attachments": {},
   "cell_type": "markdown",
   "metadata": {},
   "source": [
    "Often, we are interested in creating a `list` that contains results coming from a `for` loop operating on another list. For example, suppose that we have a `list` named `x`:"
   ]
  },
  {
   "cell_type": "code",
   "execution_count": 4,
   "metadata": {},
   "outputs": [],
   "source": [
    "x = [5, 7, 10, -2]"
   ]
  },
  {
   "attachments": {},
   "cell_type": "markdown",
   "metadata": {},
   "source": [
    "and we need to produce a new `list` named `y` where each element of `x` is multiplied by `2`. Using the ordinary `for` loop methods (see {ref}`for-loops`), here is how it can be done:"
   ]
  },
  {
   "cell_type": "code",
   "execution_count": 5,
   "metadata": {},
   "outputs": [
    {
     "data": {
      "text/plain": [
       "[10, 14, 20, -4]"
      ]
     },
     "execution_count": 5,
     "metadata": {},
     "output_type": "execute_result"
    }
   ],
   "source": [
    "y = []\n",
    "for i in x:\n",
    "    y.append(i*2)\n",
    "y"
   ]
  },
  {
   "attachments": {},
   "cell_type": "markdown",
   "metadata": {},
   "source": [
    "Python has a convenient and commonly used shortcut to do just that, called *list comprehension*. Using list comprehension, here is how we can do the same task:"
   ]
  },
  {
   "cell_type": "code",
   "execution_count": 6,
   "metadata": {},
   "outputs": [
    {
     "data": {
      "text/plain": [
       "[10, 14, 20, -4]"
      ]
     },
     "execution_count": 6,
     "metadata": {},
     "output_type": "execute_result"
    }
   ],
   "source": [
    "y = [i*2 for i in x]\n",
    "y"
   ]
  },
  {
   "attachments": {},
   "cell_type": "markdown",
   "metadata": {},
   "source": [
    "The syntax and concept are fairly similar to an ordinary `for` loop, just more concise. For each element `i` in `x`, we calculate `i*2`. The enclosing brackets indicate that the results are collected into a new `list`."
   ]
  },
  {
   "attachments": {},
   "cell_type": "markdown",
   "metadata": {},
   "source": [
    "(defining-functions)=\n",
    "## Defining functions"
   ]
  },
  {
   "attachments": {},
   "cell_type": "markdown",
   "metadata": {},
   "source": [
    "(function-definition)=\n",
    "### Function definition"
   ]
  },
  {
   "attachments": {},
   "cell_type": "markdown",
   "metadata": {},
   "source": [
    "Defining a function is the basic mechanism to minimize code repetition in programming. When you are doing the same task repetitively, e.g., in different parts of the same script, or in different scripts, it does not makes sense to type the same code several times. Instead, you can *define* a function in one place, then *call* the function anywhere you need."
   ]
  },
  {
   "attachments": {},
   "cell_type": "markdown",
   "metadata": {},
   "source": [
    "The structure of a function definition in Python is as follows:"
   ]
  },
  {
   "attachments": {},
   "cell_type": "markdown",
   "metadata": {},
   "source": [
    "```text\n",
    "def function_name(parameter1, parameter2, ...):\n",
    "    expression1\n",
    "    expression2\n",
    "    ...\n",
    "    return value\n",
    "```"
   ]
  },
  {
   "attachments": {},
   "cell_type": "markdown",
   "metadata": {},
   "source": [
    "Note the following components:\n",
    "\n",
    "* The function is initialized using the `def` keyword.\n",
    "* Next comes the function name (e.g., `function_name`), of our choice, followed by zero or more parameters in parentheses (e.g., `parameter1` and `parameter2`) separated by commas.\n",
    "* Finally, we have an indented code block which is the body of the function. \n",
    "* Inside the code block, we may have one or more `return` statements which terminate the function and return the specified `value`."
   ]
  },
  {
   "attachments": {},
   "cell_type": "markdown",
   "metadata": {},
   "source": [
    "The code block is where we define what the function does. In zero or more places in the code block we may insert the `return` keyword, followed by a value that the function should *return* (e.g., `value`). When the interpreter reaches a `return` statement, the function terminates. Without any `return` statements, the function returns `None` (see {ref}`none`)."
   ]
  },
  {
   "attachments": {},
   "cell_type": "markdown",
   "metadata": {},
   "source": [
    "For example, the following code section defines a function named `divide`, which has two parameters `a` and `b`. The function divides `a` by `b` and returns the result:"
   ]
  },
  {
   "cell_type": "code",
   "execution_count": 4,
   "metadata": {},
   "outputs": [],
   "source": [
    "def divide(a, b):\n",
    "    return a / b"
   ]
  },
  {
   "attachments": {},
   "cell_type": "markdown",
   "metadata": {},
   "source": [
    "Once the function is defined, we can *call* the function to actually use it. If the function has any parameters, then we need to specify them as part of the function call, in parentheses (unless they are associated with default values, see below {ref}`default-arguments`). The specified values are called *arguments*. For example, the following function call executes `divide`, with the arguments `10` and `4`. The returned value is `2.5`:"
   ]
  },
  {
   "cell_type": "code",
   "execution_count": 5,
   "metadata": {},
   "outputs": [
    {
     "data": {
      "text/plain": [
       "2.5"
      ]
     },
     "execution_count": 5,
     "metadata": {},
     "output_type": "execute_result"
    }
   ],
   "source": [
    "divide(10, 4)"
   ]
  },
  {
   "attachments": {},
   "cell_type": "markdown",
   "metadata": {},
   "source": [
    "The latter argument specification is known as *positional* arguments, because the arguments are matched with the parameters by position:\n",
    "\n",
    "* `10` is matched with the *first* parameter `a`\n",
    "* `4` is matched with the *second* parameter `b`"
   ]
  },
  {
   "attachments": {},
   "cell_type": "markdown",
   "metadata": {},
   "source": [
    "Using a different order of positional arguments will result in a different matching:"
   ]
  },
  {
   "cell_type": "code",
   "execution_count": 10,
   "metadata": {},
   "outputs": [
    {
     "data": {
      "text/plain": [
       "0.4"
      ]
     },
     "execution_count": 10,
     "metadata": {},
     "output_type": "execute_result"
    }
   ],
   "source": [
    "divide(4, 10)"
   ]
  },
  {
   "attachments": {},
   "cell_type": "markdown",
   "metadata": {},
   "source": [
    "We can also specify the matching between arguments and parameters \"manually\", which is known as *keyword* arguments. In this case, any order of arguments can be used:"
   ]
  },
  {
   "cell_type": "code",
   "execution_count": 8,
   "metadata": {},
   "outputs": [
    {
     "data": {
      "text/plain": [
       "2.5"
      ]
     },
     "execution_count": 8,
     "metadata": {},
     "output_type": "execute_result"
    }
   ],
   "source": [
    "divide(a=10, b=4)"
   ]
  },
  {
   "cell_type": "code",
   "execution_count": 9,
   "metadata": {},
   "outputs": [
    {
     "data": {
      "text/plain": [
       "2.5"
      ]
     },
     "execution_count": 9,
     "metadata": {},
     "output_type": "execute_result"
    }
   ],
   "source": [
    "divide(b=4, a=10)"
   ]
  },
  {
   "attachments": {},
   "cell_type": "markdown",
   "metadata": {},
   "source": [
    "### Local vs. global variables"
   ]
  },
  {
   "attachments": {},
   "cell_type": "markdown",
   "metadata": {},
   "source": [
    "It is important to understand the distinction between local and global variables. Any variable that is defined as part of the function code block (such as `a` and `b`, above) is *local* to that function. This means that it is not accessible in the *global* environment. You can try printing the value of `a` or `b`, resulting in a \"not defined\" error. "
   ]
  },
  {
   "attachments": {},
   "cell_type": "markdown",
   "metadata": {},
   "source": [
    "Conversely, *global* variables, that is, variables defined in the main part of the script outside of any function, are accessible anywhere, including in functions. However, this is considered bad practice because it makes the function dependent on the global context rather than self-contained."
   ]
  },
  {
   "attachments": {},
   "cell_type": "markdown",
   "metadata": {},
   "source": [
    "(default-arguments)=\n",
    "### Default arguments"
   ]
  },
  {
   "attachments": {},
   "cell_type": "markdown",
   "metadata": {},
   "source": [
    "Default arguments, if any, are specified as part of the function definition. For example, here is how we can set the default argument of `2` for parameter `b`:"
   ]
  },
  {
   "cell_type": "code",
   "execution_count": 12,
   "metadata": {},
   "outputs": [],
   "source": [
    "def divide(a, b=2):\n",
    "    return a / b"
   ]
  },
  {
   "attachments": {},
   "cell_type": "markdown",
   "metadata": {},
   "source": [
    "Any arguments explicitly specified as part of the function call *override* the defaults:"
   ]
  },
  {
   "cell_type": "code",
   "execution_count": 41,
   "metadata": {},
   "outputs": [
    {
     "data": {
      "text/plain": [
       "2.5"
      ]
     },
     "execution_count": 41,
     "metadata": {},
     "output_type": "execute_result"
    }
   ],
   "source": [
    "divide(10, 4)"
   ]
  },
  {
   "attachments": {},
   "cell_type": "markdown",
   "metadata": {},
   "source": [
    "When an argument is unspecified in the function call, the default value is used. For example, `divide(10)` is equivalent `divide(10,2)`:"
   ]
  },
  {
   "cell_type": "code",
   "execution_count": 42,
   "metadata": {},
   "outputs": [
    {
     "data": {
      "text/plain": [
       "5.0"
      ]
     },
     "execution_count": 42,
     "metadata": {},
     "output_type": "execute_result"
    }
   ],
   "source": [
    "divide(10)"
   ]
  },
  {
   "attachments": {},
   "cell_type": "markdown",
   "metadata": {},
   "source": [
    "```{admonition} Exercise 03-f\n",
    ":class: important\n",
    "* Write a function named `circle_area` that accepts a radius and returns the circle area ($A=πr²$).\n",
    "* You can use the built-in variable `math.pi` for the value of $π$. For `math.pi` to be available, first import the `math` package using `import math` (see {ref}`loading-packages`).\n",
    "* Test your function by calling it with a specific value. For example, `circle_area(5)` should return `78.53982`.\n",
    "```"
   ]
  },
  {
   "attachments": {},
   "cell_type": "markdown",
   "metadata": {},
   "source": [
    "(positional-arguments)=\n",
    "### Variable-length positional arguments"
   ]
  },
  {
   "attachments": {},
   "cell_type": "markdown",
   "metadata": {},
   "source": [
    "A special type of parameter, marking positional (i.e., unnamed) arguments of unknown length, can be specified with an asterisk. Conventionally, the variable-length positional parameter is named `*args` (short for \"arguments\"), though you can use any name, such as `*x`. This special parameter \"collects\" all arguments passed to the function into a `tuple` (see {ref}`tuples`). Using `*args` is most useful when the number of arguments that the function needs to accept is unknown in advance (such as a function that combines multiple values)."
   ]
  },
  {
   "attachments": {},
   "cell_type": "markdown",
   "metadata": {},
   "source": [
    "For example, the following function accepts positional arguments `*args`, and just returns them without doing anything:"
   ]
  },
  {
   "cell_type": "code",
   "execution_count": 1,
   "metadata": {},
   "outputs": [],
   "source": [
    "def f(*args):\n",
    "    return args"
   ]
  },
  {
   "attachments": {},
   "cell_type": "markdown",
   "metadata": {},
   "source": [
    "When calling the function with any number of arguments, we can see that they are accessible inside the function body through the `args` local variable:"
   ]
  },
  {
   "cell_type": "code",
   "execution_count": 2,
   "metadata": {},
   "outputs": [
    {
     "data": {
      "text/plain": [
       "(1, 4, 'a')"
      ]
     },
     "execution_count": 2,
     "metadata": {},
     "output_type": "execute_result"
    }
   ],
   "source": [
    "f(1, 4, 'a')"
   ]
  },
  {
   "attachments": {},
   "cell_type": "markdown",
   "metadata": {},
   "source": [
    "When we pass more arguments to the function, the `tuple` just includes more elements:"
   ]
  },
  {
   "cell_type": "code",
   "execution_count": 46,
   "metadata": {},
   "outputs": [
    {
     "data": {
      "text/plain": [
       "(1, 4, 'a', 'b')"
      ]
     },
     "execution_count": 46,
     "metadata": {},
     "output_type": "execute_result"
    }
   ],
   "source": [
    "f(1, 4, 'a', 'b')"
   ]
  },
  {
   "attachments": {},
   "cell_type": "markdown",
   "metadata": {},
   "source": [
    "```{admonition} Exercise 03-g\n",
    ":class: important\n",
    "* Write a function named `paste` that: \n",
    "    * accepts any number of strings, integers, or floats, and \n",
    "    * combines them into one long string and returns it. \n",
    "* For example: \n",
    "    * `paste('Hello','World')` should return `'HelloWorld'` \n",
    "    * `paste('A','B','C',1,2,3)` should return `'ABC123'`\n",
    "* Use variable-length positional arguments (`*args`) to make the function work with any number of inputs.\n",
    "```"
   ]
  },
  {
   "attachments": {},
   "cell_type": "markdown",
   "metadata": {},
   "source": [
    "The variable-length positional arguments technique also works the other way around. Namely, when we pass a `list` or `tuple` preceded by an asterisk (`*`) to a function, as in `f(*args)` where `args` is a `list` or a `tuple`, the elements are interpreted as separate arguments."
   ]
  },
  {
   "attachments": {},
   "cell_type": "markdown",
   "metadata": {},
   "source": [
    "For example, suppose that we have a function named `f` with four arguments:"
   ]
  },
  {
   "cell_type": "code",
   "execution_count": 9,
   "metadata": {},
   "outputs": [],
   "source": [
    "def f(a, b, c, d):\n",
    "    print(a, b, c, d)"
   ]
  },
  {
   "attachments": {},
   "cell_type": "markdown",
   "metadata": {},
   "source": [
    "When called in the usual way, we need to specify the four arguments, separately:"
   ]
  },
  {
   "cell_type": "code",
   "execution_count": 10,
   "metadata": {},
   "outputs": [
    {
     "name": "stdout",
     "output_type": "stream",
     "text": [
      "1 2 3 4\n"
     ]
    }
   ],
   "source": [
    "f(1, 2, 3, 4)"
   ]
  },
  {
   "attachments": {},
   "cell_type": "markdown",
   "metadata": {},
   "source": [
    "However, if we already have the arguments in a `list`, we can pass the list as-is, so that list elements are \"mapped\" to arguments `a`, `b`, `c`, `d`:"
   ]
  },
  {
   "cell_type": "code",
   "execution_count": 6,
   "metadata": {},
   "outputs": [
    {
     "name": "stdout",
     "output_type": "stream",
     "text": [
      "1 2 3 4\n"
     ]
    }
   ],
   "source": [
    "x = [1, 2, 3, 4]\n",
    "f(*x)"
   ]
  },
  {
   "attachments": {},
   "cell_type": "markdown",
   "metadata": {},
   "source": [
    "which is equivalent to:"
   ]
  },
  {
   "cell_type": "code",
   "execution_count": 7,
   "metadata": {},
   "outputs": [
    {
     "name": "stdout",
     "output_type": "stream",
     "text": [
      "1 2 3 4\n"
     ]
    }
   ],
   "source": [
    "f(x[0], x[1], x[2], x[3])"
   ]
  },
  {
   "attachments": {},
   "cell_type": "markdown",
   "metadata": {},
   "source": [
    "For example, we are going too use positional arguments when passing arguments to the `shapely.box` function (see {ref}`shapely-bounding-box`, {ref}`raster-extent`). "
   ]
  },
  {
   "attachments": {},
   "cell_type": "markdown",
   "metadata": {},
   "source": [
    "(keyword-arguments)=\n",
    "### Variable-length keyword arguments"
   ]
  },
  {
   "attachments": {},
   "cell_type": "markdown",
   "metadata": {},
   "source": [
    "Variable-length *keyword* arguments are similar in concept to their positional counterpart ({ref}`positional-arguments`), as both are used to pass an unknown number of arguments to a function. The difference is that variable-length keyword arguments need to be *named*. Accordingly, they are accessible inside the function as a `dict` (see {ref}`dict`), rather than a `tuple`. Keyword arguments are most useful when we need to flexibly pass named arguments, without restricting their number and their names in the function definition. Variable-length keyword arguments are marked with two asterisks, conventionally named `**kwargs` (short for \"keyword arguments\"), though you can use a different name."
   ]
  },
  {
   "attachments": {},
   "cell_type": "markdown",
   "metadata": {},
   "source": [
    "For example, the following definition of the function `f` accepts keyword arguments:"
   ]
  },
  {
   "cell_type": "code",
   "execution_count": 5,
   "metadata": {},
   "outputs": [],
   "source": [
    "def f(**kwargs):\n",
    "    return kwargs"
   ]
  },
  {
   "attachments": {},
   "cell_type": "markdown",
   "metadata": {},
   "source": [
    "The function now accepts variable-length keyword arguments, which are collected into a `dict` named `kwargs`:"
   ]
  },
  {
   "cell_type": "code",
   "execution_count": 8,
   "metadata": {},
   "outputs": [
    {
     "data": {
      "text/plain": [
       "{'x': 1, 'y': 4, 'z': 'a'}"
      ]
     },
     "execution_count": 8,
     "metadata": {},
     "output_type": "execute_result"
    }
   ],
   "source": [
    "f(x=1, y=4, z=\"a\")"
   ]
  },
  {
   "attachments": {},
   "cell_type": "markdown",
   "metadata": {},
   "source": [
    "Keyword arguments can also be used the other way around. Namely, the `f(**kwargs)` function calls, where `kwargs` is a distionary, is translated into `f(key1=value1,key2=value2,...)` for all key/value pairs in `kwargs`."
   ]
  },
  {
   "attachments": {},
   "cell_type": "markdown",
   "metadata": {},
   "source": [
    "We are going to see an example of this technique later on, when using the `rasterio.open` function (see {ref}`stacking-raster-bands`)."
   ]
  },
  {
   "attachments": {},
   "cell_type": "markdown",
   "metadata": {},
   "source": [
    "(lambda-functions)=\n",
    "### Lambda functions"
   ]
  },
  {
   "attachments": {},
   "cell_type": "markdown",
   "metadata": {},
   "source": [
    "Other than the ordinary `def` syntax for defining a function (see {ref}`function-definition`), Python has another method to define functions called *lambda functions*. Here is how it looks like:"
   ]
  },
  {
   "cell_type": "code",
   "execution_count": 11,
   "metadata": {},
   "outputs": [
    {
     "data": {
      "text/plain": [
       "2.5"
      ]
     },
     "execution_count": 11,
     "metadata": {},
     "output_type": "execute_result"
    }
   ],
   "source": [
    "divide = lambda a, b: a / b\n",
    "divide(10, 4)"
   ]
  },
  {
   "attachments": {},
   "cell_type": "markdown",
   "metadata": {},
   "source": [
    "Note the structure of the lambda function definition:"
   ]
  },
  {
   "attachments": {},
   "cell_type": "markdown",
   "metadata": {},
   "source": [
    "```text\n",
    "lambda parameter1, parameter2, ...: expression"
   ]
  },
  {
   "attachments": {},
   "cell_type": "markdown",
   "metadata": {},
   "source": [
    "Importantly, the function parameters come after the `lambda` keyword. Then, after a colon, there is a *single* expression. The result of the expression is returned by the function."
   ]
  },
  {
   "attachments": {},
   "cell_type": "markdown",
   "metadata": {},
   "source": [
    "A lambda function can be assigned to a variable, such as `divide` in the above example. That way, the only advantage over the \"ordinary\" syntax (see {ref}`function-definition`), in situations when the function consists of a single expression, is slightly shorter code. However, another advantage of lambda functions is that they can be used immediately, witout assigning to a variable, which is known as an \"anonymous\" function. For example:"
   ]
  },
  {
   "cell_type": "code",
   "execution_count": 12,
   "metadata": {},
   "outputs": [
    {
     "data": {
      "text/plain": [
       "2.5"
      ]
     },
     "execution_count": 12,
     "metadata": {},
     "output_type": "execute_result"
    }
   ],
   "source": [
    "(lambda a, b: a / b)(10, 4)"
   ]
  },
  {
   "attachments": {},
   "cell_type": "markdown",
   "metadata": {},
   "source": [
    "The most useful feature of anonymous function is that we can pass them as arguments to other functions, without needing to define a function in a separate expression. This will become clear later on, when we encounter situations where we pass a function as an argument to another function (see {ref}`apply-and-custom-functions` and {ref}`aggregate-custom-functions`)."
   ]
  },
  {
   "attachments": {},
   "cell_type": "markdown",
   "metadata": {},
   "source": [
    "(distance-function)=\n",
    "### Example: distance function"
   ]
  },
  {
   "attachments": {},
   "cell_type": "markdown",
   "metadata": {},
   "source": [
    "Here is an example of a more complex function definition, modified from a [StackOverflow answer](https://stackoverflow.com/questions/19412462/getting-distance-between-two-points-based-on-latitude-longitude/43211266#43211266#answer-38187562). The function, named `distance`, \n",
    "\n",
    "* accepts two lists, or tuples, of the form `(lon,lat)`, and \n",
    "* returns the distance between them, in *meters*. "
   ]
  },
  {
   "attachments": {},
   "cell_type": "markdown",
   "metadata": {},
   "source": [
    "The `distance` function uses a distance approximation method known as the [Harvesine formula](https://en.wikipedia.org/wiki/Haversine_formula). Here is the function definition:"
   ]
  },
  {
   "cell_type": "code",
   "execution_count": 109,
   "metadata": {},
   "outputs": [],
   "source": [
    "import math\n",
    "def distance(origin, destination):\n",
    "    lon1, lat1 = origin\n",
    "    lon2, lat2 = destination\n",
    "    radius = 6371000\n",
    "    dlat = math.radians(lat2 - lat1)\n",
    "    dlon = math.radians(lon2 - lon1)\n",
    "    a = (math.sin(dlat / 2) * math.sin(dlat / 2) +\n",
    "         math.cos(math.radians(lat1)) * math.cos(math.radians(lat2)) *\n",
    "         math.sin(dlon / 2) * math.sin(dlon / 2))\n",
    "    c = 2 * math.atan2(math.sqrt(a), math.sqrt(1 - a))\n",
    "    d = radius * c\n",
    "    return d"
   ]
  },
  {
   "attachments": {},
   "cell_type": "markdown",
   "metadata": {},
   "source": [
    "We are not going to get into the mathematical details of the distance calculation according to the Harvesine formula. However, note the gneral structure of the function, most importantly: \n",
    "\n",
    "* the first line `def distance(origin,destination):` which specifies the function name and the list of parameters, and\n",
    "* the last line `return d` which returns the result."
   ]
  },
  {
   "attachments": {},
   "cell_type": "markdown",
   "metadata": {},
   "source": [
    "Also note the expression `import math`, right before the function definition. Importing the standard `math` package is required since the `distance` function code uses several mathematical functions, namely `math.radians`, `math.sin`, `math.cos`, `math.atan2`, and `math.sqrt`."
   ]
  },
  {
   "attachments": {},
   "cell_type": "markdown",
   "metadata": {},
   "source": [
    "Once the `distance` function is defined, we can *call* it with specific arguments, to calculate the approximate distance (in meters) between any given points. For example, the distance between two points separated be one decimal degree on the equator is about 111,194 *m*, or 111.2 *km*:"
   ]
  },
  {
   "cell_type": "code",
   "execution_count": 110,
   "metadata": {},
   "outputs": [
    {
     "data": {
      "text/plain": [
       "111194.92664455874"
      ]
     },
     "execution_count": 110,
     "metadata": {},
     "output_type": "execute_result"
    }
   ],
   "source": [
    "distance((0, 0), (1, 0))"
   ]
  },
  {
   "attachments": {},
   "cell_type": "markdown",
   "metadata": {},
   "source": [
    "The distance between two points separated be one decimal degree on latitude of 80 degrees, however, is only about 19.3 *km*:"
   ]
  },
  {
   "cell_type": "code",
   "execution_count": 116,
   "metadata": {},
   "outputs": [
    {
     "data": {
      "text/plain": [
       "19308.558693383016"
      ]
     },
     "execution_count": 116,
     "metadata": {},
     "output_type": "execute_result"
    }
   ],
   "source": [
    "distance((0, 80), (1, 80))"
   ]
  },
  {
   "attachments": {},
   "cell_type": "markdown",
   "metadata": {},
   "source": [
    "```{admonition} Exercise 03-h\n",
    ":class: important\n",
    "* How can the above function be modified to return the *rounded* distance in meters? Modify the function code and try running the modified version to make sure it works.\n",
    "```"
   ]
  },
  {
   "attachments": {},
   "cell_type": "markdown",
   "metadata": {},
   "source": [
    "(exercise-conditionals_loops)=\n",
    "## More exercises"
   ]
  },
  {
   "attachments": {},
   "cell_type": "markdown",
   "metadata": {},
   "source": [
    "```{admonition} Exercise 03-i\n",
    ":class: important\n",
    "* Find the row that represents the *southernmost* bus station in Israel, i.e., the one that has the minimal value in the `stop_lat` column, according to the file `stops.txt`. \n",
    "* Hint: initialize two variables, one to store the currently southernmost row, and one to store the currently minimal latitude (initialized with the latitude of the first stop in the file). Then, as part of the loop that goes over the remaining rows, use a conditional to check whether the current latitude is *smaller* than the minimal one. If it is, replace the current southernmost row with the current row, and replace the currently minimal latitude with the current latitude.\n",
    "* What kind of change do you need to make in your code to calcualate the *nothernmost* bus station instead?\n",
    "* Answer: \n",
    "\n",
    "```py\n",
    "{'stop_id': '12510',\n",
    " 'stop_code': '10615',\n",
    " 'stop_name': 'מעבר גבול טאבה',\n",
    " 'stop_desc': ' רחוב:דרך מצרים 168 עיר: אילת רציף:   קומה:  ',\n",
    " 'stop_lat': 29.492193,\n",
    " 'stop_lon': '34.904373',\n",
    " 'location_type': '0',\n",
    " 'parent_station': '',\n",
    " 'zone_id': '2600'}\n",
    "```"
   ]
  },
  {
   "attachments": {},
   "cell_type": "markdown",
   "metadata": {},
   "source": [
    "```{admonition} Exercise 03-j\n",
    ":class: important\n",
    "* Count the number of cities in each \"quadrat\" of the world, according the the table of world cities coordinates in the file `world_cities.csv`. The table contains a list of all major world cities, with city coordinate values in the `long` (longitude) and `lat` (latitude) columns.\n",
    "* Quadrats are defined as follows: \n",
    "    * North-East: `long>0` and `lat>0`\n",
    "    * North-West: `long<0` and `lat>0`\n",
    "    * South-East: `long>0` and `lat<0`\n",
    "    * South-West: `long<0` and `lat<0`\n",
    "* Store the results in a dictionary and print it.\n",
    "* Answer: `{'ne': 28485, 'nw': 10026, 'se': 2689, 'sw': 2445}`\n",
    "```"
   ]
  },
  {
   "attachments": {},
   "cell_type": "markdown",
   "metadata": {},
   "source": [
    "## Exercise solutions"
   ]
  },
  {
   "attachments": {},
   "cell_type": "markdown",
   "metadata": {},
   "source": [
    "### Exercise 03-a"
   ]
  },
  {
   "cell_type": "code",
   "execution_count": null,
   "metadata": {},
   "outputs": [
    {
     "data": {
      "text/plain": [
       "{'Salad': 2, 'Egg': 1, 'Beef': 1, 'Potato': 3, 'Tea': 1, 'Coffee': 1}"
      ]
     },
     "metadata": {},
     "output_type": "display_data"
    }
   ],
   "source": [
    "lunch = [\n",
    "    'Salad', \n",
    "    'Salad', \n",
    "    'Egg', \n",
    "    'Beef', \n",
    "    'Potato', \n",
    "    'Tea', \n",
    "    'Potato', \n",
    "    'Potato', \n",
    "    'Coffee'\n",
    "]\n",
    "result = {}\n",
    "for i in lunch:\n",
    "    if i in result:\n",
    "        result[i] += 1\n",
    "    else:\n",
    "        result[i] = 1\n",
    "result"
   ]
  },
  {
   "attachments": {},
   "cell_type": "markdown",
   "metadata": {},
   "source": [
    "### Exercise 03-c"
   ]
  },
  {
   "cell_type": "code",
   "execution_count": 6,
   "metadata": {},
   "outputs": [
    {
     "data": {
      "text/plain": [
       "34007"
      ]
     },
     "execution_count": 6,
     "metadata": {},
     "output_type": "execute_result"
    }
   ],
   "source": [
    "import csv\n",
    "count = 0\n",
    "file = open('data/gtfs/stops.txt', 'r', encoding='utf-8-sig')\n",
    "reader = csv.DictReader(file)\n",
    "for row in reader:\n",
    "    count += 1\n",
    "file.close()\n",
    "count"
   ]
  },
  {
   "cell_type": "code",
   "execution_count": 16,
   "metadata": {
    "tags": [
     "remove-input"
    ]
   },
   "outputs": [
    {
     "data": {
      "application/papermill.record/text/plain": "34007"
     },
     "metadata": {
      "scrapbook": {
       "mime_prefix": "application/papermill.record/",
       "name": "exercise-03-c"
      }
     },
     "output_type": "display_data"
    }
   ],
   "source": [
    "glue('exercise-03-c', count, display=False)"
   ]
  },
  {
   "attachments": {},
   "cell_type": "markdown",
   "metadata": {},
   "source": [
    "### Exercise 03-d"
   ]
  },
  {
   "cell_type": "code",
   "execution_count": 13,
   "metadata": {},
   "outputs": [
    {
     "data": {
      "text/plain": [
       "[34.284672, 29.492446, 35.839108, 34.917554]"
      ]
     },
     "execution_count": 13,
     "metadata": {},
     "output_type": "execute_result"
    }
   ],
   "source": [
    "import csv\n",
    "with open('data/gtfs/stops.txt', 'r', encoding='utf-8-sig') as file:\n",
    "    reader = csv.DictReader(file)\n",
    "    row = next(reader)\n",
    "    xmin = float(row['stop_lon'])\n",
    "    xmax = float(row['stop_lon'])\n",
    "    ymin = float(row['stop_lat'])\n",
    "    ymax = float(row['stop_lon'])\n",
    "    for row in reader:\n",
    "        row['stop_lon'] = float(row['stop_lon'])\n",
    "        row['stop_lat'] = float(row['stop_lat'])\n",
    "        if row['stop_lon'] < xmin:\n",
    "            xmin = row['stop_lon']\n",
    "        if row['stop_lon'] > xmax:\n",
    "            xmax = row['stop_lon']\n",
    "        if row['stop_lat'] < ymin:\n",
    "            ymin = row['stop_lat']\n",
    "        if row['stop_lat'] > ymax:\n",
    "            ymax = row['stop_lat']\n",
    "bounds = [xmin, ymin, xmax, ymax]\n",
    "bounds"
   ]
  },
  {
   "cell_type": "code",
   "execution_count": 17,
   "metadata": {
    "tags": [
     "remove-input"
    ]
   },
   "outputs": [
    {
     "data": {
      "application/papermill.record/text/plain": "[34.284672, 29.492446, 35.839108, 34.917554]"
     },
     "metadata": {
      "scrapbook": {
       "mime_prefix": "application/papermill.record/",
       "name": "exercise-03-d"
      }
     },
     "output_type": "display_data"
    }
   ],
   "source": [
    "glue('exercise-03-d', bounds, display=False)"
   ]
  },
  {
   "attachments": {},
   "cell_type": "markdown",
   "metadata": {},
   "source": [
    "### Exercise 03-g"
   ]
  },
  {
   "cell_type": "code",
   "execution_count": 2,
   "metadata": {},
   "outputs": [],
   "source": [
    "def paste(*args):\n",
    "    result = ''\n",
    "    for i in args:\n",
    "        result += str(i)\n",
    "    return result"
   ]
  },
  {
   "cell_type": "code",
   "execution_count": 3,
   "metadata": {},
   "outputs": [
    {
     "data": {
      "text/plain": [
       "'HelloWorld'"
      ]
     },
     "execution_count": 3,
     "metadata": {},
     "output_type": "execute_result"
    }
   ],
   "source": [
    "paste('Hello', 'World')"
   ]
  },
  {
   "cell_type": "code",
   "execution_count": 4,
   "metadata": {},
   "outputs": [
    {
     "data": {
      "text/plain": [
       "'ABC123'"
      ]
     },
     "execution_count": 4,
     "metadata": {},
     "output_type": "execute_result"
    }
   ],
   "source": [
    "paste('A', 'B', 'C', 1, 2, 3)"
   ]
  },
  {
   "attachments": {},
   "cell_type": "markdown",
   "metadata": {},
   "source": [
    "### Exercise 03-i"
   ]
  },
  {
   "cell_type": "code",
   "execution_count": null,
   "metadata": {},
   "outputs": [
    {
     "data": {
      "text/plain": [
       "{'stop_id': '12510',\n",
       " 'stop_code': '10615',\n",
       " 'stop_name': 'מעבר גבול טאבה',\n",
       " 'stop_desc': ' רחוב:דרך מצרים 168 עיר: אילת רציף:   קומה:  ',\n",
       " 'stop_lat': '29.492193',\n",
       " 'stop_lon': '34.904373',\n",
       " 'location_type': '0',\n",
       " 'parent_station': '',\n",
       " 'zone_id': '2600'}"
      ]
     },
     "metadata": {},
     "output_type": "display_data"
    }
   ],
   "source": [
    "import csv\n",
    "file = open('data/gtfs/stops.txt', 'r', encoding='utf-8-sig')\n",
    "reader = csv.DictReader(file)\n",
    "row = next(reader)\n",
    "lat_min = float(row['stop_lat'])\n",
    "for row in reader:\n",
    "    lat_current = float(row['stop_lat'])\n",
    "    if lat_current < lat_min:\n",
    "        lat_min = lat_current\n",
    "        result = row\n",
    "file.close()\n",
    "result"
   ]
  },
  {
   "attachments": {},
   "cell_type": "markdown",
   "metadata": {},
   "source": [
    "### Exercise 03-j"
   ]
  },
  {
   "cell_type": "code",
   "execution_count": 1,
   "metadata": {},
   "outputs": [
    {
     "data": {
      "text/plain": [
       "{'ne': 28485, 'nw': 10026, 'se': 2689, 'sw': 2445}"
      ]
     },
     "execution_count": 1,
     "metadata": {},
     "output_type": "execute_result"
    }
   ],
   "source": [
    "import csv\n",
    "result = {'ne': 0, 'nw': 0, 'se': 0, 'sw': 0}\n",
    "file = open('data/world_cities.csv', 'r', encoding='utf-8')\n",
    "reader = csv.DictReader(file)\n",
    "for row in reader:\n",
    "    lon = float(row['lon'])\n",
    "    lat = float(row['lat'])\n",
    "    if(lon > 0 and lat > 0):\n",
    "        result['ne'] += 1\n",
    "    if(lon < 0 and lat > 0):\n",
    "        result['nw'] += 1\n",
    "    if(lon > 0 and lat < 0):\n",
    "        result['se'] += 1\n",
    "    if(lon < 0 and lat < 0):\n",
    "        result['sw'] += 1\n",
    "file.close()\n",
    "result"
   ]
  }
 ],
 "metadata": {
  "interpreter": {
   "hash": "31f2aee4e71d21fbe5cf8b01ff0e069b9275f58929596ceb00d14d90e3e16cd6"
  },
  "kernelspec": {
   "display_name": "Python 3.8.10 64-bit",
   "name": "python3"
  },
  "language_info": {
   "codemirror_mode": {
    "name": "ipython",
    "version": 3
   },
   "file_extension": ".py",
   "mimetype": "text/x-python",
   "name": "python",
   "nbconvert_exporter": "python",
   "pygments_lexer": "ipython3",
   "version": "3.10.12"
  }
 },
 "nbformat": 4,
 "nbformat_minor": 4
}
