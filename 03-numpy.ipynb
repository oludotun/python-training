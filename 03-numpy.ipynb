{
 "cells": [
  {
   "attachments": {},
   "cell_type": "markdown",
   "metadata": {},
   "source": [
    "(numpy)=\n",
    "# Arrays (`numpy`)"
   ]
  },
  {
   "cell_type": "code",
   "execution_count": 2,
   "id": "9be78d54",
   "metadata": {
    "tags": [
     "remove-input"
    ]
   },
   "outputs": [],
   "source": [
    "import matplotlib.pyplot as plt\n",
    "plt.rcParams['figure.figsize'] = (6, 6)"
   ]
  },
  {
   "attachments": {},
   "cell_type": "markdown",
   "metadata": {},
   "source": [
    "*****"
   ]
  },
  {
   "attachments": {},
   "cell_type": "markdown",
   "metadata": {},
   "source": [
    "## Introduction"
   ]
  },
  {
   "attachments": {},
   "cell_type": "markdown",
   "metadata": {},
   "source": [
    "Arrays are fundamental when working with data. Many types of data are convenient to arrange and represent using arrays, and many types of data processing operations are facilitated through the use of arrays. For example:"
   ]
  },
  {
   "attachments": {},
   "cell_type": "markdown",
   "metadata": {},
   "source": [
    "* Digital images and spatial rasters are represented with arrays, possibly with spatial metadata (such as the Coordinate Reference System)\n",
    "* Tables are represented as collections of one-dimensional arrays, having the same length, where each array represents a table column "
   ]
  },
  {
   "attachments": {},
   "cell_type": "markdown",
   "metadata": {},
   "source": [
    "In this notebook we'll cover our first third-party package, named `numpy`. The `numpy` package deals with *arrays*. We are going to learn about methods for working with arrays, including:\n",
    "\n",
    "* {ref}`creating-arrays`\n",
    "* {ref}`subsetting-arrays`\n",
    "* {ref}`numpy-vectorized-ops`\n",
    "* {ref}`summarizing-array-values`\n",
    "* {ref}`numpy-reading-from-file`\n",
    "* {ref}`plotting-arrays` (using the `matplotlib` package)"
   ]
  },
  {
   "attachments": {},
   "cell_type": "markdown",
   "metadata": {},
   "source": [
    "In this notebook we'll work with the `numpy` package on its own. However, as we will see in later chapters, the `numpy` package is also the foundation and basis for most data analysis-related domains in Python, inclusing spatial data analysis. For example, table (see {ref}`pandas1`) and vector layer (see {ref}`geopandas1`) columns, as well as rasters (see {ref}`rasterio1`), are internally represented by `numpy` arrays. Therefore, although the material in this chapter may seem abstract at first, keep in mind that it is going to be practically applicable soon enough through all of the remaining chapters."
   ]
  },
  {
   "attachments": {},
   "cell_type": "markdown",
   "metadata": {},
   "source": [
    "## What is `numpy`?"
   ]
  },
  {
   "attachments": {},
   "cell_type": "markdown",
   "metadata": {},
   "source": [
    "`numpy` (short for \"numerical python\") is a well-established Python package for scientific computing with arrays, and for working with data in general. The `numpy` package provides standardized data structures, functions, and operators for homogeous arrays, facilitating efficient computation and shorter code. Namely, thanks to the fact that a `numpy` array is uniform, in terms of data types, processing is much more efficient compared to a `list` (see {ref}`lists`). `numpy` also provides \"vectorized\" operators for arrays, which otherwise require using `for` loops (see {ref}`for-loops`) or list comprehension (see {ref}`list-comprehension`) when working with lists."
   ]
  },
  {
   "attachments": {},
   "cell_type": "markdown",
   "metadata": {},
   "source": [
    "`numpy` is a core package in the data science ecosystem of Python, so it is worthwhile to learn it no matter what aspect of data science you are going to explore later on. `numpy` is the foundation for many other, more specialized, packages in Python, including most of the packages we learn about later on in this book: \n",
    "\n",
    "* `pandas` for working with tables (see {ref}`pandas1`)\n",
    "* `geopandas` for working with vector layers (see {ref}`geopandas1`)\n",
    "* `rasterio` and `richdem` for working with rasters (see {ref}`rasterio1`)"
   ]
  },
  {
   "attachments": {},
   "cell_type": "markdown",
   "metadata": {},
   "source": [
    "Assuming it is installed (see {ref}`installing-packages`, to start working with `numpy` we first need to import it (see {ref}`loading-packages`). By convention, `numpy` is imported as `np`:"
   ]
  },
  {
   "cell_type": "code",
   "execution_count": 3,
   "metadata": {},
   "outputs": [],
   "source": [
    "import numpy as np"
   ]
  },
  {
   "attachments": {},
   "cell_type": "markdown",
   "metadata": {},
   "source": [
    "## What is an array?"
   ]
  },
  {
   "attachments": {},
   "cell_type": "markdown",
   "metadata": {},
   "source": [
    "An array is an ordered sequence of values, arranged in an n-dimensional structure. In this book, we are going to focus on the three most useful types of arrays:"
   ]
  },
  {
   "attachments": {},
   "cell_type": "markdown",
   "metadata": {},
   "source": [
    "* *One*-dimensional—A sequence of values, analogous to a \"flat\" (i.e., non-hierarchical) `list`\n",
    "* *Two*-dimensional—A matrix, i.e., a collection of sequences, all of the same length, arranged into rows or columns\n",
    "* *Three*-dimensional—A \"cubic\" array, i.e., a collection of matrices of the same size, arranged into layers"
   ]
  },
  {
   "attachments": {},
   "cell_type": "markdown",
   "metadata": {},
   "source": [
    "Keep in mind that an array can also be: \n",
    "\n",
    "* 0-dimensional—a single value, such as when extracting an individual element from an array (see {ref}`numpy-individual-values`), or \n",
    "* ≥4-dimensional—high-dimensional arrays, less useful for our purposes and in general"
   ]
  },
  {
   "attachments": {},
   "cell_type": "markdown",
   "metadata": {},
   "source": [
    "In spatial raster terminology (see {ref}`rasterio1`),\n",
    "\n",
    "* a two-dimensional array corresponds to a *single*-band raster, and \n",
    "* a three-dimensional array corresponds to a *multi*-band raster."
   ]
  },
  {
   "attachments": {},
   "cell_type": "markdown",
   "metadata": {},
   "source": [
    "In `numpy`, arrays are represented by a data type called `ndarray` (short for \"N-dimensional array\")."
   ]
  },
  {
   "attachments": {},
   "cell_type": "markdown",
   "metadata": {},
   "source": [
    "(creating-arrays)=\n",
    "## Creating arrays"
   ]
  },
  {
   "attachments": {},
   "cell_type": "markdown",
   "metadata": {},
   "source": [
    "### Overview"
   ]
  },
  {
   "attachments": {},
   "cell_type": "markdown",
   "metadata": {},
   "source": [
    "An `ndarray` can be created in several ways, which we demonstrate in this section:\n",
    "\n",
    "* From a `list` (see {ref}`numpy-from-list`)\n",
    "* By repeating a sequence (see {ref}`np-tile` and {ref}`np-repeat`)\n",
    "* By calculating a consecutive sequence (see {ref}`using-np-arange` and {ref}`np-linspace`) "
   ]
  },
  {
   "attachments": {},
   "cell_type": "markdown",
   "metadata": {},
   "source": [
    "Later on we will demostrate that an array can also be imported from a file, such as a CSV file (see {ref}`numpy-reading-from-file`)."
   ]
  },
  {
   "attachments": {},
   "cell_type": "markdown",
   "metadata": {},
   "source": [
    "(numpy-from-list)=\n",
    "### From `list`"
   ]
  },
  {
   "attachments": {},
   "cell_type": "markdown",
   "metadata": {},
   "source": [
    "In case we wish to manually specify all of the array values, the [`np.array`](https://numpy.org/doc/stable/reference/generated/numpy.array.html) function can be used to convert a `list` into an array. For example, a flat `list` can be converted to a one-dimensional array, hereby named `a`, as follows:"
   ]
  },
  {
   "cell_type": "code",
   "execution_count": 4,
   "metadata": {},
   "outputs": [
    {
     "data": {
      "text/plain": [
       "array([ 3,  8, -2, 43, 12,  1,  8])"
      ]
     },
     "execution_count": 4,
     "metadata": {},
     "output_type": "execute_result"
    }
   ],
   "source": [
    "a = np.array([3, 8, -2, 43, 12, 1, 8])\n",
    "a"
   ]
  },
  {
   "attachments": {},
   "cell_type": "markdown",
   "metadata": {},
   "source": [
    "A \"nested\" list, i.e., a list of lists, can be converted to a two-dimensional array, where the internal lists comprise the rows, hereby named `b`:"
   ]
  },
  {
   "cell_type": "code",
   "execution_count": 5,
   "metadata": {},
   "outputs": [
    {
     "data": {
      "text/plain": [
       "array([[ 1.,  0.,  0.],\n",
       "       [ 2.,  1.,  2.],\n",
       "       [ 3.,  1.,  0.],\n",
       "       [ 2., nan,  1.]])"
      ]
     },
     "execution_count": 5,
     "metadata": {},
     "output_type": "execute_result"
    }
   ],
   "source": [
    "b = np.array([[1, 0, 0], [2, 1, 2], [3, 1, 0], [2, np.nan, 1]])\n",
    "b"
   ]
  },
  {
   "attachments": {},
   "cell_type": "markdown",
   "metadata": {},
   "source": [
    "Note that array `b` contains a special value [`np.nan`](https://numpy.org/doc/stable/user/misc.html#ieee-754-floating-point-special-values), which represents \"No Data\", i.e., an unknown value in the array. We will elaborate on how `np.nan` values are treated in various operations, later on (see {ref}`numpy-nodata`). For now, you can get an impression of the `np.nan` behavior, and start getting used to the possibility of having missing values in a `numpy` array. "
   ]
  },
  {
   "attachments": {},
   "cell_type": "markdown",
   "metadata": {},
   "source": [
    "Let us also create a three-dimensional array named `c`. Rather than typing all values manually, here we are using the `np.arange` function and the `.reshape` function, which we will explain later on (see {ref}`using-np-arange` and {ref}`numpy-general-reshaping`, respectively). What is important, for now, is that the resulting object is a *three-dimensional* array:"
   ]
  },
  {
   "cell_type": "code",
   "execution_count": 6,
   "metadata": {},
   "outputs": [
    {
     "data": {
      "text/plain": [
       "array([[[ 1,  2,  3,  4],\n",
       "        [ 5,  6,  7,  8],\n",
       "        [ 9, 10, 11, 12]],\n",
       "\n",
       "       [[13, 14, 15, 16],\n",
       "        [17, 18, 19, 20],\n",
       "        [21, 22, 23, 24]]])"
      ]
     },
     "execution_count": 6,
     "metadata": {},
     "output_type": "execute_result"
    }
   ],
   "source": [
    "c = np.arange(1, 25).reshape((2, 3, 4))\n",
    "c"
   ]
  },
  {
   "attachments": {},
   "cell_type": "markdown",
   "metadata": {},
   "source": [
    "Note that the `type` of `a`, `b` and `c`, is `ndarray`:"
   ]
  },
  {
   "cell_type": "code",
   "execution_count": 7,
   "metadata": {},
   "outputs": [
    {
     "data": {
      "text/plain": [
       "(numpy.ndarray, numpy.ndarray, numpy.ndarray)"
      ]
     },
     "execution_count": 7,
     "metadata": {},
     "output_type": "execute_result"
    }
   ],
   "source": [
    "type(a), type(b), type(c)"
   ]
  },
  {
   "attachments": {},
   "cell_type": "markdown",
   "metadata": {},
   "source": [
    "(np-tile)=\n",
    "### Using `np.tile`"
   ]
  },
  {
   "attachments": {},
   "cell_type": "markdown",
   "metadata": {},
   "source": [
    "Repetitive arrays can be created using the [`np.tile`](https://numpy.org/doc/stable/reference/generated/numpy.tile.html) function, which accepts:\n",
    "\n",
    "* `A`—A number, list, or array to repeat\n",
    "* `reps`—How many times to repeat it?"
   ]
  },
  {
   "attachments": {},
   "cell_type": "markdown",
   "metadata": {},
   "source": [
    "For example:"
   ]
  },
  {
   "cell_type": "code",
   "execution_count": 8,
   "metadata": {},
   "outputs": [
    {
     "data": {
      "text/plain": [
       "array([12, 12, 12, 12, 12, 12, 12])"
      ]
     },
     "execution_count": 8,
     "metadata": {},
     "output_type": "execute_result"
    }
   ],
   "source": [
    "np.tile(12, 7)  ## '12' three times"
   ]
  },
  {
   "cell_type": "code",
   "execution_count": 9,
   "metadata": {},
   "outputs": [
    {
     "data": {
      "text/plain": [
       "array([1, 2, 1, 2, 1, 2])"
      ]
     },
     "execution_count": 9,
     "metadata": {},
     "output_type": "execute_result"
    }
   ],
   "source": [
    "np.tile([1, 2], 3)  ## '[1,2]' three times"
   ]
  },
  {
   "cell_type": "code",
   "execution_count": 10,
   "metadata": {},
   "outputs": [
    {
     "data": {
      "text/plain": [
       "array([ 3,  8, -2, 43, 12,  1,  8,  3,  8, -2, 43, 12,  1,  8])"
      ]
     },
     "execution_count": 10,
     "metadata": {},
     "output_type": "execute_result"
    }
   ],
   "source": [
    "np.tile(a, 2)  ## 'a' two times"
   ]
  },
  {
   "attachments": {},
   "cell_type": "markdown",
   "metadata": {},
   "source": [
    "(np-repeat)=\n",
    "### Using `np.repeat`"
   ]
  },
  {
   "attachments": {},
   "cell_type": "markdown",
   "metadata": {},
   "source": [
    "There is a another function, named [`np.repeat`](https://numpy.org/doc/stable/reference/generated/numpy.repeat.html#numpy.repeat), for creating repetitive arrays. Unlike `np.tile`, the `np.repeat` function repeats each element consecutively and not the entire array (or list). Compare the following example with `np.tile([1,2],3)` (above):"
   ]
  },
  {
   "cell_type": "code",
   "execution_count": 11,
   "metadata": {},
   "outputs": [
    {
     "data": {
      "text/plain": [
       "array([1, 1, 1, 2, 2, 2])"
      ]
     },
     "execution_count": 11,
     "metadata": {},
     "output_type": "execute_result"
    }
   ],
   "source": [
    "np.repeat([1, 2], 3)"
   ]
  },
  {
   "attachments": {},
   "cell_type": "markdown",
   "metadata": {},
   "source": [
    "(using-np-arange)=\n",
    "### Using `np.arange`"
   ]
  },
  {
   "attachments": {},
   "cell_type": "markdown",
   "metadata": {},
   "source": [
    "It is often useful to create sequential arrays. The [`np.arange`](https://numpy.org/doc/stable/reference/generated/numpy.arange.html) function can be used to create sequential arrays, given:\n",
    "\n",
    "* `start`—The start value\n",
    "* `stop`—The end value\n",
    "* `step`—The *step* size"
   ]
  },
  {
   "attachments": {},
   "cell_type": "markdown",
   "metadata": {},
   "source": [
    "The `np.arange` function is very similar, in terms of its design, to the `range` function (see {ref}`range`)."
   ]
  },
  {
   "attachments": {},
   "cell_type": "markdown",
   "metadata": {},
   "source": [
    "For example, the following expression creates an array starting from `5`, ending before `12`, with step size `1.5`:"
   ]
  },
  {
   "cell_type": "code",
   "execution_count": 12,
   "metadata": {},
   "outputs": [
    {
     "data": {
      "text/plain": [
       "array([ 5. ,  6.5,  8. ,  9.5, 11. ])"
      ]
     },
     "execution_count": 12,
     "metadata": {},
     "output_type": "execute_result"
    }
   ],
   "source": [
    "np.arange(5, 12, 1.5)"
   ]
  },
  {
   "attachments": {},
   "cell_type": "markdown",
   "metadata": {},
   "source": [
    "The default value for `step` is `1`, as demonstrated in the following expression, where we omit `step`:"
   ]
  },
  {
   "cell_type": "code",
   "execution_count": 13,
   "metadata": {},
   "outputs": [
    {
     "data": {
      "text/plain": [
       "array([ 5,  6,  7,  8,  9, 10, 11])"
      ]
     },
     "execution_count": 13,
     "metadata": {},
     "output_type": "execute_result"
    }
   ],
   "source": [
    "np.arange(5, 12)"
   ]
  },
  {
   "attachments": {},
   "cell_type": "markdown",
   "metadata": {},
   "source": [
    "When passing a single argument to `np.arange`, that argument is treated it as `stop`, whereas the default `start` is `0` and the default `step` is `1`:"
   ]
  },
  {
   "cell_type": "code",
   "execution_count": 14,
   "metadata": {},
   "outputs": [
    {
     "data": {
      "text/plain": [
       "array([ 0,  1,  2,  3,  4,  5,  6,  7,  8,  9, 10, 11])"
      ]
     },
     "execution_count": 14,
     "metadata": {},
     "output_type": "execute_result"
    }
   ],
   "source": [
    "np.arange(12)"
   ]
  },
  {
   "attachments": {},
   "cell_type": "markdown",
   "metadata": {},
   "source": [
    "(np-linspace)=\n",
    "### Using `np.linspace`"
   ]
  },
  {
   "attachments": {},
   "cell_type": "markdown",
   "metadata": {},
   "source": [
    "Another useful method to create sequential arrays is [`np.linspace`](https://numpy.org/doc/stable/reference/generated/numpy.linspace.html#numpy.linspace) (short for \"linear space\") accepts three arguments:\n",
    "\n",
    "* `start`—The start value\n",
    "* `stop`—The end value\n",
    "* `num`—Number of points (default is `50`)"
   ]
  },
  {
   "attachments": {},
   "cell_type": "markdown",
   "metadata": {},
   "source": [
    "The `np.linspace` function then returns evenly spaced points, in the interval specified by `start` and `stop`. The step size is automatically calculated to accommodate the specified number of points (default is `50`)."
   ]
  },
  {
   "attachments": {},
   "cell_type": "markdown",
   "metadata": {},
   "source": [
    "For example, the following expression creates a sequence of `9` equally spaced points, between `0` and `4`."
   ]
  },
  {
   "cell_type": "code",
   "execution_count": 15,
   "metadata": {},
   "outputs": [
    {
     "data": {
      "text/plain": [
       "array([0. , 0.5, 1. , 1.5, 2. , 2.5, 3. , 3.5, 4. ])"
      ]
     },
     "execution_count": 15,
     "metadata": {},
     "output_type": "execute_result"
    }
   ],
   "source": [
    "np.linspace(0, 4, 9)"
   ]
  },
  {
   "attachments": {},
   "cell_type": "markdown",
   "metadata": {},
   "source": [
    "```{note}\n",
    "There are several other functions to facilitate creation of arrays, such as functions to create repetitive arrays:\n",
    "\n",
    "* [`np.zeros`](https://numpy.org/doc/stable/reference/generated/numpy.zeros.html)—Array of given shape filled with `0`\n",
    "* [`np.ones`](https://numpy.org/doc/stable/reference/generated/numpy.ones.html)—Array of given shape filled with `1`\n",
    "* [`np.full`](https://numpy.org/doc/stable/reference/generated/numpy.full.html)—Array of given shape filled with user-specified value\n",
    "\n",
    "and functions to create random number arrays, such as:\n",
    "\n",
    "* [`np.random.random`](https://numpy.org/doc/stable/reference/random/generated/numpy.random.random.html)—Array of given shape filled with random numbers in the interval `[0.0, 1.0)`\n",
    "* [`np.random.normal`](https://numpy.org/doc/stable/reference/random/generated/numpy.random.normal.html)—Array of given shape filled with random numbers from a normal distribution\n",
    "* [`np.random.randint`](https://numpy.org/doc/stable/reference/random/generated/numpy.random.randint.html)—Array of given shape filled with random integers in the specified interval\n",
    "```"
   ]
  },
  {
   "attachments": {},
   "cell_type": "markdown",
   "metadata": {},
   "source": [
    "(array-dimensions)=\n",
    "## Array dimensions"
   ]
  },
  {
   "attachments": {},
   "cell_type": "markdown",
   "metadata": {},
   "source": [
    "The most basic property of arrays is their *shape*: the size of each array dimension. This can be accessed using the [`.shape`](https://numpy.org/doc/stable/reference/generated/numpy.ndarray.shape.html) property. The returned object is a `tuple` (see {ref}`tuples`), with length according to the number of dimensions:"
   ]
  },
  {
   "cell_type": "code",
   "execution_count": 16,
   "metadata": {},
   "outputs": [
    {
     "data": {
      "text/plain": [
       "(7,)"
      ]
     },
     "execution_count": 16,
     "metadata": {},
     "output_type": "execute_result"
    }
   ],
   "source": [
    "a.shape"
   ]
  },
  {
   "cell_type": "code",
   "execution_count": 17,
   "metadata": {},
   "outputs": [
    {
     "data": {
      "text/plain": [
       "(4, 3)"
      ]
     },
     "execution_count": 17,
     "metadata": {},
     "output_type": "execute_result"
    }
   ],
   "source": [
    "b.shape"
   ]
  },
  {
   "cell_type": "code",
   "execution_count": 18,
   "metadata": {},
   "outputs": [
    {
     "data": {
      "text/plain": [
       "(2, 3, 4)"
      ]
     },
     "execution_count": 18,
     "metadata": {},
     "output_type": "execute_result"
    }
   ],
   "source": [
    "c.shape"
   ]
  },
  {
   "attachments": {},
   "cell_type": "markdown",
   "metadata": {},
   "source": [
    "A derived property of `.shape` is the number of dimensions [`.ndim`](https://numpy.org/doc/stable/reference/generated/numpy.ndarray.ndim.html), which is equal to the \"length\" of the `.shape` property:"
   ]
  },
  {
   "cell_type": "code",
   "execution_count": 19,
   "metadata": {},
   "outputs": [
    {
     "data": {
      "text/plain": [
       "1"
      ]
     },
     "execution_count": 19,
     "metadata": {},
     "output_type": "execute_result"
    }
   ],
   "source": [
    "a.ndim"
   ]
  },
  {
   "cell_type": "code",
   "execution_count": 20,
   "metadata": {},
   "outputs": [
    {
     "data": {
      "text/plain": [
       "2"
      ]
     },
     "execution_count": 20,
     "metadata": {},
     "output_type": "execute_result"
    }
   ],
   "source": [
    "b.ndim"
   ]
  },
  {
   "cell_type": "code",
   "execution_count": 21,
   "metadata": {},
   "outputs": [
    {
     "data": {
      "text/plain": [
       "3"
      ]
     },
     "execution_count": 21,
     "metadata": {},
     "output_type": "execute_result"
    }
   ],
   "source": [
    "c.ndim"
   ]
  },
  {
   "attachments": {},
   "cell_type": "markdown",
   "metadata": {},
   "source": [
    "Another derived property of `.shape` is the number of elements [`.size`](https://numpy.org/doc/stable/reference/generated/numpy.ndarray.size.html), which is equal to a multiplication of all dimension lengths:"
   ]
  },
  {
   "cell_type": "code",
   "execution_count": 22,
   "metadata": {},
   "outputs": [
    {
     "data": {
      "text/plain": [
       "7"
      ]
     },
     "execution_count": 22,
     "metadata": {},
     "output_type": "execute_result"
    }
   ],
   "source": [
    "a.size"
   ]
  },
  {
   "cell_type": "code",
   "execution_count": 23,
   "metadata": {},
   "outputs": [
    {
     "data": {
      "text/plain": [
       "12"
      ]
     },
     "execution_count": 23,
     "metadata": {},
     "output_type": "execute_result"
    }
   ],
   "source": [
    "b.size"
   ]
  },
  {
   "cell_type": "code",
   "execution_count": 24,
   "metadata": {},
   "outputs": [
    {
     "data": {
      "text/plain": [
       "24"
      ]
     },
     "execution_count": 24,
     "metadata": {},
     "output_type": "execute_result"
    }
   ],
   "source": [
    "c.size"
   ]
  },
  {
   "attachments": {},
   "cell_type": "markdown",
   "metadata": {},
   "source": [
    "At this point, you may wonder what is the reason for using an array rather than simply a `list`. This leads us to the main difference between arrays and lists: the fact that an array, unlike a `list`, is composed of values of the same *type*. This makes arrays more restrictive than lists, but also much more efficient in terms of storage size and computation speed. "
   ]
  },
  {
   "attachments": {},
   "cell_type": "markdown",
   "metadata": {},
   "source": [
    "(numpy-data-types)=\n",
    "## Data types"
   ]
  },
  {
   "attachments": {},
   "cell_type": "markdown",
   "metadata": {},
   "source": [
    "(numpy-checking-data-type)=\n",
    "### Checking data type"
   ]
  },
  {
   "attachments": {},
   "cell_type": "markdown",
   "metadata": {},
   "source": [
    "As mentioned above, `ndarray` objects are composed of values of the same type. We can check the type of an existing array using the [`.dtype`](https://numpy.org/doc/stable/reference/generated/numpy.ndarray.dtype.html#numpy.ndarray.dtype) (\"data type\") property. For example:"
   ]
  },
  {
   "cell_type": "code",
   "execution_count": 25,
   "metadata": {},
   "outputs": [
    {
     "data": {
      "text/plain": [
       "dtype('int64')"
      ]
     },
     "execution_count": 25,
     "metadata": {},
     "output_type": "execute_result"
    }
   ],
   "source": [
    "a.dtype"
   ]
  },
  {
   "cell_type": "code",
   "execution_count": 26,
   "metadata": {},
   "outputs": [
    {
     "data": {
      "text/plain": [
       "dtype('float64')"
      ]
     },
     "execution_count": 26,
     "metadata": {},
     "output_type": "execute_result"
    }
   ],
   "source": [
    "b.dtype"
   ]
  },
  {
   "attachments": {},
   "cell_type": "markdown",
   "metadata": {},
   "source": [
    "The above printout means that `a` is an *integer* array, while `b` is a *float* array. You can also see that `numpy` accommodates more detailed distinction between data types than basic Python, with integer and float varieties according to specific precision. For example, `int64` and `float64` mean *64-bit* precision integer and float arrays, respectively ({ref}`numpy-types`)."
   ]
  },
  {
   "attachments": {},
   "cell_type": "markdown",
   "metadata": {},
   "source": [
    "The required data type can be specified when constructing an array, using the `dtype` parameter. The value can be specified using the respective object representing each data type (see {ref}`numpy-types`). For example:"
   ]
  },
  {
   "cell_type": "code",
   "execution_count": 27,
   "metadata": {},
   "outputs": [
    {
     "data": {
      "text/plain": [
       "array([1., 1., 1.], dtype=float32)"
      ]
     },
     "execution_count": 27,
     "metadata": {},
     "output_type": "execute_result"
    }
   ],
   "source": [
    "x = np.array([1, 1, 1], dtype=np.float32)\n",
    "x"
   ]
  },
  {
   "attachments": {},
   "cell_type": "markdown",
   "metadata": {},
   "source": [
    "```{note}\n",
    "The `int64` and `float64` data types in `numpy` are considered \"standard\". Therefore, when printing an array object, the data type specification appears for all data types except for those. Try printing `a` and `b` to see for yourself.\n",
    "```"
   ]
  },
  {
   "attachments": {},
   "cell_type": "markdown",
   "metadata": {},
   "source": [
    "Commonly used data types in `numpy` are summarized in {numref}`numpy-types`. As you can see, there are many varieties of numeric types in `numpy`. This may seem confusing, compared to basic Python or other programming languages such as R, which have just one data type for integer and one for float. However, keep in mind that the purpose of having many specific data types is conserving memory and making calculations more efficient. In practice, `int64` and `float64` are most commonly used to represent `int` and `float`, respectively. "
   ]
  },
  {
   "attachments": {},
   "cell_type": "markdown",
   "metadata": {},
   "source": [
    "```{table} numpy array data types\n",
    ":name: numpy-types\n",
    "\n",
    "| Data type | Description |\n",
    "|---|---|\n",
    "| `np.bool_` or `bool` | Boolean (`True` or `False`) stored as a byte\n",
    "| `np.int_` or `int` | Platform-dependent default integer type (normally `int64` or `int32`)\n",
    "| `np.int8` | Integer in a single byte (`-128` to `127`)\n",
    "| `np.int16` | Integer in 16 bits (`-32768` to `32767`)\n",
    "| `np.int32` | Integer in 32 bits (`-2147483648` to `2147483647`)\n",
    "| `np.int64` | Integer in 64 bits (`-9223372036854775808` to `9223372036854775807`)\n",
    "| `np.uint8` | Unsigned integer in 8 bits (`0` to `255`)\n",
    "| `np.uint16` | Unsigned integer in 16 bits (`0` to `65535`)\n",
    "| `np.uint32` | Unsigned integer in 32 bits (`0` to `4294967295`)\n",
    "| `np.uint64` | Unsigned integer in in 64 bits (`0` to `18446744073709551615`)\n",
    "| `np.float_` or `float` | Default float type, shorthand for `float64`\n",
    "| `np.float16` | Half-precision (16 bit) float (`-65504` to `65504`)\n",
    "| `np.float32` | Single-precision (32 bit) float (`1e-38` to `1e38`)\n",
    "| `np.float64` | Double-precision (64 bit) float (`1e-308` to `1e308`)\n",
    "```"
   ]
  },
  {
   "attachments": {},
   "cell_type": "markdown",
   "metadata": {},
   "source": [
    "`numpy` also supports creating arrays of \"customized\" types, and even arrays that do not conform to any of the built-in data types. The latter means that you can create an array where the elements are any type of Python object. Accordingly, the `dtype` of the resulting array will be `object`. "
   ]
  },
  {
   "attachments": {},
   "cell_type": "markdown",
   "metadata": {},
   "source": [
    "For example, the following array of strings has `dtype` of `'<U5'`, namely \"unicode string of length 5\":"
   ]
  },
  {
   "cell_type": "code",
   "execution_count": 28,
   "metadata": {},
   "outputs": [
    {
     "data": {
      "text/plain": [
       "array(['John', 'James', 'Bob'], dtype='<U5')"
      ]
     },
     "execution_count": 28,
     "metadata": {},
     "output_type": "execute_result"
    }
   ],
   "source": [
    "s = np.array(['John', 'James', 'Bob'])\n",
    "s"
   ]
  },
  {
   "attachments": {},
   "cell_type": "markdown",
   "metadata": {},
   "source": [
    "An array of dictionaries, however, results in `dtype` of `object`, because there is no built-in data type to represent an array of `dict` elements in `numpy`:"
   ]
  },
  {
   "cell_type": "code",
   "execution_count": 29,
   "metadata": {},
   "outputs": [
    {
     "data": {
      "text/plain": [
       "array([{'a': 1}, {'b': 2}], dtype=object)"
      ]
     },
     "execution_count": 29,
     "metadata": {},
     "output_type": "execute_result"
    }
   ],
   "source": [
    "s = np.array([{'a': 1}, {'b': 2}])\n",
    "s"
   ]
  },
  {
   "attachments": {},
   "cell_type": "markdown",
   "metadata": {},
   "source": [
    "In practice, an array of type \"object\" implies that processing the array is going to employ \"general\" Python functions, rather than optimized `numpy` functions, which is less efficient."
   ]
  },
  {
   "attachments": {},
   "cell_type": "markdown",
   "metadata": {},
   "source": [
    "(numpy-changing-data-type)=\n",
    "### Changing data type"
   ]
  },
  {
   "attachments": {},
   "cell_type": "markdown",
   "metadata": {},
   "source": [
    "If necessary, an array can be transformed from one data type to another, using the [`.astype`](https://numpy.org/doc/stable/reference/generated/numpy.ndarray.astype.html#numpy.ndarray.astype) method. The argument of `.astype` is one of the `numpy` data types ({numref}`numpy-types`). For example, here is how we can transform array `a` from `int64` to `float64`:"
   ]
  },
  {
   "cell_type": "code",
   "execution_count": 30,
   "metadata": {},
   "outputs": [
    {
     "data": {
      "text/plain": [
       "array([ 3.,  8., -2., 43., 12.,  1.,  8.])"
      ]
     },
     "execution_count": 30,
     "metadata": {},
     "output_type": "execute_result"
    }
   ],
   "source": [
    "a = a.astype(np.float64)\n",
    "a"
   ]
  },
  {
   "attachments": {},
   "cell_type": "markdown",
   "metadata": {},
   "source": [
    "Here is how we can transform `a` to `np.int8`:"
   ]
  },
  {
   "cell_type": "code",
   "execution_count": 31,
   "metadata": {},
   "outputs": [
    {
     "data": {
      "text/plain": [
       "array([ 3,  8, -2, 43, 12,  1,  8], dtype=int8)"
      ]
     },
     "execution_count": 31,
     "metadata": {},
     "output_type": "execute_result"
    }
   ],
   "source": [
    "a = a.astype(np.int8)\n",
    "a"
   ]
  },
  {
   "attachments": {},
   "cell_type": "markdown",
   "metadata": {},
   "source": [
    "and here we go back to `int64`:"
   ]
  },
  {
   "cell_type": "code",
   "execution_count": 32,
   "metadata": {},
   "outputs": [
    {
     "data": {
      "text/plain": [
       "array([ 3,  8, -2, 43, 12,  1,  8])"
      ]
     },
     "execution_count": 32,
     "metadata": {},
     "output_type": "execute_result"
    }
   ],
   "source": [
    "a = a.astype(np.int64)\n",
    "a"
   ]
  },
  {
   "attachments": {},
   "cell_type": "markdown",
   "metadata": {},
   "source": [
    "Keep in mind that: \n",
    "\n",
    "* We must choose a data range which encompasses the entire range of values in the array (see {numref}`numpy-types`). Otherwise, we get meaningless (random) values instead of those beyond the valid range.\n",
    "* A `float` type must be used whenever the array contains `np.nan` values (see {ref}`no-data-representation`)"
   ]
  },
  {
   "cell_type": "markdown",
   "metadata": {},
   "source": [
    "Also note that `numpy` defines special data types `np.int_` and `np.float_`, which refer to \"default\" `int` and `float` data types. These are platform dependent, but typically resolve to `np.int64` and `np.float64` ({ref}`numpy-types`). Furthermore, the standard Python types `int` and `float` ({ref}`numbers-int-float`) refer to those two `numpy` types, respectively. Therefore, for example, either of the three objects `np.int64`, `np.int_` and `int` can be passed to `.astype` in the above example, with identical result. In practice, we may want to use the shorter `int`:"
   ]
  },
  {
   "cell_type": "code",
   "execution_count": 33,
   "metadata": {},
   "outputs": [
    {
     "data": {
      "text/plain": [
       "array([ 3,  8, -2, 43, 12,  1,  8])"
      ]
     },
     "execution_count": 33,
     "metadata": {},
     "output_type": "execute_result"
    }
   ],
   "source": [
    "a = a.astype(int)\n",
    "a"
   ]
  },
  {
   "attachments": {},
   "cell_type": "markdown",
   "metadata": {},
   "source": [
    "(subsetting-arrays)=\n",
    "## Subsetting arrays"
   ]
  },
  {
   "attachments": {},
   "cell_type": "markdown",
   "metadata": {},
   "source": [
    "### Overview"
   ]
  },
  {
   "attachments": {},
   "cell_type": "markdown",
   "metadata": {},
   "source": [
    "Array subsets are created by passing indices, separated by commas (i.e., tuples of integers), inside square brackets (`[`). The number of indices needs to be in agreement with the number of dimensions. Remember that the order of dimensions (and indices) is:\n",
    "\n",
    "* `array[rows,columns]`—for a *two*-dimensional array\n",
    "* `array[layers,rows,columns]`—for a *three*-dimensional array"
   ]
  },
  {
   "attachments": {},
   "cell_type": "markdown",
   "metadata": {},
   "source": [
    "The indices start from `0`, like in other Python data sctructures (see {ref}`list-elements`)."
   ]
  },
  {
   "attachments": {},
   "cell_type": "markdown",
   "metadata": {},
   "source": [
    "(numpy-individual-values)=\n",
    "### Individual values"
   ]
  },
  {
   "attachments": {},
   "cell_type": "markdown",
   "metadata": {},
   "source": [
    "For example, here is how we can get individual elements out of an array:"
   ]
  },
  {
   "cell_type": "code",
   "execution_count": 35,
   "metadata": {},
   "outputs": [
    {
     "data": {
      "text/plain": [
       "8"
      ]
     },
     "execution_count": 35,
     "metadata": {},
     "output_type": "execute_result"
    }
   ],
   "source": [
    "a[1]        ## 2nd element"
   ]
  },
  {
   "cell_type": "code",
   "execution_count": 36,
   "metadata": {},
   "outputs": [
    {
     "data": {
      "text/plain": [
       "2.0"
      ]
     },
     "execution_count": 36,
     "metadata": {},
     "output_type": "execute_result"
    }
   ],
   "source": [
    "b[1, 2]     ## Element in 2nd row, 3rd column"
   ]
  },
  {
   "cell_type": "code",
   "execution_count": 37,
   "metadata": {},
   "outputs": [
    {
     "data": {
      "text/plain": [
       "16"
      ]
     },
     "execution_count": 37,
     "metadata": {},
     "output_type": "execute_result"
    }
   ],
   "source": [
    "c[1, 0, 3]  ## Element in 2nd layer, 1st row, 4th column"
   ]
  },
  {
   "attachments": {},
   "cell_type": "markdown",
   "metadata": {},
   "source": [
    "When subsetting individual values from an array, we get a plain `numpy` value, such as an `int64` or `float64`. Technically speaking, the result is *simplified* to a zero-dimensional `numpy` array:"
   ]
  },
  {
   "cell_type": "code",
   "execution_count": 38,
   "metadata": {},
   "outputs": [
    {
     "data": {
      "text/plain": [
       "numpy.int64"
      ]
     },
     "execution_count": 38,
     "metadata": {},
     "output_type": "execute_result"
    }
   ],
   "source": [
    "type(a[1])"
   ]
  },
  {
   "attachments": {},
   "cell_type": "markdown",
   "metadata": {},
   "source": [
    "### Array slices"
   ]
  },
  {
   "attachments": {},
   "cell_type": "markdown",
   "metadata": {},
   "source": [
    "Any of the indices can be replaced with `:`, which means \"return all subsets in that dimension\". For example:"
   ]
  },
  {
   "cell_type": "code",
   "execution_count": 39,
   "metadata": {},
   "outputs": [
    {
     "data": {
      "text/plain": [
       "array([2., 1., 2.])"
      ]
     },
     "execution_count": 39,
     "metadata": {},
     "output_type": "execute_result"
    }
   ],
   "source": [
    "b[1, :]  ## 2nd row, all columns"
   ]
  },
  {
   "cell_type": "code",
   "execution_count": 40,
   "metadata": {},
   "outputs": [
    {
     "data": {
      "text/plain": [
       "array([ 0.,  1.,  1., nan])"
      ]
     },
     "execution_count": 40,
     "metadata": {},
     "output_type": "execute_result"
    }
   ],
   "source": [
    "b[:, 1]  ## 2nd column, all rows"
   ]
  },
  {
   "cell_type": "code",
   "execution_count": 41,
   "metadata": {},
   "outputs": [
    {
     "data": {
      "text/plain": [
       "array([[ 9, 10, 11, 12],\n",
       "       [21, 22, 23, 24]])"
      ]
     },
     "execution_count": 41,
     "metadata": {},
     "output_type": "execute_result"
    }
   ],
   "source": [
    "c[:, 2, :]  ## 3rd row, all layers and all columns"
   ]
  },
  {
   "attachments": {},
   "cell_type": "markdown",
   "metadata": {},
   "source": [
    "We can also assign new values into an individual element, or a slice, of an array, in which case the respective elements are replaced. Try this for yourself to see how it works."
   ]
  },
  {
   "attachments": {},
   "cell_type": "markdown",
   "metadata": {},
   "source": [
    "```{admonition} Exercise 04-a\n",
    ":class: important\n",
    "* How many dimensions does `c[1,2,:]` have? \n",
    "* What about `c[1,:,:]`? \n",
    "* Check your answers using an expression which returns the number of dimensions.\n",
    "```"
   ]
  },
  {
   "attachments": {},
   "cell_type": "markdown",
   "metadata": {},
   "source": [
    "The `start:stop` notation which we learned about for `list` subsetting (see {ref}`list-subsets`) is applicable to `numpy` arrays too. For example:"
   ]
  },
  {
   "cell_type": "code",
   "execution_count": 42,
   "metadata": {},
   "outputs": [
    {
     "data": {
      "text/plain": [
       "array([[1., 0., 0.],\n",
       "       [2., 1., 2.]])"
      ]
     },
     "execution_count": 42,
     "metadata": {},
     "output_type": "execute_result"
    }
   ],
   "source": [
    "b[:2, :]  ## 1st and 2nd rows"
   ]
  },
  {
   "cell_type": "code",
   "execution_count": 43,
   "metadata": {},
   "outputs": [
    {
     "data": {
      "text/plain": [
       "array([[ 2.,  1.,  0.],\n",
       "       [ 2., nan,  1.]])"
      ]
     },
     "execution_count": 43,
     "metadata": {},
     "output_type": "execute_result"
    }
   ],
   "source": [
    "b[2:, :]  ## 3rd row and onward"
   ]
  },
  {
   "cell_type": "code",
   "execution_count": 44,
   "metadata": {},
   "outputs": [
    {
     "data": {
      "text/plain": [
       "array([[2., 1., 2.],\n",
       "       [2., 1., 0.]])"
      ]
     },
     "execution_count": 44,
     "metadata": {},
     "output_type": "execute_result"
    }
   ],
   "source": [
    "b[1:3, :]  # 2nd and 3rd rows"
   ]
  },
  {
   "attachments": {},
   "cell_type": "markdown",
   "metadata": {},
   "source": [
    "When using individual *indices*, the result is simplified in terms of the number of dimensions. For example, `b[:,1]` is a one-dimensional array, with the values of one column of a two-dimensional array. When using *slices*, however, the result is never simplified, even the slice refers to just one element along the dimension. For example, compare the following methods to subset to second column of `b`: "
   ]
  },
  {
   "cell_type": "code",
   "execution_count": 45,
   "metadata": {},
   "outputs": [
    {
     "data": {
      "text/plain": [
       "array([ 0.,  1.,  1., nan])"
      ]
     },
     "execution_count": 45,
     "metadata": {},
     "output_type": "execute_result"
    }
   ],
   "source": [
    "b[:, 1]    ## Subset 2nd column using individual index"
   ]
  },
  {
   "cell_type": "code",
   "execution_count": 46,
   "metadata": {},
   "outputs": [
    {
     "data": {
      "text/plain": [
       "array([[ 0.],\n",
       "       [ 1.],\n",
       "       [ 1.],\n",
       "       [nan]])"
      ]
     },
     "execution_count": 46,
     "metadata": {},
     "output_type": "execute_result"
    }
   ],
   "source": [
    "b[:, 1:2]  ## Subset 2nd column using slice"
   ]
  },
  {
   "attachments": {},
   "cell_type": "markdown",
   "metadata": {},
   "source": [
    "Examples of subsetting a two-dimensional array are visualized in {numref}`numpy-subsetting`."
   ]
  },
  {
   "attachments": {},
   "cell_type": "markdown",
   "metadata": {},
   "source": [
    "```{figure} images/figure_01_numpy_subsetting.svg\n",
    "---\n",
    "name: numpy-subsetting\n",
    "width: 90%\n",
    "---\n",
    "Subsetting a two-dimensional `numpy` array\n",
    "```"
   ]
  },
  {
   "attachments": {},
   "cell_type": "markdown",
   "metadata": {},
   "source": [
    "```{admonition} Exercise 04-b\n",
    ":class: important\n",
    "* Replace one of the values in the array `b` with a new value.\n",
    "* Replace an entire *row* with a new value.\n",
    "* Replace an entire *column* with a new value.\n",
    "```"
   ]
  },
  {
   "attachments": {},
   "cell_type": "markdown",
   "metadata": {},
   "source": [
    "(numpy-references-and-copies)=\n",
    "## Views and copies"
   ]
  },
  {
   "attachments": {},
   "cell_type": "markdown",
   "metadata": {},
   "source": [
    "An array is a *mutable* object. In agreement with the basic behavior of mutable objects, such as `list`s in Python (see {ref}`basics-mutability-and-copies`), this means that a copy of the original object is (by default) a reference to the same memory location. Any change we make in such a references is therefore \"reflected\" in both. "
   ]
  },
  {
   "attachments": {},
   "cell_type": "markdown",
   "metadata": {},
   "source": [
    "In {ref}`basics-mutability-and-copies`, we have seen that assigning a `list` to another variable creates a reference to the same `list`. The same behavior takes places with `numpy` arrays. Moreover, and unlike `list`s, a *subset* of a `numpy` array is also a reference to the original (whereas a `list` subset is automatically copied). Therefore modifying an array subset is, too, reflected in the original array, unless we explicitly make an independent copy of the array and subset the copy. "
   ]
  },
  {
   "attachments": {},
   "cell_type": "markdown",
   "metadata": {},
   "source": [
    "Let us demonstrate the behavior described in the last paragraph. Suppose that we take a subset with the 2<sup>nd</sup> row from array `b`: "
   ]
  },
  {
   "cell_type": "code",
   "execution_count": 47,
   "metadata": {},
   "outputs": [
    {
     "data": {
      "text/plain": [
       "array([2., 1., 2.])"
      ]
     },
     "execution_count": 47,
     "metadata": {},
     "output_type": "execute_result"
    }
   ],
   "source": [
    "b_sub = b[1, :]\n",
    "b_sub"
   ]
  },
  {
   "attachments": {},
   "cell_type": "markdown",
   "metadata": {},
   "source": [
    "and then replace one of the values with a different value, such as `999`:"
   ]
  },
  {
   "cell_type": "code",
   "execution_count": 48,
   "metadata": {},
   "outputs": [],
   "source": [
    "b_sub[1] = 999"
   ]
  },
  {
   "attachments": {},
   "cell_type": "markdown",
   "metadata": {},
   "source": [
    "As expected, the subset `b_sub` now contains the new value:"
   ]
  },
  {
   "cell_type": "code",
   "execution_count": 49,
   "metadata": {},
   "outputs": [
    {
     "data": {
      "text/plain": [
       "array([  2., 999.,   2.])"
      ]
     },
     "execution_count": 49,
     "metadata": {},
     "output_type": "execute_result"
    }
   ],
   "source": [
    "b_sub"
   ]
  },
  {
   "attachments": {},
   "cell_type": "markdown",
   "metadata": {},
   "source": [
    "What may be unexpected, is that the original array `b`, where the subset comes from, is also updated:"
   ]
  },
  {
   "cell_type": "code",
   "execution_count": 50,
   "metadata": {},
   "outputs": [
    {
     "data": {
      "text/plain": [
       "array([[  1.,   0.,   0.],\n",
       "       [  2., 999.,   2.],\n",
       "       [  2.,   1.,   0.],\n",
       "       [  2.,  nan,   1.]])"
      ]
     },
     "execution_count": 50,
     "metadata": {},
     "output_type": "execute_result"
    }
   ],
   "source": [
    "b"
   ]
  },
  {
   "attachments": {},
   "cell_type": "markdown",
   "metadata": {},
   "source": [
    "The reason for this behavior is that a subset is not a true copy of the underlying array. Instead, it can be thought of as a *view*, or reference, to the array, or to a subset of it. Any modification of the \"view\" modifies the original array as well. "
   ]
  },
  {
   "attachments": {},
   "cell_type": "markdown",
   "metadata": {},
   "source": [
    "In case we are interested in a \"real\" copy, which is independent of the original, we must explicitly use the `.copy` method (see {ref}`basics-mutability-and-copies`). For example, let us return `b` to its original form (again through the view `b_sub`!):"
   ]
  },
  {
   "cell_type": "code",
   "execution_count": 51,
   "metadata": {},
   "outputs": [
    {
     "data": {
      "text/plain": [
       "array([[ 1.,  0.,  0.],\n",
       "       [ 2.,  1.,  2.],\n",
       "       [ 2.,  1.,  0.],\n",
       "       [ 2., nan,  1.]])"
      ]
     },
     "execution_count": 51,
     "metadata": {},
     "output_type": "execute_result"
    }
   ],
   "source": [
    "b_sub[1] = 1\n",
    "b"
   ]
  },
  {
   "attachments": {},
   "cell_type": "markdown",
   "metadata": {},
   "source": [
    "Now, let us create a subset which is a *copy* of `b`, and modify it:"
   ]
  },
  {
   "cell_type": "code",
   "execution_count": 52,
   "metadata": {},
   "outputs": [],
   "source": [
    "b_sub2 = b[1, :].copy()\n",
    "b_sub2[1] = 999"
   ]
  },
  {
   "attachments": {},
   "cell_type": "markdown",
   "metadata": {},
   "source": [
    "Again, the subset is modified as expected:"
   ]
  },
  {
   "cell_type": "code",
   "execution_count": 53,
   "metadata": {},
   "outputs": [
    {
     "data": {
      "text/plain": [
       "array([  2., 999.,   2.])"
      ]
     },
     "execution_count": 53,
     "metadata": {},
     "output_type": "execute_result"
    }
   ],
   "source": [
    "b_sub2"
   ]
  },
  {
   "attachments": {},
   "cell_type": "markdown",
   "metadata": {},
   "source": [
    "The original array `b`, however, is unchanged, since `b_sub2` is an independent copy:"
   ]
  },
  {
   "cell_type": "code",
   "execution_count": 54,
   "metadata": {},
   "outputs": [
    {
     "data": {
      "text/plain": [
       "array([[ 1.,  0.,  0.],\n",
       "       [ 2.,  1.,  2.],\n",
       "       [ 2.,  1.,  0.],\n",
       "       [ 2., nan,  1.]])"
      ]
     },
     "execution_count": 54,
     "metadata": {},
     "output_type": "execute_result"
    }
   ],
   "source": [
    "b"
   ]
  },
  {
   "attachments": {},
   "cell_type": "markdown",
   "metadata": {},
   "source": [
    "Keep in mind that there are operations other than subsetting that return a \"view\", rather than a copy, such as:\n",
    "\n",
    "* `.reshape` (see {ref}`numpy-general-reshaping`)\n",
    "* `.T` (see {ref}`numpy-transposing`). "
   ]
  },
  {
   "attachments": {},
   "cell_type": "markdown",
   "metadata": {},
   "source": [
    "(array-to-list)=\n",
    "## `ndarray` to `list`"
   ]
  },
  {
   "attachments": {},
   "cell_type": "markdown",
   "metadata": {},
   "source": [
    "A `numpy` array can be converted to a `list` using the [`.tolist`](https://numpy.org/doc/stable/reference/generated/numpy.ndarray.tolist.html) method. This can be thought of as the opposite creating an array from a `list` with `np.array` (see {ref}`numpy-from-list`). For example:"
   ]
  },
  {
   "cell_type": "code",
   "execution_count": 55,
   "metadata": {},
   "outputs": [
    {
     "data": {
      "text/plain": [
       "[[1.0, 0.0, 0.0], [2.0, 1.0, 2.0], [2.0, 1.0, 0.0], [2.0, nan, 1.0]]"
      ]
     },
     "execution_count": 55,
     "metadata": {},
     "output_type": "execute_result"
    }
   ],
   "source": [
    "b.tolist()"
   ]
  },
  {
   "attachments": {},
   "cell_type": "markdown",
   "metadata": {},
   "source": [
    "This may be useful if we prefer to process our data using basic Python functions, rather than `numpy` functions and methods."
   ]
  },
  {
   "attachments": {},
   "cell_type": "markdown",
   "metadata": {},
   "source": [
    "## Array reshaping"
   ]
  },
  {
   "attachments": {},
   "cell_type": "markdown",
   "metadata": {},
   "source": [
    "(numpy-general-reshaping)=\n",
    "### General reshaping (`.reshape`)"
   ]
  },
  {
   "attachments": {},
   "cell_type": "markdown",
   "metadata": {},
   "source": [
    "Array *reshaping* means transferring the array values to an array with a different shape. Arrays can be reshaped using the [`.reshape`](https://numpy.org/doc/stable/reference/generated/numpy.ndarray.reshape.html) method, which accepts a `tuple` with the new shape. For example, the following expression transforms the one-dimensional array `a` with shape `(7,)` into a two-dimensional array with shape `(7,1)`, i.e., one column and seven rows:"
   ]
  },
  {
   "cell_type": "code",
   "execution_count": 56,
   "metadata": {},
   "outputs": [
    {
     "data": {
      "text/plain": [
       "array([[ 3],\n",
       "       [ 8],\n",
       "       [-2],\n",
       "       [43],\n",
       "       [12],\n",
       "       [ 1],\n",
       "       [ 8]])"
      ]
     },
     "execution_count": 56,
     "metadata": {},
     "output_type": "execute_result"
    }
   ],
   "source": [
    "a.reshape((7, 1))"
   ]
  },
  {
   "attachments": {},
   "cell_type": "markdown",
   "metadata": {},
   "source": [
    "The following expression transforms `b` into a two-dimensional array of a different shape, from shape `(4,3)` to shape `(2,6)`:"
   ]
  },
  {
   "cell_type": "code",
   "execution_count": 57,
   "metadata": {},
   "outputs": [
    {
     "data": {
      "text/plain": [
       "array([[ 1.,  0.,  0.,  2.,  1.,  2.],\n",
       "       [ 2.,  1.,  0.,  2., nan,  1.]])"
      ]
     },
     "execution_count": 57,
     "metadata": {},
     "output_type": "execute_result"
    }
   ],
   "source": [
    "b.reshape((2, 6))"
   ]
  },
  {
   "attachments": {},
   "cell_type": "markdown",
   "metadata": {},
   "source": [
    "As mentioned above, `.reshape` returns a \"view\" of the original array (see {ref}`numpy-references-and-copies`)."
   ]
  },
  {
   "attachments": {},
   "cell_type": "markdown",
   "metadata": {},
   "source": [
    "```{note}\n",
    "You can use `-1` for dimensions in `.reshape` to be calculated automatically, according to the other dimension(s) and the length of the data. For example, try `b.reshape((-1,6))` instead of the last expression.\n",
    "```"
   ]
  },
  {
   "attachments": {},
   "cell_type": "markdown",
   "metadata": {},
   "source": [
    "```{note}\n",
    "Another way of reshaping an array, specific to the case where we add a new dimension, is to use [`np.newaxis`](https://numpy.org/doc/stable/reference/constants.html#numpy.newaxis). For example, `a[:,np.newaxis]` and `a[np.newaxis,:]` transform `a` into a two-dimensional array with a new length-one dimension of columns or rows, respecively. Try these expressions in the console to see for yourself.\n",
    "```"
   ]
  },
  {
   "attachments": {},
   "cell_type": "markdown",
   "metadata": {},
   "source": [
    "(numpy-to-one-dimensional)=\n",
    "### To one-dimensional (`.flatten`)"
   ]
  },
  {
   "attachments": {},
   "cell_type": "markdown",
   "metadata": {},
   "source": [
    "A common reshaping operation is \"collapsing\" a multy-dimensional array into a one-dimensional array. This can be done using the [`.flatten`](https://numpy.org/doc/stable/reference/generated/numpy.ndarray.flatten.html) method:"
   ]
  },
  {
   "cell_type": "code",
   "execution_count": 58,
   "metadata": {},
   "outputs": [
    {
     "data": {
      "text/plain": [
       "array([ 1.,  0.,  0.,  2.,  1.,  2.,  2.,  1.,  0.,  2., nan,  1.])"
      ]
     },
     "execution_count": 58,
     "metadata": {},
     "output_type": "execute_result"
    }
   ],
   "source": [
    "b.flatten()"
   ]
  },
  {
   "attachments": {},
   "cell_type": "markdown",
   "metadata": {},
   "source": [
    "\"Flattening\" can be useful when we need to treat all values of a two- (or three-) dimensional array as a single sequence, for example to calculate global statistics, or to display a histogram (see {ref}`numpy-hist`)."
   ]
  },
  {
   "attachments": {},
   "cell_type": "markdown",
   "metadata": {},
   "source": [
    "(numpy-transposing)=\n",
    "### Transposing (`.T`)"
   ]
  },
  {
   "attachments": {},
   "cell_type": "markdown",
   "metadata": {},
   "source": [
    "Finally, it is often useful to transpose a two-dimensional array, that is, to turn array rows into columns and vice versa. The transposed array is accessible through the [`.T`](https://numpy.org/doc/stable/reference/generated/numpy.ndarray.T.html) property:"
   ]
  },
  {
   "cell_type": "code",
   "execution_count": 59,
   "metadata": {},
   "outputs": [
    {
     "data": {
      "text/plain": [
       "array([[ 1.,  0.,  0.],\n",
       "       [ 2.,  1.,  2.],\n",
       "       [ 2.,  1.,  0.],\n",
       "       [ 2., nan,  1.]])"
      ]
     },
     "execution_count": 59,
     "metadata": {},
     "output_type": "execute_result"
    }
   ],
   "source": [
    "b"
   ]
  },
  {
   "cell_type": "code",
   "execution_count": 60,
   "metadata": {},
   "outputs": [
    {
     "data": {
      "text/plain": [
       "array([[ 1.,  2.,  2.,  2.],\n",
       "       [ 0.,  1.,  1., nan],\n",
       "       [ 0.,  2.,  0.,  1.]])"
      ]
     },
     "execution_count": 60,
     "metadata": {},
     "output_type": "execute_result"
    }
   ],
   "source": [
    "b.T"
   ]
  },
  {
   "attachments": {},
   "cell_type": "markdown",
   "metadata": {},
   "source": [
    "Transposing is useful in situations when we need to apply a function that treats array rows and columns differently, such as when plotting (see {ref}`numpy-line-plot`)."
   ]
  },
  {
   "attachments": {},
   "cell_type": "markdown",
   "metadata": {},
   "source": [
    "As mentioned above, `.T` returns a \"view\" of the original array (see {ref}`numpy-references-and-copies`)."
   ]
  },
  {
   "attachments": {},
   "cell_type": "markdown",
   "metadata": {},
   "source": [
    "(numpy-vectorized-ops)=\n",
    "## Vectorized operations"
   ]
  },
  {
   "attachments": {},
   "cell_type": "markdown",
   "metadata": {},
   "source": [
    "### Overview"
   ]
  },
  {
   "attachments": {},
   "cell_type": "markdown",
   "metadata": {},
   "source": [
    "Vectorized operations, also known as [\"Universal functions\"](https://numpy.org/doc/stable/reference/ufuncs.html) in `numpy` terminology, make it possible to apply the same operation on all elements of an array at once. Vectorized operations (discussed in this section) and summary functions (see {ref}`summarizing-array-values`), are two big advantages and motivations of using `numpy`, both in terms of shorter code and efficiency, compared to \"basic\" methods such as lists. Due to their efficient storage, vectorized operations on `numpy` arrays are much more efficient and fast than, say, a `for` loop or a list complehension repeatedly performing the same operation on all elements of a `list`. "
   ]
  },
  {
   "attachments": {},
   "cell_type": "markdown",
   "metadata": {},
   "source": [
    "There are numerous built-in vectorized operators and functions in `numpy`, and there are methods to define new ones. The operations are pairwise, element-by-element. We can combine: \n",
    "\n",
    "* an array with another array (e.g., `b+b`), or\n",
    "* an array with an individual number (e.g., `b+1`)."
   ]
  },
  {
   "attachments": {},
   "cell_type": "markdown",
   "metadata": {},
   "source": [
    "In the latter case, the number is automatically treated as an array with repeated values."
   ]
  },
  {
   "attachments": {},
   "cell_type": "markdown",
   "metadata": {},
   "source": [
    "### Arithmetic operators"
   ]
  },
  {
   "attachments": {},
   "cell_type": "markdown",
   "metadata": {},
   "source": [
    "All arithmetic operators (see {ref}`arithmetic-operators`) are implemented as vectorized `numpy` operators. Let us take array `a` as an example:"
   ]
  },
  {
   "cell_type": "code",
   "execution_count": 61,
   "metadata": {},
   "outputs": [
    {
     "data": {
      "text/plain": [
       "array([ 3,  8, -2, 43, 12,  1,  8])"
      ]
     },
     "execution_count": 61,
     "metadata": {},
     "output_type": "execute_result"
    }
   ],
   "source": [
    "a"
   ]
  },
  {
   "attachments": {},
   "cell_type": "markdown",
   "metadata": {},
   "source": [
    "Here are a few examples of arithmetic array operations:"
   ]
  },
  {
   "cell_type": "code",
   "execution_count": 62,
   "metadata": {},
   "outputs": [
    {
     "data": {
      "text/plain": [
       "array([ 4,  9, -1, 44, 13,  2,  9])"
      ]
     },
     "execution_count": 62,
     "metadata": {},
     "output_type": "execute_result"
    }
   ],
   "source": [
    "a + 1     ## Add 1 to elements of 'a'"
   ]
  },
  {
   "cell_type": "code",
   "execution_count": 63,
   "metadata": {},
   "outputs": [
    {
     "data": {
      "text/plain": [
       "array([ -3,  -8,   2, -43, -12,  -1,  -8])"
      ]
     },
     "execution_count": 63,
     "metadata": {},
     "output_type": "execute_result"
    }
   ],
   "source": [
    "-a        ## Inverse of elements 'a'"
   ]
  },
  {
   "cell_type": "code",
   "execution_count": 64,
   "metadata": {},
   "outputs": [
    {
     "data": {
      "text/plain": [
       "array([   9,   64,    4, 1849,  144,    1,   64])"
      ]
     },
     "execution_count": 64,
     "metadata": {},
     "output_type": "execute_result"
    }
   ],
   "source": [
    "a * a     ## Multiply each element of 'a' by itself (same as 'a**2')"
   ]
  },
  {
   "cell_type": "code",
   "execution_count": 65,
   "metadata": {},
   "outputs": [
    {
     "data": {
      "text/plain": [
       "array([ 997,  992, 1002,  957,  988,  999,  992])"
      ]
     },
     "execution_count": 65,
     "metadata": {},
     "output_type": "execute_result"
    }
   ],
   "source": [
    "1000 - a  ## Subtract each element in 'a' from 1000"
   ]
  },
  {
   "attachments": {},
   "cell_type": "markdown",
   "metadata": {},
   "source": [
    "### Functions on each element"
   ]
  },
  {
   "attachments": {},
   "cell_type": "markdown",
   "metadata": {},
   "source": [
    "Numerous `numpy` functions are defined as vectorized functions, to perform an operation on each element, resulting in a new array of exactly the same shape as the input, containing the result. For example, the [`np.abs`](https://numpy.org/doc/stable/reference/generated/numpy.absolute.html) function is used to calculate the absolute value of each element in an array:"
   ]
  },
  {
   "cell_type": "code",
   "execution_count": 66,
   "metadata": {},
   "outputs": [
    {
     "data": {
      "text/plain": [
       "array([ 3,  8,  2, 43, 12,  1,  8])"
      ]
     },
     "execution_count": 66,
     "metadata": {},
     "output_type": "execute_result"
    }
   ],
   "source": [
    "np.abs(a)"
   ]
  },
  {
   "attachments": {},
   "cell_type": "markdown",
   "metadata": {},
   "source": [
    "which is analogous to using basic `abs` function (see {ref}`functions`) on plain `int` or `float` values."
   ]
  },
  {
   "attachments": {},
   "cell_type": "markdown",
   "metadata": {},
   "source": [
    "(numpy-conditional-operators)=\n",
    "### `numpy` conditional operators"
   ]
  },
  {
   "attachments": {},
   "cell_type": "markdown",
   "metadata": {},
   "source": [
    "The conditional operators (see {ref}`conditions`) are also implemented as vectorized operators. For example:"
   ]
  },
  {
   "cell_type": "code",
   "execution_count": 67,
   "metadata": {},
   "outputs": [
    {
     "data": {
      "text/plain": [
       "array([False, False, False,  True,  True, False, False])"
      ]
     },
     "execution_count": 67,
     "metadata": {},
     "output_type": "execute_result"
    }
   ],
   "source": [
    "a > 10       ## Is each element of 'a' greater than 10?"
   ]
  },
  {
   "cell_type": "code",
   "execution_count": 68,
   "metadata": {},
   "outputs": [
    {
     "data": {
      "text/plain": [
       "array([ True,  True, False,  True,  True,  True,  True])"
      ]
     },
     "execution_count": 68,
     "metadata": {},
     "output_type": "execute_result"
    }
   ],
   "source": [
    "a == abs(a)  ## Is each element of 'a' equal to its absolute value?"
   ]
  },
  {
   "attachments": {},
   "cell_type": "markdown",
   "metadata": {},
   "source": [
    "Note that the result of conditional operations on an array is a *boolean* (see {ref}`boolean-values`) array, as evident when examining the `.dtype` property (see {ref}`numpy-checking-data-type`):"
   ]
  },
  {
   "cell_type": "code",
   "execution_count": 69,
   "metadata": {},
   "outputs": [
    {
     "data": {
      "text/plain": [
       "dtype('bool')"
      ]
     },
     "execution_count": 69,
     "metadata": {},
     "output_type": "execute_result"
    }
   ],
   "source": [
    "(a > 10).dtype"
   ]
  },
  {
   "attachments": {},
   "cell_type": "markdown",
   "metadata": {},
   "source": [
    "Boolean arrays can be negated with the `~` operator, or combined with `&` (and) and `|` (or) operators ({numref}`logical-ops-numpy`): \n",
    "\n",
    "* The `~` operator is analogous to `not` (see {numref}`logical-ops`), i.e., it negates a boolean array, replacing `True` with `False` and vice versa\n",
    "* The `&` operator is analogous to `and` (see {numref}`logical-ops`)\n",
    "* The `|` operator is analogous to `or` (see {numref}`logical-ops`)"
   ]
  },
  {
   "attachments": {},
   "cell_type": "markdown",
   "metadata": {},
   "source": [
    "Remember that `&`, `|`, and `~` should be used when working with arrays. The analogous `and`, `or`, and `not` operators which we covered earlier (see {numref}`logical-ops`), are applicable to entire objects, not arrays elements. "
   ]
  },
  {
   "attachments": {},
   "cell_type": "markdown",
   "metadata": {},
   "source": [
    "```{table} Logical operators for numpy arrays\n",
    ":name: logical-ops-numpy\n",
    "\n",
    "| Operator | Meaning |\n",
    "|---|---|\n",
    "| [`&`](https://numpy.org/doc/stable/reference/generated/numpy.logical_and.html#numpy.logical_and) | And |\n",
    "| [`\\|`](https://numpy.org/doc/stable/reference/generated/numpy.logical_or.html#numpy.logical_or) | Or |\n",
    "| [`~`](https://numpy.org/doc/stable/reference/generated/numpy.invert.html) | Not |\n",
    "```"
   ]
  },
  {
   "attachments": {},
   "cell_type": "markdown",
   "metadata": {},
   "source": [
    "Let us demonstrate the `&`, `|`, and `~` operators through examples. First, suppose that we have two boolean arrays, `a>5` and `a<15`:"
   ]
  },
  {
   "cell_type": "code",
   "execution_count": 70,
   "metadata": {},
   "outputs": [
    {
     "data": {
      "text/plain": [
       "array([False,  True, False,  True,  True, False,  True])"
      ]
     },
     "execution_count": 70,
     "metadata": {},
     "output_type": "execute_result"
    }
   ],
   "source": [
    "a > 5"
   ]
  },
  {
   "cell_type": "code",
   "execution_count": 71,
   "metadata": {},
   "outputs": [
    {
     "data": {
      "text/plain": [
       "array([ True,  True,  True, False,  True,  True,  True])"
      ]
     },
     "execution_count": 71,
     "metadata": {},
     "output_type": "execute_result"
    }
   ],
   "source": [
    "a < 15"
   ]
  },
  {
   "attachments": {},
   "cell_type": "markdown",
   "metadata": {},
   "source": [
    "Here is how they can be combined using the `&` or the `|` operator. Beware that you must use parentheses around both sides of the expressions, since `&`, `|`, and `~` have higher precenence than comparison operators such as `<` and `>`:"
   ]
  },
  {
   "cell_type": "code",
   "execution_count": 72,
   "metadata": {},
   "outputs": [
    {
     "data": {
      "text/plain": [
       "array([False,  True, False, False,  True, False,  True])"
      ]
     },
     "execution_count": 72,
     "metadata": {},
     "output_type": "execute_result"
    }
   ],
   "source": [
    "(a > 5) & (a < 15)  ## Is each element of 'a' greater than 5 *and* smaller than 15?"
   ]
  },
  {
   "cell_type": "code",
   "execution_count": 73,
   "metadata": {},
   "outputs": [
    {
     "data": {
      "text/plain": [
       "array([ True,  True,  True,  True,  True,  True,  True])"
      ]
     },
     "execution_count": 73,
     "metadata": {},
     "output_type": "execute_result"
    }
   ],
   "source": [
    "(a > 5) | (a < 15)  ## Is each element of 'a' greater than 5 *or* smaller than 15?"
   ]
  },
  {
   "attachments": {},
   "cell_type": "markdown",
   "metadata": {},
   "source": [
    "Here is an example of the `~` operator in action, negating a boolean array:"
   ]
  },
  {
   "cell_type": "code",
   "execution_count": 74,
   "metadata": {},
   "outputs": [
    {
     "data": {
      "text/plain": [
       "array([ True, False,  True, False, False,  True, False])"
      ]
     },
     "execution_count": 74,
     "metadata": {},
     "output_type": "execute_result"
    }
   ],
   "source": [
    "~(a > 5)  ## Is each element of 'a' *not* greater than 5?"
   ]
  },
  {
   "attachments": {},
   "cell_type": "markdown",
   "metadata": {},
   "source": [
    "```{note}\n",
    "Note that in all of the examples in this section which involve two arrays, the arrays had equal dimensions. `numpy` vectorized operations are, in fact, more general than that. In certain conditions, `numpy` can accommodate operations between two arrays with different dimensions. This is a powerful technique known as *broadcasting*. For more details, see <https://numpy.org/doc/stable/user/basics.broadcasting.html>.\n",
    "```"
   ]
  },
  {
   "attachments": {},
   "cell_type": "markdown",
   "metadata": {},
   "source": [
    "When a boolean array is passed to an arithmetic operation, or function, `True` values are treated as `1` and `False` values are treated as `0`. The result is then a numeric array. For example, the boolean array `a>5`:"
   ]
  },
  {
   "cell_type": "code",
   "execution_count": 75,
   "metadata": {},
   "outputs": [
    {
     "data": {
      "text/plain": [
       "array([False,  True, False,  True,  True, False,  True])"
      ]
     },
     "execution_count": 75,
     "metadata": {},
     "output_type": "execute_result"
    }
   ],
   "source": [
    "a > 5"
   ]
  },
  {
   "attachments": {},
   "cell_type": "markdown",
   "metadata": {},
   "source": [
    "is automatically transformed to a numeric array of `0`'s and `1`'s when multiplied by `10`:"
   ]
  },
  {
   "cell_type": "code",
   "execution_count": 76,
   "metadata": {},
   "outputs": [
    {
     "data": {
      "text/plain": [
       "array([ 0, 10,  0, 10, 10,  0, 10])"
      ]
     },
     "execution_count": 76,
     "metadata": {},
     "output_type": "execute_result"
    }
   ],
   "source": [
    "10 * (a > 5)"
   ]
  },
  {
   "attachments": {},
   "cell_type": "markdown",
   "metadata": {},
   "source": [
    "(masking)=\n",
    "## Masking"
   ]
  },
  {
   "attachments": {},
   "cell_type": "markdown",
   "metadata": {},
   "source": [
    "### What are masks?"
   ]
  },
  {
   "attachments": {},
   "cell_type": "markdown",
   "metadata": {},
   "source": [
    "Numpy arrays can be subsetted using corresponding boolean arrays, which are also known as *masks*. Masking is useful for extracting or modifying some of the values in an array—more specifically, those values which correspond to a specified condition. For example, we may want to: \n",
    "\n",
    "* extract the non-missing values in an array, or \n",
    "* replace all missing values with a new value, or\n",
    "* delete (i.e., replace with \"No Data\") values that above a particular threshold (e.g., assuming they are measurement errors), and so on. "
   ]
  },
  {
   "attachments": {},
   "cell_type": "markdown",
   "metadata": {},
   "source": [
    "Any boolean array with a corresponding shape can function as a mask. Typically, a mask is created using a conditional expression (see {ref}`numpy-conditional-operators`) on the original array itself. For example, given the array named `a`:"
   ]
  },
  {
   "cell_type": "code",
   "execution_count": 77,
   "metadata": {},
   "outputs": [
    {
     "data": {
      "text/plain": [
       "array([ 3,  8, -2, 43, 12,  1,  8])"
      ]
     },
     "execution_count": 77,
     "metadata": {},
     "output_type": "execute_result"
    }
   ],
   "source": [
    "a"
   ]
  },
  {
   "attachments": {},
   "cell_type": "markdown",
   "metadata": {},
   "source": [
    "The expression `a>10` creates a mask, referring to those elements of `a` which are greater than `10`:"
   ]
  },
  {
   "cell_type": "code",
   "execution_count": 78,
   "metadata": {},
   "outputs": [
    {
     "data": {
      "text/plain": [
       "array([False, False, False,  True,  True, False, False])"
      ]
     },
     "execution_count": 78,
     "metadata": {},
     "output_type": "execute_result"
    }
   ],
   "source": [
    "a > 10"
   ]
  },
  {
   "attachments": {},
   "cell_type": "markdown",
   "metadata": {},
   "source": [
    "(using-masks-for-subsetting)=\n",
    "### Using masks for subsetting"
   ]
  },
  {
   "attachments": {},
   "cell_type": "markdown",
   "metadata": {},
   "source": [
    "When passed as an index inside square brackets (`[`), a mask can be used to filter the array, returning a subset with only those elements that correspond to `True`. For example:"
   ]
  },
  {
   "cell_type": "code",
   "execution_count": 79,
   "metadata": {},
   "outputs": [
    {
     "data": {
      "text/plain": [
       "array([43, 12])"
      ]
     },
     "execution_count": 79,
     "metadata": {},
     "output_type": "execute_result"
    }
   ],
   "source": [
    "a[a > 10]"
   ]
  },
  {
   "attachments": {},
   "cell_type": "markdown",
   "metadata": {},
   "source": [
    "Note that when subsetting two- or three-dimensional arrays using a mask, the original shape is not preserved. Instead, the selected values are \"collected\" into a one-dimensional array. For example:"
   ]
  },
  {
   "cell_type": "code",
   "execution_count": 80,
   "metadata": {},
   "outputs": [
    {
     "data": {
      "text/plain": [
       "array([2., 2., 2., 2.])"
      ]
     },
     "execution_count": 80,
     "metadata": {},
     "output_type": "execute_result"
    }
   ],
   "source": [
    "b[b > 1]"
   ]
  },
  {
   "attachments": {},
   "cell_type": "markdown",
   "metadata": {},
   "source": [
    "### Using masks for assignment"
   ]
  },
  {
   "attachments": {},
   "cell_type": "markdown",
   "metadata": {},
   "source": [
    "Assignment to a \"masked\" subset can be used to modify the corresponding subset in the original array. For example, the following expression replaces those values of `a` which are greater than `10`, with a new value `100`:"
   ]
  },
  {
   "cell_type": "code",
   "execution_count": 81,
   "metadata": {},
   "outputs": [
    {
     "data": {
      "text/plain": [
       "array([  3,   8,  -2, 100, 100,   1,   8])"
      ]
     },
     "execution_count": 81,
     "metadata": {},
     "output_type": "execute_result"
    }
   ],
   "source": [
    "a[a > 10] = 100\n",
    "a"
   ]
  },
  {
   "attachments": {},
   "cell_type": "markdown",
   "metadata": {},
   "source": [
    "The following expression replaces values which are negative *or* equal to `3` with a new value `-99`. Again, note the mandatory parentheses."
   ]
  },
  {
   "cell_type": "code",
   "execution_count": 82,
   "metadata": {},
   "outputs": [
    {
     "data": {
      "text/plain": [
       "array([-99,   8, -99, 100, 100,   1,   8])"
      ]
     },
     "execution_count": 82,
     "metadata": {},
     "output_type": "execute_result"
    }
   ],
   "source": [
    "a[(a < 0) | (a == 3)] = -99\n",
    "a"
   ]
  },
  {
   "attachments": {},
   "cell_type": "markdown",
   "metadata": {},
   "source": [
    "Before we move on, let us get back to the original values in array `a`:"
   ]
  },
  {
   "cell_type": "code",
   "execution_count": 83,
   "metadata": {},
   "outputs": [
    {
     "data": {
      "text/plain": [
       "array([ 3,  8, -2, 43, 12,  1,  8])"
      ]
     },
     "execution_count": 83,
     "metadata": {},
     "output_type": "execute_result"
    }
   ],
   "source": [
    "a = np.array([3, 8, -2, 43, 12, 1, 8])\n",
    "a"
   ]
  },
  {
   "attachments": {},
   "cell_type": "markdown",
   "metadata": {},
   "source": [
    "(summarizing-array-values)=\n",
    "## Summarizing array values"
   ]
  },
  {
   "attachments": {},
   "cell_type": "markdown",
   "metadata": {},
   "source": [
    "### Overview"
   ]
  },
  {
   "attachments": {},
   "cell_type": "markdown",
   "metadata": {},
   "source": [
    "In addition to vectorized, or element-by-element, operations such as `np.abs` (see {ref}`numpy-vectorized-ops`), `numpy` also accommodates functions to *summarize* array values, such as `np.sum` to calculate the array sum. As we will see, there are several modes of operations for summary functions:\n",
    "\n",
    "* A \"global\" summary (the default), such as `np.sum(x)` for the sum of all values in array `x`\n",
    "* A summary for subsets along one or more dimensions—using `axis=A` or `axis=(A,B,...)`, where `A`, `B`, etc. are the dimensions being summarized (or \"eliminated\"), such as `np.sum(x,axis=0)` for column sums of a two-dimensional array `x`"
   ]
  },
  {
   "attachments": {},
   "cell_type": "markdown",
   "metadata": {},
   "source": [
    "The most useful function for summarizing array values, for the purposes of this book, are given in {numref}`numpy-summary-functions`. Note that some of the functions are defined in two ways: \n",
    "\n",
    "* as standalone functions (e.g., `np.sum`) \n",
    "* as array methods (e.g., `.sum`)"
   ]
  },
  {
   "attachments": {},
   "cell_type": "markdown",
   "metadata": {},
   "source": [
    "Both ways are identical, and it is just a matter of preference which one to use. However, standalone functions are accessible more universally:\n",
    "\n",
    "* Some of the functions only have a standalone version (such as `np.median`)\n",
    "* \"No Data\"-safe functions (such as `np.nanmean`, see {ref}`numpy-operations-with-nodata`) are only available through standalone functions"
   ]
  },
  {
   "attachments": {},
   "cell_type": "markdown",
   "metadata": {},
   "source": [
    "```{table} Commonly used functions to summarize array values in numpy\n",
    ":name: numpy-summary-functions\n",
    "\n",
    "| Operation | Function | Method | \"No Data\"-safe version |\n",
    "|---|---|---|---|\n",
    "| Sum | [`np.sum`](https://numpy.org/doc/stable/reference/generated/numpy.sum.html) | [`.sum`](https://numpy.org/doc/stable/reference/generated/numpy.ndarray.sum.html) | [`np.nansum`](https://numpy.org/doc/stable/reference/generated/numpy.nansum.html) |\n",
    "| Minimum | [`np.min`](https://numpy.org/doc/stable/reference/generated/numpy.min.html) | [`.min`](https://numpy.org/doc/stable/reference/generated/numpy.ndarray.min.html) | [`np.nanmin`](https://numpy.org/doc/stable/reference/generated/numpy.nanmin.html) |\n",
    "| Maximum | [`np.max`](https://numpy.org/doc/stable/reference/generated/numpy.max.html) | [`.max`](https://numpy.org/doc/stable/reference/generated/numpy.ndarray.max.html) | [`np.nanmax`](https://numpy.org/doc/stable/reference/generated/numpy.nanmax.html) |\n",
    "| Mean | [`np.mean`](https://numpy.org/doc/stable/reference/generated/numpy.mean.html) | [`.mean`](https://numpy.org/doc/stable/reference/generated/numpy.ndarray.mean.html) | [`np.nanmean`](https://numpy.org/doc/stable/reference/generated/numpy.nanmean.html) |\n",
    "| Median | [`np.median`](https://numpy.org/doc/stable/reference/generated/numpy.median.html) | - | [`np.nanmedian`](https://numpy.org/doc/stable/reference/generated/numpy.nanmedian.html) |\n",
    "| Index of (first) minimum | [`np.argmin`](https://numpy.org/doc/stable/reference/generated/numpy.argmin.html) | [`.argmin`](https://numpy.org/doc/stable/reference/generated/numpy.ndarray.argmin.html) | [`np.nanargmin`](https://numpy.org/doc/stable/reference/generated/numpy.nanargmin.html) |\n",
    "| Index of (first) maximum | [`np.argmax`](https://numpy.org/doc/stable/reference/generated/numpy.argmax.html) | [`.argmax`](https://numpy.org/doc/stable/reference/generated/numpy.ndarray.argmax.html) | [`np.nanargmax`](https://numpy.org/doc/stable/reference/generated/numpy.nanargmax.html) |\n",
    "| Is at least one element `True`? | [`np.any`](https://numpy.org/doc/stable/reference/generated/numpy.any.html) | [`.any`](https://numpy.org/doc/stable/reference/generated/numpy.ndarray.any.html#numpy.ndarray.any) | - |\n",
    "| Are all elements `True`? | [`np.all`](https://numpy.org/doc/stable/reference/generated/numpy.all.html) | [`.all`](https://numpy.org/doc/stable/reference/generated/numpy.ndarray.all.html#numpy.ndarray.all) | - |\n",
    "```"
   ]
  },
  {
   "attachments": {},
   "cell_type": "markdown",
   "metadata": {},
   "source": [
    "(numpy-global-summaries)=\n",
    "### Global summaries"
   ]
  },
  {
   "attachments": {},
   "cell_type": "markdown",
   "metadata": {},
   "source": [
    "Unlike vectorized operations (see {ref}`numpy-vectorized-ops`), which are performed element-by-element, summary operations return a single result for the entire array (the default), or an array with results for subsets such as the rows and columns. In this section we discuss the former, known as *global* summaries. "
   ]
  },
  {
   "attachments": {},
   "cell_type": "markdown",
   "metadata": {},
   "source": [
    "For example, the `np.sum` function can be used to calculate the global sum of all elements in an array:"
   ]
  },
  {
   "cell_type": "code",
   "execution_count": 84,
   "metadata": {},
   "outputs": [
    {
     "data": {
      "text/plain": [
       "73"
      ]
     },
     "execution_count": 84,
     "metadata": {},
     "output_type": "execute_result"
    }
   ],
   "source": [
    "np.sum(a)"
   ]
  },
  {
   "attachments": {},
   "cell_type": "markdown",
   "metadata": {},
   "source": [
    "The `np.min` and `np.max` functions return the minimum and maximum element, respectively:"
   ]
  },
  {
   "cell_type": "code",
   "execution_count": 85,
   "metadata": {},
   "outputs": [
    {
     "data": {
      "text/plain": [
       "-2"
      ]
     },
     "execution_count": 85,
     "metadata": {},
     "output_type": "execute_result"
    }
   ],
   "source": [
    "np.min(a)"
   ]
  },
  {
   "cell_type": "code",
   "execution_count": 86,
   "metadata": {},
   "outputs": [
    {
     "data": {
      "text/plain": [
       "43"
      ]
     },
     "execution_count": 86,
     "metadata": {},
     "output_type": "execute_result"
    }
   ],
   "source": [
    "np.max(a)"
   ]
  },
  {
   "attachments": {},
   "cell_type": "markdown",
   "metadata": {},
   "source": [
    "As mentioned above, most `numpy` summary functionshave \"method\" shortcuts to do the same using shorter code ({numref}`numpy-summary-functions`). For example, there is a `.max` method which does the same thing as the `np.max` function. For example:"
   ]
  },
  {
   "cell_type": "code",
   "execution_count": 87,
   "metadata": {},
   "outputs": [
    {
     "data": {
      "text/plain": [
       "43"
      ]
     },
     "execution_count": 87,
     "metadata": {},
     "output_type": "execute_result"
    }
   ],
   "source": [
    "a.max()  ## Shortcut to 'np.max(a)'"
   ]
  },
  {
   "attachments": {},
   "cell_type": "markdown",
   "metadata": {},
   "source": [
    "```{note}\n",
    "Python has a built-in function called `sum`, which works on lists as well as `numpy` arrays. However, `sum` is much slower, and it is not tailored to `numpy` arrays, so it is not aware of array dimensions. The same applies to `min`, `max`, `any`, `all`, and other \"base\" Python functions. Make sure you are using the specialized `numpy` functions (such as `np.sum`) or methods (such as `.sum`) when working with `numpy`, to avoid unexpected results!\n",
    "```"
   ]
  },
  {
   "attachments": {},
   "cell_type": "markdown",
   "metadata": {},
   "source": [
    "A common use case of global summary functions is to count `True` values in a boolean array, typically to find out the number of elements satisfying a given condition. Recall that the arithmetic operators, when applied on a boolean array, treats `True` values as `1` and `False` values as `0` (see {ref}`numpy-conditional-operators`). Therefore, it can be used for \"counting\" the number of `True` values. For example:"
   ]
  },
  {
   "cell_type": "code",
   "execution_count": 88,
   "metadata": {},
   "outputs": [
    {
     "data": {
      "text/plain": [
       "4"
      ]
     },
     "execution_count": 88,
     "metadata": {},
     "output_type": "execute_result"
    }
   ],
   "source": [
    "np.sum(a > 5)   ## How many elements of 'a' are greater than 5?"
   ]
  },
  {
   "cell_type": "code",
   "execution_count": 89,
   "metadata": {},
   "outputs": [
    {
     "data": {
      "text/plain": [
       "6"
      ]
     },
     "execution_count": 89,
     "metadata": {},
     "output_type": "execute_result"
    }
   ],
   "source": [
    "np.sum(a < 15)  ## How many elements of 'a' are smaller than 15?"
   ]
  },
  {
   "attachments": {},
   "cell_type": "markdown",
   "metadata": {},
   "source": [
    "Sometimes we are not interested in the exact number of `True` values, but rather to figure out if we have *at least one* `True` value, or if *all* values are `True`. The `.any` and `.all` methods used to reveal whether the array contains at least one `True`, or whether all of its elements are `True`, respectively. For example:"
   ]
  },
  {
   "cell_type": "code",
   "execution_count": 90,
   "metadata": {},
   "outputs": [
    {
     "data": {
      "text/plain": [
       "True"
      ]
     },
     "execution_count": 90,
     "metadata": {},
     "output_type": "execute_result"
    }
   ],
   "source": [
    "np.any(a > 5)  ## Is *any* of the elements of 'a' greater than 5?"
   ]
  },
  {
   "cell_type": "code",
   "execution_count": 91,
   "metadata": {},
   "outputs": [
    {
     "data": {
      "text/plain": [
       "False"
      ]
     },
     "execution_count": 91,
     "metadata": {},
     "output_type": "execute_result"
    }
   ],
   "source": [
    "np.all(a > 5)  ## Are *all* elements of 'a' greater than 5?"
   ]
  },
  {
   "attachments": {},
   "cell_type": "markdown",
   "metadata": {},
   "source": [
    "```{admonition} Exercise 04-c\n",
    ":class: important\n",
    "* The [`np.diff`](https://numpy.org/doc/stable/reference/generated/numpy.diff.html) function calculates consecutive differences between elements in an array. \n",
    "* Write an expression that, using `np.diff`, checks whether the elements of an array are in *increasing order*. \n",
    "* Test your expression using two arrays that are in increasing and non-increasing oderer, such as `np.array([2,5,8,9])` and `np.array([21,8,9])`. The returned values need to be `True`, and `False`, respectively.\n",
    "```"
   ]
  },
  {
   "attachments": {},
   "cell_type": "markdown",
   "metadata": {},
   "source": [
    "(numpy-summaries-per-dimension-2d)=\n",
    "### Summaries per dimension (2D)"
   ]
  },
  {
   "attachments": {},
   "cell_type": "markdown",
   "metadata": {},
   "source": [
    "As shown above, the default behavior of summary functions, such as `np.sum`, is to operate on all elements combined, resulting in a \"global\" summary (see {ref}`numpy-global-summaries`). Using the `axis` parameter, however, we can also apply the function on different dimensions, separately."
   ]
  },
  {
   "attachments": {},
   "cell_type": "markdown",
   "metadata": {},
   "source": [
    "When referring to two-dimensional arrays, summary functions can be applied separately: \n",
    "\n",
    "* on each column (`axis=0`), or \n",
    "* on each row (`axis=1`) ({numref}`numpy-summarizing`)."
   ]
  },
  {
   "attachments": {},
   "cell_type": "markdown",
   "metadata": {},
   "source": [
    "```{figure} images/figure_02_numpy_summarizing_edited.svg\n",
    "---\n",
    "name: numpy-summarizing\n",
    "width: 50%\n",
    "---\n",
    "Applying a function on each row, or on each column, of a two-dimensional `numpy` array\n",
    "```"
   ]
  },
  {
   "attachments": {},
   "cell_type": "markdown",
   "metadata": {},
   "source": [
    "Let us demonstrate on the two-dimensional array `b`:"
   ]
  },
  {
   "cell_type": "code",
   "execution_count": 92,
   "metadata": {},
   "outputs": [
    {
     "data": {
      "text/plain": [
       "array([ 7., nan,  3.])"
      ]
     },
     "execution_count": 92,
     "metadata": {},
     "output_type": "execute_result"
    }
   ],
   "source": [
    "np.sum(b, axis=0)  ## Column sums"
   ]
  },
  {
   "cell_type": "code",
   "execution_count": 93,
   "metadata": {},
   "outputs": [
    {
     "data": {
      "text/plain": [
       "array([ 1.,  5.,  3., nan])"
      ]
     },
     "execution_count": 93,
     "metadata": {},
     "output_type": "execute_result"
    }
   ],
   "source": [
    "np.sum(b, axis=1)  ## Row sums"
   ]
  },
  {
   "attachments": {},
   "cell_type": "markdown",
   "metadata": {},
   "source": [
    "Note that whenever at least one \"No Data\" (`np.nan`) value is passed to `np.sum`, the result is also \"No Data\" ({numref}`numpy-summarizing`). To ignore `np.nan` values we may use the \"No Data\"-insensitive version of `.sum`, namely `np.nansum` (see {numref}`numpy-summary-functions`). We elaborate on dealing with \"No Data\" later on (see {ref}`numpy-nodata`)."
   ]
  },
  {
   "attachments": {},
   "cell_type": "markdown",
   "metadata": {},
   "source": [
    "The meaning of the `axis` parameter can be confusing. To get row-wise summaries (i.e., dimension `0`) we are actuially specifying the column dimension (`axis=1`), and vice versa. Here is a how you can remember the meaning of the `axis` parameter. With the `axis` parameter, we specify which dimension gets \"eliminated\" from the resulting array. Accordingly, \n",
    "\n",
    "* `axis=0` \"eleminates\" dimension `0` (rows), resulting in column-wise summaries\n",
    "* `axis=1` \"eliminates\" dimension `1` (columns), resulting in row-wise summaries"
   ]
  },
  {
   "attachments": {},
   "cell_type": "markdown",
   "metadata": {},
   "source": [
    "```{admonition} Exercise 04-d\n",
    ":class: important\n",
    "* The [`np.argmin`](https://numpy.org/doc/stable/reference/generated/numpy.argmin.html) function returns the index of the minimum element ({numref}`numpy-summary-functions`). \n",
    "* What will be the result of `np.argmin(b,axis=0)`? \n",
    "* How about `np.argmin(b,axis=1)`? \n",
    "* Run the expressions to check your answer.\n",
    "```"
   ]
  },
  {
   "attachments": {},
   "cell_type": "markdown",
   "metadata": {},
   "source": [
    "(numpy-summaries-per-dimension-3d)=\n",
    "### Summaries per dimension (3D)"
   ]
  },
  {
   "attachments": {},
   "cell_type": "markdown",
   "metadata": {},
   "source": [
    "Let us now move on to the more complex case of summaries per dimension of *three*-dimensional arrays. Before we begin, recall that the order of dimensions in a three-dimensional array is `(layers,rows,columns)` (see {ref}`subsetting-arrays`)."
   ]
  },
  {
   "attachments": {},
   "cell_type": "markdown",
   "metadata": {},
   "source": [
    "For example, in array `c`, we have:\n",
    "\n",
    "* Two \"layers\"\n",
    "* Three rows\n",
    "* Four columns"
   ]
  },
  {
   "cell_type": "code",
   "execution_count": 94,
   "metadata": {},
   "outputs": [
    {
     "data": {
      "text/plain": [
       "(2, 3, 4)"
      ]
     },
     "execution_count": 94,
     "metadata": {},
     "output_type": "execute_result"
    }
   ],
   "source": [
    "c.shape"
   ]
  },
  {
   "attachments": {},
   "cell_type": "markdown",
   "metadata": {},
   "source": [
    "First, we can get row-wise, column-wise, and \"layer\"-wise summaries, according to the same principle as with a two-dimensional array (see {ref}`numpy-summaries-per-dimension-2d`). We just need to \"eliminate\" two out of three dimensions, rather than one of two dimensions. In this case, the `axis` argument is a `tuple` of length two:"
   ]
  },
  {
   "cell_type": "code",
   "execution_count": 95,
   "metadata": {},
   "outputs": [
    {
     "data": {
      "text/plain": [
       "array([ 78, 222])"
      ]
     },
     "execution_count": 95,
     "metadata": {},
     "output_type": "execute_result"
    }
   ],
   "source": [
    "np.sum(c, axis=(1, 2))  ## \"Layer\" sums"
   ]
  },
  {
   "cell_type": "code",
   "execution_count": 96,
   "metadata": {},
   "outputs": [
    {
     "data": {
      "text/plain": [
       "array([ 68, 100, 132])"
      ]
     },
     "execution_count": 96,
     "metadata": {},
     "output_type": "execute_result"
    }
   ],
   "source": [
    "np.sum(c, axis=(0, 2))  ## Row sums"
   ]
  },
  {
   "cell_type": "code",
   "execution_count": 97,
   "metadata": {},
   "outputs": [
    {
     "data": {
      "text/plain": [
       "array([66, 72, 78, 84])"
      ]
     },
     "execution_count": 97,
     "metadata": {},
     "output_type": "execute_result"
    }
   ],
   "source": [
    "np.sum(c, axis=(0, 1))  ## Column sums"
   ]
  },
  {
   "attachments": {},
   "cell_type": "markdown",
   "metadata": {},
   "source": [
    "Second, eliminating one out of three dimensions results in summaries of the two remaining dimensions, which is a little more confusing. Overall, there are three possible combinations of dimension \"pairs\": \n",
    "\n",
    "* `axis=0`—*row-column* summaries\n",
    "* `axis=1`—*column-layer* summaries \n",
    "* `axis=2`—*row-layer* summaries"
   ]
  },
  {
   "attachments": {},
   "cell_type": "markdown",
   "metadata": {},
   "source": [
    " For our purposes in this book, the only useful combination is *row-column* summaries. In raster terminology, row-column summaries refer to \"cell\", or \"pixel\", summaries (see {ref}`summarizing-values`). To get row-column summaries, we eliminate the layer dimension:"
   ]
  },
  {
   "cell_type": "code",
   "execution_count": 98,
   "metadata": {},
   "outputs": [
    {
     "data": {
      "text/plain": [
       "array([[14, 16, 18, 20],\n",
       "       [22, 24, 26, 28],\n",
       "       [30, 32, 34, 36]])"
      ]
     },
     "execution_count": 98,
     "metadata": {},
     "output_type": "execute_result"
    }
   ],
   "source": [
    "np.sum(c, axis=0)  ## Row and column (i.e., \"pixel\") sums"
   ]
  },
  {
   "attachments": {},
   "cell_type": "markdown",
   "metadata": {},
   "source": [
    "(numpy-nodata)=\n",
    "## Working with missing data (`numpy`)"
   ]
  },
  {
   "attachments": {},
   "cell_type": "markdown",
   "metadata": {},
   "source": [
    "(no-data-representation)=\n",
    "### \"No Data\" representation"
   ]
  },
  {
   "attachments": {},
   "cell_type": "markdown",
   "metadata": {},
   "source": [
    "Missing values in a `numpy` array are typically represented using `np.nan` (\"not a number\"), which is a special type of a float value in `numpy`. For example:"
   ]
  },
  {
   "cell_type": "code",
   "execution_count": 99,
   "metadata": {},
   "outputs": [
    {
     "data": {
      "text/plain": [
       "array([ 1., nan,  3.])"
      ]
     },
     "execution_count": 99,
     "metadata": {},
     "output_type": "execute_result"
    }
   ],
   "source": [
    "x = np.array([1, np.nan, 3])\n",
    "x"
   ]
  },
  {
   "attachments": {},
   "cell_type": "markdown",
   "metadata": {},
   "source": [
    "Due to the way that numbers are stored in [computer memory](https://en.wikipedia.org/wiki/NaN#Integer_NaN), `np.nan` can only be accommodated in `float` arrays. This leads to the inconvenience that `int` arrays cannot store \"No Data\" values in any straightforward way. Accordingly, for example, an `int` array that contains `np.nan` is automatically \"promoted\" to a `float` array, which is why, for instance, `x` turns out to be a `float` array:"
   ]
  },
  {
   "cell_type": "code",
   "execution_count": 100,
   "metadata": {},
   "outputs": [
    {
     "data": {
      "text/plain": [
       "dtype('float64')"
      ]
     },
     "execution_count": 100,
     "metadata": {},
     "output_type": "execute_result"
    }
   ],
   "source": [
    "x.dtype"
   ]
  },
  {
   "attachments": {},
   "cell_type": "markdown",
   "metadata": {},
   "source": [
    "(numpy-operations-with-nodata)=\n",
    "### Operations with \"No Data\""
   ]
  },
  {
   "attachments": {},
   "cell_type": "markdown",
   "metadata": {},
   "source": [
    "`np.nan` values are \"contagious\" in arithmetic operations. Namely, when one or more of the inputs is missing, the result of the operation is also going to be `np.nan`. For example, adding any number to `np.nan` results in `np.nan`, reflecting the fact that the sum is unknown:"
   ]
  },
  {
   "cell_type": "code",
   "execution_count": 101,
   "metadata": {},
   "outputs": [
    {
     "data": {
      "text/plain": [
       "nan"
      ]
     },
     "execution_count": 101,
     "metadata": {},
     "output_type": "execute_result"
    }
   ],
   "source": [
    "np.nan + 4"
   ]
  },
  {
   "attachments": {},
   "cell_type": "markdown",
   "metadata": {},
   "source": [
    "Similarly, a global sum of an array that contains one (or more) `np.nan` is also `np.nan`:"
   ]
  },
  {
   "cell_type": "code",
   "execution_count": 102,
   "metadata": {},
   "outputs": [
    {
     "data": {
      "text/plain": [
       "nan"
      ]
     },
     "execution_count": 102,
     "metadata": {},
     "output_type": "execute_result"
    }
   ],
   "source": [
    "np.sum(x)"
   ]
  },
  {
   "attachments": {},
   "cell_type": "markdown",
   "metadata": {},
   "source": [
    "We can use the special \"No Data\"-safe versions of summary functions ({numref}`numpy-summary-functions`) to apply the respective function on the *non-missing* elements of the array. For example, the following expression uses `np.nansum` to calculate the sum of non-missing elements in `x`, which is equal to `4`:"
   ]
  },
  {
   "cell_type": "code",
   "execution_count": 103,
   "metadata": {},
   "outputs": [
    {
     "data": {
      "text/plain": [
       "4.0"
      ]
     },
     "execution_count": 103,
     "metadata": {},
     "output_type": "execute_result"
    }
   ],
   "source": [
    "np.nansum(x)"
   ]
  },
  {
   "attachments": {},
   "cell_type": "markdown",
   "metadata": {},
   "source": [
    "```{admonition} Exercise 04-e\n",
    ":class: important\n",
    "* How can you insert a \"No Data\" (i.e., `np.nan`) value into the 1<sup>st</sup> layer, 2<sup>nd</sup> row, 3<sup>rd</sup> column of `c`? \n",
    "* Keep in mind that `int` arrays cannot contain `np.nan`!\n",
    "```"
   ]
  },
  {
   "attachments": {},
   "cell_type": "markdown",
   "metadata": {},
   "source": [
    "Perhaps unintuitively, conditional operators with `np.nan` always return `False` (even though the result is actually unknown):"
   ]
  },
  {
   "cell_type": "code",
   "execution_count": 104,
   "metadata": {},
   "outputs": [
    {
     "data": {
      "text/plain": [
       "False"
      ]
     },
     "execution_count": 104,
     "metadata": {},
     "output_type": "execute_result"
    }
   ],
   "source": [
    "np.nan > 0"
   ]
  },
  {
   "cell_type": "code",
   "execution_count": 105,
   "metadata": {},
   "outputs": [
    {
     "data": {
      "text/plain": [
       "array([ True, False,  True])"
      ]
     },
     "execution_count": 105,
     "metadata": {},
     "output_type": "execute_result"
    }
   ],
   "source": [
    "x > 0"
   ]
  },
  {
   "attachments": {},
   "cell_type": "markdown",
   "metadata": {},
   "source": [
    "The exception is inequality (`!=`), which combined with `np.nan` always returns `True`:"
   ]
  },
  {
   "cell_type": "code",
   "execution_count": 106,
   "metadata": {},
   "outputs": [
    {
     "data": {
      "text/plain": [
       "True"
      ]
     },
     "execution_count": 106,
     "metadata": {},
     "output_type": "execute_result"
    }
   ],
   "source": [
    "np.nan != 10"
   ]
  },
  {
   "attachments": {},
   "cell_type": "markdown",
   "metadata": {},
   "source": [
    "The implication is that operations such as array subsetting based on conditions (see {ref}`using-masks-for-subsetting`), or counting the elements which satisfy a particular condition (see {ref}`numpy-global-summaries`), typically *ignore* `np.nan` values:"
   ]
  },
  {
   "cell_type": "code",
   "execution_count": 107,
   "metadata": {},
   "outputs": [
    {
     "data": {
      "text/plain": [
       "array([1., 3.])"
      ]
     },
     "execution_count": 107,
     "metadata": {},
     "output_type": "execute_result"
    }
   ],
   "source": [
    "x[x > 0]"
   ]
  },
  {
   "cell_type": "code",
   "execution_count": 108,
   "metadata": {},
   "outputs": [
    {
     "data": {
      "text/plain": [
       "2"
      ]
     },
     "execution_count": 108,
     "metadata": {},
     "output_type": "execute_result"
    }
   ],
   "source": [
    "np.sum(x > 0)"
   ]
  },
  {
   "attachments": {},
   "cell_type": "markdown",
   "metadata": {},
   "source": [
    "```{admonition} Exercise 04-f\n",
    ":class: important\n",
    "* Calculte \"cell\" sums in the modified array `c`, with and without ignoring \"No Data\" values.\n",
    "```"
   ]
  },
  {
   "attachments": {},
   "cell_type": "markdown",
   "metadata": {},
   "source": [
    "(numpy-detecting-nodata)=\n",
    "### Detecting \"No Data\" (`np.isnan`)"
   ]
  },
  {
   "attachments": {},
   "cell_type": "markdown",
   "metadata": {},
   "source": [
    "\"No Data\" values can be detected using the [`np.isnan`](https://numpy.org/doc/stable/reference/generated/numpy.isnan.html) function. Given an input array, `np.isnan` returns a corresponding boolean array, where `np.nan` are marked as `True`, and valid values are marked as `False`. For example:"
   ]
  },
  {
   "cell_type": "code",
   "execution_count": 109,
   "metadata": {},
   "outputs": [
    {
     "data": {
      "text/plain": [
       "array([False,  True, False])"
      ]
     },
     "execution_count": 109,
     "metadata": {},
     "output_type": "execute_result"
    }
   ],
   "source": [
    "np.isnan(x)"
   ]
  },
  {
   "attachments": {},
   "cell_type": "markdown",
   "metadata": {},
   "source": [
    "To detect values that are *not* missing, we can reverse the output of `np.isnan` using the negation operator `~` (see {numref}`logical-ops`):"
   ]
  },
  {
   "cell_type": "code",
   "execution_count": 110,
   "metadata": {},
   "outputs": [
    {
     "data": {
      "text/plain": [
       "array([ True, False,  True])"
      ]
     },
     "execution_count": 110,
     "metadata": {},
     "output_type": "execute_result"
    }
   ],
   "source": [
    "~np.isnan(x)"
   ]
  },
  {
   "attachments": {},
   "cell_type": "markdown",
   "metadata": {},
   "source": [
    "(numpy-reading-from-file)=\n",
    "## Reading array from file"
   ]
  },
  {
   "attachments": {},
   "cell_type": "markdown",
   "metadata": {},
   "source": [
    "In addition to creating an array from an existing Python object such as a `list` (see {ref}`numpy-from-list`), or creating an array with consecutive or sequential values (see, for example, {ref}`using-np-arange`), we can read array data from files on disk. For example, the `numpy` package contains a function named [`np.genfromtxt`](https://numpy.org/doc/stable/reference/generated/numpy.genfromtxt.html), which can be used to read an array from a plain text file, such as a CSV file. "
   ]
  },
  {
   "attachments": {},
   "cell_type": "markdown",
   "metadata": {},
   "source": [
    "The first argument of `np.genfromtxt` is the text file path, which is mandatory. The `np.genfromtxt` function has many other, optional, parameters, to accommodate reading from various text file formats, such as specifying the delimiting character, i.e., the character which is used to separate columns (`delimiter`), whether there are header rows, such as column names, to be skipped (`skip_header`), and so on. "
   ]
  },
  {
   "attachments": {},
   "cell_type": "markdown",
   "metadata": {},
   "source": [
    "The following expression demonstrates reading array data from a CSV file without a header:"
   ]
  },
  {
   "cell_type": "code",
   "execution_count": 111,
   "metadata": {},
   "outputs": [
    {
     "data": {
      "text/plain": [
       "array([[nan, nan, nan, ..., nan, nan, nan],\n",
       "       [nan, nan, nan, ..., nan, nan, nan],\n",
       "       [nan, nan, nan, ..., nan, nan, nan],\n",
       "       ...,\n",
       "       [nan, nan, nan, ..., nan, nan, nan],\n",
       "       [nan, nan, nan, ..., nan, nan, nan],\n",
       "       [nan, nan, nan, ..., nan, nan, nan]])"
      ]
     },
     "execution_count": 111,
     "metadata": {},
     "output_type": "execute_result"
    }
   ],
   "source": [
    "m = np.genfromtxt('data/carmel.csv', delimiter=',')\n",
    "m"
   ]
  },
  {
   "attachments": {},
   "cell_type": "markdown",
   "metadata": {},
   "source": [
    "The `carmel.csv` matrix represents a Digital Elevation Model (DEM) of the area around Haifa. Note that: \n",
    "\n",
    "* `'data/carmel.csv'` is the file path to the `carmel.csv` file, which is included in the book sample data (see {ref}`sample-data`). Recall that this is a relative path (see {ref}`file-paths`) to the sub-directory named `data`. This means that, for the expression to work, you need to have the `carmel.csv` file inside a sub-directory named `data`, relative to the directory where the notebook is.\n",
    "* This is a CSV file, which is why we use `delimiter=','` (open the file in a spreadsheet software, such as Excel, to get a sense of its contents)."
   ]
  },
  {
   "attachments": {},
   "cell_type": "markdown",
   "metadata": {},
   "source": [
    "Later on, we will learn how to turn this array into a spatial raster (see {ref}`creating-raster-from-array`)."
   ]
  },
  {
   "attachments": {},
   "cell_type": "markdown",
   "metadata": {},
   "source": [
    "To keep track of the calculations, it may be easier to start with a smaller array. The `'carmel_lowres.csv'` file also contains a DEM of the area around Haifa, but at much coarser resolution and therefore much smaller dimensions:"
   ]
  },
  {
   "cell_type": "code",
   "execution_count": 112,
   "metadata": {},
   "outputs": [
    {
     "data": {
      "text/plain": [
       "array([[ nan,  nan,  nan,  nan,  nan,   3.,   3.],\n",
       "       [ nan,  nan,  nan,  nan,   4.,   6.,   4.],\n",
       "       [ nan,  nan,  nan,  nan,   6.,   9.,   7.],\n",
       "       [ nan,  61.,   9.,   4.,   9.,  10.,  16.],\n",
       "       [ nan, 106., 132.,  11.,   6.,   6.,  27.],\n",
       "       [ nan,  47., 254., 146.,   6.,   6.,  12.],\n",
       "       [ nan,  31., 233., 340., 163.,  13.,  64.],\n",
       "       [  3.,  39., 253., 383., 448., 152.,  39.],\n",
       "       [  5.,  32., 199., 357., 414., 360.,  48.],\n",
       "       [  7.,  49., 179., 307., 403., 370.,  55.]])"
      ]
     },
     "execution_count": 112,
     "metadata": {},
     "output_type": "execute_result"
    }
   ],
   "source": [
    "m = np.genfromtxt('data/carmel_lowres.csv', delimiter=',')\n",
    "m"
   ]
  },
  {
   "attachments": {},
   "cell_type": "markdown",
   "metadata": {},
   "source": [
    "We will use the smaller array to demonstrate array plotting (see {ref}`plotting-arrays`). Afterwards, you can try the same operations with the larger array."
   ]
  },
  {
   "attachments": {},
   "cell_type": "markdown",
   "metadata": {},
   "source": [
    "```{note}\n",
    "Unlike in the examples in this section, the first row in CSV files is usually the *header*, specifying the column names. However, the header is irrelevant when importing the CSV file into a `numpy` array, as a `numpy` array does not have column (or row) names. Therefore, when reading a CSV file with a header, it should be skipped using `skip_header=1` (i.e., skip the first line) in `np.genfromtxt`.\n",
    "```"
   ]
  },
  {
   "attachments": {},
   "cell_type": "markdown",
   "metadata": {},
   "source": [
    "```{note}\n",
    "To *write* a `numpy` array to a CSV file, you can use the [`np.savetxt`](https://numpy.org/doc/stable/reference/generated/numpy.savetxt.html) function, in an expression such as `np.savetxt('m.csv',m,fmt='%.6f',delimiter=',',header='x,y,z',comments='')`, where:\n",
    "\n",
    "* `'m.csv'` is the CSV file name\n",
    "* `m` is the array object to be writted\n",
    "* `fmt='%.6f'` specifies the format, such as `'%.6f'` for floats with 6 digits\n",
    "* `delimiter=','` specifies the CSV delimiter, i.e., a comma\n",
    "* `header='x,y,z'` and `comments=''` should be used in case you want the first row in the CSV to contain a header with comma-separated column names (such as `x,y,z` for a CSV file with three columns named `x`, `y`, and `z`)\n",
    "```"
   ]
  },
  {
   "attachments": {},
   "cell_type": "markdown",
   "metadata": {},
   "source": [
    "(plotting-arrays)=\n",
    "## Plotting (`numpy`)"
   ]
  },
  {
   "attachments": {},
   "cell_type": "markdown",
   "metadata": {},
   "source": [
    "(matplotlib)=\n",
    "### The `matplotlib` package"
   ]
  },
  {
   "attachments": {},
   "cell_type": "markdown",
   "metadata": {},
   "source": [
    "Sometimes visualizing array values can be more informative and instructive than any numeric summary. For example, we may wish to: \n",
    "\n",
    "* Summarize array values in the form of {ref}`numpy-hist`\n",
    "* Display one- or two-dimensional array values in the form of {ref}`numpy-line-plot`\n",
    "* Display two-dimensional array values in the form of {ref}`numpy-images`"
   ]
  },
  {
   "attachments": {},
   "cell_type": "markdown",
   "metadata": {},
   "source": [
    "The most established and widely used third-party Python package for data visualization, of arrays or other types of data, is `matplotlib`. To use `matplotlib`, we need to import it. More specifically, we import the `pyplot` sub-package (see {ref}`loading-packages`), which is the simpler interface of `matplotlib`, renaming it to `plt` for convenience:"
   ]
  },
  {
   "cell_type": "code",
   "execution_count": 113,
   "metadata": {},
   "outputs": [],
   "source": [
    "import matplotlib.pyplot as plt"
   ]
  },
  {
   "attachments": {},
   "cell_type": "markdown",
   "metadata": {},
   "source": [
    "Visualization in Python is a large topic. Hereby we only introduce the most basic methods for a \"first impression\" of the data. Keep in mind that `matplotlib` is can be used in more advanced ways to produce customized publication-quality figures ({numref}`book-matplotlib`)."
   ]
  },
  {
   "attachments": {},
   "cell_type": "markdown",
   "metadata": {},
   "source": [
    "```{figure} images/book_matplotlib.png\n",
    "---\n",
    "name: book-matplotlib\n",
    "---\n",
    "`matplotlib` quick reference, from the [*Scientific Visualization: Python + Matplotlib*](https://github.com/rougier/scientific-visualization-book) book.\n",
    "```"
   ]
  },
  {
   "attachments": {},
   "cell_type": "markdown",
   "metadata": {},
   "source": [
    "```{note}\n",
    "[*Scientific Visualization: Python + Matplotlib*](https://github.com/rougier/scientific-visualization-book) is a recommended book about advanced plotting methods using the `matplotlib` package ({numref}`book-matplotlib`). It is can be downloaded as [PDF](https://hal.inria.fr/hal-03427242/document). The [official web page](https://matplotlib.org/) of `matplotlib` is also a good starting point to learn about the package.\n",
    "```"
   ]
  },
  {
   "attachments": {},
   "cell_type": "markdown",
   "metadata": {},
   "source": [
    "(numpy-hist)=\n",
    "### Histograms (`numpy`)"
   ]
  },
  {
   "attachments": {},
   "cell_type": "markdown",
   "metadata": {},
   "source": [
    "To make a histogram showing the distribution of a `numpy` array, we first need to \"collect\" them into one long on-dimensional array using the `flatten` method (see {ref}`numpy-to-one-dimensional`):"
   ]
  },
  {
   "cell_type": "code",
   "execution_count": 114,
   "metadata": {},
   "outputs": [
    {
     "data": {
      "text/plain": [
       "array([ nan,  nan,  nan,  nan,  nan,   3.,   3.,  nan,  nan,  nan,  nan,\n",
       "         4.,   6.,   4.,  nan,  nan,  nan,  nan,   6.,   9.,   7.,  nan,\n",
       "        61.,   9.,   4.,   9.,  10.,  16.,  nan, 106., 132.,  11.,   6.,\n",
       "         6.,  27.,  nan,  47., 254., 146.,   6.,   6.,  12.,  nan,  31.,\n",
       "       233., 340., 163.,  13.,  64.,   3.,  39., 253., 383., 448., 152.,\n",
       "        39.,   5.,  32., 199., 357., 414., 360.,  48.,   7.,  49., 179.,\n",
       "       307., 403., 370.,  55.])"
      ]
     },
     "execution_count": 114,
     "metadata": {},
     "output_type": "execute_result"
    }
   ],
   "source": [
    "v = m.flatten()\n",
    "v"
   ]
  },
  {
   "attachments": {},
   "cell_type": "markdown",
   "metadata": {},
   "source": [
    "Then, the one-dimensional array can be passed to the [`plt.hist`](https://matplotlib.org/stable/api/_as_gen/matplotlib.pyplot.hist.html) function to produce a histogram:"
   ]
  },
  {
   "cell_type": "code",
   "execution_count": 115,
   "metadata": {},
   "outputs": [
    {
     "data": {
      "image/png": "[encoded data removed]",
      "text/plain": [
       "<Figure size 600x600 with 1 Axes>"
      ]
     },
     "metadata": {},
     "output_type": "display_data"
    }
   ],
   "source": [
    "plt.hist(v);"
   ]
  },
  {
   "attachments": {},
   "cell_type": "markdown",
   "metadata": {},
   "source": [
    "```{note}\n",
    "The `;` at the end of a `matplotlib` expression is an IPython [trick](https://stackoverflow.com/questions/25790062/how-to-hide-matplotlib-lines-line2d-in-ipython-notebook) to avoid printing textual data along with the plot. (Try removing it and re-running the cell to see the unwanted textual output.)\n",
    "```"
   ]
  },
  {
   "attachments": {},
   "cell_type": "markdown",
   "metadata": {},
   "source": [
    "(numpy-line-plot)=\n",
    "### Line plots (`numpy`)"
   ]
  },
  {
   "attachments": {},
   "cell_type": "markdown",
   "metadata": {},
   "source": [
    "A one-dimensional array can be passed to the [`plt.plot`](https://matplotlib.org/stable/api/_as_gen/matplotlib.pyplot.plot.html) function to display the array values in a line plot, where the x-axis values are array indices, and y-axis values are the array values. For example, the `plt.plot` can be used to display a \"profile\" or \"slice\" of a given array, along a specific row:"
   ]
  },
  {
   "cell_type": "code",
   "execution_count": 116,
   "metadata": {},
   "outputs": [
    {
     "data": {
      "image/png": "[encoded data removed]",
      "text/plain": [
       "<Figure size 600x600 with 1 Axes>"
      ]
     },
     "metadata": {},
     "output_type": "display_data"
    }
   ],
   "source": [
    "plt.plot(m[7, :]);"
   ]
  },
  {
   "attachments": {},
   "cell_type": "markdown",
   "metadata": {},
   "source": [
    "or along a specific column:"
   ]
  },
  {
   "cell_type": "code",
   "execution_count": 117,
   "metadata": {},
   "outputs": [
    {
     "data": {
      "image/png": "[encoded data removed]",
      "text/plain": [
       "<Figure size 600x600 with 1 Axes>"
      ]
     },
     "metadata": {},
     "output_type": "display_data"
    }
   ],
   "source": [
    "plt.plot(m[:, 4]);"
   ]
  },
  {
   "attachments": {},
   "cell_type": "markdown",
   "metadata": {},
   "source": [
    "A two-dimensional array can also be passed to `plt.plot`, in which case each array *column* is plotted as a separate series. For example, the following plot displays the seven columns in `m`, i.e., seven north-south elevation profiles: "
   ]
  },
  {
   "cell_type": "code",
   "execution_count": 118,
   "metadata": {},
   "outputs": [
    {
     "data": {
      "image/png": "[encoded data removed]",
      "text/plain": [
       "<Figure size 600x600 with 1 Axes>"
      ]
     },
     "metadata": {},
     "output_type": "display_data"
    }
   ],
   "source": [
    "plt.plot(m);"
   ]
  },
  {
   "attachments": {},
   "cell_type": "markdown",
   "metadata": {},
   "source": [
    "(numpy-images)=\n",
    "### Images (`numpy`)"
   ]
  },
  {
   "attachments": {},
   "cell_type": "markdown",
   "metadata": {},
   "source": [
    "To display the information of a two-dimensional array all at once, we can to encode the array values into a visual property, such as color. The result is an image, also known as a heatmap. The [`plt.imshow`](https://matplotlib.org/stable/api/_as_gen/matplotlib.pyplot.imshow.html) (short for \"image show\") function can be used to produce an image of a two-dimensional array:"
   ]
  },
  {
   "cell_type": "code",
   "execution_count": 119,
   "metadata": {},
   "outputs": [
    {
     "data": {
      "image/png": "[encoded data removed]",
      "text/plain": [
       "<Figure size 600x600 with 1 Axes>"
      ]
     },
     "metadata": {},
     "output_type": "display_data"
    }
   ],
   "source": [
    "plt.imshow(m);"
   ]
  },
  {
   "attachments": {},
   "cell_type": "markdown",
   "metadata": {},
   "source": [
    "Since `m` is an array representing a Digital Elevation Model, this image is actually an elevation map of the area that this array represents."
   ]
  },
  {
   "attachments": {},
   "cell_type": "markdown",
   "metadata": {},
   "source": [
    "## Beyond `numpy`"
   ]
  },
  {
   "attachments": {},
   "cell_type": "markdown",
   "metadata": {},
   "source": [
    "`numpy` is a fundamental Python package, with many other packages for data analysis, scientific computing, and statistics depending on it. Notable packages depending on `numpy` include:\n",
    "\n",
    "* [`pandas`](https://pandas.pydata.org/)—For working with tables\n",
    "* [`scipy`](https://scipy.org/)—For scientific computations\n",
    "* [`scikit-learn`](https://scikit-learn.org/)—For statistical analysis and machine learning"
   ]
  },
  {
   "attachments": {},
   "cell_type": "markdown",
   "metadata": {},
   "source": [
    "We are going to cover `pandas` in the next two chapters (see {ref}`pandas1` and {ref}`pandas2`). Towards the end of the book we are going to breifly use `scipy` to apply a focal filter over a raster (see {ref}`focal-filtering`). "
   ]
  },
  {
   "attachments": {},
   "cell_type": "markdown",
   "metadata": {},
   "source": [
    "The `scikit-learn` package is beyond the scope of this book, however there are many resources online (<https://scikit-learn.org/stable/>) and in print. In case you are going to do statistical analysis or machine learning in Python, `scikit-learn` is the recommended starting point."
   ]
  },
  {
   "attachments": {},
   "cell_type": "markdown",
   "metadata": {},
   "source": [
    "(exercise-numpy)=\n",
    "## More exercises"
   ]
  },
  {
   "cell_type": "markdown",
   "metadata": {},
   "source": [
    "```{admonition} Exercise 04-g\n",
    ":class: important\n",
    "* Calculate a $10\\times 10$ array which contains the multiplication table (as shown below). Hint: create a \"template\" array of the right shape (with uniform values such as `0`), then use a nested `for` loop (see {ref}`for-loops`) to populate it with the correct values.\n",
    "* Next, make your code general enough so that it can produce a multiplication table of any size, specified by a parameter named `s` in the beginning of the code. For example, `s=10` should result in the $10\\times 10$ multiplication table shown below, `s=5` should result in a $5\\times 5$ multiplication table, and so on.\n",
    "\n",
    "```text\n",
    "array([[  1,   2,   3,   4,   5,   6,   7,   8,   9,  10],\n",
    "       [  2,   4,   6,   8,  10,  12,  14,  16,  18,  20],\n",
    "       [  3,   6,   9,  12,  15,  18,  21,  24,  27,  30],\n",
    "       [  4,   8,  12,  16,  20,  24,  28,  32,  36,  40],\n",
    "       [  5,  10,  15,  20,  25,  30,  35,  40,  45,  50],\n",
    "       [  6,  12,  18,  24,  30,  36,  42,  48,  54,  60],\n",
    "       [  7,  14,  21,  28,  35,  42,  49,  56,  63,  70],\n",
    "       [  8,  16,  24,  32,  40,  48,  56,  64,  72,  80],\n",
    "       [  9,  18,  27,  36,  45,  54,  63,  72,  81,  90],\n",
    "       [ 10,  20,  30,  40,  50,  60,  70,  80,  90, 100]])\n",
    "```"
   ]
  },
  {
   "attachments": {},
   "cell_type": "markdown",
   "metadata": {},
   "source": [
    "```{admonition} Exercise 04-h\n",
    ":class: important\n",
    "* Read the `carmel.csv` file into a `numpy` array (see {ref}`numpy-reading-from-file`).\n",
    "* Find the minimum, maximum, and average elevation value in the Carmel area, according to the `carmel.csv` array, excluding \"No Data\" values (answer: `-14.0`, `541.0`, and `124.06`, respectively).\n",
    "* Calculate and plot a new array where \"No Data\" values are flagged by `1`, and any other value is flagged by `0` ({numref}`exercise-04-h1`).\n",
    "* Calculate the *proportion* of missing values in the array (answer: `0.53`).\n",
    "* Calculate and plot the average column and row \"profiles\" of the Carmel DEM, by calculating a 1D array of *column* means, and a 1D array of *row* means, respectively ({numref}`exercise-04-h2`).\n",
    "```"
   ]
  },
  {
   "attachments": {},
   "cell_type": "markdown",
   "metadata": {},
   "source": [
    "```{glue:figure} exercise-04-h1\n",
    "---\n",
    "name: exercise-04-h1\n",
    "---\n",
    "Solution of exercise-04-h1: \"No Data\" values in `carmel.csv`\n",
    "```"
   ]
  },
  {
   "attachments": {},
   "cell_type": "markdown",
   "metadata": {},
   "source": [
    "```{glue:figure} exercise-04-h2\n",
    "---\n",
    "name: exercise-04-h2\n",
    "---\n",
    "Solution of exercise-04-h2: Column and row means of `carmel.csv`\n",
    "```"
   ]
  },
  {
   "attachments": {},
   "cell_type": "markdown",
   "metadata": {},
   "source": [
    "## Exercise solutions"
   ]
  },
  {
   "cell_type": "code",
   "execution_count": 120,
   "metadata": {
    "tags": [
     "remove-cell"
    ]
   },
   "outputs": [],
   "source": [
    "from myst_nb import glue"
   ]
  },
  {
   "attachments": {},
   "cell_type": "markdown",
   "metadata": {},
   "source": [
    "### Exercise 04-g"
   ]
  },
  {
   "cell_type": "code",
   "execution_count": 1,
   "metadata": {
    "tags": []
   },
   "outputs": [
    {
     "data": {
      "text/plain": [
       "array([[  1,   2,   3,   4,   5,   6,   7,   8,   9,  10],\n",
       "       [  2,   4,   6,   8,  10,  12,  14,  16,  18,  20],\n",
       "       [  3,   6,   9,  12,  15,  18,  21,  24,  27,  30],\n",
       "       [  4,   8,  12,  16,  20,  24,  28,  32,  36,  40],\n",
       "       [  5,  10,  15,  20,  25,  30,  35,  40,  45,  50],\n",
       "       [  6,  12,  18,  24,  30,  36,  42,  48,  54,  60],\n",
       "       [  7,  14,  21,  28,  35,  42,  49,  56,  63,  70],\n",
       "       [  8,  16,  24,  32,  40,  48,  56,  64,  72,  80],\n",
       "       [  9,  18,  27,  36,  45,  54,  63,  72,  81,  90],\n",
       "       [ 10,  20,  30,  40,  50,  60,  70,  80,  90, 100]])"
      ]
     },
     "execution_count": 1,
     "metadata": {},
     "output_type": "execute_result"
    }
   ],
   "source": [
    "import numpy as np\n",
    "# Shape (e.g., 10 for '10*10')\n",
    "s = 10\n",
    "# Create \"template\"\n",
    "x = np.tile(0, s**2)\n",
    "x = x.reshape((s, s))\n",
    "# Calculate i*j\n",
    "for i in np.arange(x.shape[0]):\n",
    "    for j in np.arange(x.shape[1]):\n",
    "        x[i,j] = (i+1)*(j+1)\n",
    "# Print\n",
    "x"
   ]
  },
  {
   "attachments": {},
   "cell_type": "markdown",
   "metadata": {},
   "source": [
    "### Exercise 04-h"
   ]
  },
  {
   "cell_type": "code",
   "execution_count": 123,
   "metadata": {
    "tags": []
   },
   "outputs": [
    {
     "data": {
      "text/plain": [
       "-14.0"
      ]
     },
     "execution_count": 123,
     "metadata": {},
     "output_type": "execute_result"
    }
   ],
   "source": [
    "import matplotlib.pyplot as plt\n",
    "m = np.genfromtxt('data/carmel.csv', delimiter=',')\n",
    "np.nanmin(m)"
   ]
  },
  {
   "cell_type": "code",
   "execution_count": 124,
   "metadata": {
    "tags": []
   },
   "outputs": [
    {
     "data": {
      "text/plain": [
       "541.0"
      ]
     },
     "execution_count": 124,
     "metadata": {},
     "output_type": "execute_result"
    }
   ],
   "source": [
    "np.nanmax(m)"
   ]
  },
  {
   "cell_type": "code",
   "execution_count": 125,
   "metadata": {
    "tags": []
   },
   "outputs": [],
   "source": [
    "m1 = np.isnan(m)\n",
    "plt.imshow(m1);"
   ]
  },
  {
   "cell_type": "code",
   "execution_count": 127,
   "metadata": {
    "tags": [
     "remove-cell"
    ]
   },
   "outputs": [
    {
     "data": {
      "application/papermill.record/image/png": "iVBORw0KGgoAAAANSUhEUgAAAcIAAAH+CAYAAAAPoA6TAAAAOXRFWHRTb2Z0d2FyZQBNYXRwbG90bGliIHZlcnNpb24zLjcuMiwgaHR0cHM6Ly9tYXRwbG90bGliLm9yZy8pXeV/AAAACXBIWXMAAA9hAAAPYQGoP6dpAAA4BklEQVR4nO3de3hT9eHH8U96pReSUqAtnQVBuVgFVNAS0W1KR0V0OnGKQ2WOyU8sTARveAF1zjp06nAKXkE3kakbTFFQLLNeKAWqKHdBqq1CWhDatIXekvP7wxEJF21L2pPkvF/Pc57HnvNN8snXwoeTnIvNMAxDAABYVITZAQAAMBNFCACwNIoQAGBpFCEAwNIoQgCApVGEAABLowgBAJZGEQIALI0iBABYGkUIALA0U4vwiSee0PHHH68OHTooKytLq1atMjMOAMCCTCvCf/7zn5oyZYpmzJihjz/+WAMHDlROTo4qKirMigQAsCCbWRfdzsrK0hlnnKG//e1vkiSv16uMjAxNmjRJt99++w8+1uv1aseOHerYsaNsNlt7xAUAhBjDMFRdXa309HRFRBx9vy+qHTP5NDQ0qLi4WNOmTfOti4iIUHZ2tgoLCw8bX19fr/r6et/P33zzjTIzM9slKwAgtJWVlem444476nZTinD37t3yeDxKTU31W5+amqrNmzcfNj4vL0/33nvvYeu/+vh42RM53gdA8Hiuqpv+9tYFZsfwsXml4//0sYymJrOjBNSuBX304en/+sEx7hqvepz+pTp27PiD40wpwpaaNm2apkyZ4vvZ7XYrIyND9sQI2TtShACO3eC7J8jxZcMxP0/Mt/t14tpPApAokGySLdrsEAEVGR/b7L//f+wrNFOKsEuXLoqMjFR5ebnf+vLycqWlpR02PjY2VrGxse0VD4DFPL63h1IKXPJsKznm5/IGIA/alym7UzExMRo0aJDy8/N967xer/Lz8+V0Os2IBMDCZs8fGZASRGgy7aPRKVOmaOzYsRo8eLDOPPNMPfbYY6qtrdW1115rViQAFtWUYEgRkZLXY3YUmMC0Irziiiu0a9cuTZ8+XS6XS6eeeqqWLl162AE0ANDWxows0Kpnequp5Cuzo8AEph4sM3HiRE2cONHMCACgf77yc2WUrDA7BkzCIZcALMtjeDWo+HIdP+fw07ZgHSFx+gQAtIXNjfXqcvEX8vDdoKWxRwjAsi79+xQOkAFFCMC6zv7FOonrFVseRQjAskpvPlEy574DCCIUIQDA0ihCAIClUYQAAEujCAFYUp+CsYrewJVkQBECsCjbtnh59u41OwaCAEUIALA0ihCA5dxWfqpOeLH8xwfCEihCAJbSaHj0StGZ8mzdbnYUBAmKEICllHv2q++ktWbHQBChCAFYykUzb5XR2GB2DAQRihCApSRtpQThjyIEAFgaRQgAsDSKEABgaRQhAMs4d8PFit/oMjsGAiBxnkOfN9YG5LkoQgCWUfZpNzWVfW12DARA/MIiuTwJAXkuihCAJXxU51Xnz7gbPQ5HEQKwhGibR55os1MgGFGEACzh+KgG7U9ljxCHowgBWMLdO7N13AMrzI6BIEQRAgh7+7wN2vDnAWbHQJCiCAGEvUZ51HHperNjIEhRhAAAS6MIAYS9fV6P2REQxChCAGHv0ttvlrc2MFchQfihCAGEvch6w+wICGIUIYCwd8GM9xTRoYPZMRCkKEIAYS83ea0UGWl2DAQpihAAYGkUIQDA0ihCAIClUYQAAEujCAGEvZ/NnCrvvn1mx0CQoggBhLXH9/ZQ6qoayeBcQhwZRQggrD1SkCOt/MzsGAhiFCGAsHX59mE6aUaJ2TEQ5KLMDgAAbaHeaFTNJZJn9y6zoyDIsUcIALA0ihBAWFqyr5Pk8ZodAyGAIgQQlh689yp59u41OwZCAEUIALA0ihAAYGkUIQDA0ihCAIClUYQAAEujCAEAlsaVZQCEFY/h1U7PPtk8ZidBqKAIAYSVZ6oytGjgT2RvKjI7CkIERQggrHgUIaOxwewYCCF8RwgACEm333F9QJ6HIgQAhCTHZndAnociBBBW5jx/kdkREGIoQgBhw2N41X3BV2bHQIihCAEAlkYRAggbvfN/L+8ebr2ElqEIAYSNqYOXyZaQYHYMhBiKEEDYeP6xC+XZtcvsGAgxFCEAwNJaXITvv/++LrroIqWnp8tms2nRokV+2w3D0PTp09WtWzfFxcUpOztbW7du9RuzZ88ejRkzRna7XUlJSRo3bpxqamqO6Y0AsLYNDfsV6zbMjoEQ1OIirK2t1cCBA/XEE08ccfvMmTM1a9YszZkzR0VFRUpISFBOTo7q6up8Y8aMGaMNGzZo2bJlWrx4sd5//32NHz++9e8CgOX9qvB6dVyw0uwYCEEtvtboiBEjNGLEiCNuMwxDjz32mO666y5dfPHFkqQXX3xRqampWrRokUaPHq1NmzZp6dKlWr16tQYPHixJevzxx3XBBRfo4YcfVnp6+jG8HQAAWiag3xGWlJTI5XIpOzvbt87hcCgrK0uFhYWSpMLCQiUlJflKUJKys7MVERGhoqIjXy2+vr5ebrfbbwEAIBACWoQul0uSlJqa6rc+NTXVt83lciklJcVve1RUlJKTk31jDpWXlyeHw+FbMjIyAhkbAGBhIXHU6LRp01RVVeVbysrKzI4EAAgTAS3CtLQ0SVJ5ebnf+vLyct+2tLQ0VVRU+G1vamrSnj17fGMOFRsbK7vd7rcAABAIAS3Cnj17Ki0tTfn5+b51brdbRUVFcjqdkiSn06nKykoVFxf7xixfvlxer1dZWVmBjAPAIjY07FfnN+LMjoEQ1eKjRmtqarRt2zbfzyUlJVq7dq2Sk5PVvXt3TZ48Wffff7969+6tnj176u6771Z6erouueQSSdJJJ52k888/X9ddd53mzJmjxsZGTZw4UaNHj+aIUQCtsrkhVfb5nDqB1mlxEa5Zs0bnnnuu7+cpU6ZIksaOHat58+bp1ltvVW1trcaPH6/KykqdffbZWrp0qTp06OB7zEsvvaSJEydq2LBhioiI0KhRozRr1qwAvB0AAFrGZhhGyF2Kwe12y+FwaO/nvWTvGBLH+wBoQ/+qsevpPr3MjoF2FnFqppa8Nf+o293VXnXqs11VVVU/eGwJLQIAsDSKEABgaRQhAMDSKEIAgKVRhAAAS6MIAQCWRhECACyNIgQAWBpFCCDk3f/YVWZHQAijCAGEvG7LjnwvU6A5KEIAIe2XW8+XKqvNjoEQRhECCGlf/buXPLt2mR0DIYwiBBCyiusbFLfba3YMhDiKEEDIuvbTsXK8xH0IcWwoQgBAaDIM1XjrjvlpKEIAQEjyfrpJZz415ZifhyIEEJJKGmsU968ks2PAZLamY38OihBASPqqya6kvxeaHQNhgCIEEJK6RtbK8/PTzY6BMEARAghJJ8fEqWLyfrNjIAxQhAAAS6MIAYSk3Z5aNa3uZHYMhAGKEEBIWt/QURl/WmF2DIQBihAAYGkUIYCQ9H9ruAchAoMiBBCSej3QaHYEhAmKEEDI6Tt3gowNW82OgTBBEQIIKQuqOymt0COjKQDX1gJEEQIIMY+XnKsOi1eZHQNhhCIEAFgaRQggZOz21Kr2rTSzYyDMUIQAQka8LVo1Pbzfr4iIlC029rslKsq8YAhpFCGAkOKNNXz/XXF9ll7ctlwvbluu6sXdVX/BGbJFx5iYDqGIIgQQMrY1edV70ncHykR26qSOF+9USmSCUiIT9NGAf+u9Z59RyT2DTE6JUEMRAggZkTIU6bAr0m6XYqJVtr3rYWM+uOZhfXm/k49K0Wz8pgAIGSfHxOmV9W/7fo62RUqK9huTEpmg9df+TedsypXjpZXtnBChiD1CACElMaKDb4m1RR9xTLQtUrardikiPr6d0yEUUYQAwtJ7AxbIFh9ndgyEAIoQAGBpFCEAwNIoQgBhKdYWrfoFCWbHQAigCAGErbO7fmF2BIQAihAAYGkUIQDA0ihCAIClUYQAAEujCAGErS5RNYrKOM7sGAhyFCGAsDWp01faOC3d7BgIchQhAMDSKEIAQMiK223o88baY3oOihAAELI6P1Oo32++6piegyIEELbmuVPUb47b7BgIchQhgLBVUt9V3s82mx0DQY4iBABYGkUIIGx925BodgSEAIoQQFiqNxpVclGS2TEQAihCAGHLaGoyOwJCAEUIALA0ihBAWPrDNz+VUd9gdgyEAIoQQFj6dNZAeaurzY6BEEARAgAsjSIEAFgaRQgg7Fy67RdKXrXL7BgIES0qwry8PJ1xxhnq2LGjUlJSdMkll2jLli1+Y+rq6pSbm6vOnTsrMTFRo0aNUnl5ud+Y0tJSjRw5UvHx8UpJSdEtt9yiJg5zBhAgmytSJRdFiOZpUREWFBQoNzdXK1eu1LJly9TY2Kjhw4ertvb7W2DcdNNNeuONN/Tqq6+qoKBAO3bs0KWXXurb7vF4NHLkSDU0NGjFihV64YUXNG/ePE2fPj1w7wqApW086x/a88tMs2MgRNgMwzBa++Bdu3YpJSVFBQUF+ulPf6qqqip17dpV8+fP12WXXSZJ2rx5s0466SQVFhZqyJAhWrJkiS688ELt2LFDqampkqQ5c+botttu065duxQTE/Ojr+t2u+VwOLT3816yd+TTXQCHG3Lr9XL8Y6XZMdAO9r/dU+/3X3jYene1V536bFdVVZXsdvtRH39MLVJVVSVJSk5OliQVFxersbFR2dnZvjH9+vVT9+7dVVhYKEkqLCxU//79fSUoSTk5OXK73dqwYcMRX6e+vl5ut9tvAYCjOfG93yrp1U/MjoEQ0eoi9Hq9mjx5soYOHapTTjlFkuRyuRQTE6OkpCS/sampqXK5XL4xB5fgge0Hth1JXl6eHA6Hb8nIyGhtbAAW4KmLklFfb3YMhIhWF2Fubq7Wr1+vBQsWBDLPEU2bNk1VVVW+paysrM1fE0AI85odAKEkqjUPmjhxohYvXqz3339fxx13nG99WlqaGhoaVFlZ6bdXWF5errS0NN+YVatW+T3fgaNKD4w5VGxsrGJjY1sTFYDFPF2Vrn5/2EgXotlatEdoGIYmTpyohQsXavny5erZs6ff9kGDBik6Olr5+fm+dVu2bFFpaamcTqckyel0at26daqoqPCNWbZsmex2uzIzOcoLwLFpNCLl3bfP7BgIIS3aI8zNzdX8+fP1n//8Rx07dvR9p+dwOBQXFyeHw6Fx48ZpypQpSk5Olt1u16RJk+R0OjVkyBBJ0vDhw5WZmamrr75aM2fOlMvl0l133aXc3Fz2+gAckxpvnV6efoESVGR2FISQFhXh7NmzJUk///nP/dbPnTtXv/3tbyVJjz76qCIiIjRq1CjV19crJydHTz75pG9sZGSkFi9erAkTJsjpdCohIUFjx47Vfffdd2zvBIDlnZM3RSmvrTA7BkLMMZ1HaBbOIwRwqNvKT9Wn4/vLWL3O7ChoZ6aeRwgAwWLh5oGUIFqFIgQAWBpFCACwNIoQQMh7Z1+0et9ZZXYMhCiKEEDIq/bGqWn7l2bHQIiiCAGEvOlzrzI7AkIYRQgg5PV47cgX7AeagyIEENL+72unbNW1Pz4QOAqKEEBIW/nSaWpylZsdAyGMIgQQsoZ+dqnSn+ckehwbihBAyDorpURG3x5mx4DJ9vy3m/Z6Wn/HEYoQQMja3ZCoiFruRG91P/lzoXZ4bK1+PEUIICTt8zaoYE2mPJu2mh0FIY4iBBCSVtV3UO+J3HcQx44iBBCS6oxosyMgTFCEAELSI9eMNjsCwgRFCCDkXLDlAkWXcO4gAoMiBBBSGg2Pyt46Xk07uawaAoMiBBBShq2/TOl/4SAZBA5FCCBkVHhqtf+faZLXY3YUhBGKEEDIcHkilTx3pdkxEGYoQgAh45YvLpMMw+wYCDMUIYCQYdzd2ewICEMUIYCQ0PM/4xX58RazYyAMUYQAgt77dVLqhxHy1tWZHQVhiCIEEPQeLjtfjpc4SAZtgyIEENS+bqqR59oOZsdAGKMIAQS1y9b/Vk1flpkdA2GMIgQQ1OIfcXACPdoURQgAsDSKEEDQmrrzdHXYUW12DIQ5ihBAUHpozwnaMP4keTZ+bnYUhLkoswMAwKH2evbpvZy+Mr7ZYHYUWAB7hACCzk/X/F6eit1mx4BFUIQAgsppq0cr4/rdMhobzI4Ci6AIAQSVqjKHPOUVZseAhVCEQIh4qbqzTvjn9fqozmt2lDaTvz9S6f81OwWshoNlgCBX463T9ibphWsv1IkrVuqef49TY2KU3BPcWnra80qJTDA7YkDsbKrRnyZMVsI7RWZHgcVQhEAQ29SwT1c+crPSniqWrf5TSVLEB58oVlLKsij9ttc1euu9f5kbMgBer43XI3+4TrHvrDY7CiyIIgSC1Inv/VYdP4xX6pMrdKR7shtNTZJrl05bPVqfnLGg3fMFykd1Xj1029WKX8KeIMxBEQJBYq9nn1wHXVLzJ/Nj1GHxih98jMftVuQbJ6tq0H45IuLaOGHgeQyv7r5+vOL5OBQmoggBEy2qTdRjJdmSpG+XpSv9L98XQgfvqmY9R+dnC+XsNlUp5+yQJN3R600Nj28MfNg2cKtrsDqs/kJcUhtmoggBk/T+xwSlFXoVv/C78kvXl61+row/fr/neM/oceo382F1j0o81ohtrmB2ljrvLTQ7BiyOIgRM0GfeBJ0wozjgJ41XXu3UgImf6cqpU9VxW42q8/ZrZp/XJEmnxNQHzcen9UajTim4Tr3/tZm9QZiO8wiBdvavGru6FXra5MopSX8vVGlWrXZke1XudMgxSbqv1+m6r9fpGvTyFNUbzf/I9PLtwwKe74DXatLU6zdr5dm7t81eA2guihBoR5sa9mnW1NHq8Ebzvv9rrb7P1umTu56UfV6ltj06RJLU++5PVOX94fItaazRgIdv0ICHb9CmXaltkq1PwVg9+tDlbfLcsCjD0K/mT2n1w/loFGhj+fsjVelJ0N0vXqWe83eow/a2LUFJsjU06V81do1OWaXZly1W0UWdVOuN1aU3TVFk3eEnY0TXNsnW6FX18R2Ud8/zipShc+NqJEUHNNfXTTVyvBOv5Ll8L4jAOv7N/dJvW/dYihBoQ1N3nq5NV/SQZ1uJMrRCTe30ut5PN+npPr0km033Lrrwf+cZ1mvUrKeOOP6B3X21vjpdy3oefH2zwJbgzqYaXfDXW9Vt7g+fEgK0Nz4aBdrQm4uHyLOtxLwAhqFu4/do0L0T9NCeEw7bfNrq0Rr40A26pfNGze/Zthf5/LShs7r9hRJE8KEIgTZ0z+iXFXlyX1MzeMor1OWpQr2X01dPV6X7bass76j0Z9dp6J0TtaFhf8Bfu95o1AnLr9XIM0fq8XPODfjzA4FAEQJtZFFtop64/XJ5NmwxO4okqembHZo/daQkaZ+3Qb3e/Z3GnLlSW/6UqU4vrNTY+6cEtAzHlZ6tkxZN1IlXfaKmr79R005XwJ4bCCSKEGgjaZFVqncE1x+xhI9Lddrq0aryNqjPdRv00gqn4lyRkmGo87OF+mj/4R+ftlSFp1Zn3jFBO35/nHrncuk0BD8OlgHayJAOkXL3tKmT2UEO0uQqV9qV1frpsxN1gnej+t28Xt66et/2V3cM0njHjlY/f/7+SC3YPVydXlwlr5dT5REaguufq0AYWVDdSWmrgu+an959+9TrN2tlNDbIu2+fdFBhxfyu9c/7em287p06TqVZtX7PCQQ79giBNvKPnUMU+2b43V+vxlunxIgOkqQq7345V16nzvMT1OHbBsUVtP05kkCgsUcIwMeoq9e40rP1UZ33iNsbDY8uHD9J15UNVXF9g35x5xQlv5ygyHqvIt5f275hgQChCIE2cmW3Vaq/4AyzY7SIp7xCXw+p0e9W//aoY+KLv1JpVq3GPTpZy//0qD58/Cm9NucxRcTGtl9QIIAoQqCNXJboUsXpgb06S3vp9acGLajupK+banzLaatHa/jv/k/eb/dIklIfL9TQv3x3fcdOEXHa9nw/RSY5pIhIM6MDLcZ3hEAb+eOu09Vj0R4d+UPG4Ob9bLPmnXyC5tl6+9aleLZKXo98Vyo1DHX7sFov/l8XXWPfrc0/e17165t05t8m6ycPcgUZhA72CIE2cn/KOpX8OtnsGK1mNDXJaGzwLUc6EtRYvU73vfFrSVKkLULxETF6Y8JM2aL4NzZCB7+tQBvyxBmyRUXJaGqvy223szP7688Xv6SSxhrtMyJ14ZIb1eeFOqnpM7OTAc1GEQJtaOtVs3Xy3ht0XF6YflS4ap0eeHiMunxWKxWtUx+D0ycQeihCoI01JB1+/79w0uVp7i2I0Nai7whnz56tAQMGyG63y263y+l0asmSJb7tdXV1ys3NVefOnZWYmKhRo0apvLzc7zlKS0s1cuRIxcfHKyUlRbfccouawvVjI1jaXs8+fd1Uo26FXGUFCGYtKsLjjjtODz74oIqLi7VmzRqdd955uvjii7VhwwZJ0k033aQ33nhDr776qgoKCrRjxw5deumlvsd7PB6NHDlSDQ0NWrFihV544QXNmzdP06dPD+y7AoLA1V+M0kV/vlXfXBZ8l1kD8D2bYRjH9LlNcnKyHnroIV122WXq2rWr5s+fr8suu0yStHnzZp100kkqLCzUkCFDtGTJEl144YXasWOHUlNTJUlz5szRbbfdpl27dikmJqZZr+l2u+VwOLT3816yd+TAVwSnCz8focaf7zQ7BmAJxtBT9c6r8/zWuau96tRnu6qqqmS324/62Fa3iMfj0YIFC1RbWyun06ni4mI1NjYqOzvbN6Zfv37q3r27Cgu/+w6hsLBQ/fv395WgJOXk5Mjtdvv2Ko+kvr5ebrfbbwEAIBBaXITr1q1TYmKiYmNjdf3112vhwoXKzMyUy+VSTEyMkpKS/ManpqbK5fruhpwul8uvBA9sP7DtaPLy8uRwOHxLRkZGS2MD7S676yYZQ081OwaAH9HiIuzbt6/Wrl2roqIiTZgwQWPHjtXGjRvbIpvPtGnTVFVV5VvKysra9PWAQJjc6UuVDo83OwaAH9Hi0ydiYmJ04oknSpIGDRqk1atX669//auuuOIKNTQ0qLKy0m+vsLy8XGlpaZKktLQ0rVrlf57RgaNKD4w5ktjYWMVyQV8AQBs45iNNvF6v6uvrNWjQIEVHRys/P9+3bcuWLSotLZXT6ZQkOZ1OrVu3ThUVFb4xy5Ytk91uV2Zm5rFGAQCgxVq0Rzht2jSNGDFC3bt3V3V1tebPn6/33ntPb7/9thwOh8aNG6cpU6YoOTlZdrtdkyZNktPp1JAhQyRJw4cPV2Zmpq6++mrNnDlTLpdLd911l3Jzc9njAwCYokVFWFFRoWuuuUY7d+6Uw+HQgAED9Pbbb+sXv/iFJOnRRx9VRESERo0apfr6euXk5OjJJ5/0PT4yMlKLFy/WhAkT5HQ6lZCQoLFjx+q+++4L7LsCAKCZjvk8QjNwHiFCRb9nblCPGWF6nVEgiJhyHiEAAOGAIgQAWBpFCLSBKu9+9f7HBKV/1GB2FAA/gtswAW2gyutR77zN8uzda3YUAD+CPUKgDXSPSpTntQSzYwBoBooQaCPRkdyHEAgFFCEAIOTZGj3a2VTTqsdShACA0LdqnX7+4i2teihFCAAID628PAxFCACwNIoQAGBpFCEAwNIoQqANfN1UI+PqSLNjAGgGihBoA42G5NnpMjsGgGagCAEAlkYRAgAsjSIEAFgaRQgAsDSKEABgaRQhAMDSKEIAgKVRhEAbuH/n+TK8rbwCMIB2RRECbeDLO/tKXm7MC4QCihAAYGkUIQDA0ihCAIClUYQAAEujCAEAlkYRAgAsjSIEAFgaRQgAsDSKEABgaRQhEGDF9Q2K3N9kdgwAzUQRAgE2+pUbZVvxqdkxADQTRQgAsDSKEABgaRQhEEBv7uugtCKv2TEAtABFCATQa7vPUPy/i8yOAaAFKEIAgKVRhAAAS6MIAQCWRhECAMJCx1JpbX19ix9HEQIAwkLnZwp1T+kvW/w4ihAIoLjIRkXEx5sdA0ALUIRAAD35k5XaNn2g2TEAtABFCATQPHeKur/TYHYMAC1AEQIBVFDZV1HLi82OAaAFKEIAgKVRhAAAS6MIgQBav7ub2REAtBBFCATIXs8+dbn8a7NjAGghihAAYGkUIQDA0ihCAIClUYQAAEujCIEAmVt1igyPx+wYAFqIIgQCZNGd2TJacQsYAOaiCIEAGLDqSiWuKDE7BoBWoAiBAKgps8uza5fZMQC0AkUIALA0ihAAYGkUIQDA0ihCAIClHVMRPvjgg7LZbJo8ebJvXV1dnXJzc9W5c2clJiZq1KhRKi8v93tcaWmpRo4cqfj4eKWkpOiWW25RU1PTsUQBAKBVWl2Eq1ev1lNPPaUBAwb4rb/pppv0xhtv6NVXX1VBQYF27NihSy+91Lfd4/Fo5MiRamho0IoVK/TCCy9o3rx5mj59euvfBWCiDQ375dgUaXYMAK3UqiKsqanRmDFj9Mwzz6hTp06+9VVVVXruuef0yCOP6LzzztOgQYM0d+5crVixQitXrpQkvfPOO9q4caP+8Y9/6NRTT9WIESP0xz/+UU888YQaGhoC866AdvTiXqdSnlxhdgwArdSqIszNzdXIkSOVnZ3tt764uFiNjY1+6/v166fu3bursLBQklRYWKj+/fsrNTXVNyYnJ0dut1sbNmw44uvV19fL7Xb7LQAABEKLi3DBggX6+OOPlZeXd9g2l8ulmJgYJSUl+a1PTU2Vy+XyjTm4BA9sP7DtSPLy8uRwOHxLRkZGS2MDbcJjePXqR1lmxwBwDFpUhGVlZbrxxhv10ksvqUOHDm2V6TDTpk1TVVWVbykrK2u31wZ+yImL/099bvrE7BgAjkGLirC4uFgVFRU6/fTTFRUVpaioKBUUFGjWrFmKiopSamqqGhoaVFlZ6fe48vJypaWlSZLS0tIOO4r0wM8HxhwqNjZWdrvdbwGCQdp7kTIa+W4bCGUtKsJhw4Zp3bp1Wrt2rW8ZPHiwxowZ4/vv6Oho5efn+x6zZcsWlZaWyul0SpKcTqfWrVuniooK35hly5bJbrcrMzMzQG8LAIDmiWrJ4I4dO+qUU07xW5eQkKDOnTv71o8bN05TpkxRcnKy7Ha7Jk2aJKfTqSFDhkiShg8frszMTF199dWaOXOmXC6X7rrrLuXm5io2NjZAbwtoH/1u3CDX6wny1taaHQVAK7WoCJvj0UcfVUREhEaNGqX6+nrl5OToySef9G2PjIzU4sWLNWHCBDmdTiUkJGjs2LG67777Ah0FaHOfzT1FXWoLzY4B4BjYDMMwzA7RUm63Ww6HQ3s/7yV7R64SB/M4p14v+8srzY4B4H/iClK1qPfbkiR3tVed+mxXVVXVDx5bQosAreQxvLKF3D8jARyKIgRaqXf+72V/bY3ZMQAcI4oQaCWjIUIGF4sHgsr2109QjbeuRY+hCIFW8BheqYk/PkCwSZ+1RpXelv0DlT/JQCs8XtlLfSetNTsGgACgCIFWeOqfF3BFGSBMUIRAC9R469TvmRvU44FVZkcBECABP6EeCCd7Pft09RejfD9vz++pHvcXKgRPvwVwFBQh8AOy/j5VPe/4/soxGdppYhoAbYGPRoGjKG2q0Yl/3212DABtjCIEjmLk326VZ9NWs2MAaGMUIQDA0ihC4BCNhkf9i36jjOc2mx0FQDvgYBngEJ81eJT+q43ymB0EQLtgjxAAYGkUIXCIKZMmmh0BQDuiCIFDdKjYb3YEAO2IIgQO4jG8ZkcA0M4oQuAgJ/09V1qz0ewYANoRRQgcJHKfTfJyvChgJRQhAMDSKELgIHUZjYpISDA7BoB2RBECBykZ+Yw2P3yy2TEAtCOKEDjEU7+Ya3YEAO2IIgQOMs+dokdHXWZ2DADtiCIEDvLn+ZfJ++kms2MAaEcUIQDA0ihCAIClUYTAQc664DNFHd/d7BgA2hFFCBzkue4fqinFYXYMAO2IIgQAWBpFCBzk9DVXKPKrcrNjAGhHFCFwkKptneTdU2l2DADtiCIEDvLF6DkyTutrdgwA7YgiBABYGkUIALA0ihAAYGkUIQAgbBhNjcqee2uLHkMRAgd5Z1+0IvY1mh0DQGsZhrqtaGjRQyhC4CA3vnidvOs3mx0DQDuiCAEAlkYRAgAsjSIEAFgaRQgAsDSKEPif4voGJZYZZscA0M4oQuB/7iz5lZLnFpodA0A7owgBAJZGEQIALI0iBABYGkUIALA0ihAAYGkUIQDA0ihCAIClUYQAAEujCAEAlkYRAgAsjSIEJFV59+vrd3qYHQOACShCWJ7H8Mo5e6p+8uAKs6MAMAFFCMvr88oNysgrMjsGAJNQhLC8yHqb5PWYHQOASShCAIClUYQAAEujCAEAltaiIrznnntks9n8ln79+vm219XVKTc3V507d1ZiYqJGjRql8vJyv+coLS3VyJEjFR8fr5SUFN1yyy1qamoKzLsBAKCFolr6gJNPPlnvvvvu908Q9f1T3HTTTXrzzTf16quvyuFwaOLEibr00kv10UcfSZI8Ho9GjhyptLQ0rVixQjt37tQ111yj6OhoPfDAAwF4O0DLfNZQp8QvzU4BwEwtLsKoqCilpaUdtr6qqkrPPfec5s+fr/POO0+SNHfuXJ100klauXKlhgwZonfeeUcbN27Uu+++q9TUVJ166qn64x//qNtuu0333HOPYmJijv0dAS3w4Dcj1HVOodkxAJioxd8Rbt26Venp6erVq5fGjBmj0tJSSVJxcbEaGxuVnZ3tG9uvXz91795dhYXf/UVTWFio/v37KzU11TcmJydHbrdbGzZsOOpr1tfXy+12+y0AAARCi4owKytL8+bN09KlSzV79myVlJTonHPOUXV1tVwul2JiYpSUlOT3mNTUVLlcLkmSy+XyK8ED2w9sO5q8vDw5HA7fkpGR0ZLYwFENdnwl26CTzY4BwEQtKsIRI0bo17/+tQYMGKCcnBy99dZbqqys1CuvvNJW+SRJ06ZNU1VVlW8pKytr09eDdUxJ3q7tv7abHQOAiY7p9ImkpCT16dNH27ZtU1pamhoaGlRZWek3pry83PedYlpa2mFHkR74+UjfOx4QGxsru93utwAAEAjHVIQ1NTX64osv1K1bNw0aNEjR0dHKz8/3bd+yZYtKS0vldDolSU6nU+vWrVNFRYVvzLJly2S325WZmXksUYBW+ajOq05H/3oagAW06KjRm2++WRdddJF69OihHTt2aMaMGYqMjNSVV14ph8OhcePGacqUKUpOTpbdbtekSZPkdDo1ZMgQSdLw4cOVmZmpq6++WjNnzpTL5dJdd92l3NxcxcbGtskbBH7IEzuHKenvHDUKWFmLivDrr7/WlVdeqW+//VZdu3bV2WefrZUrV6pr166SpEcffVQREREaNWqU6uvrlZOToyeffNL3+MjISC1evFgTJkyQ0+lUQkKCxo4dq/vuuy+w7woAYFlRdR5taNivDDVvB8tmGIbRxpkCzu12y+FwaO/nvWTvyFXi0Hq/KTlX3w7da3YMAAH2xUNOffzLJ9Spz3ZVVVX94LEltAgsq8Zbp9JH+pgdA4DJKEJYVp3hUcc3PzU7BgCTUYQAAEujCGFZZ8+9Wd76erNjADAZRQjLSl3lkULvWDEAAUYRAgAsjSIEAFgaRQgAsDSKEABgaRQhLKnKu182DwfKAKAIYVGn/XuyYpesNjsGgCBAEcJyFtUmqvsSr9kxAAQJihCWM2/HUPYGAfhQhLCUfd4GNVxcZ3YMAEGEIoT1eDlIBsD3KEIAgKVRhAAAS6MIYSlecbQoAH8UISzlp3+6SZ7qarNjAAgiFCEspcMeg1svAfBDEQIALI0iBABYGkUIy7ijfIDs2/h+EIA/ihCW8fKqLBnFG8yOASDIUISwDHtqjSK7djU7BoAgQxHCMj4982VVnneC2TEABBmKEJZRbzTKxnVGARyCIoRl9FsyQYmvrTI7BoAgQxHCOjw2TqYHcBiKEABgaRQhAMDSKEIAgKVRhLCM2cNeVGP2ILNjAAgyFCEsY0L+NYp+t9jsGADaQdJmqbi+sVljKUIAQNjp/Fyh5u06u1ljKUIAgKVRhLCEzxrqlPxxlNkxAAQh/mZA2PMYXv3u/pvU5dlCs6MACELsESLsLdsfp5SFW8yOASBIUYQIe3f/6XfyfLvH7BgAghRFCACwNIoQAGBpFCHC3r4L3YqIjzc7BoAgRREi7BVlPSdbx0SzYwAIUhQhwt7P/niTPOUVZscAEKQoQoS9iAazEwAIZhQhAMDSKEKEtTf3dVBCeZPZMQAEMYoQYW3Sit8o9q3VZscAEMQoQoS1qJgm2WJjzY4BIIhRhAhrn//0Re258nSzYwAIYhQhwp5hMzsBgGBGESLs/enOZxXZpbPZMQAEKYoQYe/cuDopMtLsGACCFEWIsNd32XgZVW6zYwAIUhQhwlpJY43SlkTLW1dndhQAQYoiRFgbVvAHdfznSrNjAAhiFCHC2j1nvq6mYYPMjgEgiFGECFtV3v26591Rivlog9lRAASxKLMDAG3ltEWT1XtikbxmBwEQ1NgjRFhqNDw66aEdZscAEAIoQoSlQY9MUlPp12bHABACKEKEpah9hmQYZscAEAJaXITffPONrrrqKnXu3FlxcXHq37+/1qxZ49tuGIamT5+ubt26KS4uTtnZ2dq6davfc+zZs0djxoyR3W5XUlKSxo0bp5qammN/NwAAtFCLinDv3r0aOnSooqOjtWTJEm3cuFF/+ctf1KlTJ9+YmTNnatasWZozZ46KioqUkJCgnJwc1R10QvOYMWO0YcMGLVu2TIsXL9b777+v8ePHB+5dAQDQTDbDaP7nR7fffrs++ugjffDBB0fcbhiG0tPTNXXqVN18882SpKqqKqWmpmrevHkaPXq0Nm3apMzMTK1evVqDBw+WJC1dulQXXHCBvv76a6Wnp/9oDrfbLYfDob2f95K9I5/uwt+MXSer8PrBshV+anYUACZKy4/WP857WVVVVbLb7Ucd16IWef311zV48GD9+te/VkpKik477TQ988wzvu0lJSVyuVzKzs72rXM4HMrKylJhYaEkqbCwUElJSb4SlKTs7GxFRESoqKjoiK9bX18vt9vttwBH8lGdV6uu7k8JAmi2FhXh9u3bNXv2bPXu3Vtvv/22JkyYoD/84Q964YUXJEkul0uSlJqa6ve41NRU3zaXy6WUlBS/7VFRUUpOTvaNOVReXp4cDodvycjIaElsWMi3nkR5P9tsdgwAIaRFRej1enX66afrgQce0Gmnnabx48fruuuu05w5c9oqnyRp2rRpqqqq8i1lZWVt+noAAOtoURF269ZNmZmZfutOOukklZaWSpLS0tIkSeXl5X5jysvLfdvS0tJUUVHht72pqUl79uzxjTlUbGys7Ha73wIAwA/Z8YfjmjWuRUU4dOhQbdmyxW/d559/rh49ekiSevbsqbS0NOXn5/u2u91uFRUVyel0SpKcTqcqKytVXFzsG7N8+XJ5vV5lZWW1JA5wmDvXX2J2BABBwrv+82aNa9G1Rm+66SadddZZeuCBB3T55Zdr1apVevrpp/X0009Lkmw2myZPnqz7779fvXv3Vs+ePXX33XcrPT1dl1xyiaTv9iDPP/9830eqjY2NmjhxokaPHt2sI0aBH5JxR6M8ZocAEFJaVIRnnHGGFi5cqGnTpum+++5Tz5499dhjj2nMmDG+Mbfeeqtqa2s1fvx4VVZW6uyzz9bSpUvVoUMH35iXXnpJEydO1LBhwxQREaFRo0Zp1qxZgXtXsKTPG2ulJmoQQMu06DzCYMF5hDjUv2rs+uutoxW3aJXZUQAEiSajUe/pP4E9jxAIVg9sOZ8SBNAqFCHCwpJT52rXBKfZMQCEIIoQYSElMkGNCTazYwAIQRQhwsbFV32gmqW99PUdZ5kdBUAIadFRo0Awuz9lnWq6rNaAz280OwqAAIo4NVOeuOgWP85oqpNW/edHx1GECCvL9yer9x+OfPF2AM1jnDVQpTkJZsfwmXf14xrSIbLFj3NXe9Wpz4+PowgRFuqNRknSvQ+PVRcVmpwGQctmky2y5X+htqXd156htDFfmh3Dz3ldPtCU5O1mxzhI2/4/owgR8q4rG6pvLoiVvIa6VK40Ow4iItV07qkygvDYpa/GevXfnz1udgw/jogP5IiIMzuGpVGECHlluT1lfLve7BjtyjboZH1xeXBefN7TwdDWy55UpC1Yj8VLNDsAgkxIFuGBi+G4a7wmJ4HZ+r97jfps3irv/z4aDYTILl3U9Z91ilDwXnTp5I4FeiWp1OwYR1VbI0n8+YS5DnTEj11ALSQvsbZ9+3adcMIJZscAAISAsrIyHXfc0W/JFJJ7hMnJyZKk0tJSORwOk9MEN7fbrYyMDJWVlXEfxx/APDUP89Q8zFPztPU8GYah6urqH72zUUgWYUTEd989OBwOfsmaiRsaNw/z1DzMU/MwT83TlvPUnJ2lYP02GwCAdkERAgAsLSSLMDY2VjNmzFBsbKzZUYIec9U8zFPzME/Nwzw1T7DMU0geNQoAQKCE5B4hAACBQhECACyNIgQAWBpFCACwNIoQAGBpIVmETzzxhI4//nh16NBBWVlZWrVqldmR2tX777+viy66SOnp6bLZbFq0aJHfdsMwNH36dHXr1k1xcXHKzs7W1q1b/cbs2bNHY8aMkd1uV1JSksaNG6eampp2fBdtKy8vT2eccYY6duyolJQUXXLJJdqyZYvfmLq6OuXm5qpz585KTEzUqFGjVF5e7jemtLRUI0eOVHx8vFJSUnTLLbeoqampPd9Km5s9e7YGDBjgu7qH0+nUkiVLfNuZp8M9+OCDstlsmjx5sm8d8/Sde+65RzabzW/p16+fb3tQzpMRYhYsWGDExMQYzz//vLFhwwbjuuuuM5KSkozy8nKzo7Wbt956y7jzzjuNf//734YkY+HChX7bH3zwQcPhcBiLFi0yPv30U+OXv/yl0bNnT2P//v2+Meeff74xcOBAY+XKlcYHH3xgnHjiicaVV17Zzu+k7eTk5Bhz58411q9fb6xdu9a44IILjO7duxs1NTW+Mddff72RkZFh5OfnG2vWrDGGDBlinHXWWb7tTU1NximnnGJkZ2cbn3zyifHWW28ZXbp0MaZNm2bGW2ozr7/+uvHmm28an3/+ubFlyxbjjjvuMKKjo43169cbhsE8HWrVqlXG8ccfbwwYMMC48cYbfeuZp+/MmDHDOPnkk42dO3f6ll27dvm2B+M8hVwRnnnmmUZubq7vZ4/HY6Snpxt5eXkmpjLPoUXo9XqNtLQ046GHHvKtq6ysNGJjY42XX37ZMAzD2LhxoyHJWL16tW/MkiVLDJvNZnzzzTftlr09VVRUGJKMgoICwzC+m5Po6Gjj1Vdf9Y3ZtGmTIckoLCw0DOO7f3BEREQYLpfLN2b27NmG3W436uvr2/cNtLNOnToZzz77LPN0iOrqaqN3797GsmXLjJ/97Ge+ImSevjdjxgxj4MCBR9wWrPMUUh+NNjQ0qLi4WNnZ2b51ERERys7OVmFhoYnJgkdJSYlcLpffHDkcDmVlZfnmqLCwUElJSRo8eLBvTHZ2tiIiIlRUVNTumdtDVVWVpO/vXFJcXKzGxka/eerXr5+6d+/uN0/9+/dXamqqb0xOTo7cbrc2bNjQjunbj8fj0YIFC1RbWyun08k8HSI3N1cjR470mw+J36dDbd26Venp6erVq5fGjBmj0tLv7p0ZrPMUUnef2L17tzwej98ESVJqaqo2b95sUqrg4nK5JOmIc3Rgm8vlUkpKit/2qKgoJScn+8aEE6/Xq8mTJ2vo0KE65ZRTJH03BzExMUpKSvIbe+g8HWkeD2wLJ+vWrZPT6VRdXZ0SExO1cOFCZWZmau3atczT/yxYsEAff/yxVq9efdg2fp++l5WVpXnz5qlv377auXOn7r33Xp1zzjlav3590M5TSBUh0Bq5ublav369PvzwQ7OjBK2+fftq7dq1qqqq0muvvaaxY8eqoKDA7FhBo6ysTDfeeKOWLVumDh06mB0nqI0YMcL33wMGDFBWVpZ69OihV155RXFxcSYmO7qQ+mi0S5cuioyMPOwIo/LycqWlpZmUKrgcmIcfmqO0tDRVVFT4bW9qatKePXvCbh4nTpyoxYsX67///a/fHarT0tLU0NCgyspKv/GHztOR5vHAtnASExOjE088UYMGDVJeXp4GDhyov/71r8zT/xQXF6uiokKnn366oqKiFBUVpYKCAs2aNUtRUVFKTU1lno4iKSlJffr00bZt24L29ymkijAmJkaDBg1Sfn6+b53X61V+fr6cTqeJyYJHz549lZaW5jdHbrdbRUVFvjlyOp2qrKxUcXGxb8zy5cvl9XqVlZXV7pnbgmEYmjhxohYuXKjly5erZ8+eftsHDRqk6Ohov3nasmWLSktL/eZp3bp1fv9oWLZsmex2uzIzM9vnjZjE6/Wqvr6eefqfYcOGad26dVq7dq1vGTx4sMaMGeP7b+bpyGpqavTFF1+oW7duwfv71CaH4LShBQsWGLGxsca8efOMjRs3GuPHjzeSkpL8jjAKd9XV1cYnn3xifPLJJ4Yk45FHHjE++eQT46uvvjIM47vTJ5KSkoz//Oc/xmeffWZcfPHFRzx94rTTTjOKioqMDz/80Ojdu3dYnT4xYcIEw+FwGO+9957fYdz79u3zjbn++uuN7t27G8uXLzfWrFljOJ1Ow+l0+rYfOIx7+PDhxtq1a42lS5caXbt2DbvD3W+//XajoKDAKCkpMT777DPj9ttvN2w2m/HOO+8YhsE8Hc3BR40aBvN0wNSpU4333nvPKCkpMT766CMjOzvb6NKli1FRUWEYRnDOU8gVoWEYxuOPP250797diImJMc4880xj5cqVZkdqV//9738NSYctY8eONQzju1Mo7r77biM1NdWIjY01hg0bZmzZssXvOb799lvjyiuvNBITEw273W5ce+21RnV1tQnvpm0caX4kGXPnzvWN2b9/v3HDDTcYnTp1MuLj441f/epXxs6dO/2e58svvzRGjBhhxMXFGV26dDGmTp1qNDY2tvO7aVu/+93vjB49ehgxMTFG165djWHDhvlK0DCYp6M5tAiZp+9cccUVRrdu3YyYmBjjJz/5iXHFFVcY27Zt820PxnnifoQAAEsLqe8IAQAINIoQAGBpFCEAwNIoQgCApVGEAABLowgBAJZGEQIALI0iBABYGkUIALA0ihAAYGkUIQDA0v4f0L8wjgDwqTkAAAAASUVORK5CYII=",
      "application/papermill.record/text/plain": "<Figure size 600x600 with 1 Axes>"
     },
     "metadata": {
      "scrapbook": {
       "mime_prefix": "application/papermill.record/",
       "name": "exercise-04-h1"
      }
     },
     "output_type": "display_data"
    },
    {
     "data": {
      "image/png": "[encoded data removed]",
      "text/plain": [
       "<Figure size 600x600 with 1 Axes>"
      ]
     },
     "metadata": {},
     "output_type": "display_data"
    }
   ],
   "source": [
    "plot = plt.imshow(m1);\n",
    "fig = plot.get_figure()\n",
    "glue('exercise-04-h1', fig, display=False)"
   ]
  },
  {
   "cell_type": "code",
   "execution_count": 128,
   "metadata": {
    "tags": []
   },
   "outputs": [
    {
     "data": {
      "text/plain": [
       "0.5275713186125944"
      ]
     },
     "execution_count": 128,
     "metadata": {},
     "output_type": "execute_result"
    }
   ],
   "source": [
    "m1.mean()"
   ]
  },
  {
   "cell_type": "code",
   "execution_count": 129,
   "metadata": {
    "tags": []
   },
   "outputs": [
    {
     "name": "stderr",
     "output_type": "stream",
     "text": [
      "/tmp/ipykernel_12605/4262640268.py:1: RuntimeWarning: Mean of empty slice\n",
      "  colmeans = np.nanmean(m, axis=0)\n"
     ]
    }
   ],
   "source": [
    "colmeans = np.nanmean(m, axis=0)\n",
    "rowmeans = np.nanmean(m, axis=1)"
   ]
  },
  {
   "cell_type": "code",
   "execution_count": 130,
   "metadata": {
    "tags": []
   },
   "outputs": [
    {
     "data": {
      "image/png": "[encoded data removed]",
      "text/plain": [
       "<Figure size 600x600 with 1 Axes>"
      ]
     },
     "metadata": {},
     "output_type": "display_data"
    }
   ],
   "source": [
    "plt.plot(colmeans);"
   ]
  },
  {
   "cell_type": "code",
   "execution_count": 131,
   "metadata": {
    "tags": []
   },
   "outputs": [
    {
     "data": {
      "image/png": "[encoded data removed]",
      "text/plain": [
       "<Figure size 600x600 with 1 Axes>"
      ]
     },
     "metadata": {},
     "output_type": "display_data"
    }
   ],
   "source": [
    "plt.plot(rowmeans);"
   ]
  },
  {
   "cell_type": "code",
   "execution_count": 132,
   "metadata": {
    "tags": [
     "remove-cell"
    ]
   },
   "outputs": [
    {
     "data": {
      "application/papermill.record/image/png": "iVBORw0KGgoAAAANSUhEUgAAAvEAAAF2CAYAAADnZcccAAAAOXRFWHRTb2Z0d2FyZQBNYXRwbG90bGliIHZlcnNpb24zLjcuMiwgaHR0cHM6Ly9tYXRwbG90bGliLm9yZy8pXeV/AAAACXBIWXMAAA9hAAAPYQGoP6dpAACVj0lEQVR4nO3dd3hb5fk38K+GJW/Le8QjjjPs7JDhOCQkJIYsdgoE0hJogFKStjQU2vTXhlnCHqUBylsgtBAom0AhIXsQZzk4ezmx4733ki3pvH8cnWMrdhIPSUeSv5/r0hVb51h6pNjn3LrP/dyPShAEAURERERE5DbUSg+AiIiIiIh6hkE8EREREZGbYRBPRERERORmGMQTEREREbkZBvFERERERG6GQTwRERERkZthEE9ERERE5GYYxBMRERERuRkG8UREREREboZBPLmcGTNmYMaMGUoPg4iIiMhlMYinPjt79ix+9atfYdCgQfD29kZgYCCuvPJKvPbaa2hublZ6eEREpKA1a9ZApVLJN61WiwEDBuDuu+9GYWGh0sMjcltapQdA7u1///sfbr31Vuj1etx1110YOXIkWltbsWvXLjzyyCM4duwY3n77baWHSURECnvyySeRmJiIlpYW7NmzB2vWrMGuXbtw9OhReHt7Kz08IrfDIJ56LScnBwsXLkRCQgK2bNmC6OhoedvSpUuRnZ2N//3vfwqOkIiIXMXcuXMxYcIEAMC9996LsLAwPPfcc1i3bh1uu+02hUdH5H5YTkO99vzzz6OhoQHvvPOOTQAvGTx4MH73u9/J35tMJjz11FNISkqCXq/HwIED8ec//xlGo/GSzyNdis3NzbW5f9u2bVCpVNi2bZt834wZMzBy5EgcPnwY06dPh6+vLwYPHozPPvsMALB9+3akpqbCx8cHw4YNw6ZNm2we8/HHH4dKpUJ2djbuvvtuGAwGBAUF4Z577kFTU9Nl35O+Pj8AFBYW4pe//CUiIyOh1+sxYsQIvPvuuzb7tLa2YuXKlRg/fjyCgoLg5+eHadOmYevWrTb75ebmQqVS4cUXX8Tbb78tv/cTJ07E/v37bfYtKSnBPffcg9jYWOj1ekRHR+PGG2/s9L4TEdnDtGnTAIglmR1t2bIF06ZNg5+fHwwGA2688UacOHFC3n748GGoVCqsW7dOvi8zMxMqlQpXXHGFzWPNnTsXqamplxzH3XffDX9/f+Tl5eG6666Dv78/BgwYgNWrVwMAjhw5gpkzZ8LPzw8JCQlYu3Ztp8eoqanBQw89hLi4OOj1egwePBjPPfccLBaLzX4vvvgipkyZgtDQUPj4+GD8+PHy+aEjlUqFZcuW4auvvsLIkSPlc8H69ett9quvr8dDDz2EgQMHQq/XIyIiAtdccw0OHjx4yddMnoFBPPXaN998g0GDBmHKlCnd2v/ee+/FypUrccUVV+CVV17B9OnTsWrVKixcuNCu46qursZ1112H1NRUPP/889Dr9Vi4cCH++9//YuHChZg3bx6effZZNDY24mc/+xnq6+s7PcZtt92G+vp6rFq1CrfddhvWrFmDJ554wuHPX1paismTJ2PTpk1YtmwZXnvtNQwePBhLlizBq6++Ku9XV1eHf/3rX5gxYwaee+45PP744ygvL8fs2bORlZXVaUxr167FCy+8gF/96ld4+umnkZubi1tuuQVtbW3yPgsWLMCXX36Je+65B2+88QZ++9vfor6+Hnl5ed1/84mIuklKEAQHB8v3bdq0CbNnz0ZZWRkef/xxLF++HLt378aVV14p7z9y5EgYDAbs2LFD/rmdO3dCrVbj0KFDqKurAwBYLBbs3r0bV1111WXHYjabMXfuXMTFxeH555/HwIEDsWzZMqxZswZz5szBhAkT8NxzzyEgIAB33XUXcnJy5J9tamrC9OnT8cEHH+Cuu+7C3//+d1x55ZVYsWIFli9fbvM8r732GsaNG4cnn3wSzzzzDLRaLW699dYur1rv2rULDz74IBYuXIjnn38eLS0tWLBgASorK+V9HnjgAbz55ptYsGAB3njjDfzhD3+Aj4+PzYce8mACUS/U1tYKAIQbb7yxW/tnZWUJAIR7773X5v4//OEPAgBhy5Yt8n3Tp08Xpk+fLn//3nvvCQCEnJwcm5/dunWrAEDYunWrzc8CENauXSvfd/LkSQGAoFarhT179sj3b9iwQQAgvPfee/J9jz32mABA+OUvf2nzXDfffLMQGhp62dfZ1+dfsmSJEB0dLVRUVNg87sKFC4WgoCChqalJEARBMJlMgtFotNmnurpaiIyMtBl7Tk6OAEAIDQ0Vqqqq5Pu//vprAYDwzTffyD8LQHjhhRcu+xqJiHpCOoZv2rRJKC8vF/Lz84XPPvtMCA8PF/R6vZCfny/vO3bsWCEiIkKorKyU7zt06JCgVquFu+66S75v/vz5wqRJk+Tvb7nlFuGWW24RNBqN8P333wuCIAgHDx4UAAhff/31Jce3ePFiAYDwzDPPyPdVV1cLPj4+gkqlEj7++GP5ful4/thjj8n3PfXUU4Kfn59w+vRpm8f905/+JGg0GiEvL0++TzqGS1pbW4WRI0cKM2fOtLkfgKDT6YTs7Gyb9wGA8Prrr8v3BQUFCUuXLr3k6yPPxUw89YqU6QgICOjW/t999x0AdMpKPPzwwwBg19p5f39/m+z+sGHDYDAYkJKSYnNZVfr63LlznR7jgQcesPl+2rRpqKyslF+3I55fEAR8/vnnuP766yEIAioqKuTb7NmzUVtbK18i1Wg00Ol0AMRsU1VVFUwmEyZMmNDlZdTbb7/dJtslXcaWntvHxwc6nQ7btm1DdXX1ZV8jEVFPpaenIzw8HHFxcfjZz34GPz8/rFu3DrGxsQCA4uJiZGVl4e6770ZISIj8c6NHj8Y111wjn0cA8Rh28OBBNDY2AhCz1vPmzcPYsWOxc+dOAGJ2XqVSYerUqd0a37333it/bTAYMGzYMPj5+dnU60vH847njU8//RTTpk1DcHCwzXE7PT0dZrPZ5oqBj4+P/HV1dTVqa2vl19LV+5WUlGTzPgQGBto8t8FgwN69e1FUVNSt10iehRNbqVcCAwMBoMtSlK6cP38earUagwcPtrk/KioKBoMB58+ft9vYYmNjoVKpbO4LCgpCXFxcp/sAdBm0xsfH23wvBcDV1dXya7f385eXl6OmpgZvv/32RTv6lJWVyV+///77eOmll3Dy5EmbspjExMQevR4A0Ov1eO655/Dwww8jMjISkydPxnXXXYe77roLUVFRl3y9RETdsXr1agwdOhS1tbV49913sWPHDuj1enm7dB4YNmxYp59NSUnBhg0b0NjYKM8BMplMyMjIQFxcHMrKyjBt2jQcO3bMJogfPny4zQeCi/H29kZ4eLjNfUFBQRc9nnc8b5w5cwaHDx/u9POSjsftb7/9Fk8//TSysrJs5oNd+BxA5+M2IB67Oz73888/j8WLFyMuLg7jx4/HvHnzcNddd2HQoEGXecXkCRjEU68EBgYiJiYGR48e7dHPdXWg6u3PmM3mLu/XaDQ9ul8QhD7ta6/nlyZA/fznP8fixYu73Hf06NEAgA8++AB33303brrpJjzyyCOIiIiARqPBqlWrOk0S685zA8BDDz2E66+/Hl999RU2bNiAv/71r1i1ahW2bNmCcePGXeTVEhF1z6RJk+TuNDfddBOmTp2KO++8E6dOnYK/v3+PHmvChAnw9vbGjh07EB8fj4iICAwdOhTTpk3DG2+8AaPRiJ07d+Lmm2/u1uP15bxhsVhwzTXX4NFHH+1y36FDhwIQP1TccMMNuOqqq/DGG28gOjoaXl5eeO+997qcLNud577tttswbdo0fPnll/jhhx/wwgsv4LnnnsMXX3yBuXPndv1iyWMwiKdeu+666/D2228jIyMDaWlpl9w3ISEBFosFZ86cQUpKinx/aWkpampqkJCQcNGflbLGNTU1NvfbM3vvCsLDwxEQEACz2Yz09PRL7vvZZ59h0KBB+OKLL2w+5Dz22GN9GkNSUhIefvhhPPzwwzhz5gzGjh2Ll156CR988EGfHpeIqCMp6XD11VfjH//4B/70pz/J54FTp0512v/kyZMICwuDn58fAECn02HSpEnYuXMn4uPj5RLBadOmwWg04sMPP0RpaWm3JrX2VVJSEhoaGi573P7888/h7e2NDRs22FyBeO+99/r0/NHR0XjwwQfx4IMPoqysDFdccQX+9re/MYjvB1gTT7326KOPws/PD/feey9KS0s7bT979ixee+01AMC8efMAwKbDCgC8/PLLAID58+df9HmkmsCOdYVms9njFpHSaDRYsGABPv/88y6vcJSXl9vsC9hmZPbu3YuMjIxePXdTUxNaWlps7ktKSkJAQMBlW4ASEfXGjBkzMGnSJLz66qtoaWlBdHQ0xo4di/fff98maXP06FH88MMP8nlEMm3aNOzduxdbt26Vg/iwsDCkpKTgueeek/dxtNtuuw0ZGRnYsGFDp201NTUwmUwAxOO2SqWyuYqcm5uLr776qlfPazabUVtba3NfREQEYmJieNzuJ5iJp15LSkrC2rVrcfvttyMlJcVmxdbdu3fj008/xd133w0AGDNmDBYvXoy3334bNTU1mD59Ovbt24f3338fN910E66++uqLPs+IESMwefJkrFixAlVVVQgJCcHHH38sHxg9ybPPPoutW7ciNTUV9913H4YPH46qqiocPHgQmzZtQlVVFQDxKsgXX3yBm2++GfPnz0dOTg7eeustDB8+HA0NDT1+3tOnT2PWrFm47bbbMHz4cGi1Wnz55ZcoLS21ewtQIiLJI488gltvvRVr1qzBAw88gBdeeAFz585FWloalixZgubmZrz++usICgrC448/bvOz06ZNw9/+9jfk5+fbBOtXXXUV/vnPf2LgwIHypFlHv4Z169bhuuuuw913343x48ejsbERR44cwWeffYbc3FyEhYVh/vz5ePnllzFnzhzceeedKCsrw+rVqzF48GAcPny4x89bX1+P2NhY/OxnP8OYMWPg7++PTZs2Yf/+/XjppZcc8ErJ1TCIpz654YYbcPjwYbzwwgv4+uuv8eabb0Kv12P06NF46aWXcN9998n7/utf/8KgQYOwZs0afPnll4iKisKKFSu6VQLy4Ycf4le/+hWeffZZGAwGLFmyBFdffTWuueYaR748p4uMjMS+ffvw5JNP4osvvsAbb7yB0NBQjBgxQs4sAeLiJCUlJfjnP/+JDRs2YPjw4fjggw/w6aef2ix+1V1xcXG44447sHnzZvznP/+BVqtFcnIyPvnkEyxYsMCOr5CIqN0tt9yCpKQkvPjii7jvvvuQnp6O9evX47HHHsPKlSvh5eWF6dOn47nnnus0aX/KlCnQaDTw9fXFmDFj5PunTZuGf/7zn07JwgOAr68vtm/fjmeeeQaffvop/v3vfyMwMBBDhw7FE088ITcxmDlzJt555x08++yzeOihh5CYmIjnnnsOubm5vQrifX198eCDD+KHH37AF198AYvFgsGDB+ONN97Ar3/9a3u/THJBKqE7M/WIiIiIiMhlsCaeiIiIiMjNMIgnIiIiInIzDOKJiIiIiNwMg3giIiIiIjfDIJ6IiIiIyM0wiCciIiIicjNu2SfeYrGgqKgIAQEBNkvOExF5IkEQUF9fj5iYGKjV/S/3wmM+EfUn3T3mu2UQX1RUhLi4OKWHQUTkVPn5+U5ZgdLV8JhPRP3R5Y75bhnEBwQEABBfXGBgoMKjISJyrLq6OsTFxcnHvv6Gx3wi6k+6e8x3yyBeupwaGBjIAzoR9Rv9tZSEx3wi6o8ud8zvf8WVRERERERujkE8EREREZGbYRBPRERERORmGMQTEREREbkZBvFERERERG6GQTwRERERkZthEE9ERERE5GYYxBMRERERuRkG8UREREREboZBPBERERGRm2EQT0TUB19nFWLFF0dgMluUHgp1UNvUhp+9uRsL3twNQRCUHg4Rkd1plR4AEZG7qm1qw+8+zgIAXDsiElcPi1B2QCQzWSw4cL4aACAIgEql8ICIiOyMmXhyOZUNRry57SyyyxqUHgrRJX1yIF/+2thmVnAkdCFVh6ideXgi8kQM4smlNLWasOhfe/Hc+pO4/vVdOFlSp/SQiLpU39KGt7af7fC9ScHR0IXUHTLvLKchIk/EIJ5cyucHC3GypB4A0NxmxtdZRQqPiKhrH+3LQ2Vjq/x9g5FBvCtRoT2KtzCGJyIPxCCeXMoXBwsAAIMj/AEAhwtqFBwN0cWtO2T7AZOZeBfTMRPPghoi8kAM4sllZOXX4Ke8GqhVwF+vGw4AOJxfCwvTaORicisacbSwDhq1CguuiAXATLyrsS2nUW4cRESOwiCeXMYLG04CAG4eF4srk0Lh7aVGvdGEnMpGhUdGZGvzyTIAQGpiCBJCfQEwE+9qbCa2MognIg/EIJ5cQmWDEbvPVgIAHkofAq1GjeSoQADAKWuNPJGr2H66HABw9bAI+OvFTr31LW1KDokuoGY5DRF5OAbx5BJ2ZVdAEICU6EDEhYiZzSHWuvjTpQziyXW0tJmx55z4gXPGsHAEeItBPMtpXAsnthKRp2MQTy5h+ykxs3nV0DD5viGRYhB/hv3iyYUcL65Dq8mCMH8dBkf4y0E8y2lci4otJonIwzGIJ8UZTWZsPFEKAJjZYcXLIREBAIDsUgbx5DqOFNQCAEYNCIJKpUKAtxcAoIFBvEuxCeKVGwYRkcMwiCfF7TpTgfoWEyIC9JgwMES+X2ozea6iASazpcufNVsErD9ajKz8GmcMlQhHCtuDeACsiXdRHctphK4PH0REbk2r9ACItlg7fcwdGQVNh9loAww+8PHSoLnNjPNVTUgK97f5OUEQ8Kv/ZGLTiVLoNGp8dH8qxieEgMiR5Ex8rAEA4C+V07Am3qWoOLGViDwcM/GkuH05VQCAKYPDbO5Xq1VyNv6MtaRGEARsPVWGM6X1OJhXjU3WMpxWswVPfnPciaOm/qi51YwzZeJE69GxYia+48RW1l67DjVbTBKRh2MmnhTTYDThxn/swtlysQ/8xIGds+hDIvxxpLAW2WX12HlGg5c3nsZPeTUAAC+NeJJOT4nAlpNlOFRQi/OVjUgI9XPaa6D+5XhxLSwCEB6gR2SgNwAgQC/WxAsC0NhqlstrSFkdEvGwMIonIg/ETDwp5rMD+XIAnxTuhxA/Xad9hkSKk1t3nqnA7/97SA7gAaDNLCAyUI//mz8cU5LELP66rCLHD5z6rcPWUprR1np4APD2aj+MtrSZnT4m6honthKRp2PKiBRhMlvwfsZ5+ftH5yR3uZ/UK36vteQGAN69ewLqmk2ICvLGFfHB0GnVWDB+AHZlV+D9jPO476pB8PbSOPYFUL8kTWod2SGIV6lU0GnVaDVZYDRxBqWr6LhiKzPxROSJmIknRXy0Px85FY0I9vXC0SdmY/aIqC73S0sKRdqgUPn7X101CDOTI3HTuAGYPCgUOq34K3zd6BgMMPigosGI744UO+U1UP8jLTyWEh1oc7/e+ntoZCbepchxPGN4IvJADOJJEe/vzgUA/G7WkEvWEPvptfjo/snY+Pur8Pj1w/H7a4Z2uZ+XRo2bxw0AAOw4Xd5pe0ltC1sAUp9YLALOlonlX9JCZBK9Vrzyw0y8a5EmtzKGJyJPxCCenC6nohHZZQ3QqlW4ZXxst35mSGQA7r4y8ZJlMtOGiHXxu7IrYOmwzvrJkjpc9cJWpK3agu1dBPhE3VFY04zmNjO8NCokhPjabJMz8QziXYqUiGc5DRF5Igbx5HQbj5cAAFIHhSDQutqlPYyLD4afToOKhlZknKuU739/93m0mixoMJrw6qbTdns+6l+yy8U2p4lhftBqbA+dei+W07giqZyGMTwReSIG8eRUFouAj/blAwDmjIy262OLE1zFzP4rG09DEATUt7Th66xCeZ9D+TWobWZZDfXc2TIxiJfWLuiI5TSuScVyGiLyYAziyal2ZVcgp6IRAd5a3GKtYbenB2cMhl6rxoHz1Xh/dy4+3pePplYzksL9MCjMDxYBLKmhXsmWg/iATttYTuOa5HIaC8N4IvI8DOLJqX7MrgAAzBsZDT8HLIoTFeSNR2YPAwA8/s1x/O27EwCAOybF41prB5wnvzmGigaj3Z+bPNuZS2bipSCe5TSupOOqrUREnqZHQfyqVaswceJEBAQEICIiAjfddBNOnTpls09LSwuWLl2K0NBQ+Pv7Y8GCBSgtLbXZJy8vD/Pnz4evry8iIiLwyCOPwGQy9f3VkMs7cL4aADAxsfPqrPbyyysTsWRqolwPO21IGG6fGIffzhqMYZEBqGhoxXs/5jjs+cnzCILQnokP7yKIt064NrYxE+9KpGMAJ7YSkSfqURC/fft2LF26FHv27MHGjRvR1taGa6+9Fo2NjfI+v//97/HNN9/g008/xfbt21FUVIRbbrlF3m42mzF//ny0trZi9+7deP/997FmzRqsXLnSfq+KXFJLmxlHrCteTkgIdtjzqNUq/PW64chaeS0OP34t/rMkFQHeXvDVaeUWlR/syePqmtRtFQ2tqG1ug1oFDAr367Sd5TSuSW4TzxieiDxQj+oZ1q9fb/P9mjVrEBERgczMTFx11VWora3FO++8g7Vr12LmzJkAgPfeew8pKSnYs2cPJk+ejB9++AHHjx/Hpk2bEBkZibFjx+Kpp57CH//4Rzz++OPQ6XT2e3XkUo4X16HVbEGonw4Job6X/4E+CvLp3PnmmuGRGGDwQWFNM7aeLMPcUfadXEue6UyZuMhTXIhvl21OWU7jmtgnnog8WZ9q4mtrxaxqSIhYGpGZmYm2tjakp6fL+yQnJyM+Ph4ZGRkAgIyMDIwaNQqRkZHyPrNnz0ZdXR2OHTvWl+GQizteVAdAXLJepVCtqkatwnVjxMB93aEiRcZA7udooXisS47qPKkVYHcal8VyGiLyYL0O4i0WCx566CFceeWVGDlyJACgpKQEOp0OBoPBZt/IyEiUlJTI+3QM4KXt0rauGI1G1NXV2dzI/ZwoFv/fhscEXmZPx7phTAwAYMvJMq7iSt2SlV8DABgb13UZWHufeAbxroTlNETkyXodxC9duhRHjx7Fxx9/bM/xdGnVqlUICgqSb3FxcQ5/TrK/41IQH61sED88OhCDwv1gNFmw8Xjp5X+A+r2f8moAAGPjDF1uZzmNa1KrreU0jOKJyAP1KohftmwZvv32W2zduhWxsbHy/VFRUWhtbUVNTY3N/qWlpYiKipL3ubBbjfS9tM+FVqxYgdraWvmWn5/fm2GTgswWASeLxbriFIWDeJVKJWfjNxzr+uoPkaS0rgXFtS1Qq4DRsUFd7uOp5TTd6Ug2Y8YMqFQqm9sDDzxgs49SHcnkTLzDn4mIyPl6FMQLgoBly5bhyy+/xJYtW5CYmGizffz48fDy8sLmzZvl+06dOoW8vDykpaUBANLS0nDkyBGUlZXJ+2zcuBGBgYEYPnx4l8+r1+sRGBhocyP3klvZiOY2M3y8NEgM69zdw9kmDwoFABwtZGkWXZqUhR8aGXDRtQ08NRPfnY5kAHDfffehuLhYvj3//PPyNiU7kskTWxnFE5EH6lF3mqVLl2Lt2rX4+uuvERAQINewBwUFwcfHB0FBQViyZAmWL1+OkJAQBAYG4je/+Q3S0tIwefJkAMC1116L4cOH4xe/+AWef/55lJSU4C9/+QuWLl0KvV5v/1dILkGa1DosKgAatfILsKREiR8EC2uaUdfShkDvzp1siID2evhx8YaL7uOpNfGX60gm8fX1veiVVCU7krFPPBF5sh5l4t98803U1tZixowZiI6Olm///e9/5X1eeeUVXHfddViwYAGuuuoqREVF4YsvvpC3azQafPvtt9BoNEhLS8PPf/5z3HXXXXjyySft96rI5Rx3kUmtkiBfL8QEeQOAXOZD1JWf8sQFyi5WDw94bjnNhS7sSCb58MMPERYWhpEjR2LFihVoamqStynbkYyZeCLyXD3KxHdncpC3tzdWr16N1atXX3SfhIQEfPfddz15anJzUiZe6UmtHSVHB6KotgUniuswyYEryJL7MprMOGxdoGxc/MUXKPPUcpqOuupIBgB33nknEhISEBMTg8OHD+OPf/wjTp06JSdvetuRzGg0yt/3tiOZdNFPYFU8EXmgHgXxRL3lapl4QJykuOVkGXafrcDiKQOVHg65oP051WhuMyMiQI8hEf4X3a8/rNgqdSTbtWuXzf3333+//PWoUaMQHR2NWbNm4ezZs0hKSurVc61atQpPPPFEn8YLtJfTMBNPRJ6oT4s9EXVHWX0LyuuNUKkuvliOEtJTxGzgjtMVaGnz3Awq9d62U+IE/OlDwy+5QJneuoqrp9XESy7WkawrqampAIDs7GwAynYk48RWIvJkDOLJ4U5Ya84Tw/zgq3Odiz8jYgIxwOCD5jYzNp1gv3jqbFd2BQDgqqHhl9zPU8tpLteRrCtZWVkAgOhocWVkJTuSSR+7OLGViDwRg3hyOFeshwfEfvELrhgAAPh/O85xQRiyUdlgxMkS8QPolKTQS+7r7eWZE1uXLl2KDz74AGvXrpU7kpWUlKC5uRkAcPbsWTz11FPIzMxEbm4u1q1bh7vuugtXXXUVRo8eDcC2I9mhQ4ewYcMGp3Ukk66e8C+biDwRg3hyuFMlYhCv9CJPXblrykDotWocKqjFQWsXEiIA2HOuCoBYAhbqf+lg01Nr4i/XkUyn02HTpk249tprkZycjIcffhgLFizAN998Iz+Gkh3J2mviGcYTkedxndoG8lg5FeLCMEnhyi/ydKEwfz2uHxODzzIL8NG+fIxPYJcaEmWcE0tppIXBLkUK4j1tbsXlgt+4uDhs3779so+jVEey9j7xTn9qIiKHYyaeHEoQBJyzBvGJYRfv7qGkOybFAwD+d7jY44Iw6r3dZysBXL6UBmgvp2nx0Imt7kolV8Uziiciz8MgnhyqsrEV9S0mqFRAQqiv0sPp0hXxBkQG6tHcZsa+nCqlh0MuoLSuBefKG6FSAamJ3Q/ijfwQ6FLUbDFJRB6MQTw5VK41Cx8T5CMHOq5GpVJhurX7yLZT5QqPhlxBhjULPyImEEG+Xpfd39tLPJQ2M4h3KdLEVpbTEJEnYhBPDnWuXCqlcb16+I6mDhGDeE5uJaA9iJ+SFNat/X2sH1BNFgEmM0tqXAUnthKRJ2MQTw4lBcUp0a6zyFNXBlk/ZBRUNyk8EnIFGefEID6tG5NaAdhcZWrxsA417qy9T7yiwyAicggG8eRQUjDUnQ4fSooLFuv1Kxpa0dzKkoj+rLCmGXlVTdCoVZiY2L1uRVJ3GgD8/XEh7X3iGcUTkedhEE8OU1zbjPOVTVCr0O1gSClBvl4I8BY7rhbWMBvfnx0pqAUADIsMgL++e114VSqVXBfPDkeuQ83mNETkwRjEk8McLRQXeRoaGYBA78tPDlRarDUbn1/VrPBISEnHi8QgfkRMzxYna1+1lUG8q5BaTLKchog8EYN4cphz5Q0AgMERrtkf/kKxwT4AWBff3x0vFj989jiI17JXvKuRJ7YyFU9EHohBPDmM1JlmULh7BPFSXXxeFYP4/uxYkTWIHxDUo59jm0nXI9fEM4YnIg/EIJ4c5lyFmIlPCnft9pIS6YrByZJ6hUdCSqlqbEVxbQsAIDmqZx2V2ldtZRDvKtq70zCKJyLPwyCeHEbKxCe5SSZ+5ACxfOJoYS37SvdTx61Z+IGhvgjo4TyO9iCe5TSuQm09w/GvmYg8EYN4cojqxlZUNrYCcP2FniRDIwOgUatQ3dQmZ2OpfzlmndQ6vIf18ADLaVyRNLGVH8qJyBMxiCeHkEpSYoN94NfNNn1K8/bSYIi1pOZoYa3CoyEltE9q7Vk9PNC+aivLaVxH+4qtyo6DiMgRGMSTQ5wqEYOh5KieZzSVNDpWDN6y8muUHQgpQuoR37tMvLXFJIN4l8GJrUTkyRjEk0NImfiU6J5NDlTa+IRgAMCB89UKj4ScrbLBiHMV4jyOcXGGHv+8FMSznMZ1cGIrEXkyBvHkECesQfywHnb4UNr4BHFl2UP5NWgzc4Jif3IwrwYAMCTCHwZfXY9/nhNbXU97n3giIs/DIJ7srqXNLK96ObIXtcVKGhTmB4OvF4wmi9yphPqHTOvVF+lqTE9JE1tZE+861CynISIPxiCe7C4rvwZtZgHhAXokhPoqPZweUatVuCKeJTX9Ueb5KgB9CeJZTuNqpHIadqchIk/EIJ7s4oM95/Gnzw+jwWjC/hwxGJo0MESeWOZOpCDuIIP4fqPVZMEh66TW3gbxPiyncTlyJl7hcRAROYJ79P4jl2Y0mfGXr44CAM6WN6DVJAYxkxJDlBxWr7VPbq1SeCTkLMeKatFqsiDET9frdQ2kchp2p3Eh1hwCJ7YSkSdiEE999pN1QiAA7M8Vs9deGhXmj45WaER9M2qAWMdfWmdEbVMbgnx7tnInuR+pHv6K+OBeXz1iOY3raS+nUXQYREQOwXIa6rXSuhZsPVWGhW/v6bRtzshohPnrFRhV3/nptYgIEMeeU9mo8GjIGfo6qRXo2J2GQbyrYDkNEXkyZuKpV3IrGjH3tZ02Wce4EB/kVzUDAJZenaTU0OxiYJgfyuqNOF/ZiLG96BlO7kMQBHkS84SB9gjiWRPvKtpXbGUYT0Seh5l46pW/bz5jE8A/OmcY/nt/GoZE+GPp1Ulut1LrhRJDxbronApm4j1dQXUzyuuN8NKo5FKq3vDWiodTltO4jvYgXtlxEBE5AjPx1GNnyxvwVVYhAOCJG0ZgwfhY+OvFX6WNy6crOTS7SQgTW2PmMoj3eDvPVAAARsca5Gx6b/joWE7jatrLaRjFE5HnYRBPPbZ6SzYsApCeEonFUwYqPRyHkDLxuZVNCo+EHG3rqTIAwNXDwvv0ONIHAKOJ5TSuxsL/EiLyQAziqdvOVzbCS6PG/44UA3D/uvdLGRgmBfHMxHuyVpMFu7PFTPyMYRF9eixvrbU7TSsz8a6CE1uJyJMxiKduOV/ZiPSXt6PNLJ4OB4X7efSET2ml2ZqmNtQ0tcLgq1N4ROQIB3Kr0NhqRpi/HsOj+zaPw0cn1sS3mBjEuwoV+8QTkQfjxFbqlvVHS+QAHgDunBTvlquxdpevTovIQLHNJEtqPJdUSjNjWDjU6r79Puu1rIl3NfL/KGN4IvJADOKpWzafFIMdf70Wr94+FkumJio8IscbKNXFc3Krx9p2qhyAGMT3VccWk2xp6Bo4sZWIPBmDeLqs/KomHMitAgB8/7tpuGncAI/OwksGss2kRyuobsKZsgaoVcC0wfYI4tsPp5zc6hray2mUHQdRXzUYTZjxwlbc9lYGkwQkYxBPl/X2jnOwCMDUwWGIC/FVejhOkxQhBvEnS+oUHgk5gpSFH58QjCBfrz4/Xsf2lCypcRXWTDxjHnJzH+/LQ25lE/blVsmL0xExiKdL+uJgAf6z5zwA4P6rBik8GueaMDAEALAvpwoWpvI8TnspTd+60ki8NGporXX1XLXVNag5sZU8QKPRhJd+OC1/v/N0uYKjIVfCIJ4uac3uXABiAH/V0L6XHLiTUQOC4KvToLqpDafL6pUeDtmR0WTG7rNia8npdvy9lrLxXLXVNcgrtio7DKJeazNb8PT/TtgcU44U1io4InIlDOLpoopqmnG4oBYqFXDftP6VhQfEzOr4hGAAwP6cKoVHQ/a0P6caTa1mRAToMSKmb60lO2qf3Mog3hWo5SieYTy5p4/35eGjfXkAgKhAbwDA0SKWeJKIQTxd1KYTpQCACQnBCA/QKzwaZUi98Jn58CzbrK0lpw8Nt+skbWlyK4N418CJreTuNp4ok79+dsEoAEB5vRH1LW1KDYlcCIN4uqgfjolB/LXDoxQeiXJGDggCABwtZObDk2w7bd96eAnLaVyLSp7Yyiie3I/FIiCzQ2e4GcMi5ITauXJ2TSMG8XQRtU1t2HOuEgBw7YhIhUejHCmIP11az+yqh8ivakJ2WQM0ahWmDgmz62P7WIN4Iye2ugTWxJM7y61sRGOrGXqtGkMi/AEAiWF+8jYiBvHUpYxzlTBZBAyJ8EeCtV96fxQT5I1gXy+YLALOlDYoPRyyAykLPz4+GEE+fW8t2RHLaVyLVCrFchpyR8eLxSvAydGB0GrEY0t0kFgXX1ZnVGxc5DoYxFOXfsoX+9BKbRb7K5VKhXhrb/ySuhaFR0P2sF2qh7fDKq0XksppdmVX2P2xlbBq1SpMnDgRAQEBiIiIwE033YRTp07Z7NPS0oKlS5ciNDQU/v7+WLBgAUpLS232ycvLw/z58+Hr64uIiAg88sgjMJlMDh+/Wp7Xyiie3M8x6wTW4dHtk+/D/MVymvIG2yDeZLagjOeofodBPHXpp/M1AIAr4g2KjsMVyAfNemY+3F1Lmxk/ZotlYlfbuR4eaA/iP9ybh6MeMBl6+/btWLp0Kfbs2YONGzeira0N1157LRob2y/l//73v8c333yDTz/9FNu3b0dRURFuueUWebvZbMb8+fPR2tqK3bt34/3338eaNWuwcuVKh49fmrLMGJ7c0XFrEN+xg5ZUE3/h+ejPXx5B6qrNyDhbKd/HD6+eT6v0AMj1tJosOFxYAwAYFx+s7GBcgBTEVzQwiHd3+3Or0NxmRmSgHinRAXZ//PyqJvnrQwU18pwKd7V+/Xqb79esWYOIiAhkZmbiqquuQm1tLd555x2sXbsWM2fOBAC89957SElJwZ49ezB58mT88MMPOH78ODZt2oTIyEiMHTsWTz31FP74xz/i8ccfh06nc9j4pXIagVXx5IaOdRXEX3A+2p1dgY/352PdoSIAwL92nkNaUijWHy3B8k+yEBXkjXunDsKdqfFOHj05AzPx1Enm+Wq0tFkQ5q/DoLD+Ww8vCQsQgwwG8e5PWqXV3q0lJU2t7bXw/nrPy5HU1opXF0JCxDK7zMxMtLW1IT09Xd4nOTkZ8fHxyMjIAABkZGRg1KhRiIxsnyA/e/Zs1NXV4dixY10+j9FoRF1dnc2tN9gmntxVWX0LKhqMUKuA5KiuM/F1LW24e81+OYAHgIN51TBbBLy7KwdNrWacK2/E4+uOobmV83Q8EYN46mTbabFm+Kqh4VCr7R/ouJsLMx/kvrZa6+EdUUoDAKtuGSV/7WkdaiwWCx566CFceeWVGDlyJACgpKQEOp0OBoPBZt/IyEiUlJTI+3QM4KXt0raurFq1CkFBQfItLi6uV2OWWkxyYiu5GykLPyjcHz46jXx/x/LOveeq0GqyPc5UN7Vhf26VPCkWAFrNFhw4zwULPRGDeLIhCAK2nGhfCIeAMGvmo6K+VeGRUF/kVzXhXHkjtGoVrrRza0nJlYPDMHekuK6C0eRZma+lS5fi6NGj+Pjjjx3+XCtWrEBtba18y8/P79XjqOXFnhjFk3s4WVKHTw/kY7v1qmHHSa1Aeya+qqkV7+w6BwCYOjgMn/96Cm4aGwNAnJPTYDRBo1bJ90lzgcizMIgnG0cKa3GmrAF6rdruC+G4K9bEewZpldYrEoIR6G3f1pId6bXiYdVo8pxM/LJly/Dtt99i69atiI2Nle+PiopCa2srampqbPYvLS1FVFSUvM+F3Wqk76V9LqTX6xEYGGhz6w21A0qmiBylwWjCLW/sxiOfHcaa3bkAbOvhASDETwe1SiwR23NOzK4/eHUSxicE49oR4t/TN9bymgEGH1xlTcZtOVnKia4eqMdB/I4dO3D99dcjJiYGKpUKX331lc32u+++GyqVyuY2Z84cm32qqqqwaNEiBAYGwmAwYMmSJWhoYA9uV/DpgQIAwOwRUXbvoe2uLtbSi9zLVmtmy1GlNBKdBwXxgiBg2bJl+PLLL7FlyxYkJibabB8/fjy8vLywefNm+b5Tp04hLy8PaWlpAIC0tDQcOXIEZWXty8dv3LgRgYGBGD58uEPHr7ae4SyspyE3kHm+2mZeDQCMjTPYfK9RqxDs2z4Z/JrhkZicGApALIHVadrDurgQH1w9LAK+Og1OlzYg4xyz8Z6mx0F8Y2MjxowZg9WrV190nzlz5qC4uFi+ffTRRzbbFy1ahGPHjmHjxo349ttvsWPHDtx///09Hz3ZVUubGV9nFQIAbp0Qe5m9+w/p8mV9i4mTg9xUS5sZu8+KvdtnOKA/fEd6rXXVVg8I4pcuXYoPPvgAa9euRUBAAEpKSlBSUoLm5mYAQFBQEJYsWYLly5dj69atyMzMxD333IO0tDRMnjwZAHDttddi+PDh+MUvfoFDhw5hw4YN+Mtf/oKlS5dCr9c7dPxc7IncycHz4vosgd7tk+KvSOjcIa7jpPw3Fl0hz13z12sxtkNb6PgQPwT76TAlSSwfzC5jstTT9Lh9wty5czF37txL7qPX6y96mfTEiRNYv3499u/fjwkTJgAAXn/9dcybNw8vvvgiYmJiejokspONx0tR12LCAIOP/EdP4gE12NcL1U1tOFve4PZtA/ujfTlVaGmzICrQG8lR9m8t2VF7OY37f+B78803AQAzZsywuf+9997D3XffDQB45ZVXoFarsWDBAhiNRsyePRtvvPGGvK9Go8G3336LX//610hLS4Ofnx8WL16MJ5980uHjZ008uZP8arFF7a+mJ8HbS4Ohkf7w0nTOtb5w62j8du1PWDQ5odP2MbFB2JcjltmMjRPPVdKChQXVzY4cPinAIT3Qtm3bhoiICAQHB2PmzJl4+umnERoqXu7JyMiAwWCQA3gASE9Ph1qtxt69e3HzzTc7YkjUDT8cF+tUbxgbAw270shUKhWGRgZgb04VTpfWM4h3Q1JXmhnDHNNasiO9l3hSvbBrhDvqTg2tt7c3Vq9efcmrswkJCfjuu+/sObRukWriWQtM7qDQGmTHBvvgxrEDLrrf1cMikPXYtV2ep2elROL/7cwBAEy0rrgeF+IDACiobuq0P7k3uwfxc+bMwS233ILExEScPXsWf/7znzF37lxkZGRAo9GgpKQEERG2NalarRYhISEXbTdmNBphNLbXI/e2ZzBdnNkiYOcZsWZ4VjIntF5oWJQYxJ8qrVd6KNQLUqcHR5fSAIBO4znlNO5OzXIaciOFNWIQH2Pwuey+F0u0TR4Uio/um4za5lYMCvcHAMQGi5n4/Cpm4j2N3YP4hQsXyl+PGjUKo0ePRlJSErZt24ZZs2b16jFXrVqFJ554wl5DpC5k5VejpqkNgd7aThNpCBgaKZZgnC5hEO9uzlc24lyFtbXkYMeXiUmZeE/rE++OVCynITdhsQgoqW0B0L0g/lLSkkJtvo8NZibeUzm8xeSgQYMQFhaG7OxsAGJLsY5dCgDAZDKhqqrqonX09uoZTBe34ZhYSjNjWAS0XdTg9XdSHfXhglp2unAz0iqtEwYGI8CBrSUlnlQT7+7kchqFx0F0OXUtbTBZzy1h/rrL7N0zUhBf3dSGBqPJro9NynJ4tFZQUIDKykpER0cDENuN1dTUIDMzU95ny5YtsFgsSE1N7fIx7NUzmLomCAK+P1oMAPJCNWRrdKwBfjoNKhtbcbSoVunhUA9sk+vhnVMm5kndadydVHDATDy5OmkdkkBvrXwMsZcAby8YfMUEBrPxnqXHQXxDQwOysrKQlZUFAMjJyUFWVhby8vLQ0NCARx55BHv27EFubi42b96MG2+8EYMHD8bs2bMBACkpKZgzZw7uu+8+7Nu3Dz/++COWLVuGhQsXsjONQo4X1yG/qhneXmpMd0LNsDvSadWYal3lc+vJcoVHQ93VaDTJvZGdUQ8PtGfiPWFiq7uTWu8xhidXV9EgrggurUtibwmhfgDYZtLT9DiIP3DgAMaNG4dx48YBAJYvX45x48Zh5cqV0Gg0OHz4MG644QYMHToUS5Yswfjx47Fz506bfsAffvghkpOTMWvWLMybNw9Tp07F22+/bb9XRT2y4ag4oXj60HD46hzSsMgjzLRO+JU6nZDre2v7WbS0WTAw1BfDIh3bWlKiYzmNy5Br4lkCRy5OysSH2rmURjI8Wjz+nShmYxBP0uOIbcaMGZds17Vhw4bLPkZISAjWrl3b06cmB5Hq4eeOjFZ4JK5NKsc4VFCDygYjQh2UMSH7yK9qwj93nAMA/GluisNbS0r0HrRiq7tjdxpyF5UOzsSnRItlyKfYnMGjcAZjP1ff0ia3TZw2hAs8XUpkoDeGRwdCEIDtp1lS4+qe33AKrSYLpiSFYvaISKc9r97LWhPP7jSK42JP5C4qHZyJ54JPnolBfD93vEi8tDbA4MPMcjdIH3QOWJfHJteUU9GI/x0uAgD8Zf5wp2XhgQ418WYG8UrjYk/kLsodnImXesUXVDfz78GDMIjv545ag/gRMez40x2jYw0AgMMFNYqOgy7t3xm5sAjiPIbhTv7dZk2861CxnIbcRHsm3jFB/ABr7/kGowl1zWwz6SkYxPdzRwvFdokjBwQpPBL3MDpWfJ9OFtejpY1BmisyWwT877DYMnVRarzTn1+uiWc5jeJYTkPuorLRmon3c0w5jY9OI/efz2ebSY/BIL6fO1Mm1sMPi3JO5w53FxvsgxA/HUwWAYfya5QeDnVhf24VyuqNCPTWYtoQ57dMZZ9418GJreQupO40YQGOK2uVsvGFNayL9xQM4vsxQRCQWyF+Ik8K91N4NO5BpVJhxlAxMHzvx1xlB0Nd2nxC7LZ0zfAoubTFmdgn3nVImXjWAJMrEwQBpXUtAIBwB85Nk+riCzm51WMwiO/HyhuMaDCaoFYBcdaZ63R5v56RBABYf6wE1dZLoOQ6tp4SOwdJff2dTd+hJp7Bo7Laa+L5/0Cuq6qxFS3W8rtog7fDnmdAsJiJZ4caz8Egvh/LKW8EIP5h23uZZ082JDIAEdZLnjwYupb8qiZklzVAo1bJK+w6m/S3ZBEAE+s4FMVyGnIHUnlLRIDeoefi2GCpnIY18Z6CQXw/llspBvEDQ1lK01PRQWK2pKiWQbwr+e6IOKF10sAQBPl4KTIGvVf7YZV18crixFZyB1J5S4y1Zt1RpJp4Jp88B4P4fuxUSQMAYFAYg/ieig4SD4YltS0Kj4Q6+tbalea6McqtPqzTdAji2cFIUe194hUeCNElnLSuojrIwXPT5Jp4Tmz1GAzi+7HdZysAABMGhig8EvcTxUy8y8k4W4kjhbXw0qgwe0SUYuNQq1VyIN/CTLyiVMzEkxuQWj2PdnCrZ6kmvqapDQ1G9or3BAzi+6nyeqP86X9KUqjCo3E/MdbJR8zEuwZBEPDyxlMAgIUT4x226mF3+enFutZGnigVxZp4cgeHrUH8KOtigo7ir9fC4CuWGbJDjWdgEN9PSVn4lOhAh60Q58mkcpriGgbxrmDnmQrsz62GTqvG0qsHKz0c+Om1AMBsl8K6WxN/rrwBN63+EXNe3YE95yqdMDIiUWldC8rrjVCrgOHRjl9dur0uvvPkVnbTcj8M4vup3dniiWrqYGbhe4MTW13LW9vPAhBXaJVKnZTkbw3imYlXllot1cRfOjj5x9ZsZOXX4GRJPVZ9f9IZQyMCABwvrgMADI7wh4/O8V3i2jvU2J67Ptmfj3FPbcRNq39Em5llgO6CQXw/JAgCdmWLmfgrByvThs/dSX31i2qauaiPwrLL6rH7bCXUKmDJ1ESlhwOgPRPPIF5Zcp/4S/yJHimoxRcHC+XvD+XXoLapzdFDIwLQXtYSH+KcBhMDDOK5q2OHmoyzlXj088OoaWpDVn4NPt6f75SxUN8xiO+Hzlc2obCmGV4aFSYlclJrb0QE6OGr08AidH1Zkpzno33iCWdWSqTcfUFpUia+voVBvJK6U07zo7W0cExsEMKt6z+cr2rs1fPlVzVhw7EStLArEXVTUY3UXtI5VxDlTHyHIP77o8U2+/z1q6PYerLMKeOhvmEQ3w9JJ61x8cHw1WkVHo17UqlUSLD215f67ZPztZkt+OonMYu6cGKcwqNpx3Ia1yC3mLzEPrkV4t/v9GERSLBeYTtf2bsP5vf9+wB+9Z9MPL7uWK9+nvqfYmtzBGmelaO1r9ra/jt+ILcaALDqllHyfS/+cMop46G+YRDfD/1oLaWZylKaPhkYKp7wcyqYiVfKlpNlqGxsRXiAHtOHhis9HJncnaaVGVklSZn4S9XESx/CE8N8EW/9m86r6vnfdFVjq9zxK/N8dY9/nvqn4lplMvGHCmpR09SKBqMJJ0vEuvyZyRE4+NdrAADHiurYT94NMIjvZwRBQMZZcVLrlZzU2icDrYtkSZk8cr5PD4ilNLeMGwCtxnUOZ+xO4xpU3WgxKQUqccG+iAoUA6nyemOPn+twQY38NScGUndVNrQCgNPa4saH+MJLI/5dLH53H3acLodFELvWRAZ6I8RPh/EJwQDaE37kulznrEdOUdHQiuqmNqhUwIgYxy4s4ekSWU6jqLL6Fmw9VQ4AuHVCrMKjscVyGtfQ3ie+6yheEASU1YkBe0SAt9xut6Kh6yC+trkNmeerutzWsQSnNx8CqH+qahSD+BA/nVOeL8DbC2vumQSdRo1DBbV48MODAICrOlzJvCLeAMD2gym5Jgbx/czZ8gYAYtbJ28vx7aw8mZyJZxCviK9+KoTZImBsnAGDIwKUHo4NZuJdQ/vE1q6317WYYLR2l4oI1CPMXwykpOzohZatPYgFb2Zg4/FS+T6LRcCq70/gqW+Py/c1tpr5AY4uy2wRUN0k/q6FOimIB8SudIunJMjfD4sMwEPpQ+TvR1sXnfpgTx62nixj/3gXxlmN/Ux2mRjED47wV3gk7m9gmFg/W1gttpnUafmZ2FkEQcCnBwoAuF4WHmAm3lXIE1svEoSU14uTCgO8tfD20sglDZWNnTPpbWYLdp4Rywve3ZWDa4ZHAgD2nKvEP7ef67R/RYNR/jBH1JWaplb5A2awE4N4AFgxNwWzR0Qh2uCDmCBvufQMEIN8rVoFk0XAPWv248kbR+CutIFOHR91D6OOfkbKxCeFO6cnrScL99fDz9pmsjcT4aj3DhXU4kxZA/RaNa4fE6P0cDppD+I5sVVJqi5aTFosghzUt5fSiMF7qDUTX9FFJv5oYa38dXOHFpLbT5d3+dwsqaHLkUppAr218HLynB61WoUJA0MwwOBjE8ADYmnPwknt3b5WfXcSdS1cO8EVMYjvZ86Wi6UfSeHMxPdVxzaT51lS41TShNY5I6MQ6O2l8Gg6kzKw9czEK0rdYbGnTw/kY+Cf/odBf/4Oqc9sxju7cnDEGpgnhonHQykTX93UCtMFk1MP5dfIXx8vrpMXebswiB85IBAA8LO3Mthqki6pstG5k1p74umbRuHsM/MQF+KD5jYzMnPZcckVMYjvZwqsGWOplRr1TaK1Lj6HHWqcpqXNjHWHigAAt453nd7wHcktJhnEK0oK4o8X1+GRzw7L95fVG/HUt8fx7o85AIBU66J3wb46qFSAIADVF6zamtUhiG81WXCsqBYVDUa5reTdUwbi37+chLgOC46t2Z3LxeDoopw9qbWnNGoVUhPFLnb7crue0E3KYhDfjwiCILdTizUwiLeHJOvcghPF9QqPpP9Yf7QE9S0mDDD4YEqSa7ZJZU28a5AmttY2twfkD0xPkr8urTPCV6fB/NHRAMSgJcRXKqmxLYc5VCBm7f104ge0zSfKcKxI7K89KNwPj98wAlcNDZdXfZXsPcfgh7pW6eJBPABMGyKuJ7P+aAknuLogBvH9SGVjK4wmC1QqICrIOQtLeLqxcWKbzkNsxeUUgiDgre1nAQC3T4yDWq26zE8oQyrxqWtmHamSLqz1nT8qGn+am4zRse3tdW+bEIcYQ/tqmfLk1g518bVNbfLVtkfnJAMQl6o/bg3ih0cHyvteeGw9Y20mQHShKuvvmDQXwxWlp0TCT6dBTkUjNhwrvfwPkFMxiO9HCqvFLHxEgJ6dVOxEasV1tryBE3+cYMeZCpwsqYefToO70hIu/wMKCbZmcxtbzTCaOLlVKRd+xgv0ET9cxYW0X4mcMcx2pV8poOrYoeZchRiIRwV64+YrBkCnUeNseSO2ny4DYDvH6NbxcbhvWiLSUyIAAEVc9ZIuosr6O+bKmXg/vRa3TRTLFi82iZuUw0iuH5FOJgM6ZJ2ob8L89YgN9oEgAEcLai//A9QnH+w5DwC4dUIcDL6ue+IL8NZCY40ga5r44U4p6gsy8QZfMYiXAmwvjQqTB9mWZEkLPnXsLiMt5DQwzBeB3l4YG2cAAOyxlsp0zKSGB+jxf/OH4+ZxYutTBvF0Me3lNK43sbUjaQXX48V1Co+ELsQgvh+R6uEHBLMe3p7GWE/oWSypcajDBTXYfEK8nPvzyfEKj+bS1GoVgq0BozR5jZzvghgeBmsm/qaxA/DcglF4Z/HEToveyQs+dfh/kya1JoSIE9lHDrBd7Tq4iw+UMQaxrKaQQTxdRJn1g+KF8yhcjbS6+4miOh7PLuN4UR0e+fSQ094nBvH9SIG1nEY6uZB9jLWW1HRsQUf21dJmxvJPDsEiANeNjna5FVq7Il0pkFZkJOe7WCZepVLh9onxNkvNS9pr4sUAq6nVhI/35wEArkgwAACSo21//7oqh5Aeh0EPXUxZnbjYWFSga5+TB4b6YtSAILSaLfjyp0Klh+OyKhqMmPf3nfg0swB//fqoU56TQXw/UiR3pmE5jT2NjTcAAA7ls5zGUV7YcArZZQ0ID9DjqRtHKj2cbpG6nFQ3spxGKRdm4ruzpkCoNSD/5EABpr+wFVtPlqOlzYIQP53c0vTCY2hXmXjpuYwmi9xTnkgiCAJKrEF8ZKBrZ+JVKhXmjRI7OO09V6nwaFzXM/87IX99wkmlRwzi+xHpsm4Mg3i7GhkTBI1ahZK6FpRaD8pkH4Ig4PPMArmf9/MLRjt9efLeCvYTgzh3zsTv2LED119/PWJiYqBSqfDVV1/ZbL/77ruhUqlsbnPmzLHZp6qqCosWLUJgYCAMBgOWLFmChgbndGy5MBPva239eSkdF945X9mEJ78VF2y6It4gd0O68Bgq/V935O/d/lz1nPROF6hrNqGlTfxwF+nimXgAmGRdS2F/bhUsFraavFBtcxu+6HCVQq/VXGJv+2EQ34/IE1uDGcTbk49OgwTr4lmnS9kv3l5OltTh5jd24+FPD0EQgDsmxePq5Ailh9VtwXIm3n2D+MbGRowZMwarV6++6D5z5sxBcXGxfPvoo49sti9atAjHjh3Dxo0b8e2332LHjh24//77HT10AJ2DeB+vy59Ywy6oTy6tE8tqRg0wyPdd2EYytIuJiRq1Su4pX9/C9QLIVkGNOFk62Ner07wMVzRqQBB8vDSobmpDdjnbpl7otx/9ZPN9eb1zEnqXT0uQR2hqNckrEDITb3+Dw/1xrrwRZ8saMG1I5zpb6r6yuha8uvkMPj2QjzazAB8vDX41fRCWXj1Y6aH1iHTF4MKVP93J3LlzMXfu3Evuo9frERUV1eW2EydOYP369di/fz8mTJgAAHj99dcxb948vPjii4iJibH7mDu6sMVkd4L45Kiu51uMim3vBX9h0HWxlr0B3l5obDUziKdOsq3rB3RsT+rKdFo1xsYZkHGuEln5NRga6frzkpylurFVbr/50q1j8PCnh9Bmds7VCmbi+wmpR3yAt7ZbdaHUM4OtK7cyQ9E3tc1tuPNfe7F2bx7azAKuGR6J7Y/MwEPpQ+Glca/DldSdxp3Labpj27ZtiIiIwLBhw/DrX/8alZXtNbMZGRkwGAxyAA8A6enpUKvV2Lt370Uf02g0oq6uzubWGxcu9uSju3wQ7+2lQVyImOiItmbcdRo1xsYF2+z3i8niOgW3T4i76GMFWEtqWE5DF5KC+CGR7hHEA0BShNidKc/actXTtJkteHnjaew807N++FL3qkHhfrjC2o7TWSVHzMT3E4XsEe9QUjYlm6sz9smL1gmskYF6vPCzMZg2JKxTIOYu+kN3mjlz5uCWW25BYmIizp49iz//+c+YO3cuMjIyoNFoUFJSgogI2xIorVaLkJAQlJSUXPRxV61ahSeeeKLP4+uUie9GEA8Anz0wBVn5NZgxLByfZRZgbJyhUwealdcPx8TEkE6LRXUkBfF1zMTTBdwtEw+0t1g9X+WZQfw3h4rw981nAACblk+Xk3OXc9i6RsyYWAM01vOVWWAQT3bEIN6xpD/206UNsFgEeQIcdd+J4jp8uFdczOnV28chLSn0Mj/h2vx04uG1udVzV2xduHCh/PWoUaMwevRoJCUlYdu2bZg1a1avH3fFihVYvny5/H1dXR3i4i6e8b6YC/8Ou1NOA4gTDWePEEuEFqV2vTKwl0aNG8ZcuhwowHrVk6s504XaM/HuU5Yizf06X9mo8EgcY/3R9sTC9tPl3Q7ipU40I2ICobZeMDY7KRPvXtenqdc4qdWxhkUFIECvRVVjK/bnVik9HLfT0mbGX786CosAzBsV5fYBPADorXXSLf2oveCgQYMQFhaG7OxsAEBUVBTKysps9jGZTKiqqrpoHT0g1tkHBgba3HqjNzXx9iS1q2SveOqozWxBToUYCHc3UHQFCaHWTLwHltM0t5qxo0MZzYEenMdPlIhBfEp0oLxSt8VJmXgG8f1EYTXbSzqSt5cGc0aKQclXWVwMoyeaWk249/0DOHC+Gj5eGvx5XorSQ7ILafKjsc1zM/EXKigoQGVlJaKjxZ7SaWlpqKmpQWZmprzPli1bYLFYkJqa6vDxXFiK5e3l3FOetBJnuXVlTiIAKKltgckiQKdRI9oN2ktK4kPETHxtcxtqPKxMcOOJUrnlJwDsz62G0I1AvMFokj/UdAziTczEkz2xnMbxbh43AADwv8PFMJr6T+DWFw1GExa/uw+7sivgq9Pg3bsnIjbYV+lh2YXeGjAa3TgT39DQgKysLGRlZQEAcnJykJWVhby8PDQ0NOCRRx7Bnj17kJubi82bN+PGG2/E4MGDMXv2bABASkoK5syZg/vuuw/79u3Djz/+iGXLlmHhwoUO70wD2LaY9PHSOH1+hdRzvqKBQTy1K7O2H4wI1LtV6aWPTiMvTJXrYdn4zzILAAC/umoQdBo1KhqMOFJ4+QUcT1mz8JGBeoT46eSaeEFAtz4E9BWD+H6iqEY8aDAT7zipg0IRGahHXYsJW0/2bHZ7f2SxCFj+3yzsz61GgLcWH9yb6hFlNBJvrftn4g8cOIBx48Zh3LhxAIDly5dj3LhxWLlyJTQaDQ4fPowbbrgBQ4cOxZIlSzB+/Hjs3LkTen173/QPP/wQycnJmDVrFubNm4epU6fi7bffdsr4O8ZH3Z3Uak9hAWI5DYN46qikVvx9iHKjLLxEysbne9Dk1pLaFuyyltLcmRqP2dar6s+vP4UfjpWg5RLH8ONFYhA/PFos+dN0OOg4oy6eE1v7AZPZIi/vHMuaeIfRqFW4fnQM/rUrB5tPlMrlNdS1F384hR+Ol0KnUeP9X07CFfHBl/8hNyJl4t25Jn7GjBmXzCZt2LDhso8REhKCtWvX2nNY3XZhJt7Zwv3FIK2sjkE8tZNW9naHlVovFBfii/251cjzoCD+y58KYRGASQNDkBDqh8VpCfjmUBF2ZVdgV3YFxicE47MH0rq8kne8WFzgMcUaxHe8smIWBIcH2czE9wOl9UaYLQK8NCqE+3deWZDsZ8pgMZOceb5a4ZG4tk8P5OONbWcBAKtuGeVxATzgGZl4d9fxnKt3cj080LGbRxNMZvf9MEf25dZBvLXcsaDac4L4HdaFmq4fK5b4jY0z2GzPPF+NPee6nuh6vEgsuZGCeK2TM/EM4vsBaVJrdJCPW9XfuSMpGD1X0YhKXkLvUk5FI/769VEAwG9mDsaC8bEKj8gxPCET7+46ZuL1Wudn4gcYfOCr06DVbEGuh7blo56TroxHBblfUi1OLqdpVngk9tFqsuCnfDHpNjkxBACg1ajxl/m2DRZe2XQagiCgqKYZK78+ind35aC6sRXHrOU0UuDf8ZjDchqyi8Ia8RMzJ7U6nsFXhyER/jhT1oD9udUsqenCSz+cQkubBVOSQvH79KFKD8dhpBaTZosAk9kCrZutOOsJbIN457//arUKQyMDkJVfg5/yajA4wn16gpPjuHMmPsYgjrm41jOC+B/PVqClzYLwAL3NwltLpiZiVkokdFo1Zr64DftyqrDjTAVe+uGUvLjTk98eByBOapVKlTvWxFuckL/hWaUf4KRW55o6JAwAsP5oscIjcT2NRhM2nSgFAPxpbrJHXxny7lCDzWy8Mjr+eikRxAPA9KHiiq4/HC9V5PnJ9ZRa50i4YxAfHSTGEcW1LU7pvuJoO09XAACuHR5pcz5SqVRIDPPDAIOPvODbo58dkgP4jmYmR8r18hqVbU28ozGI7wcKqrnQkzNdb13F8YfjpR69WmdvbLL24k0M88OoAUFKD8ehdB0y76yLV0bHiWg6hYJ4aeXXHafL0dRqUmQM5DoEQUBJrftm4qODxDE3tZpR1+L+v88nrS0ix1xQB9/RzyfHA2j/8DV/VDTmjGi/yn77xPbVpNVqlTwXx+SEVDyD+H5AXq3V4H4HDHc0Ls6AuBAfNLWa5awziXZnVwIArh0R6fSe3c6mVqvkwNGde8W7s47ZdyVq4gEgJToAscE+MJos2J/LCe/9idFk7pStrjea0Gz9UC/1XHcn3l4aBPt6AXD/khpBEHCyROwukxx18VK3QeH+SE+JkL+/fkw0VsxLxuAIf9xyxYBOE2GlbDzLacgu2hd68oxFdFydSqXCDdZs/LpDRQqPxrUcOC/O8J+YEKLwSJxDCiIv1WeYHMe3Q294L40yHxpVKpWc5TtRXKfIGMj5tp4sw7C/rMea3bk295das/AB3lr46txzWmJUh5Iad1beYERVYytUKmDIZearvHz7WPzyykQsmZqI9JRIJIT6YdPy6Xj5trGd9pXKclhOQ30mCILcnYblNM5z41hx9dZtp8rkKyH9XVVjK86Wix06xid4XkvJrkh18czEK6NjkGRRsH5XWgiGQXz/8ejnhwEAT3xzHJYOXUqkkgx3XOhJEmMtqSmuce8g/pQ1C58Y6nfZxeACvb2w8vrh+Ot1wy/bpKA9E88gnvqopqlNvnQn1bKR4w2NDEBqYgjazALe3nFO6eG4hP9knAcADI30R7CfTuHROAcz8cry7tAbXsk27UMixK4X58rZZrI/EAQBNU2t8vdnyhrkr9vbS7rv+Vgae4mbl9McKRQnqQ67RClNb0i94k0M4qmvpFKaMH+9TbcMcrylVw8GAHx+sABGU/8N4krrWvDKxtN4bfNpAO3vS3/ATLyyVDY9m5X7P0gM8wMA5FY0ekRHD7q06qY2tJnb/59nv7oDP+WJ8yGkRZLcOhNv7XRX5MblNPlVTVi7Nw8AMHlQqF0fWy6nccUgfseOHbj++usRExMDlUqFr776yma7IAhYuXIloqOj4ePjg/T0dJw5c8Zmn6qqKixatAiBgYEwGAxYsmQJGhoaQPZXyEmtipk6OAxRgd6obzFh26lypYejiG8PF2HKs1vw2uYzsAjAnanx8nyB/oCZeNdhVjB2jgvxhUolTmqsbGy9/A+QW8uv6rya6Z3/by+yyxrkEg57Z3+dSfoAUuKmQfznmQW4+sVtKKhuhl6rRvrwSLs+vtQr3hklfD0O4hsbGzFmzBisXr26y+3PP/88/v73v+Ott97C3r174efnh9mzZ6Olpf0/e9GiRTh27Bg2btyIb7/9Fjt27MD999/f+1dBF8V6eOWo1SrcYF3G+ZP9+QqPxvnK64348xdHYLYIGBtnwEu3jsHfbhrp8V1pOmIm3nU4oz71Yry9NPJy9VIQR54r35ptHzUgCPNGia0Im9vMWJdViOPWeRHJUYGKja+voq1JwSI3LKcxmsz423cnYLIImJQYgrX3Tbb7QpjSInMumYmfO3cunn76adx8882dtgmCgFdffRV/+ctfcOONN2L06NH497//jaKiIjljf+LECaxfvx7/+te/kJqaiqlTp+L111/Hxx9/jKIidvKwNykTHxPEIF4Jd0wS+8tuOVWGnIr+VQ/72ubTqGsxYURMID57IA0Lxsf2qwAeYCbelTjjhHopo2LFdREOFdQoOg5yvPwq8bybFO6HNxaNx6pbRgEAPtibh/OVTdCqVW69Toa04FOJGy74dPB8DaoaWxEeoMfae1Md0mRBmvfqkkH8peTk5KCkpATp6enyfUFBQUhNTUVGRgYAICMjAwaDARMmTJD3SU9Ph1qtxt69e+05HEKHHvHMxCsiMcwPM5MjIAjAmh9zlB6O0+zOrsDH+8SrD92Zze+p9OwT7zKUDuJHW4O2Y0XsUOPppLr3uBDx6stVQ8OhUatQZS2lunJwGIKsvdbdkc2CT83uteDTmTLxStiY2CCHnZe0avFx3S6ILykpAQBERtrWF0VGRsrbSkpKEBERYbNdq9UiJCRE3udCRqMRdXV1NjfqHimIj7Hz5SLqvl9emQgA+DSzALXNbQqPxvGOFdXiV//JhMki4KaxMXafNORO5HIaZuIV54yezZcyNFKsgT5bxvlfni7fWsYqlVANMPjg/qsGARA7l/wufYhiY7MHby+NHMgfzHevBcyyrX9/SdaOUY6gljLxrlgTr4RVq1YhKChIvsXFxV3+hwiAWJcMuOfyzp7iysGhGBTmh6ZWM3ZnVyg9HIfaeLwUP3szA/VGE1ITQ/DsgtFKD0lRzMQrL0Av9oqfOjhM0XEkhVvbTFY0Kn5VgBwrr1IsnYztcAX8j3OSsf2RGdj6hxm4It7918lISxKTM/e8t9+tuq9JQfzgcMcF8W7bJz4qSpzAUVpqu9R8aWmpvC0qKgplZWU2200mE6qqquR9LrRixQrU1tbKt/z8/jdJsDcEQUCF9fJdaD/py+2KVCoVrrQGEJ687PqWk6V48MNMNLeZMSUpFG/fNaHftzWVXj9r4pXz/UPT8MzNo/Dg1UmKjmNAsA/0WjVaTRa53II8T31LG3Irxf/fCzvQJIT6ySU27u5O63wvANh0vOwSe7oWOYh3aCbehSe2XkpiYiKioqKwefNm+b66ujrs3bsXaWlpAIC0tDTU1NQgMzNT3mfLli2wWCxITU3t8nH1ej0CAwNtbnR59UYTWq0ZwDB/vcKj6d8mDBQzL5nnqxQeiWMcLazFAx8cRJtZwPxR0fj3LychyMd9az7thZl45cUG++LO1Hjotcp+oNSoVXK/+OweltRsPVWG297KwP8OFztiaGRH0pyHmCBvhHrweXfCwBA8MF38YLzxeNel0K6mrqUNZdbqBEeW02hdOYhvaGhAVlYWsrKyAIiTWbOyspCXlweVSoWHHnoITz/9NNatW4cjR47grrvuQkxMDG666SYAQEpKCubMmYP77rsP+/btw48//ohly5Zh4cKFiInpP/2jnaGyQczC++k0l11SmBxrwsAQAMDRojo0t3pWVja/qgm/+k8mWk0WXD0sHK8uHNtvJ7JeSMcgnjqQsn9ny3sWxL+44RT25VZh6dqDqGwwOmJoZCdHrauAjnTj7jPdNWNYOABgV3aFoi1cL+VseQP+8tURHMyrlv9vYoK8EejtuCST3GLSCTXx2p7+wIEDB3D11VfL3y9fvhwAsHjxYqxZswaPPvooGhsbcf/996OmpgZTp07F+vXr4e3dXpP94YcfYtmyZZg1axbUajUWLFiAv//973Z4OdSRdLD35GyAu4gJ8kZ4gB7l9UYcL65zSFsrJeRXNWHh23tQWNOMxDA/vHr7OHgxgJdJH2bazAziCRhkrcPtSbvZygajTUeb9cdKsCg1we5jI/uQAkV3biHZXVfEB8NXp0FFQytOlNRhRIxrvWaLRcA97+1HXlUT1h8txdyRYsn2FQ4+/2qcmInvcRA/Y8aMS/YFValUePLJJ/Hkk09edJ+QkBCsXbu2p09NPVRhzcSH+rMeXmkqlQqjBwRh88kyHC6ocasgvqLBiOfXn8SZsgaE+etRVm9EdWMr1twzEX/8/DAKa5oxKMwPH90/2a3bpjmCl/VgblJyuVByGXHWiY4F1d1fJOdsuW3AfyC3mkG8ixIEAXtzxJLJ0XEGZQfjBDqtGmmDQrH5ZBl2nqlwuSB+z7lK5FlXz61oMOI/e84DAKYPDXfo8zpzxdYeB/HkPiobxUw86+Fdw6hYMYg/UlCr9FC6rbnVjNv+mYFz5Z0zhzNf2g4A8PHS4N9LJrEDUhekTLzJwkw8ifX5QM+C+POVtn97UqaXXM+J4noU17bAV6dBamKI0sNximlDwrD5ZBl2nC6Xa+RdxX8PiE1QhkUG4Gx5A0wWAbdNiMWCK2Id+rwaJyZvGMR7sIp6MRMfxky8SxhtXbExy01WbBQEAY+tO4pz5Y0ID9BjcVoCdpyuwISBwfg0s0BuX/rn+SlycEK2tBrxYN7GTDyhveVgYXUzLBZB7mJxKeetnU4mDwrBnnNVKKltcegYqfeOF4tlT2NiDf2mM9eMYRHAN8ex51wlCqqbnHYuEAQBGWcrUdvchlkpkfL8I0ltUxu+PypOuH3+Z6OhVqlQ09yKqYPDHL5yuNxikpl46gspEx/qx0y8KxgTawAAnCtvRHVjK4JduO2nyWzBo58dxhc/FUKlAl742WjMGBaBZTPFRUrunTYI67IKkRIdiNR+vJjT5XhZV/0wsSae0L5eR6vZgprmNoR04xhw3loOMCkxFHvOVaHeaEKj0QQ/PU/frkbqOjQk0nGdT1zNwDA/TEoMwb6cKmw+UYbFUwY6/DlNZgt++f4B7DhdDgCYOzIKb/58vM0+Xx8qRKvJguSoAIyODXJ44N5Re4tJJzyX45+ClCJlSpmJdw2h/noMChdbzGWed+1+8R/tz8cXPxVCo1bh+QViAN9RiJ8Od1+ZyAD+MuRMvIt2biDn0mnVCLbOG6noZpcZaeGg4dGB8sJVJXXMxrui7LJ6AI7tQe6KJlm7rx3vMAHbUYwmMx757LAcwAPA90dL8N6POTb7fX6wEABw64Q4pwbwQHsmniu2Up9I/VAjWKvsMiZYJ7QecNEgXhAEmC0C/rXzHADgT3OScesErpDcW3JNPDPxZBUeIF4ZlZIslyNl4hNCfRFpXeq+lCU1LskZq4G6ohEx4to9x4odO19DEAT835dH8eVPhVCrgL/fMQ6/Tx8KAHjim+P42Zu78db2s5j32k4cyq8BALkjjTNJyRuzE+ZC8XqcByurFw/0EQEsp3EVEwaG4JMDBS6z6FNORSOOFdUizF+PT/bn4/ujJWi2ri5q8PXCosnxl3kEuhR2p6ELhfnrcbq0oVtBfG1TG2qa2gAA8SG+CPEVr6rWNLc5dIzUcy1tZrkTyuB+VE4DQO5Kc7qkAW1mi8PaDH+0Lx+fZRZArQLeWTwRVydHQBAEbDpRiiOFtThwvtomQTZnRBRiDD4OGculyH3inZC7YRDvoQRBQFmdNRMfwEy8q5Ay8YcKamE0mRVdRfI/e85j5ddHcbErfsuuHgxfHQ8RfSH3iWc5DVlJmfjulNOcrxJLacL89fDTaxHgLf491rf0LIhvaTNDrVJ1mvxH9pNd1gCLAAR6axHezzrCxYX4IECvRb3RhDOlDRhuzcz3Vb11hVW1SoWBob54fcsZAMAfZg/D1cliiadKpcILt47GA//JRK51EjgA3DctEX+el2KXcfSU3GLSFfvEk3uoazHJq0RGBPavA4orSwzzQ6ifDpWNrThaWIvxCcq0ITtdWo+nvjkOQQAGhvrCaLJgSGQAZiVH4GBeNbRqNX6Rxl7UfeWlkTLxLKchkRTgdScTL3WmGRgqdvwI9BHr6euaTd1+vsMFNbj9n3vgq9Ng4/Lp3ZpMSz3z74xcPPHNcQDAmDiD02uwlaZSqTAuIRg7Tpdj3aEiuwTxO06X46539wEQj6OPzk5GcW0LvL3U+OWViTb7JkcFYtsjV6OlzYzb396DVpMFv0sfqtj/g0uv2EruodxaShPgre03ra7cgUqlwhUJwdh4vBQHcqudGsSbzBb8c8c5nCypx7GiWrSaLZiVHIF/LZ5gc7BzRneB/kIrd6dhJp5EPamJl8oz4qUg3pqJr+tBJv6Lg4VobjOjuc2MjcdLcPtElsj1VZvZApNZgI9Og+2ny7Hy62Pytivi3WchP3v6eWo8dpwux9q95/GbmYP73D1J6vEOiC16//bdCQDAlUlhF41pvL00+HrplX16XnuQqomcsWIrr615qPZSGmbhXY20WutPeTVOe842swVL1x7ECxtO4ZtDRThX3gi9Vo0nbhzR77JGztTenYaZeBJJi++Vd6ecxtqZJiFE7GoV4C1m4utbOmfif8qrxicH8jsFDrvPVshfbzxe2rtBk2x/bhUmP7MZY578AZnnq/HNoSJ529yRUf12HlF6SiQSw/xQ12LCJx0C8N4wmS1y95lHZg9DVIfmHLNSIvv02M4gJW8YxFOvyZ1pWA/vcsZZl+P+Kd95HWr+sSUbG461n8CDfLzw0m1juEiTg7WX0zATTyIpE7/zTAV2nim/5L5Sje/AMKmcxpqJv2Bia3ZZPW77ZwYe/eywXDcMiEFEbkV7nfDOMxVosU5cp56rb2nDL9fsR2VjK1pNFry2+Qz2nKsEALz/y0l48+fj++05V61W4Z4rBwIAvvqpsNePY7YIWLnuGOpbTAj29cID05OwYl4yEsP8cMekONw6wbGrrdpDe594ltNQL8mdaVgP73JGxQZBo1ahtM6I4tpmRAc5dvZ8flUT3tp+FgDw2sKxmD0iipPcnETKyLSxJp6swjtcHf3FO/vw3/snX3S9hTxrEB8fIpXTWGviLyin2X66Ql4VeP3REjxkbbtXUteCVrMFXhoVdBo1GlvNKKhu7nd9zO3lYF6NzVUQKVusUavkpgX92ZwRUVj59TEcKqhFWX1Lrz7QfHogH2v35gEAbp8YD41ahRvHDsCNYwfYe7gOY83dOGXFVp7FPRTLaVyXr06L5KgAAM4pqXnmuxMwmixIGxSKG8bEwNtLwwDeSaRyGhO705BVQqjt1a9/7znf5X6tJgtKrcmYOGsQHyAH8bblNB0X2TldWi93r8kpF8txYoN95ccoqmnu60vot7Ksx+vrx8RA3+EYOjo2iCvoQlyTZtQAsd3ku7tye/UYH1oD+FvHx+LR2cPsNTSncmYmnmdyD8VyGtc2Lt4AQKxjdaQfsyvw/dESaNQqPHbDcNa/O5kXF3uiC1zYtvX7I8XYcbocwgVZu5LaFggCoNeqEWrtKHOxcpoTxe1BvEUA/rs/H4Ig4IuDBQDEIFPql80gvudaTRb8OyMX64+VABBbBUuJGABI48rVsjnWxZXe2n62x2U1GWcrcaSwFjqNGivmpcjBsLvRqp2XvGEQ76FYTuPaxsU5fnJrm9mCJ74Ruyb8PDUeyVH26d1L3ScdzNtYE08drJibDJ1GDb1WDYsA3PXuPsx4cRuOFbWveFloDbYHGHzkD9+BXUxsbTNb5JVCl16dBAB4e8c5vLX9HL6wBlF3TIpHjMHb5nGpa1tPluGq57di+SdZaLW2af53Ri5Wfn1M/rA0Ns6AYR2C+MkM4mX3TRskf6hZ12HSb3e8uuk0AOC2ibFu3QrVmX3iGcR7KCkT398WnXAXUib+SGGtfKKwt3/tzMHp0gYE+3rh99cMdchz0KXJmXh2p6EOfjU9Caf/Nhe7/jgTcSFihvx8ZROW//eQnJGXMuYdV5wM6KLF5LGiOrSaLQjQa/HbWUMQ4qdDWb0Rz60/CUDs7jF5UKh8VbY7i0z1V02tJjz03yzkVTXhi4OF+H87zwEAPssssNkvJToQCaF+8vepg5RZ78MV6bRqrJiXDAA4kFvV6QrTxRTWNGNvThXUKmDZ1UMcOUSHc2afeAbxHqpcqolnJt4lJYb5IcjHC0aTBSdL6i7/Az30v8PF8kn8D7OHweDrvlkNd6Zldxq6hPAAPb777TT88xfjAQCnSutx3JrtbQ/i20sipcWeGowmWCwCLBYBz/xP7J89dUgY9FoNpg0Js3mOOyaJLQ+lzGZFQ6sDX5F7e3vHOdR2KFV6YcMpvLzxNM5Z5xYAwOPXD4dOKy6GN2dEFN5cdIWiK2+7opToQOg0atS1mFBQ3b0rP0cKauWfjQpy7zJgZuKpT5pbzag3ipdbw1kT75JUKlWHuvgauz52S5sZT/9PXD1wcVoC7pzUP/sWuwJ2p6HLCfD2wuwRUUhPEZeR33ZK7HhSVHvxTLwgAPVGsR/3vtwq+Hhp8H/zxSXmbxgTI+8fF+IjB+9h/uK/VY0M4rtitgh4Z2cOAOCZm0fJ79vfN59Bq9kCHy8NTjw5B3dbVwsN9PbCW78Yj7mjohUbs6vy0qjlDkgniutQ29yGLw4WXHKBs+PWUrIRdljtVWka1sRTX0j18HqtWl7hj1xPe128fSe3vrb5DIprWzDA4IMV81I4mVVBXm7enWbHjh24/vrrERMTA5VKha+++spmuyAIWLlyJaKjo+Hj44P09HScOXPGZp+qqiosWrQIgYGBMBgMWLJkCRoaGpz4KtzDjGFSEF8GACiqEY/jMR1a0Oq1GrkrSnl9C56xrmL58LVD5TUfpMcBgIEdSj5C/MSrsgziu3auvAH1RhN8vDS4fWIcnrl5lM32wRH+8NEx495dKdFiMJ55vhq3vPEjln9yCPf++8BFy2vOWOd1DI0M6HK7O9GwnIb6oqS2fVIrAzjXJWXiM+0YxJ+vbMTbO8Q6zseuH37R5anJObRydxr3DOIbGxsxZswYrF69usvtzz//PP7+97/jrbfewt69e+Hn54fZs2ejpaVF3mfRokU4duwYNm7ciG+//RY7duzA/fff76yX4DamDw0HIPYib2o1dVkTD7SX1OzPrUZdiwmhfjrcPWWgvF2jVuGtn1+BwRH+WDE3Rb5fyixXsia+S0etmeCRAwKhUaswZ2QUTj41R94+jxn3HkmJFoPxf+44h7PWcqRD+TXYm1PV5f7SwmaDwv263O5OnFlOwzStBzpXIf7BJIZxQQ9XNi7eAI1ahfyqZhTWNGOAoe+LPq3ZnQuzRcC0IWG4dkSUHUZJfeEldadx04mtc+fOxdy5c7vcJggCXn31VfzlL3/BjTfeCAD497//jcjISHz11VdYuHAhTpw4gfXr12P//v2YMGECAOD111/HvHnz8OKLLyImJqbLx+6P4kJ8ERXojZK6FhzKr0V+tRjUDAi2PS6E+OpQXm/EPmswNCTSX/6wKJkzMhpzRtoGnVKbyroWE9rMFnnSNYnOW4PIpPD286a3lwYf3z8Z+3OqsGRqolJDc0tSJv5C/9qZg9TEEJsEoyAIOF8pxi0dJwy7q/Y+8U54Lsc/BTnbmVLxstTgcAbxrizA20teGGN3dkWfH6++pQ2fHhC7KPCE4xqk4EoQnLPwhzPl5OSgpKQE6enp8n1BQUFITU1FRkYGACAjIwMGg0EO4AEgPT0darUae/fudfqYXd3YOAMAsaSmpc0CjVrV6cO9tOLrnnOVANDt1VcDOpRW1l+wWBQB+VXilQ9pUSzJ5EGh+M2sIVwgr4dGxwbZLIj1wZJUaNQqbDpRivd+zLXZt7i2BU2tZmjVKsQF+8LdSa2FuWIr9cqZsnoAYoaGXNuUJLGfbsbZyj4/1meZBWgwmjAo3A9XDQnv8+NR30ndaQDPm9xaUiIufBMZGWlzf2RkpLytpKQEERERNtu1Wi1CQkLkfbpiNBpRV1dnc+sPpHaTGdYAPcbg3Sl4lIL4YmvZZEJI9zKXWo0a/vquF4siIL9KzMTHBvf9iiiJSar/m5+C2GAfvHjrGEwdEoaHrxVbHb+fkWtTGy/1308K9/eID0tSi0lntBZ2/3eLOpEW/hjSzQwNKSfVuijGgfN9r4v/aJ+4XPU9Uwa67Up3nsZL3X6IddfJrUpYtWoVgoKC5FtcXJzSQ3KKaOsk1sPWdntdlURKXWYkF9bMX4rU6KCWQXwnUvnShZl46r270gZi1x9n4mfjYwEAd08ZCH+9Fucrm7DnXHtt/MkSMfGYHO3+k1qB9pp4ltNQj9W3tMkZmu5eZiXljI0zQKUC8qqaLtl+63JOltThdGkDdBo1bhg7wI4jpL7omIk3eVgmPipKnHNRWlpqc39paam8LSoqCmVlZTbbTSYTqqqq5H26smLFCtTW1sq3/Px8O4/eNXXsCQ8AqYmdFxGSMvGSaEP32whLk2LrWtpQ29SGl344ZbNKbH9lNJlRUieeN+MZxDuMr06L660tUD850P43fbpUDOI9oTMNwD7x1AdSFj48QM8FftxAkI+XfMXkYC+71AiCgH9syQYAzBgWjiDriZqUp1V3LKfxrEx8YmIioqKisHnzZvm+uro67N27F2lpaQCAtLQ01NTUIDMzU95ny5YtsFgsSE1Nvehj6/V6BAYG2tz6g9gL6oFnDOtcFnfhPh1bUF6OFMTXNrdhyfv78fqWbDz5zfFejNSzFNW0QBAAHy+NPAGYHOO2CWJWfv3REnm1ck+rHpAz8ayJp54642F/DP3B+ASxX3xvg/gvfyrEt4eLoVGrcP9Vg+w5NOojlUolB/LOqI+0t4aGBmRlZSErKwuAOJk1KysLeXl5UKlUeOihh/D0009j3bp1OHLkCO666y7ExMTgpptuAgCkpKRgzpw5uO+++7Bv3z78+OOPWLZsGRYuXMjONF0Y3qGjR3pKBEbEBHXap2P3FB8vDSICur8qd6C3GMTXNLXJJXx7c6o8br5GT+VVSaU0PmzL7GBjYg0I8dOhuc2MI4U1sFgEnC23xi2ekomX+sQzE0895WmfaPuDcfHWIL4XdfFNrSa89MNpAMDya4ZiwsDOl99JWVJJjTv2ij9w4ADGjRuHcePGAQCWL1+OcePGYeXKlQCARx99FL/5zW9w//33Y+LEiWhoaMD69evh7d1e4vHhhx8iOTkZs2bNwrx58zB16lS8/fbbirweV6dWq/CPO8dhVnJEp8WGJAmh7Zl4AUKP5r8E+og18YcLamzuP2ft491fnbMGkYlh7t/e0NWp1SpMsp6n9pyrQmFNM1raLNBp1IjzkEnF7S0m2SeeekgK4gd7yCfa/kDKxB8uqEWryXLZ2fm1zW14ccMpZJ6vRlVjK0rqWhAV6M22ki7KS61GCyxume2cMWPGRVdYBMQrDU8++SSefPLJi+4TEhKCtWvXOmJ4Hum60TG4bvTFr1J4e2kQH+KLvKomzOnhWhARAeKHq62nym3ur2nq36u4yudNJr+cYvKgEKw/VoI95yrlq0+Dwv06rXfgrqSpUM4op2EQ72Gky1LsEe8+BoX5weDrhZqmNhwvrpN7RXfFYhHw0Mc/2ZyEdVo1/nHnOK7O6qLkTDy705CdfP7rKVizOwcLJ8b36OekibMXTqLv791qpPNmEs+bTiF1Zcs8X400a5vlJA/6AMUVW6lXLBZBXqo7PpQz7N2FSqXChIRgbDpRhh+zKy4ZxK8/VoKtp8qh16rxl/kpCPD2wviEYLZFc2FSdskdM/HkmsID9HhkdnKPfy76IpNg6/r54k9nreVEDOKdY1hkgJy4+uqnQgCelXjUWFsLOyNx4xnXLggAUN5gRJtZgFoFRPZgshMp76qhYheK7afLL7qPIAh43dqF5lfTk/CLtIG4adwABvAuzkvtvjXx5Fmig2zbUQ6zll3250x8bXObfGXCk7LBrqxjXfzpUmlSq+e891JVEFtMUo8UWrPwUYHeHlNb1l/MGCquapl5vhp1LV2fUI8U1uJEcR28vdT45ZUDnTg66gvpb9Edu9OQZ+kYKCWG+WHCQHE+Tn9ewVUqpYkK9JZXtCXHk0pqJJ7SIx5oX7GVLSapRwqrxSB+gIfM8O5P4kN9MSjMD2aLgN3ZFV3u882hIgBAekok1wBwI1JNfKPRjNqmtktOFCVyJL1Wg5duHYPh0YF48+dXyGtK9OdM/FnrpNakCHamcaZrUiLlryMD9R7VUU/jxO40DOI9iFQP35NluMl1TLcu7LLtVNclNRuOiStjXqpzBbkeL2t95I9nKzDmyR9w3eu7FB4R9WcLxsfiu99NQ3JUIIN4sB5eKfGhvnjyxhGICfLGgzMGe1R/fgbx1CsM4t3bjGFiSc2Wk2WdJkEW1TQjr6oJGrUKU4eEKTE86iUpE19SKy7rbvDlirrkGqKsNfLSucMVfLDnPB77+qjTJoJnnq8CwLVVlHBX2kDsXjELi6cMVHoodsUgnnpFqokfwCDeLU0eFIJQPx3K6o347kixzba9OZUAgJExgazbdDNSTXyxNYgP8+ekc3INsdbSy4Jq1wjis8vq8ZevjuL9jPNYf7TE4c93vKgO+3OroVYB1wzvWc99oouRVmy1sCaeeqKwRgwSGMS7J71Wg7utGYmXN55GU2t727fd2WIQf+FkIHJ9UneaEgbx5GJig8XOViV1LTC5QAvU7460B+6fHyxw6HMJgoDH1h0FAMwbFS1flSDqK2eu2Mog3oOwnMb9Lb5yIKKDvHG+sgmvbDwNADCazNhwTDy5zbC2oiT34WXNxEt/nwziyVWE++vhpVHBbBFQesECUErIOFspf73jdDmqGx23kuyhglrsz62GXqvGH+f0vOc+0cVopSDeCT0MGMR7iAajSZ6cJK3KR+4n0NsLz9w8CgDw/u7zyKtswvdHSlDXYkJkoJ6ZeDcU4id2EpIW/gjzZ2chcg1qtQrB1k5XjgyYu0MQBBwvrpO/twhiW11H+f6oWLJ4zfBIrrVBdtWeiXf81S0G8R5CyvIFemsR4M2Jc+5sxrBwTBsShlazBdf/Yxf+78sjAIDbJ8TJE2bIfUQE2mbew7gQG7kQ6UNmpcJBfFVjK2qb26BSiW10AeBokeOCeKnmft6oaIc9B/VPUk28MyrUGMR7iEKW0ngMlUqF384aAkBs/dbYasbUwWFYNnOIwiOj3ogMtL0yFs5yGnIhodYrQ1WNypbTnLH2ax9g8JEXoTpWVHepH+m18nojzlc2QaVqXy2byF6kZBtXbKVuK2JnGo8ycWAIrh8TgzB/HR6YnoR37p4AnZZ/ru4o8sJMPIN4ciFSOU1lg7KZ+J/yagAAw6MDMSImEABwzEHlNKdK6gEACSG+7PZFdicF8c5YpZu/vR6igKu1epzX7xin9BDIDiIDbDPxoayJJxcSai2nqW5SNojfl9PegWtkTBAAILeyCaV1LZ2uZvXVCWvt/bCoALs+LhHQYWIrM/HUXflVTQCAuGBO0CFyJR1r4geG+srdaohcQYif+PtZpWBNvNki4EBuNQAgNTEEwX46TEgQS2ouXDPDHg5YF3gaFx9s98cmktYGaXNCexqeTTxEvjUTHxfCTDyRK4nokEVMS+Jqu+RaQvyVL6c5XFCDeqMJ/notUqLFUpoZw8Kt2+xbUvPc+pPYcKwUADBxIIN4sj9nZuJZTuMhCqyZ+Fhm4olcSkCHmturhjCIJ9cildMomYn/OqsIADAzOUKuJ06OEoP5E8X2mdxqMluw5WQZ3tx2FoB4VWxsHIN4sj+thjXx1AONRpPcHoz9bolci0qlwsu3jUFuZRNmj+DS7uRapImtVQrWxO/PFctb5oxs//tIjhbr1c+WN6DVZOnTxP7KBiNu/WcGzpU3yve9cvtYtuwlh9CqnVdOwyDeA0iTWgO9tQjyYY94IldzyxWxSg+BqEvtLSaVCeJbTRacLhW7xYwaECTfP8DggwC9FvVGE85VNMiZ+Z46W96AWS9tt7nvywensB6eHMZLysQ7oVE8a+I9QEG1dVIrs/BERNQD0mJPNU1tTgk6LnS6tB5tZgFBPl6I7dBdTaVSydn4473sF1/X0oalHx60ue/GsTEM4MmhpImtJtbEU3ewMw0REfVGsK8OKhUgCEB1UxvCnbyi8DHrqqwjBwRCpbItb5kwMAT7c6vxj63ZmDsyGj46TY8e+z8Z53GypB4B3lp8+eAUDI5gS0lyPK3cJ57daagb2JmGiIh6Q6NWwWAtw1SipOZooZhlHxET1GnbHRPjodOoca68Ef/Zk9vjx95zTuw9/1D6UAbw5DQdu9MIgmMDeQbxHkDOxLOchoiIeihYwQ41R62ZeGmV1o7iQ33xh9lDAQBf/VTUo8c1mS04eF7sPT8lKbSPoyTqPm2HtUAcPbnV7kH8448/DpVKZXNLTk6Wt7e0tGDp0qUIDQ2Fv78/FixYgNLSUnsPo1+RM/EspyEioh5Sqs2k2SLILSRHDuiciQeAW8fHwUujwvHiOpyxToDtjhPF9WhsNSPAW4thkczCk/NIE1sBx7eZdEgmfsSIESguLpZvu3btkrf9/ve/xzfffINPP/0U27dvR1FREW655RZHDKNfEARB7hHPchoiIuqpEDmINzr1eYtqmtHSZoFOo8bAUL8u9wn202H6UHHhp39sze52ecK2U2UAgIkDQ6BmK0lyoo6tSx1dF++Qia1arRZRUZ37IdfW1uKdd97B2rVrMXPmTADAe++9h5SUFOzZsweTJ092xHA8Wm1zG+qNJgBc6ImIiHou1F+czFrh5FVb8+VFCn0u2bP9tglx2HSiDF9nFWHuyCjMGRl92cded0gsv5k/6vL7EtmTl7o9P25yt3IaADhz5gxiYmIwaNAgLFq0CHl5eQCAzMxMtLW1IT09Xd43OTkZ8fHxyMjIcMRQPN7Z8gYAQEyQN7y9ejZzn4iIKMLakaasvsWpz5tvbY8ce5n5XNeOiMJdaQkAgAc+OIh3duVcckn7qsZWnCkTz42zUiLsNFqi7lGrVZA+kzq6bavdg/jU1FSsWbMG69evx5tvvomcnBxMmzYN9fX1KCkpgU6ng8FgsPmZyMhIlJSUXPQxjUYj6urqbG4kOlMqHqgGs+aPiIh6ISrQGwBQUuvcIL5Ans91+VLQ38wcInf9eOrb4/jnjrPyturGVjz7/UlsP10OANh4XIwnksL9YLCuSEvkTNLk1jYHl9PYPYifO3cubr31VowePRqzZ8/Gd999h5qaGnzyySe9fsxVq1YhKChIvsXFxdlxxO5NyjYMDvdXeCREROSOIoOsQXydc2vie9JZLTxAj1cXjpW/f3dXrlwf/+IPp/DW9rNY/O4+bD9djj9+fgSA7QqwRM4kt5l0x3KajgwGA4YOHYrs7GxERUWhtbUVNTU1NvuUlpZ2WUMvWbFiBWpra+Vbfn6+g0ftPrKtQfyQSAbxRETUc+2Z+GbUNrXhk/35KK5tdvjz9rSz2nWjY3D66bnQadWoaDDifGUTmlvNWJfV3n5y8bv75K+l1plEziYF8W3u2J2mo4aGBpw9exbR0dEYP348vLy8sHnzZnn7qVOnkJeXh7S0tIs+hl6vR2BgoM2NRFLLrcERDOKJiKjnEkJ9oVKJK7bOfW0HHv38MB744KDDF6rJ70VnNZ1WjZRoMQY4XFiLH46XyM0dLjQzmfXwpAwvazmN201s/cMf/oDt27cjNzcXu3fvxs033wyNRoM77rgDQUFBWLJkCZYvX46tW7ciMzMT99xzD9LS0tiZpheqGltRZK1hHBbFmngiIuo5X50WiWFii0fpnHIovwbHix03/8xsEVBWL5bvRAf1rD3yaGuZTMbZCrz7Yy4AwOeCxg7v/3ISpg0J7/tAiXpBa+0V3+bgia12bzFZUFCAO+64A5WVlQgPD8fUqVOxZ88ehIeLf0yvvPIK1Go1FixYAKPRiNmzZ+ONN96w9zD6hWPWle4Ghvoi0NtL4dEQEZG7GjUgCOfKG23uO3i+GiNiHFNXXtfcJn9t8O3Z+WtUrDimj/a1l9a+cvsYfHOoGMeKavHSbWMwPiHEPgMl6gWttc3kpboo2eV57P2AH3/88SW3e3t7Y/Xq1Vi9erW9n7rfOVp46ZXuiIiIumPakHB8ba0tT44KwMmSemTl1+IXF6907ZNaaxDvp9PIpQfdNTbOYPP9FfEGzEyO7Fb/eCJnkDLxbrliKznH0UIxE88gnoiI+uLaEZEYExuE2yfE4dczkgC016w7Qo01iA/y6flV5CEd5oBNHBiMLx68EjotwxlyHfLEVgfXxDtkxVZyPEEQsD+3CgAwJtag7GCIiMitBXp74etlUwEAP+VVA2hfjMkRpEx8UC/6uKtUKrx82xis3ZuHl28ba+eREfWdsya2Moh3U+crm1BWb4ROo8a4eIPSwyEiIg8Ra235WFLXglaTxSFZbjmI9+ldGHLLFbG45YpYew6JyG40apbT0CXszakEINYGel8wK5+IiKi3wvx10GvVEAQ4rF98bVMrgN6V0xC5Oq27tpgk59hysgwAMHkQZ+ATEZH9qFQqxAaLbR8Lqh0TxFc3iZn44F6U0xC5Oi9m4uliGo0mbDtVDgCcjU9Einn88cehUqlsbsnJyfL2lpYWLF26FKGhofD398eCBQtQWlqq4Iipu6SSmgIH1cVXNIg94sP89Q55fCIltfeJZyaeLrDuUBGMJgsSw/yQEs1FnohIOSNGjEBxcbF827Vrl7zt97//Pb755ht8+umn2L59O4qKinDLLbcoOFrqLkdn4isbxHKaUH9m4snzuG2feHIso8mM1zefAQAsSo2HSqVSeERE1J9ptVpERUV1ur+2thbvvPMO1q5di5kzZwIA3nvvPaSkpGDPnj1cpdvFtWfiHRPEMxNPnsxZK7YyE+9m1mUVoai2BZGBevx8coLSwyGifu7MmTOIiYnBoEGDsGjRIuTl5QEAMjMz0dbWhvT0dHnf5ORkxMfHIyMj45KPaTQaUVdXZ3Mj52rPxLOchqinpEy8ycGZeAbxbua9H3MBAHdPSWRXGiJSVGpqKtasWYP169fjzTffRE5ODqZNm4b6+nqUlJRAp9PBYDDY/ExkZCRKSkou+birVq1CUFCQfIuLi3Pgq6CuOLKcRhAElNaJQXx4AIN48jxe0oqtDs7Es5zGjeRWNOJ4cR20ahXumMSTGhEpa+7cufLXo0ePRmpqKhISEvDJJ5/Ax8en14+7YsUKLF++XP6+rq6OgbyTxYU4rld8Wb0RDUYTNGoV4q3PQ+RJ5BaTzMSTRGorOSkxBAa25SIiF2MwGDB06FBkZ2cjKioKra2tqKmpsdmntLS0yxr6jvR6PQIDA21u5FyhfjrorL3iS+ta7PrYZ8saAAAJIb4OWUiKSGlaqcUku9OQ5Ifj4iXomckRCo+EiKizhoYGnD17FtHR0Rg/fjy8vLywefNmefupU6eQl5eHtLQ0BUdJ3aFSqRAd5A0AKKqxb0nN2XIxiB8U7m/XxyVyFVIQ3+bgPvEsp3ET+VVN2HOuCioVMGfkpbNYRETO8Ic//AHXX389EhISUFRUhMceewwajQZ33HEHgoKCsGTJEixfvhwhISEIDAzEb37zG6SlpbEzjZuIDvLG+comlNg7E1/eCABIivCz6+MSuQpnrdjKIN5NfHIgHwAwdXCY3PqLiEhJBQUFuOOOO1BZWYnw8HBMnToVe/bsQXh4OADglVdegVqtxoIFC2A0GjF79my88cYbCo+auis6SJzXUFRj3yA+21pOk8RMPHkoeWIr+8T3L7kVjahracPImCCorZdjmlpN+M+e8wCAOybFKzk8IiLZxx9/fMnt3t7eWL16NVavXu2kEZE9SeU0xbWOKadhEE+eSqNmd5p+p6S2BfP+vhNNrWaE+evx2sKxuHJwGN7dlYOapjYMDPXF7BEspSEiIseLNoiZ+OJa+2XiG4wm+fGSwllOQ57Ji91p+heLRcALG06hqdUMQFwI47F1x1BW14J/bM0GAPz+mqHypzsiIiJHig60fyY+x1oPH+avY5c18ljyxFau2Or5mlvN+PWHmfj8YAEA4O1fjIe3lxrZZQ34/SdZaGmzYFy8ATeMiVF4pERE1F9EG6xBvB1r4k+UiKvvDo5gKQ15LmdNbGUQ7wLe3nEOG46VQqdR47kFo3DtiChcN1oM2H/MrgQA3Dt1EFQqZuGJiMg5pImtlY2taGkz9/pxNhwrwYovjiC7rB5HC2sBAKMGBNlljESuSO4Tz4mtnk0QBHydVQgAePqmkbhtorgq4cPXDsWGoyWoN5owJs6Aa0dEKjlMIiLqZ4J9vaDXqmE0WVBa14KE0J7XsFc1tmLphwdhsgj4aF+efP+oWIMdR0rkWrQaTmztF7acLMO5ikbotWrMGx0t3x8d5IMP7k3F/twqLEpNkCdJEBEROYNKpUKMwQc5FY0oquldEL/xeEmnbGSQjxdmcdFC8mBeaudMbGUQr6BdZyrw4IcHAQC3XBELf73tf8eYOAPGxBkUGBkREREQFeiNnIpGlNT1bnJrVr5YPpM2KBTeXmqYLAJ+PT0JfnqGH+S5pEy8oye28q9IIS1tZvz2459gNFmQnhKJJ24YofSQiIiIbMRY20wWVvcuiD9pnch6Z2o8rmdzBuonpJp4M1tMeqZ1h4pQ1diKAQYfrF40Djot/yuIiMi1xAaLQXxBL4J4i0XAqZJ6AEBKdIBdx0XkyqTuNG3sTuN5GowmvLbpDADg55MToNdqFB4RERFRZ3EhvgCA/OqmHv9sfnUTmlrN0GnVGNiLenoid9XenYZ94j3O2zvOobCmGXEhPrgrLUHp4RAREXUpzpqJz6/qeSb+RLFYSjM00l/OTBL1B15O6hPPmngnEwQB3xwqAgA8fM0wTu4hIiKXJWXii2qaYbYIl101vNVkwZ5zlQjx0+GH46UAgJEx7AlP/YvGSZl4RpBOdry4DjnWlpLpw9n7nYiIXFdkoDe8NCq0mQWU1LVggHWia1eMJjN+9mYGjlgXdJKkDgpx9DCJXIqX3CeeNfEeZeeZCgDAtCFhnVpKEhERuRKNWiV3qMmvunRd/K4zFZ0C+MER/pg5jAkr6l+01j7xbewT71n2nqsEAEweFKrwSIiIiC4vNtgH5yubLttmcs3uXADA4rQE/HJqIswWAYPC/Z0wQiLXwhVbPZDZIuBAbjUABvFEROQeogLFTHxJXctF93nvxxz5SvPsEVG9Wt2VyFNImXj2ifcgJ4rrUG80IUCvRUp0oNLDISIiuqzIQD0AoPQiQXxLmxkvbjgFQCyfmZjIGnjq37hiqwfaYy2lmTAw+LIz/ImIiFxBVJA3gIsH8ftyqtDYakZEgB4/PHQV1Dy/UT8nT2xlJt5z7MupAgCkspSGiIjcRGSgGMSX1Bm73L43R0xQXTU0nAE8EdrLadidxkNYLAL25VqDeF5qJCIiNyEF8aW1XWfiD+WLHWnGxRucNSQil+asPvEM4p3kdFk9apra4KvTYOQALnxBRETuIcoaxJc3GDtN1Gs0mpB5XmzYcEV8sNPHRuSKnLViK4N4J5FKacYnBMv/uURERK4uzF8HtUrstFHZ0F5S882hIox4bAOa28wID9AjOSpAwVESuQ5nTWxlNOkke3NYSkNERO5Hq1EjPEDsUCO1mbRYBKz67oS8z+K0BKhUrIcnAgAvqSaeE1s9w1HrKna83EhERO4mKkjsFV9UIy74dKSwFkXWGvm196Vi6dWDFRsbkavRsjuN52huNSPPulz1UF5uJCIiNxMXLAbx+VViEC91pElPicSUpDBm4Yk60Kqds2Irg3gnOFveAEEAgn29EOqnU3o4REREPZIQ6gsAckJqH0tEiS5Ka537aBHE0jNHYRDvBKdL6wEAQyIDmK0gIiK3Ex8iBvHnq5pgsQjYnyt2pOHqrESdSeU0ANDmwDaTDOKd4JQ1iB8a6a/wSIiIiHouKVw8f50prcdP+TWobW6Dv16LETGBCo+MyPVIE1sBdGrLak8M4p1gzznxsuPoWIOyAyEiIuoFaT5XcW0Lnlt/EgBwzfBItkwm6oKmw8rFbQ7sFd9v//qMJjNaTY6dcAAANU2tOFxQAwC4aki4w5+PiIjI3gK9vRAdJC76JNXD/3xygpJDInJZXh3KaRw5ubVfBvGrt2Zj9OM/4IZ/7EJzq9mhz/VZZgEEQSylibIeAImIiNzNotR4+eu/zE/B+AS2TCbqikqlkrPxjmwzqXXYI7uoE8V1eGHDKQDAyZJ6pKxcj+d/Nhq3TYiz+3Ptz63Cs9+Llx3vnBR/mb2JiIhc16+mJyE8QI+rh0UgIpBJKaJL0apVMFsEh67a2u+C+De2nQUgvrnSp6Pn15/E11mFiA/xxTM3j5I7yJTXG+Gn18BX1/O3qaS2Bb/+4CBMFgHXjY7G4ikD7fYaiIiInM1Lo8btE5mQIuoOrVoFIxw7sbVfBfEtbWZsOl4KAPj811Pgq9Ngzms7UdHQiorsSvyIStw8LhaBPlr8J+M8/rs/H8nRAfh66VSbSQqXYzSZ8cAHmahoMCI5KgDP/2w0W0sSERER9RNir3izQye29qsgfueZCjS3mRET5I3RsUFQqVT4f3eNx7u7ctFgNCErvwa3/TMDGuslEAA4WliHp/93HJGB3nh/dy4Ghfth9Z1XwODbedGm4tpmvLrxDPblViGnohFBPl54+xcTepXJJyIiIiL3JE1uNTmwT3y/ii43HCsBAFw7IkrOjM9MjsTM5EgcL6rD9f/YBbNFgNkiYHh0IPKrm1DfYsJ7P+bKj1Fc24IJT2/Cb2YOwY1jYxARqEdpnREF1U34/X+zUNHQCgDw1WnwjzvHId66yh0RERER9Q9aa694EzPx9vGrqwYhPsQX04d2bvU4PCYQWx6ejp/yajA4wh8jYgIhCMCnmfn44VgpaprbMCwqAJtPlKK0zohXNp3GK5tOd3qcIRH+WDxlIK4dHsmJP0RERET9kMd3p1m9ejVeeOEFlJSUYMyYMXj99dcxadIkhz3fkMgADIkMuOj2hFA/JIT6yd+rVMDtE+NtJvIIN43EpwcK8I+t2cirapLvD/Lxwrh4A168dQzC/PWOeQFERERE5PLkchpP7E7z3//+F8uXL8dbb72F1NRUvPrqq5g9ezZOnTqFiIgIpYZ1WSqVCrdNjMNtE+NgsQg4cL4aA8N8ERHArDsRERERAU/cOBItbWYkhfs77DkUW+zp5Zdfxn333Yd77rkHw4cPx1tvvQVfX1+8++67Sg2px9RqFSYlhjCAJyK6jNWrV2PgwIHw9vZGamoq9u3bp/SQiIgcZvrQcMweEYVgv86NUOxFkSC+tbUVmZmZSE9Pbx+IWo309HRkZGQoMSQiInIQ6crrY489hoMHD2LMmDGYPXs2ysrKlB4aEZHbUiSIr6iogNlsRmRkpM39kZGRKCkp6bS/0WhEXV2dzY2IiNyDJ1x5JSJyNYqV0/TEqlWrEBQUJN/i4uKUHhIREXVDb668MnFDRHR5igTxYWFh0Gg0KC0ttbm/tLQUUVFRnfZfsWIFamtr5Vt+fr6zhkpERH3Q0yuvABM3RETdoUgQr9PpMH78eGzevFm+z2KxYPPmzUhLS+u0v16vR2BgoM2NiIg8ExM3RESXp1iLyeXLl2Px4sWYMGECJk2ahFdffRWNjY245557lBoSERHZWU+vvAJi4kav53obRESXolhN/O23344XX3wRK1euxNixY5GVlYX169d3uuRKRETuq6dXXomIqHsUXbF12bJlWLZsmZJDICIiB+OVVyIi+1M0iCciIs93++23o7y8HCtXrkRJSQnGjh3LK69ERH3EIJ6IiByOV16JiOzLLYN4QRAAgL2DiahfkI510rGvv+Exn4j6k+4e890yiK+vrwcA9g4mon6lvr4eQUFBSg/D6XjMJ6L+6HLHfJXghqkdi8WCoqIiBAQEQKVSKTaOuro6xMXFIT8/n73re4nvYd/xPew7V38PBUFAfX09YmJioFa7xULbdtXbY76r/79eDMftfO46do7b+Zwx9u4e890yE69WqxEbG6v0MGRcgKrv+B72Hd/DvnPl97A/ZuAlfT3mu/L/66Vw3M7nrmPnuJ3P0WPvzjG//6V0iIiIiIjcHIN4IiIiIiI3wyC+D/R6PR577DEuD94HfA/7ju9h3/E99Ezu+v/KcTufu46d43Y+Vxq7W05sJSIiIiLqz5iJJyIiIiJyMwziiYiIiIjcDIN4IiIiIiI3wyCeiIiIiMjNMIi/wKpVqzBx4kQEBAQgIiICN910E06dOmWzT0tLC5YuXYrQ0FD4+/tjwYIFKC0ttdknLy8P8+fPh6+vLyIiIvDII4/AZDI586Uo5s0338To0aPlhRDS0tLw/fffy9v5/vXMs88+C5VKhYceeki+j+/h5T3++ONQqVQ2t+TkZHk730PPtnr1agwcOBDe3t5ITU3Fvn37lB4SduzYgeuvvx4xMTFQqVT46quvbLYLgoCVK1ciOjoaPj4+SE9Px5kzZ2z2qaqqwqJFixAYGAiDwYAlS5agoaHBYWN253Oip5yL3OUc4M7H3MLCQvz85z9HaGgofHx8MGrUKBw4cEDe7op/m9LAqIPZs2cL7733nnD06FEhKytLmDdvnhAfHy80NDTI+zzwwANCXFycsHnzZuHAgQPC5MmThSlTpsjbTSaTMHLkSCE9PV346aefhO+++04ICwsTVqxYocRLcrp169YJ//vf/4TTp08Lp06dEv785z8LXl5ewtGjRwVB4PvXE/v27RMGDhwojB49Wvjd734n38/38PIee+wxYcSIEUJxcbF8Ky8vl7fzPfRcH3/8saDT6YR3331XOHbsmHDfffcJBoNBKC0tVXRc3333nfB///d/whdffCEAEL788kub7c8++6wQFBQkfPXVV8KhQ4eEG264QUhMTBSam5vlfebMmSOMGTNG2LNnj7Bz505h8ODBwh133OGwMbvzOdETzkXudA5w12NuVVWVkJCQINx9993C3r17hXPnzgkbNmwQsrOz5X1c8W9TEASBQfxllJWVCQCE7du3C4IgCDU1NYKXl5fw6aefyvucOHFCACBkZGQIgiAeqNVqtVBSUiLv8+abbwqBgYGC0Wh07gtwEcHBwcK//vUvvn89UF9fLwwZMkTYuHGjMH36dPkAzvewex577DFhzJgxXW7je+jZJk2aJCxdulT+3mw2CzExMcKqVasUHJWtC4N4i8UiREVFCS+88IJ8X01NjaDX64WPPvpIEARBOH78uABA2L9/v7zP999/L6hUKqGwsNAp43b3c6I7nYvc7RzgrsfcP/7xj8LUqVMvut2V/zZZTnMZtbW1AICQkBAAQGZmJtra2pCeni7vk5ycjPj4eGRkZAAAMjIyMGrUKERGRsr7zJ49G3V1dTh27JgTR688s9mMjz/+GI2NjUhLS+P71wNLly7F/Pnzbd4rgL+DPXHmzBnExMRg0KBBWLRoEfLy8gDwPfRkra2tyMzMtPm/VavVSE9Pl/9vXVFOTg5KSkpsxh0UFITU1FSb30mDwYAJEybI+6Snp0OtVmPv3r1OGae7nhPd8VzkjucAdzzmrlu3DhMmTMCtt96KiIgIjBs3Dv/v//0/ebsr/21qHfbIHsBiseChhx7ClVdeiZEjRwIASkpKoNPpYDAYbPaNjIxESUmJvE/HX0Jpu7StPzhy5AjS0tLQ0tICf39/fPnllxg+fDiysrL4/nXDxx9/jIMHD2L//v2dtvF3sHtSU1OxZs0aDBs2DMXFxXjiiScwbdo0HD16lO+hB6uoqIDZbO7y/+7kyZMKjerypN+prsbd8XcyIiLCZrtWq0VISIhTfifd8ZzorucidzwHuOsx99y5c3jzzTexfPly/PnPf8b+/fvx29/+FjqdDosXL3bpv00G8ZewdOlSHD16FLt27VJ6KG5n2LBhyMrKQm1tLT777DMsXrwY27dvV3pYbiE/Px+/+93vsHHjRnh7eys9HLc1d+5c+evRo0cjNTUVCQkJ+OSTT+Dj46PgyIjckzueE93xXOSu5wB3PeZaLBZMmDABzzzzDABg3LhxOHr0KN566y0sXrxY4dFdGstpLmLZsmX49ttvsXXrVsTGxsr3R0VFobW1FTU1NTb7l5aWIioqSt7nwhnX0vfSPp5Op9Nh8ODBGD9+PFatWoUxY8bgtdde4/vXDZmZmSgrK8MVV1wBrVYLrVaL7du34+9//zu0Wi0iIyP5HvaCwWDA0KFDkZ2dzd9DDxYWFgaNRtPl/50r/79JY7vUuKOiolBWVmaz3WQyoaqqyuGvzV3Pie54LvKUc4C7HHOjo6MxfPhwm/tSUlLkUiBX/ttkEH8BQRCwbNkyfPnll9iyZQsSExNtto8fPx5eXl7YvHmzfN+pU6eQl5eHtLQ0AEBaWhqOHDli8x+6ceNGBAYGdvpF6S8sFguMRiPfv26YNWsWjhw5gqysLPk2YcIELFq0SP6a72HPNTQ04OzZs4iOjubvoQfT6XQYP368zf+txWLB5s2b5f9bV5SYmIioqCibcdfV1WHv3r02v5M1NTXIzMyU99myZQssFgtSU1MdMi5POye6w7nIU84B7nLMvfLKKzu1TT19+jQSEhIAuO7fJgC2mLzQr3/9ayEoKEjYtm2bTZukpqYmeZ8HHnhAiI+PF7Zs2SIcOHBASEtLE9LS0uTtUpuka6+9VsjKyhLWr18vhIeH95vWdH/605+E7du3Czk5OcLhw4eFP/3pT4JKpRJ++OEHQRD4/vVGx84EgsD3sDsefvhhYdu2bUJOTo7w448/Cunp6UJYWJhQVlYmCALfQ0/28ccfC3q9XlizZo1w/Phx4f777xcMBoNN1wsl1NfXCz/99JPw008/CQCEl19+Wfjpp5+E8+fPC4IgtrEzGAzC119/LRw+fFi48cYbu2xjN27cOGHv3r3Crl27hCFDhji0jZ07nxM96VzkDucAdz3m7tu3T9BqtcLf/vY34cyZM8KHH34o+Pr6Ch988IG8jyv+bQoCW0x2AqDL23vvvSfv09zcLDz44INCcHCw4OvrK9x8881CcXGxzePk5uYKc+fOFXx8fISwsDDh4YcfFtra2pz8apTxy1/+UkhISBB0Op0QHh4uzJo1Sz5oCgLfv9648ADO9/Dybr/9diE6OlrQ6XTCgAEDhNtvv92m7y/fQ8/2+uuvC/Hx8YJOpxMmTZok7NmzR+khCVu3bu3y/LJ48WJBEMRWdn/961+FyMhIQa/XC7NmzRJOnTpl8xiVlZXCHXfcIfj7+wuBgYHCPffcI9TX1ztszO58TvSkc5E7nAPc+Zj7zTffCCNHjhT0er2QnJwsvP322zbbXfFvUxAEQSUIguC4PD8REREREdkba+KJiIiIiNwMg3giIiIiIjfDIJ6IiIiIyM0wiCciIiIicjMM4omIiIiI3AyDeCIiIiIiN8MgnoiIiIjIzTCIJyIiIiJyMwziiYiIiIjcDIN4IiIiIiI3wyCeiIiIiMjNMIgnIiIiInIz/x9DDEn/mA9sDgAAAABJRU5ErkJggg==",
      "application/papermill.record/text/plain": "<Figure size 900x400 with 2 Axes>"
     },
     "metadata": {
      "scrapbook": {
       "mime_prefix": "application/papermill.record/",
       "name": "exercise-04-h2"
      }
     },
     "output_type": "display_data"
    },
    {
     "data": {
      "image/png": "[encoded data removed]",
      "text/plain": [
       "<Figure size 900x400 with 2 Axes>"
      ]
     },
     "metadata": {},
     "output_type": "display_data"
    }
   ],
   "source": [
    "fig, ax = plt.subplots(1, 2, figsize=(9, 4))\n",
    "ax[0].plot(colmeans)\n",
    "ax[0].set_title('Column means')\n",
    "ax[1].plot(rowmeans)\n",
    "ax[1].set_title('Row means')\n",
    "glue('exercise-04-h2', fig, display=False)"
   ]
  }
 ],
 "metadata": {
  "interpreter": {
   "hash": "31f2aee4e71d21fbe5cf8b01ff0e069b9275f58929596ceb00d14d90e3e16cd6"
  },
  "kernelspec": {
   "display_name": "Python 3",
   "language": "python",
   "name": "python3"
  },
  "language_info": {
   "codemirror_mode": {
    "name": "ipython",
    "version": 3
   },
   "file_extension": ".py",
   "mimetype": "text/x-python",
   "name": "python",
   "nbconvert_exporter": "python",
   "pygments_lexer": "ipython3",
   "version": "3.10.12"
  },
  "metadata": {
   "interpreter": {
    "hash": "31f2aee4e71d21fbe5cf8b01ff0e069b9275f58929596ceb00d14d90e3e16cd6"
   }
  }
 },
 "nbformat": 4,
 "nbformat_minor": 4
}
