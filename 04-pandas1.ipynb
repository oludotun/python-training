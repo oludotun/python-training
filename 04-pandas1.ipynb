{
 "cells": [
  {
   "attachments": {},
   "cell_type": "markdown",
   "metadata": {},
   "source": [
    "(pandas1)=\n",
    "# Tables (`pandas`)"
   ]
  },
  {
   "cell_type": "code",
   "execution_count": 116,
   "metadata": {
    "tags": [
     "remove-input"
    ]
   },
   "outputs": [
    {
     "name": "stdout",
     "output_type": "stream",
     "text": [
      "Last updated: 2023-10-02 15:26:38\n"
     ]
    }
   ],
   "source": [
    "!echo Last updated: `date +\"%Y-%m-%d %H:%M:%S\"`"
   ]
  },
  {
   "cell_type": "code",
   "execution_count": 117,
   "id": "9be78d54",
   "metadata": {
    "tags": [
     "remove-input"
    ]
   },
   "outputs": [],
   "source": [
    "import pandas as pd\n",
    "import matplotlib.pyplot as plt\n",
    "pd.options.display.max_rows = 10\n",
    "pd.options.display.max_columns = 10\n",
    "pd.options.display.max_colwidth = 35\n",
    "plt.rcParams[\"figure.figsize\"] = (6, 6)"
   ]
  },
  {
   "attachments": {},
   "cell_type": "markdown",
   "metadata": {},
   "source": [
    "*****"
   ]
  },
  {
   "attachments": {},
   "cell_type": "markdown",
   "metadata": {},
   "source": [
    "## Introduction"
   ]
  },
  {
   "attachments": {},
   "cell_type": "markdown",
   "metadata": {},
   "source": [
    "Tables are a fundamental data structure, common to many software interfaces, such as spreadsheet programs, relational databases, statistical software, etc. In general, a table is a two-dimensional structure where:\n",
    "\n",
    "* Columns represent *variables*\n",
    "* Rows represent *observations*"
   ]
  },
  {
   "attachments": {},
   "cell_type": "markdown",
   "metadata": {},
   "source": [
    "Accordingly, the data in a given table column is usually of the same data type. For example, a text column may be used to store product names, and a numeric column may be used for storing product prices. Conversely, the data in a given row may comprise mixed types, such as the product name (text) and the price (numeric) of a particular product."
   ]
  },
  {
   "attachments": {},
   "cell_type": "markdown",
   "metadata": {},
   "source": [
    "In this chapter we introduce methods for working with *tables* in Python, through a popular third-party package named `pandas`, introducing two table-related data structures, `Series` and `DataFrame`. As we will see, the latter data structures are closely related to `numpy`, which was covered in the previous chapter (see {ref}`numpy`), since the data in each table column is actually stored as an \"extended\" one-dimensional `numpy` array. We are going to cover standard table-related operations, such as:\n",
    "\n",
    "* Creating tables (see {ref}`pandas-creating-from-scratch` and {ref}`pandas-reading-from-file`)\n",
    "* Examining table properties (see {ref}`dataframe-properties`)\n",
    "* Modifying tables (see {ref}`pandas-renaming-columns`, {ref}`modifying-index`, {ref}`pandas-sorting`, {ref}`pandas-operators`, and {ref}`pandas-creating-new-columns`)\n",
    "* Subsetting tables (see {ref}`subsetting-series`, {ref}`subsetting-dataframes`, and {ref}`dataframe-filtering`)\n",
    "* {ref}`pandas-missing-data`\n",
    "* Conversion to simpler data structures (see {ref}`dataframe-to-array` and {ref}`pandas-to-list`)\n",
    "* Plotting table data (see {ref}`pandas-plotting`)\n",
    "* Exporting a table to file (see {ref}`pandas-writing`)"
   ]
  },
  {
   "attachments": {},
   "cell_type": "markdown",
   "metadata": {},
   "source": [
    "In the next chapter, we are going to discuss more advanced operations with tables, such as table aggregation and table joins (see {ref}`pandas2`). Later on, we are going to learn about the `geopandas` package for working with vector layers, which is an extension of `pandas` (see {ref}`geopandas1` and {ref}`geopandas2`)."
   ]
  },
  {
   "attachments": {},
   "cell_type": "markdown",
   "metadata": {},
   "source": [
    "## What is `pandas`?"
   ]
  },
  {
   "attachments": {},
   "cell_type": "markdown",
   "metadata": {},
   "source": [
    "`pandas` is a popular Python package which provides a flexible set of tools for working with tabular data. Since tables are fundamental in data analysis, `pandas` is one of the most important packages for data analysis in Python. Moreover, as we will see later on in the book (see {ref}`geopandas1`), a vector layers is represented by an \"extended\" table—a table that has a \"geometry\" column. Accordingly, the package for working with vector later, named `geopandas`, is an extension of `pandas`."
   ]
  },
  {
   "attachments": {},
   "cell_type": "markdown",
   "metadata": {},
   "source": [
    "The `pandas` package defines two fundamental data structures:\n",
    "\n",
    "* `Series`—A one-dimensional structure, representing a table *column*\n",
    "* `DataFrame`—A two-dimensional structure, represent a *table*"
   ]
  },
  {
   "attachments": {},
   "cell_type": "markdown",
   "metadata": {},
   "source": [
    "As we will see shortly, `pandas` is essentially an extension of `numpy`. A `pandas` table (a data structure named `DataFrame`) is a collection of `Series` representing the table columns, whereas `Series` are actually nothing more than labelled `numpy` arrays. To repeat, these two data structures therefore form a hierarchy: each column in a `DataFrame` is a `Series`."
   ]
  },
  {
   "attachments": {},
   "cell_type": "markdown",
   "metadata": {},
   "source": [
    "```{note}\n",
    "For those familiar with the R programming language, the term `DataFrame` will sound familiar, resembling R's own data structure for representing tables (the `data.frame`). Indeed, `pandas` borrowed many ideas from the R language. A pairwise comparison of `pandas` vs. R functionality can be found in the `pandas` documentation: <https://pandas.pydata.org/docs/getting_started/comparison/comparison_with_r.html>\n",
    "```"
   ]
  },
  {
   "attachments": {},
   "cell_type": "markdown",
   "metadata": {},
   "source": [
    "(pandas-creating-from-scratch)=\n",
    "## Table from scratch"
   ]
  },
  {
   "attachments": {},
   "cell_type": "markdown",
   "metadata": {},
   "source": [
    "(creating-series)=\n",
    "### Creating a `Series`"
   ]
  },
  {
   "attachments": {},
   "cell_type": "markdown",
   "metadata": {},
   "source": [
    "To understand how a `DataFrame` is structured, we will experiment with creating one from scratch. First we need to load the `pandas` package, as well as `numpy` which we use in some of the examples:"
   ]
  },
  {
   "cell_type": "code",
   "execution_count": 118,
   "metadata": {},
   "outputs": [],
   "source": [
    "import numpy as np\n",
    "import pandas as pd"
   ]
  },
  {
   "attachments": {},
   "cell_type": "markdown",
   "metadata": {},
   "source": [
    "A `Series` can be created, from a `list`, or from an `ndarray`, using `pd.Series`. For example, the following expression creates a `Series` from a `list` containing three strings, the names of three railway stations in southern Israel:"
   ]
  },
  {
   "cell_type": "code",
   "execution_count": 119,
   "metadata": {},
   "outputs": [
    {
     "data": {
      "text/plain": [
       "0        Beer-Sheva Center\n",
       "1    Beer-Sheva University\n",
       "2                   Dimona\n",
       "dtype: object"
      ]
     },
     "execution_count": 119,
     "metadata": {},
     "output_type": "execute_result"
    }
   ],
   "source": [
    "name = pd.Series(['Beer-Sheva Center', 'Beer-Sheva University', 'Dimona'])\n",
    "name"
   ]
  },
  {
   "attachments": {},
   "cell_type": "markdown",
   "metadata": {},
   "source": [
    "```{note}\n",
    "In `pandas`, strings are always stored as `'object'` arrays (`Series`), unlike `numpy` which has specialized native data types for strings.\n",
    "```"
   ]
  },
  {
   "attachments": {},
   "cell_type": "markdown",
   "metadata": {},
   "source": [
    "The following expression creates another `Series`, named `lines`, containing the number of railway lines going through the latter stations. This time, we create the `Series` from an `ndarray`:"
   ]
  },
  {
   "cell_type": "code",
   "execution_count": 120,
   "metadata": {},
   "outputs": [
    {
     "data": {
      "text/plain": [
       "0    4\n",
       "1    5\n",
       "2    1\n",
       "dtype: int64"
      ]
     },
     "execution_count": 120,
     "metadata": {},
     "output_type": "execute_result"
    }
   ],
   "source": [
    "lines = pd.Series(np.array([4, 5, 1]))\n",
    "lines"
   ]
  },
  {
   "attachments": {},
   "cell_type": "markdown",
   "metadata": {},
   "source": [
    "A `Series` object is essentially a `numpy` array, combined with *indices*. Here is how we can access each of these components, separately:"
   ]
  },
  {
   "cell_type": "code",
   "execution_count": 121,
   "metadata": {},
   "outputs": [
    {
     "data": {
      "text/plain": [
       "array([4, 5, 1])"
      ]
     },
     "execution_count": 121,
     "metadata": {},
     "output_type": "execute_result"
    }
   ],
   "source": [
    "lines.to_numpy()  ## Series values, as 'ndarray'"
   ]
  },
  {
   "cell_type": "code",
   "execution_count": 122,
   "metadata": {},
   "outputs": [
    {
     "data": {
      "text/plain": [
       "RangeIndex(start=0, stop=3, step=1)"
      ]
     },
     "execution_count": 122,
     "metadata": {},
     "output_type": "execute_result"
    }
   ],
   "source": [
    "lines.index       ## Series index"
   ]
  },
  {
   "attachments": {},
   "cell_type": "markdown",
   "metadata": {},
   "source": [
    "As you can see, `Series` *values* comprise a `numpy` array, which we are already familiar with. `Series` *indices*, however, comprise a special type of object used for indexing in `pandas`:"
   ]
  },
  {
   "cell_type": "code",
   "execution_count": 123,
   "metadata": {},
   "outputs": [
    {
     "data": {
      "text/plain": [
       "pandas.core.indexes.range.RangeIndex"
      ]
     },
     "execution_count": 123,
     "metadata": {},
     "output_type": "execute_result"
    }
   ],
   "source": [
    "type(name.index)"
   ]
  },
  {
   "attachments": {},
   "cell_type": "markdown",
   "metadata": {},
   "source": [
    "By default, the index is just a sequence of consecutive integers (such as in `names` and `lines`). When necessary, we can define any other sequence of values as a `Series` index (see {ref}`modifying-index`), then use it to access specific values (see {ref}`subsetting-series`)."
   ]
  },
  {
   "attachments": {},
   "cell_type": "markdown",
   "metadata": {},
   "source": [
    "Index objects are similar to arrays in many ways. For example, they have `.shape` and `.dtype` attributes, just like arrays do:"
   ]
  },
  {
   "cell_type": "code",
   "execution_count": 124,
   "metadata": {},
   "outputs": [
    {
     "data": {
      "text/plain": [
       "(3,)"
      ]
     },
     "execution_count": 124,
     "metadata": {},
     "output_type": "execute_result"
    }
   ],
   "source": [
    "lines.index.shape"
   ]
  },
  {
   "cell_type": "code",
   "execution_count": 125,
   "metadata": {},
   "outputs": [
    {
     "data": {
      "text/plain": [
       "dtype('int64')"
      ]
     },
     "execution_count": 125,
     "metadata": {},
     "output_type": "execute_result"
    }
   ],
   "source": [
    "lines.index.dtype"
   ]
  },
  {
   "attachments": {},
   "cell_type": "markdown",
   "metadata": {},
   "source": [
    "(creating-dataframe)=\n",
    "### Creating a `DataFrame`"
   ]
  },
  {
   "attachments": {},
   "cell_type": "markdown",
   "metadata": {},
   "source": [
    "While a `Series` can be thought of as an extended one-dimensional array, a `DataFrame` can be thought of as a collection of `Series` comprising table columns. Unlike a two-dimensional `numpy` array, a `DataFrame` can be composed of different types of values (among the columns). Consequently: \n",
    "\n",
    "* a `DataFrame` *column* (i.e., a `Series`) contains values of the *same* type, usually representing a particular variable\n",
    "* a `DataFrame` *row* may contain values of *different* types, usually representing a specific observation"
   ]
  },
  {
   "attachments": {},
   "cell_type": "markdown",
   "metadata": {},
   "source": [
    "Since a `DataFrame` is two-dimensional, it has two sets of idices, row and column indices, just like a two-dimensional array. It is important to note that all `Series` that comprise the columns of a `DataFrame` share the same index."
   ]
  },
  {
   "attachments": {},
   "cell_type": "markdown",
   "metadata": {},
   "source": [
    "A `DataFrame` can be created from scratch, using the `pd.DataFrame` function. To do that, let us create four more `Series` which are going to comprise the `DataFrame` columns. Altogether, the `DataFrame` is going to represent various properties of three railway stations:"
   ]
  },
  {
   "cell_type": "code",
   "execution_count": 126,
   "metadata": {},
   "outputs": [],
   "source": [
    "city = pd.Series(['Beer-Sheva', 'Beer-Sheva', 'Dimona'])\n",
    "piano = pd.Series([False, True, False])\n",
    "lon = pd.Series([34.798443, 34.812831, 35.011635])\n",
    "lat = pd.Series([31.243288, 31.260284, 31.068616])"
   ]
  },
  {
   "attachments": {},
   "cell_type": "markdown",
   "metadata": {},
   "source": [
    "Here is a printout of the four `Series` we just created:"
   ]
  },
  {
   "cell_type": "code",
   "execution_count": 127,
   "metadata": {},
   "outputs": [
    {
     "data": {
      "text/plain": [
       "0    Beer-Sheva\n",
       "1    Beer-Sheva\n",
       "2        Dimona\n",
       "dtype: object"
      ]
     },
     "execution_count": 127,
     "metadata": {},
     "output_type": "execute_result"
    }
   ],
   "source": [
    "city"
   ]
  },
  {
   "cell_type": "code",
   "execution_count": 128,
   "metadata": {},
   "outputs": [
    {
     "data": {
      "text/plain": [
       "0    False\n",
       "1     True\n",
       "2    False\n",
       "dtype: bool"
      ]
     },
     "execution_count": 128,
     "metadata": {},
     "output_type": "execute_result"
    }
   ],
   "source": [
    "piano"
   ]
  },
  {
   "cell_type": "code",
   "execution_count": 129,
   "metadata": {},
   "outputs": [
    {
     "data": {
      "text/plain": [
       "0    34.798443\n",
       "1    34.812831\n",
       "2    35.011635\n",
       "dtype: float64"
      ]
     },
     "execution_count": 129,
     "metadata": {},
     "output_type": "execute_result"
    }
   ],
   "source": [
    "lon"
   ]
  },
  {
   "cell_type": "code",
   "execution_count": 130,
   "metadata": {},
   "outputs": [
    {
     "data": {
      "text/plain": [
       "0    31.243288\n",
       "1    31.260284\n",
       "2    31.068616\n",
       "dtype: float64"
      ]
     },
     "execution_count": 130,
     "metadata": {},
     "output_type": "execute_result"
    }
   ],
   "source": [
    "lat"
   ]
  },
  {
   "attachments": {},
   "cell_type": "markdown",
   "metadata": {},
   "source": [
    "Now, the six different `Series` can be combined into a `DataFrame` by passing them, as a `dict` (see {ref}`dict`), to the `pd.DataFrame` function. That way, the `dict` names will form the `DataFrame` column names, while the corresponding `Series` will form the column contents:"
   ]
  },
  {
   "cell_type": "code",
   "execution_count": 131,
   "metadata": {},
   "outputs": [
    {
     "data": {
      "text/html": [
       "<div>\n",
       "<style scoped>\n",
       "    .dataframe tbody tr th:only-of-type {\n",
       "        vertical-align: middle;\n",
       "    }\n",
       "\n",
       "    .dataframe tbody tr th {\n",
       "        vertical-align: top;\n",
       "    }\n",
       "\n",
       "    .dataframe thead th {\n",
       "        text-align: right;\n",
       "    }\n",
       "</style>\n",
       "<table border=\"1\" class=\"dataframe\">\n",
       "  <thead>\n",
       "    <tr style=\"text-align: right;\">\n",
       "      <th></th>\n",
       "      <th>name</th>\n",
       "      <th>city</th>\n",
       "      <th>lines</th>\n",
       "      <th>piano</th>\n",
       "      <th>lon</th>\n",
       "      <th>lat</th>\n",
       "    </tr>\n",
       "  </thead>\n",
       "  <tbody>\n",
       "    <tr>\n",
       "      <th>0</th>\n",
       "      <td>Beer-Sheva Center</td>\n",
       "      <td>Beer-Sheva</td>\n",
       "      <td>4</td>\n",
       "      <td>False</td>\n",
       "      <td>34.798443</td>\n",
       "      <td>31.243288</td>\n",
       "    </tr>\n",
       "    <tr>\n",
       "      <th>1</th>\n",
       "      <td>Beer-Sheva University</td>\n",
       "      <td>Beer-Sheva</td>\n",
       "      <td>5</td>\n",
       "      <td>True</td>\n",
       "      <td>34.812831</td>\n",
       "      <td>31.260284</td>\n",
       "    </tr>\n",
       "    <tr>\n",
       "      <th>2</th>\n",
       "      <td>Dimona</td>\n",
       "      <td>Dimona</td>\n",
       "      <td>1</td>\n",
       "      <td>False</td>\n",
       "      <td>35.011635</td>\n",
       "      <td>31.068616</td>\n",
       "    </tr>\n",
       "  </tbody>\n",
       "</table>\n",
       "</div>"
      ],
      "text/plain": [
       "                    name        city  lines  piano        lon        lat\n",
       "0      Beer-Sheva Center  Beer-Sheva      4  False  34.798443  31.243288\n",
       "1  Beer-Sheva University  Beer-Sheva      5   True  34.812831  31.260284\n",
       "2                 Dimona      Dimona      1  False  35.011635  31.068616"
      ]
     },
     "execution_count": 131,
     "metadata": {},
     "output_type": "execute_result"
    }
   ],
   "source": [
    "d = {'name': name, 'city': city, 'lines': lines, 'piano': piano, 'lon': lon, 'lat': lat}\n",
    "stations = pd.DataFrame(d)\n",
    "stations"
   ]
  },
  {
   "attachments": {},
   "cell_type": "markdown",
   "metadata": {},
   "source": [
    "```{note}\n",
    "Note that there are other methods to create a `DataFrame`, passing different types of input to the `pd.DataFrame` function. For example, another useful method of creating a `DataFrame` by passing a two-dimensional array to `pd.DataFrame`.\n",
    "```"
   ]
  },
  {
   "attachments": {},
   "cell_type": "markdown",
   "metadata": {},
   "source": [
    "`DataFrame` row indices are analogous to `Series` indices, and accessed exactly the same way:"
   ]
  },
  {
   "cell_type": "code",
   "execution_count": 132,
   "metadata": {},
   "outputs": [
    {
     "data": {
      "text/plain": [
       "RangeIndex(start=0, stop=3, step=1)"
      ]
     },
     "execution_count": 132,
     "metadata": {},
     "output_type": "execute_result"
    }
   ],
   "source": [
    "stations.index"
   ]
  },
  {
   "attachments": {},
   "cell_type": "markdown",
   "metadata": {},
   "source": [
    "Additionally, a `DataFrame` has *column* indices, which function as column names and can be accessed through the `.columns` property:"
   ]
  },
  {
   "cell_type": "code",
   "execution_count": 133,
   "metadata": {},
   "outputs": [
    {
     "data": {
      "text/plain": [
       "Index(['name', 'city', 'lines', 'piano', 'lon', 'lat'], dtype='object')"
      ]
     },
     "execution_count": 133,
     "metadata": {},
     "output_type": "execute_result"
    }
   ],
   "source": [
    "stations.columns"
   ]
  },
  {
   "attachments": {},
   "cell_type": "markdown",
   "metadata": {},
   "source": [
    "(pandas-reading-from-file)=\n",
    "## Reading from file"
   ]
  },
  {
   "attachments": {},
   "cell_type": "markdown",
   "metadata": {},
   "source": [
    "In practice, we rarely need to create a `DataFrame` from scratch. More often, we read a table in an existing file containing tabular data, such as a CSV file."
   ]
  },
  {
   "attachments": {},
   "cell_type": "markdown",
   "metadata": {},
   "source": [
    "The `pd.read_csv` function is used to read a CSV file into a `DataFrame` in our Python environment. For example, the following expression reads the CSV file named `ZonAnn.Ts+dSST.csv`, which contains global temperature data from [GISS](https://data.giss.nasa.gov/gistemp/). The values are anomalies, i.e. deviations from the corresponding 1951-1980 mean, for the period 1880-2021 (`'Year'`), both globally (`'Glob'`) and for specific latitudes (`'NHem'`=Nothern Hemishpere, `'24N-90N'` latitudes 24-90, etc.):"
   ]
  },
  {
   "cell_type": "code",
   "execution_count": 134,
   "metadata": {},
   "outputs": [
    {
     "data": {
      "text/html": [
       "<div>\n",
       "<style scoped>\n",
       "    .dataframe tbody tr th:only-of-type {\n",
       "        vertical-align: middle;\n",
       "    }\n",
       "\n",
       "    .dataframe tbody tr th {\n",
       "        vertical-align: top;\n",
       "    }\n",
       "\n",
       "    .dataframe thead th {\n",
       "        text-align: right;\n",
       "    }\n",
       "</style>\n",
       "<table border=\"1\" class=\"dataframe\">\n",
       "  <thead>\n",
       "    <tr style=\"text-align: right;\">\n",
       "      <th></th>\n",
       "      <th>Year</th>\n",
       "      <th>Glob</th>\n",
       "      <th>NHem</th>\n",
       "      <th>SHem</th>\n",
       "      <th>24N-90N</th>\n",
       "      <th>...</th>\n",
       "      <th>EQU-24N</th>\n",
       "      <th>24S-EQU</th>\n",
       "      <th>44S-24S</th>\n",
       "      <th>64S-44S</th>\n",
       "      <th>90S-64S</th>\n",
       "    </tr>\n",
       "  </thead>\n",
       "  <tbody>\n",
       "    <tr>\n",
       "      <th>0</th>\n",
       "      <td>1880</td>\n",
       "      <td>-0.17</td>\n",
       "      <td>-0.30</td>\n",
       "      <td>-0.04</td>\n",
       "      <td>-0.39</td>\n",
       "      <td>...</td>\n",
       "      <td>-0.15</td>\n",
       "      <td>-0.09</td>\n",
       "      <td>-0.03</td>\n",
       "      <td>0.05</td>\n",
       "      <td>0.67</td>\n",
       "    </tr>\n",
       "    <tr>\n",
       "      <th>1</th>\n",
       "      <td>1881</td>\n",
       "      <td>-0.09</td>\n",
       "      <td>-0.19</td>\n",
       "      <td>0.01</td>\n",
       "      <td>-0.37</td>\n",
       "      <td>...</td>\n",
       "      <td>0.10</td>\n",
       "      <td>0.12</td>\n",
       "      <td>-0.04</td>\n",
       "      <td>-0.07</td>\n",
       "      <td>0.59</td>\n",
       "    </tr>\n",
       "    <tr>\n",
       "      <th>2</th>\n",
       "      <td>1882</td>\n",
       "      <td>-0.11</td>\n",
       "      <td>-0.23</td>\n",
       "      <td>0.00</td>\n",
       "      <td>-0.33</td>\n",
       "      <td>...</td>\n",
       "      <td>-0.05</td>\n",
       "      <td>-0.04</td>\n",
       "      <td>0.02</td>\n",
       "      <td>0.04</td>\n",
       "      <td>0.62</td>\n",
       "    </tr>\n",
       "    <tr>\n",
       "      <th>3</th>\n",
       "      <td>1883</td>\n",
       "      <td>-0.17</td>\n",
       "      <td>-0.29</td>\n",
       "      <td>-0.06</td>\n",
       "      <td>-0.36</td>\n",
       "      <td>...</td>\n",
       "      <td>-0.17</td>\n",
       "      <td>-0.14</td>\n",
       "      <td>-0.03</td>\n",
       "      <td>0.07</td>\n",
       "      <td>0.50</td>\n",
       "    </tr>\n",
       "    <tr>\n",
       "      <th>4</th>\n",
       "      <td>1884</td>\n",
       "      <td>-0.28</td>\n",
       "      <td>-0.44</td>\n",
       "      <td>-0.14</td>\n",
       "      <td>-0.62</td>\n",
       "      <td>...</td>\n",
       "      <td>-0.12</td>\n",
       "      <td>-0.16</td>\n",
       "      <td>-0.18</td>\n",
       "      <td>-0.02</td>\n",
       "      <td>0.65</td>\n",
       "    </tr>\n",
       "    <tr>\n",
       "      <th>...</th>\n",
       "      <td>...</td>\n",
       "      <td>...</td>\n",
       "      <td>...</td>\n",
       "      <td>...</td>\n",
       "      <td>...</td>\n",
       "      <td>...</td>\n",
       "      <td>...</td>\n",
       "      <td>...</td>\n",
       "      <td>...</td>\n",
       "      <td>...</td>\n",
       "      <td>...</td>\n",
       "    </tr>\n",
       "    <tr>\n",
       "      <th>138</th>\n",
       "      <td>2018</td>\n",
       "      <td>0.85</td>\n",
       "      <td>1.03</td>\n",
       "      <td>0.66</td>\n",
       "      <td>1.24</td>\n",
       "      <td>...</td>\n",
       "      <td>0.73</td>\n",
       "      <td>0.63</td>\n",
       "      <td>0.80</td>\n",
       "      <td>0.37</td>\n",
       "      <td>0.96</td>\n",
       "    </tr>\n",
       "    <tr>\n",
       "      <th>139</th>\n",
       "      <td>2019</td>\n",
       "      <td>0.98</td>\n",
       "      <td>1.21</td>\n",
       "      <td>0.75</td>\n",
       "      <td>1.42</td>\n",
       "      <td>...</td>\n",
       "      <td>0.90</td>\n",
       "      <td>0.89</td>\n",
       "      <td>0.75</td>\n",
       "      <td>0.39</td>\n",
       "      <td>0.85</td>\n",
       "    </tr>\n",
       "    <tr>\n",
       "      <th>140</th>\n",
       "      <td>2020</td>\n",
       "      <td>1.02</td>\n",
       "      <td>1.35</td>\n",
       "      <td>0.68</td>\n",
       "      <td>1.67</td>\n",
       "      <td>...</td>\n",
       "      <td>0.88</td>\n",
       "      <td>0.84</td>\n",
       "      <td>0.58</td>\n",
       "      <td>0.39</td>\n",
       "      <td>0.91</td>\n",
       "    </tr>\n",
       "    <tr>\n",
       "      <th>141</th>\n",
       "      <td>2021</td>\n",
       "      <td>0.85</td>\n",
       "      <td>1.14</td>\n",
       "      <td>0.56</td>\n",
       "      <td>1.42</td>\n",
       "      <td>...</td>\n",
       "      <td>0.72</td>\n",
       "      <td>0.59</td>\n",
       "      <td>0.72</td>\n",
       "      <td>0.32</td>\n",
       "      <td>0.31</td>\n",
       "    </tr>\n",
       "    <tr>\n",
       "      <th>142</th>\n",
       "      <td>2022</td>\n",
       "      <td>0.89</td>\n",
       "      <td>1.16</td>\n",
       "      <td>0.62</td>\n",
       "      <td>1.52</td>\n",
       "      <td>...</td>\n",
       "      <td>0.63</td>\n",
       "      <td>0.51</td>\n",
       "      <td>0.79</td>\n",
       "      <td>0.39</td>\n",
       "      <td>1.11</td>\n",
       "    </tr>\n",
       "  </tbody>\n",
       "</table>\n",
       "<p>143 rows × 15 columns</p>\n",
       "</div>"
      ],
      "text/plain": [
       "     Year  Glob  NHem  SHem  24N-90N  ...  EQU-24N  24S-EQU  44S-24S  64S-44S  \\\n",
       "0    1880 -0.17 -0.30 -0.04    -0.39  ...    -0.15    -0.09    -0.03     0.05   \n",
       "1    1881 -0.09 -0.19  0.01    -0.37  ...     0.10     0.12    -0.04    -0.07   \n",
       "2    1882 -0.11 -0.23  0.00    -0.33  ...    -0.05    -0.04     0.02     0.04   \n",
       "3    1883 -0.17 -0.29 -0.06    -0.36  ...    -0.17    -0.14    -0.03     0.07   \n",
       "4    1884 -0.28 -0.44 -0.14    -0.62  ...    -0.12    -0.16    -0.18    -0.02   \n",
       "..    ...   ...   ...   ...      ...  ...      ...      ...      ...      ...   \n",
       "138  2018  0.85  1.03  0.66     1.24  ...     0.73     0.63     0.80     0.37   \n",
       "139  2019  0.98  1.21  0.75     1.42  ...     0.90     0.89     0.75     0.39   \n",
       "140  2020  1.02  1.35  0.68     1.67  ...     0.88     0.84     0.58     0.39   \n",
       "141  2021  0.85  1.14  0.56     1.42  ...     0.72     0.59     0.72     0.32   \n",
       "142  2022  0.89  1.16  0.62     1.52  ...     0.63     0.51     0.79     0.39   \n",
       "\n",
       "     90S-64S  \n",
       "0       0.67  \n",
       "1       0.59  \n",
       "2       0.62  \n",
       "3       0.50  \n",
       "4       0.65  \n",
       "..       ...  \n",
       "138     0.96  \n",
       "139     0.85  \n",
       "140     0.91  \n",
       "141     0.31  \n",
       "142     1.11  \n",
       "\n",
       "[143 rows x 15 columns]"
      ]
     },
     "execution_count": 134,
     "metadata": {},
     "output_type": "execute_result"
    }
   ],
   "source": [
    "dat = pd.read_csv('data/ZonAnn.Ts+dSST.csv')\n",
    "dat"
   ]
  },
  {
   "attachments": {},
   "cell_type": "markdown",
   "metadata": {},
   "source": [
    "```{note}\n",
    "`pandas` has several functions named `pd.read_*` to read formats other than CSV, such as `pd.read_json`, `pd.read_excel`, `pd.read_spss`, `pd.read_stata`, and `pd.read_sql`. Similarly, there are several functions to write `DataFrame` objects to various output formats. See the [IO tools](https://pandas.pydata.org/docs/user_guide/io.html) section in the `pandas` user guide for an overview of the input/output capabilities.\n",
    "```"
   ]
  },
  {
   "attachments": {},
   "cell_type": "markdown",
   "metadata": {},
   "source": [
    "Note that rows and columns are *labelled* using indices, as shown above. In this case: \n",
    "\n",
    "* Rows are labelled with consecutive integers\n",
    "* Columns are labelled with column names, which are imported from the first line in CSV file"
   ]
  },
  {
   "attachments": {},
   "cell_type": "markdown",
   "metadata": {},
   "source": [
    "(dataframe-properties)=\n",
    "## `DataFrame` properties"
   ]
  },
  {
   "attachments": {},
   "cell_type": "markdown",
   "metadata": {},
   "source": [
    "### Overview"
   ]
  },
  {
   "attachments": {},
   "cell_type": "markdown",
   "metadata": {},
   "source": [
    "One of the first things we may want to do with a `DataFrame` imported from a file is to examine its properties, as shown in the next few sections: \n",
    "\n",
    "* {ref}`dataframe-dimensions`\n",
    "* {ref}`dataframe-column-names`\n",
    "* {ref}`dataframe-column-types`"
   ]
  },
  {
   "attachments": {},
   "cell_type": "markdown",
   "metadata": {},
   "source": [
    "(dataframe-dimensions)=\n",
    "### `DataFrame` dimensions"
   ]
  },
  {
   "attachments": {},
   "cell_type": "markdown",
   "metadata": {},
   "source": [
    "`DataFrame` dimensions are accessible through the `.shape` property, just like in a `numpy` array (see {ref}`array-dimensions`). For example, the `dat` table (with the temperature data) has 142 rows and 15 columns:"
   ]
  },
  {
   "cell_type": "code",
   "execution_count": 135,
   "metadata": {},
   "outputs": [
    {
     "data": {
      "text/plain": [
       "(143, 15)"
      ]
     },
     "execution_count": 135,
     "metadata": {},
     "output_type": "execute_result"
    }
   ],
   "source": [
    "dat.shape"
   ]
  },
  {
   "attachments": {},
   "cell_type": "markdown",
   "metadata": {},
   "source": [
    "(dataframe-column-names)=\n",
    "### `DataFrame` column names"
   ]
  },
  {
   "attachments": {},
   "cell_type": "markdown",
   "metadata": {},
   "source": [
    "The `DataFrame` column names can be obtained through the `.columns` property. Recall that this is a special data structure representing `pandas` indices (see {ref}`pandas-creating-from-scratch`):"
   ]
  },
  {
   "cell_type": "code",
   "execution_count": 136,
   "metadata": {},
   "outputs": [
    {
     "data": {
      "text/plain": [
       "Index(['Year', 'Glob', 'NHem', 'SHem', '24N-90N', '24S-24N', '90S-24S',\n",
       "       '64N-90N', '44N-64N', '24N-44N', 'EQU-24N', '24S-EQU', '44S-24S',\n",
       "       '64S-44S', '90S-64S'],\n",
       "      dtype='object')"
      ]
     },
     "execution_count": 136,
     "metadata": {},
     "output_type": "execute_result"
    }
   ],
   "source": [
    "dat.columns"
   ]
  },
  {
   "attachments": {},
   "cell_type": "markdown",
   "metadata": {},
   "source": [
    "```{admonition} Exercise 05-a\n",
    ":class: important\n",
    "* From your experience with Python so far, can you guess how can the columns names be transformed to a plain `list`? (You can also try searching for the answer online.)\n",
    "```"
   ]
  },
  {
   "attachments": {},
   "cell_type": "markdown",
   "metadata": {},
   "source": [
    "(dataframe-column-types)=\n",
    "### `DataFrame` column types"
   ]
  },
  {
   "attachments": {},
   "cell_type": "markdown",
   "metadata": {},
   "source": [
    "The data types (see {ref}`numpy-data-types`) of the columns are contained in the `dtypes` property:"
   ]
  },
  {
   "cell_type": "code",
   "execution_count": 137,
   "metadata": {},
   "outputs": [
    {
     "data": {
      "text/plain": [
       "Year         int64\n",
       "Glob       float64\n",
       "NHem       float64\n",
       "SHem       float64\n",
       "24N-90N    float64\n",
       "            ...   \n",
       "EQU-24N    float64\n",
       "24S-EQU    float64\n",
       "44S-24S    float64\n",
       "64S-44S    float64\n",
       "90S-64S    float64\n",
       "Length: 15, dtype: object"
      ]
     },
     "execution_count": 137,
     "metadata": {},
     "output_type": "execute_result"
    }
   ],
   "source": [
    "dat.dtypes"
   ]
  },
  {
   "attachments": {},
   "cell_type": "markdown",
   "metadata": {},
   "source": [
    "Note that this is a `Series` (of `dtype` objects). This means we can get a specific value by index using the ordinary `Series` subsetting methods which we learn about later on (see {ref}`subsetting-series`). For example, the `\"Year\"` column was imported into a `Series` of type `int64`:"
   ]
  },
  {
   "cell_type": "code",
   "execution_count": 138,
   "metadata": {},
   "outputs": [
    {
     "data": {
      "text/plain": [
       "dtype('int64')"
      ]
     },
     "execution_count": 138,
     "metadata": {},
     "output_type": "execute_result"
    }
   ],
   "source": [
    "dat.dtypes.loc['Year']"
   ]
  },
  {
   "attachments": {},
   "cell_type": "markdown",
   "metadata": {},
   "source": [
    "while the `'Glob'` column (global temperature anomaly) was imported into a `float64` column:"
   ]
  },
  {
   "cell_type": "code",
   "execution_count": 139,
   "metadata": {},
   "outputs": [
    {
     "data": {
      "text/plain": [
       "dtype('float64')"
      ]
     },
     "execution_count": 139,
     "metadata": {},
     "output_type": "execute_result"
    }
   ],
   "source": [
    "dat.dtypes.loc['Glob']"
   ]
  },
  {
   "attachments": {},
   "cell_type": "markdown",
   "metadata": {},
   "source": [
    "The basic `pandas` data types are in agreement with `numpy` data types (see {ref}`numpy-data-types`). For example, the `dat` table contains `int64` and `float64` data types. However, `pandas` and its extensions (such as `geopandas`, see {ref}`what-is-geopandas`) also extend the `numpy` functionality with new data types (such as `GeometryDtype`, see {ref}`geoseries-geometry-column`)."
   ]
  },
  {
   "attachments": {},
   "cell_type": "markdown",
   "metadata": {},
   "source": [
    "(pandas-renaming-columns)=\n",
    "## Renaming columns"
   ]
  },
  {
   "attachments": {},
   "cell_type": "markdown",
   "metadata": {},
   "source": [
    "Sometimes it is necessary to rename `DataFrame` columns. For example, we may wish to use shorter names which are easier to type, or make the columns match another table we are working with. Columns can be renamed using the `.rename` method, which accepts a `columns` argument of the form `{'old_name':'new_name',...}`. For example, here is how we can replace the `'Year'` column name with lowercase `'year'`:"
   ]
  },
  {
   "cell_type": "code",
   "execution_count": 140,
   "metadata": {},
   "outputs": [
    {
     "data": {
      "text/html": [
       "<div>\n",
       "<style scoped>\n",
       "    .dataframe tbody tr th:only-of-type {\n",
       "        vertical-align: middle;\n",
       "    }\n",
       "\n",
       "    .dataframe tbody tr th {\n",
       "        vertical-align: top;\n",
       "    }\n",
       "\n",
       "    .dataframe thead th {\n",
       "        text-align: right;\n",
       "    }\n",
       "</style>\n",
       "<table border=\"1\" class=\"dataframe\">\n",
       "  <thead>\n",
       "    <tr style=\"text-align: right;\">\n",
       "      <th></th>\n",
       "      <th>year</th>\n",
       "      <th>Glob</th>\n",
       "      <th>NHem</th>\n",
       "      <th>SHem</th>\n",
       "      <th>24N-90N</th>\n",
       "      <th>...</th>\n",
       "      <th>EQU-24N</th>\n",
       "      <th>24S-EQU</th>\n",
       "      <th>44S-24S</th>\n",
       "      <th>64S-44S</th>\n",
       "      <th>90S-64S</th>\n",
       "    </tr>\n",
       "  </thead>\n",
       "  <tbody>\n",
       "    <tr>\n",
       "      <th>0</th>\n",
       "      <td>1880</td>\n",
       "      <td>-0.17</td>\n",
       "      <td>-0.30</td>\n",
       "      <td>-0.04</td>\n",
       "      <td>-0.39</td>\n",
       "      <td>...</td>\n",
       "      <td>-0.15</td>\n",
       "      <td>-0.09</td>\n",
       "      <td>-0.03</td>\n",
       "      <td>0.05</td>\n",
       "      <td>0.67</td>\n",
       "    </tr>\n",
       "    <tr>\n",
       "      <th>1</th>\n",
       "      <td>1881</td>\n",
       "      <td>-0.09</td>\n",
       "      <td>-0.19</td>\n",
       "      <td>0.01</td>\n",
       "      <td>-0.37</td>\n",
       "      <td>...</td>\n",
       "      <td>0.10</td>\n",
       "      <td>0.12</td>\n",
       "      <td>-0.04</td>\n",
       "      <td>-0.07</td>\n",
       "      <td>0.59</td>\n",
       "    </tr>\n",
       "    <tr>\n",
       "      <th>2</th>\n",
       "      <td>1882</td>\n",
       "      <td>-0.11</td>\n",
       "      <td>-0.23</td>\n",
       "      <td>0.00</td>\n",
       "      <td>-0.33</td>\n",
       "      <td>...</td>\n",
       "      <td>-0.05</td>\n",
       "      <td>-0.04</td>\n",
       "      <td>0.02</td>\n",
       "      <td>0.04</td>\n",
       "      <td>0.62</td>\n",
       "    </tr>\n",
       "    <tr>\n",
       "      <th>3</th>\n",
       "      <td>1883</td>\n",
       "      <td>-0.17</td>\n",
       "      <td>-0.29</td>\n",
       "      <td>-0.06</td>\n",
       "      <td>-0.36</td>\n",
       "      <td>...</td>\n",
       "      <td>-0.17</td>\n",
       "      <td>-0.14</td>\n",
       "      <td>-0.03</td>\n",
       "      <td>0.07</td>\n",
       "      <td>0.50</td>\n",
       "    </tr>\n",
       "    <tr>\n",
       "      <th>4</th>\n",
       "      <td>1884</td>\n",
       "      <td>-0.28</td>\n",
       "      <td>-0.44</td>\n",
       "      <td>-0.14</td>\n",
       "      <td>-0.62</td>\n",
       "      <td>...</td>\n",
       "      <td>-0.12</td>\n",
       "      <td>-0.16</td>\n",
       "      <td>-0.18</td>\n",
       "      <td>-0.02</td>\n",
       "      <td>0.65</td>\n",
       "    </tr>\n",
       "    <tr>\n",
       "      <th>...</th>\n",
       "      <td>...</td>\n",
       "      <td>...</td>\n",
       "      <td>...</td>\n",
       "      <td>...</td>\n",
       "      <td>...</td>\n",
       "      <td>...</td>\n",
       "      <td>...</td>\n",
       "      <td>...</td>\n",
       "      <td>...</td>\n",
       "      <td>...</td>\n",
       "      <td>...</td>\n",
       "    </tr>\n",
       "    <tr>\n",
       "      <th>138</th>\n",
       "      <td>2018</td>\n",
       "      <td>0.85</td>\n",
       "      <td>1.03</td>\n",
       "      <td>0.66</td>\n",
       "      <td>1.24</td>\n",
       "      <td>...</td>\n",
       "      <td>0.73</td>\n",
       "      <td>0.63</td>\n",
       "      <td>0.80</td>\n",
       "      <td>0.37</td>\n",
       "      <td>0.96</td>\n",
       "    </tr>\n",
       "    <tr>\n",
       "      <th>139</th>\n",
       "      <td>2019</td>\n",
       "      <td>0.98</td>\n",
       "      <td>1.21</td>\n",
       "      <td>0.75</td>\n",
       "      <td>1.42</td>\n",
       "      <td>...</td>\n",
       "      <td>0.90</td>\n",
       "      <td>0.89</td>\n",
       "      <td>0.75</td>\n",
       "      <td>0.39</td>\n",
       "      <td>0.85</td>\n",
       "    </tr>\n",
       "    <tr>\n",
       "      <th>140</th>\n",
       "      <td>2020</td>\n",
       "      <td>1.02</td>\n",
       "      <td>1.35</td>\n",
       "      <td>0.68</td>\n",
       "      <td>1.67</td>\n",
       "      <td>...</td>\n",
       "      <td>0.88</td>\n",
       "      <td>0.84</td>\n",
       "      <td>0.58</td>\n",
       "      <td>0.39</td>\n",
       "      <td>0.91</td>\n",
       "    </tr>\n",
       "    <tr>\n",
       "      <th>141</th>\n",
       "      <td>2021</td>\n",
       "      <td>0.85</td>\n",
       "      <td>1.14</td>\n",
       "      <td>0.56</td>\n",
       "      <td>1.42</td>\n",
       "      <td>...</td>\n",
       "      <td>0.72</td>\n",
       "      <td>0.59</td>\n",
       "      <td>0.72</td>\n",
       "      <td>0.32</td>\n",
       "      <td>0.31</td>\n",
       "    </tr>\n",
       "    <tr>\n",
       "      <th>142</th>\n",
       "      <td>2022</td>\n",
       "      <td>0.89</td>\n",
       "      <td>1.16</td>\n",
       "      <td>0.62</td>\n",
       "      <td>1.52</td>\n",
       "      <td>...</td>\n",
       "      <td>0.63</td>\n",
       "      <td>0.51</td>\n",
       "      <td>0.79</td>\n",
       "      <td>0.39</td>\n",
       "      <td>1.11</td>\n",
       "    </tr>\n",
       "  </tbody>\n",
       "</table>\n",
       "<p>143 rows × 15 columns</p>\n",
       "</div>"
      ],
      "text/plain": [
       "     year  Glob  NHem  SHem  24N-90N  ...  EQU-24N  24S-EQU  44S-24S  64S-44S  \\\n",
       "0    1880 -0.17 -0.30 -0.04    -0.39  ...    -0.15    -0.09    -0.03     0.05   \n",
       "1    1881 -0.09 -0.19  0.01    -0.37  ...     0.10     0.12    -0.04    -0.07   \n",
       "2    1882 -0.11 -0.23  0.00    -0.33  ...    -0.05    -0.04     0.02     0.04   \n",
       "3    1883 -0.17 -0.29 -0.06    -0.36  ...    -0.17    -0.14    -0.03     0.07   \n",
       "4    1884 -0.28 -0.44 -0.14    -0.62  ...    -0.12    -0.16    -0.18    -0.02   \n",
       "..    ...   ...   ...   ...      ...  ...      ...      ...      ...      ...   \n",
       "138  2018  0.85  1.03  0.66     1.24  ...     0.73     0.63     0.80     0.37   \n",
       "139  2019  0.98  1.21  0.75     1.42  ...     0.90     0.89     0.75     0.39   \n",
       "140  2020  1.02  1.35  0.68     1.67  ...     0.88     0.84     0.58     0.39   \n",
       "141  2021  0.85  1.14  0.56     1.42  ...     0.72     0.59     0.72     0.32   \n",
       "142  2022  0.89  1.16  0.62     1.52  ...     0.63     0.51     0.79     0.39   \n",
       "\n",
       "     90S-64S  \n",
       "0       0.67  \n",
       "1       0.59  \n",
       "2       0.62  \n",
       "3       0.50  \n",
       "4       0.65  \n",
       "..       ...  \n",
       "138     0.96  \n",
       "139     0.85  \n",
       "140     0.91  \n",
       "141     0.31  \n",
       "142     1.11  \n",
       "\n",
       "[143 rows x 15 columns]"
      ]
     },
     "execution_count": 140,
     "metadata": {},
     "output_type": "execute_result"
    }
   ],
   "source": [
    "dat.rename(columns={'Year': 'year'})"
   ]
  },
  {
   "attachments": {},
   "cell_type": "markdown",
   "metadata": {},
   "source": [
    "```{note}\n",
    "Another option to rename columns is to assign a `list` of strings of the same length as the number of columns to the `.columns` attribute (see <https://stackoverflow.com/questions/11346283/renaming-column-names-in-pandas#answer-11346337>).\n",
    "```"
   ]
  },
  {
   "attachments": {},
   "cell_type": "markdown",
   "metadata": {},
   "source": [
    "## Subsetting in `pandas`"
   ]
  },
  {
   "cell_type": "markdown",
   "metadata": {},
   "source": [
    "(pandas-subsetting-overview)=\n",
    "### Overview"
   ]
  },
  {
   "attachments": {},
   "cell_type": "markdown",
   "metadata": {},
   "source": [
    "There are numerous methods of subsetting `Series` and `DataFrame`s in `pandas`. For example, `Series` values can be subsetted using the `[` operator. However, this can be confusing since both using numeric indices and the index values are permitted, and it can be unclear which method is actually employed. "
   ]
  },
  {
   "attachments": {},
   "cell_type": "markdown",
   "metadata": {},
   "source": [
    "In agreement with the Python philosophy, where *explicit* is better than implicit, the [recommended](https://stackoverflow.com/questions/38886080/python-pandas-series-why-use-loc) subsetting methods are using `.loc` and `.iloc`, which are discussed in the following sub-sections. The principal difference between `.loc` and `.iloc` is:\n",
    "\n",
    "* `.loc` uses `pandas` indices, while \n",
    "* `.iloc` uses (implicit) `numpy`-style numeric indices. "
   ]
  },
  {
   "attachments": {},
   "cell_type": "markdown",
   "metadata": {},
   "source": [
    "In this book, we are going to use `.iloc` and `.loc` methods when subsetting `Series` (this section) and `DataFrame` (see {ref}`subsetting-dataframes`) objects. Nevertheless, for shorter syntax, we are going to use the `[` shortcut in the following cases: \n",
    "\n",
    "* Selecting `DataFrame` columns using the `[` operator, as in: \n",
    "    * `dat['Year']` instead of `dat.loc[:,'Year']` (see {ref}`dataframe-selecting-columns`)\n",
    "    * `dat[['Year']]` instead of `dat.loc[:,['Year']]` (see {ref}`dataframe-selecting-columns`)\n",
    "* Filtering `DataFrame` rows using the `[` operator, as in:\n",
    "    * `dat[dat['Year']>2017]` instead of `dat.loc[dat['Year']>2017]` (see {ref}`dataframe-filtering`)"
   ]
  },
  {
   "attachments": {},
   "cell_type": "markdown",
   "metadata": {},
   "source": [
    "(subsetting-series)=\n",
    "### Subsetting `Series`"
   ]
  },
  {
   "attachments": {},
   "cell_type": "markdown",
   "metadata": {},
   "source": [
    "As mentioned above, the recommended way to subset `Series` is using the specialized methods named `.loc` and `.iloc`:\n",
    "\n",
    "* `.loc`—For subsetting using the `Series` index\n",
    "* `.iloc`—For subsetting using the (implicit) `numpy` index"
   ]
  },
  {
   "attachments": {},
   "cell_type": "markdown",
   "metadata": {},
   "source": [
    "What follows after the method are the indices, inside square brackets (`[`), whereas the indices can be one of:\n",
    "\n",
    "* An individual value, such as `.loc['a']` or `.iloc[0]`\n",
    "* A slice, such as `.loc['a':'b']` or `.iloc[1:2]`\n",
    "* A `list`, such as `.loc[['a','c']]` or `.iloc[[0,2]]`"
   ]
  },
  {
   "attachments": {},
   "cell_type": "markdown",
   "metadata": {},
   "source": [
    "For the next few examples, let us create a `Series` object named `s`, with:\n",
    "\n",
    "* values `11`, `12`, `13`, `14`, and \n",
    "* indices `'a'`, `'b'`, `'c'`, `'d'`, \n",
    " \n",
    "using the `index` parameter of `pd.Series`:"
   ]
  },
  {
   "cell_type": "code",
   "execution_count": 141,
   "metadata": {},
   "outputs": [
    {
     "data": {
      "text/plain": [
       "a    11\n",
       "b    12\n",
       "c    13\n",
       "d    14\n",
       "dtype: int64"
      ]
     },
     "execution_count": 141,
     "metadata": {},
     "output_type": "execute_result"
    }
   ],
   "source": [
    "s = pd.Series([11, 12, 13, 14], index=['a', 'b', 'c', 'd'])\n",
    "s"
   ]
  },
  {
   "attachments": {},
   "cell_type": "markdown",
   "metadata": {},
   "source": [
    "Here is how we can use `.loc` to select values using the three above-mentioned types of indices:"
   ]
  },
  {
   "cell_type": "code",
   "execution_count": 142,
   "metadata": {},
   "outputs": [
    {
     "data": {
      "text/plain": [
       "11"
      ]
     },
     "execution_count": 142,
     "metadata": {},
     "output_type": "execute_result"
    }
   ],
   "source": [
    "s.loc['a']         ## Individual index"
   ]
  },
  {
   "cell_type": "code",
   "execution_count": 143,
   "metadata": {},
   "outputs": [
    {
     "data": {
      "text/plain": [
       "b    12\n",
       "c    13\n",
       "dtype: int64"
      ]
     },
     "execution_count": 143,
     "metadata": {},
     "output_type": "execute_result"
    }
   ],
   "source": [
    "s.loc['b':'c']     ## Slice"
   ]
  },
  {
   "cell_type": "code",
   "execution_count": 144,
   "metadata": {},
   "outputs": [
    {
     "data": {
      "text/plain": [
       "a    11\n",
       "c    13\n",
       "dtype: int64"
      ]
     },
     "execution_count": 144,
     "metadata": {},
     "output_type": "execute_result"
    }
   ],
   "source": [
    "s.loc[['a', 'c']]  ## 'list' of indices"
   ]
  },
  {
   "attachments": {},
   "cell_type": "markdown",
   "metadata": {},
   "source": [
    "And here is how we can use `.iloc` to select values using `numpy`-style numeric indices:"
   ]
  },
  {
   "cell_type": "code",
   "execution_count": 145,
   "metadata": {},
   "outputs": [
    {
     "data": {
      "text/plain": [
       "11"
      ]
     },
     "execution_count": 145,
     "metadata": {},
     "output_type": "execute_result"
    }
   ],
   "source": [
    "s.iloc[0]       ## Individual index"
   ]
  },
  {
   "cell_type": "code",
   "execution_count": 146,
   "metadata": {},
   "outputs": [
    {
     "data": {
      "text/plain": [
       "b    12\n",
       "dtype: int64"
      ]
     },
     "execution_count": 146,
     "metadata": {},
     "output_type": "execute_result"
    }
   ],
   "source": [
    "s.iloc[1:2]     ## Slice"
   ]
  },
  {
   "cell_type": "code",
   "execution_count": 147,
   "metadata": {},
   "outputs": [
    {
     "data": {
      "text/plain": [
       "a    11\n",
       "c    13\n",
       "dtype: int64"
      ]
     },
     "execution_count": 147,
     "metadata": {},
     "output_type": "execute_result"
    }
   ],
   "source": [
    "s.iloc[[0, 2]]  ## 'list' of indices"
   ]
  },
  {
   "attachments": {},
   "cell_type": "markdown",
   "metadata": {},
   "source": [
    "In the above examples, note how using an individual index returns a standalone value, while using a slice, or a list of indices, return a `Series`, even if the list or the slice contains just one element:"
   ]
  },
  {
   "cell_type": "code",
   "execution_count": 148,
   "metadata": {},
   "outputs": [
    {
     "data": {
      "text/plain": [
       "a    11\n",
       "dtype: int64"
      ]
     },
     "execution_count": 148,
     "metadata": {},
     "output_type": "execute_result"
    }
   ],
   "source": [
    "s.iloc[[0]]"
   ]
  },
  {
   "attachments": {},
   "cell_type": "markdown",
   "metadata": {},
   "source": [
    "Also note that a slice using indices (such as `s.loc['a':'b']`) is *inclusive*, while a slice using implicit indices (such as `.iloc[0:1]`) excludes the last index similarly to `list` and `numpy` behavior."
   ]
  },
  {
   "attachments": {},
   "cell_type": "markdown",
   "metadata": {},
   "source": [
    "(subsetting-dataframes)=\n",
    "### Subsetting `DataFrame`s"
   ]
  },
  {
   "attachments": {},
   "cell_type": "markdown",
   "metadata": {},
   "source": [
    "(dataframe-selecting-columns)=\n",
    "#### Selecting `DataFrame` columns"
   ]
  },
  {
   "attachments": {},
   "cell_type": "markdown",
   "metadata": {},
   "source": [
    "A `DataFrame` is a two-dimensional object, unlike a `Series` which is one-dimensional. Accordingly, the `.loc` and `iloc` methods of a `DataFrame` accept two indices, separated by a comma: \n",
    "\n",
    "* The *first* index refers to rows\n",
    "* The *second* index refers to columns"
   ]
  },
  {
   "attachments": {},
   "cell_type": "markdown",
   "metadata": {},
   "source": [
    "When we want to select *all* rows or columns, we place `:` in the respective index, similarly to `numpy` array subsetting (see {ref}`subsetting-arrays`). Using an individual index returns a `Series`, while using a slice or a `list` of indices—even if length `1`—returns a `DataFrame`."
   ]
  },
  {
   "attachments": {},
   "cell_type": "markdown",
   "metadata": {},
   "source": [
    "For example, this is how we can use `.loc` to extract one `DataFrame` column as a `Series`:"
   ]
  },
  {
   "cell_type": "code",
   "execution_count": 149,
   "metadata": {},
   "outputs": [
    {
     "data": {
      "text/plain": [
       "0     -0.17\n",
       "1     -0.09\n",
       "2     -0.11\n",
       "3     -0.17\n",
       "4     -0.28\n",
       "       ... \n",
       "138    0.85\n",
       "139    0.98\n",
       "140    1.02\n",
       "141    0.85\n",
       "142    0.89\n",
       "Name: Glob, Length: 143, dtype: float64"
      ]
     },
     "execution_count": 149,
     "metadata": {},
     "output_type": "execute_result"
    }
   ],
   "source": [
    "dat.loc[:, 'Glob']"
   ]
  },
  {
   "attachments": {},
   "cell_type": "markdown",
   "metadata": {},
   "source": [
    "and here is how we can extract a single column as a `DataFrame`:"
   ]
  },
  {
   "cell_type": "code",
   "execution_count": 150,
   "metadata": {},
   "outputs": [
    {
     "data": {
      "text/html": [
       "<div>\n",
       "<style scoped>\n",
       "    .dataframe tbody tr th:only-of-type {\n",
       "        vertical-align: middle;\n",
       "    }\n",
       "\n",
       "    .dataframe tbody tr th {\n",
       "        vertical-align: top;\n",
       "    }\n",
       "\n",
       "    .dataframe thead th {\n",
       "        text-align: right;\n",
       "    }\n",
       "</style>\n",
       "<table border=\"1\" class=\"dataframe\">\n",
       "  <thead>\n",
       "    <tr style=\"text-align: right;\">\n",
       "      <th></th>\n",
       "      <th>Glob</th>\n",
       "    </tr>\n",
       "  </thead>\n",
       "  <tbody>\n",
       "    <tr>\n",
       "      <th>0</th>\n",
       "      <td>-0.17</td>\n",
       "    </tr>\n",
       "    <tr>\n",
       "      <th>1</th>\n",
       "      <td>-0.09</td>\n",
       "    </tr>\n",
       "    <tr>\n",
       "      <th>2</th>\n",
       "      <td>-0.11</td>\n",
       "    </tr>\n",
       "    <tr>\n",
       "      <th>3</th>\n",
       "      <td>-0.17</td>\n",
       "    </tr>\n",
       "    <tr>\n",
       "      <th>4</th>\n",
       "      <td>-0.28</td>\n",
       "    </tr>\n",
       "    <tr>\n",
       "      <th>...</th>\n",
       "      <td>...</td>\n",
       "    </tr>\n",
       "    <tr>\n",
       "      <th>138</th>\n",
       "      <td>0.85</td>\n",
       "    </tr>\n",
       "    <tr>\n",
       "      <th>139</th>\n",
       "      <td>0.98</td>\n",
       "    </tr>\n",
       "    <tr>\n",
       "      <th>140</th>\n",
       "      <td>1.02</td>\n",
       "    </tr>\n",
       "    <tr>\n",
       "      <th>141</th>\n",
       "      <td>0.85</td>\n",
       "    </tr>\n",
       "    <tr>\n",
       "      <th>142</th>\n",
       "      <td>0.89</td>\n",
       "    </tr>\n",
       "  </tbody>\n",
       "</table>\n",
       "<p>143 rows × 1 columns</p>\n",
       "</div>"
      ],
      "text/plain": [
       "     Glob\n",
       "0   -0.17\n",
       "1   -0.09\n",
       "2   -0.11\n",
       "3   -0.17\n",
       "4   -0.28\n",
       "..    ...\n",
       "138  0.85\n",
       "139  0.98\n",
       "140  1.02\n",
       "141  0.85\n",
       "142  0.89\n",
       "\n",
       "[143 rows x 1 columns]"
      ]
     },
     "execution_count": 150,
     "metadata": {},
     "output_type": "execute_result"
    }
   ],
   "source": [
    "dat.loc[:, ['Glob']]"
   ]
  },
  {
   "attachments": {},
   "cell_type": "markdown",
   "metadata": {},
   "source": [
    "As mentioned above (see {ref}`pandas-subsetting-overview`), we can also use the shortcut `[` operator to subset columns(s):"
   ]
  },
  {
   "cell_type": "code",
   "execution_count": 151,
   "metadata": {},
   "outputs": [
    {
     "data": {
      "text/plain": [
       "0     -0.17\n",
       "1     -0.09\n",
       "2     -0.11\n",
       "3     -0.17\n",
       "4     -0.28\n",
       "       ... \n",
       "138    0.85\n",
       "139    0.98\n",
       "140    1.02\n",
       "141    0.85\n",
       "142    0.89\n",
       "Name: Glob, Length: 143, dtype: float64"
      ]
     },
     "execution_count": 151,
     "metadata": {},
     "output_type": "execute_result"
    }
   ],
   "source": [
    "dat['Glob']  ## Shortcut for `dat.loc[:, 'Glob']`"
   ]
  },
  {
   "cell_type": "code",
   "execution_count": 152,
   "metadata": {},
   "outputs": [
    {
     "data": {
      "text/html": [
       "<div>\n",
       "<style scoped>\n",
       "    .dataframe tbody tr th:only-of-type {\n",
       "        vertical-align: middle;\n",
       "    }\n",
       "\n",
       "    .dataframe tbody tr th {\n",
       "        vertical-align: top;\n",
       "    }\n",
       "\n",
       "    .dataframe thead th {\n",
       "        text-align: right;\n",
       "    }\n",
       "</style>\n",
       "<table border=\"1\" class=\"dataframe\">\n",
       "  <thead>\n",
       "    <tr style=\"text-align: right;\">\n",
       "      <th></th>\n",
       "      <th>Glob</th>\n",
       "    </tr>\n",
       "  </thead>\n",
       "  <tbody>\n",
       "    <tr>\n",
       "      <th>0</th>\n",
       "      <td>-0.17</td>\n",
       "    </tr>\n",
       "    <tr>\n",
       "      <th>1</th>\n",
       "      <td>-0.09</td>\n",
       "    </tr>\n",
       "    <tr>\n",
       "      <th>2</th>\n",
       "      <td>-0.11</td>\n",
       "    </tr>\n",
       "    <tr>\n",
       "      <th>3</th>\n",
       "      <td>-0.17</td>\n",
       "    </tr>\n",
       "    <tr>\n",
       "      <th>4</th>\n",
       "      <td>-0.28</td>\n",
       "    </tr>\n",
       "    <tr>\n",
       "      <th>...</th>\n",
       "      <td>...</td>\n",
       "    </tr>\n",
       "    <tr>\n",
       "      <th>138</th>\n",
       "      <td>0.85</td>\n",
       "    </tr>\n",
       "    <tr>\n",
       "      <th>139</th>\n",
       "      <td>0.98</td>\n",
       "    </tr>\n",
       "    <tr>\n",
       "      <th>140</th>\n",
       "      <td>1.02</td>\n",
       "    </tr>\n",
       "    <tr>\n",
       "      <th>141</th>\n",
       "      <td>0.85</td>\n",
       "    </tr>\n",
       "    <tr>\n",
       "      <th>142</th>\n",
       "      <td>0.89</td>\n",
       "    </tr>\n",
       "  </tbody>\n",
       "</table>\n",
       "<p>143 rows × 1 columns</p>\n",
       "</div>"
      ],
      "text/plain": [
       "     Glob\n",
       "0   -0.17\n",
       "1   -0.09\n",
       "2   -0.11\n",
       "3   -0.17\n",
       "4   -0.28\n",
       "..    ...\n",
       "138  0.85\n",
       "139  0.98\n",
       "140  1.02\n",
       "141  0.85\n",
       "142  0.89\n",
       "\n",
       "[143 rows x 1 columns]"
      ]
     },
     "execution_count": 152,
     "metadata": {},
     "output_type": "execute_result"
    }
   ],
   "source": [
    "dat[['Glob']]  ## Shortcut for `dat.loc[:, ['Glob']]`"
   ]
  },
  {
   "attachments": {},
   "cell_type": "markdown",
   "metadata": {},
   "source": [
    "```{note}\n",
    "Dot notation, as in `dat.Glob` can also be used to select individual columns of a `DataFrame`. However, this is not recommended, because it does not work (1) with non-string column names, and (2) with column names that are the same as `DataFrame` methods, such as `.pop`.\n",
    "```"
   ]
  },
  {
   "attachments": {},
   "cell_type": "markdown",
   "metadata": {},
   "source": [
    "We can pass a `list` of column names to select more then one column. For example:"
   ]
  },
  {
   "cell_type": "code",
   "execution_count": 153,
   "metadata": {},
   "outputs": [
    {
     "data": {
      "text/html": [
       "<div>\n",
       "<style scoped>\n",
       "    .dataframe tbody tr th:only-of-type {\n",
       "        vertical-align: middle;\n",
       "    }\n",
       "\n",
       "    .dataframe tbody tr th {\n",
       "        vertical-align: top;\n",
       "    }\n",
       "\n",
       "    .dataframe thead th {\n",
       "        text-align: right;\n",
       "    }\n",
       "</style>\n",
       "<table border=\"1\" class=\"dataframe\">\n",
       "  <thead>\n",
       "    <tr style=\"text-align: right;\">\n",
       "      <th></th>\n",
       "      <th>Year</th>\n",
       "      <th>Glob</th>\n",
       "      <th>NHem</th>\n",
       "      <th>SHem</th>\n",
       "    </tr>\n",
       "  </thead>\n",
       "  <tbody>\n",
       "    <tr>\n",
       "      <th>0</th>\n",
       "      <td>1880</td>\n",
       "      <td>-0.17</td>\n",
       "      <td>-0.30</td>\n",
       "      <td>-0.04</td>\n",
       "    </tr>\n",
       "    <tr>\n",
       "      <th>1</th>\n",
       "      <td>1881</td>\n",
       "      <td>-0.09</td>\n",
       "      <td>-0.19</td>\n",
       "      <td>0.01</td>\n",
       "    </tr>\n",
       "    <tr>\n",
       "      <th>2</th>\n",
       "      <td>1882</td>\n",
       "      <td>-0.11</td>\n",
       "      <td>-0.23</td>\n",
       "      <td>0.00</td>\n",
       "    </tr>\n",
       "    <tr>\n",
       "      <th>3</th>\n",
       "      <td>1883</td>\n",
       "      <td>-0.17</td>\n",
       "      <td>-0.29</td>\n",
       "      <td>-0.06</td>\n",
       "    </tr>\n",
       "    <tr>\n",
       "      <th>4</th>\n",
       "      <td>1884</td>\n",
       "      <td>-0.28</td>\n",
       "      <td>-0.44</td>\n",
       "      <td>-0.14</td>\n",
       "    </tr>\n",
       "    <tr>\n",
       "      <th>...</th>\n",
       "      <td>...</td>\n",
       "      <td>...</td>\n",
       "      <td>...</td>\n",
       "      <td>...</td>\n",
       "    </tr>\n",
       "    <tr>\n",
       "      <th>138</th>\n",
       "      <td>2018</td>\n",
       "      <td>0.85</td>\n",
       "      <td>1.03</td>\n",
       "      <td>0.66</td>\n",
       "    </tr>\n",
       "    <tr>\n",
       "      <th>139</th>\n",
       "      <td>2019</td>\n",
       "      <td>0.98</td>\n",
       "      <td>1.21</td>\n",
       "      <td>0.75</td>\n",
       "    </tr>\n",
       "    <tr>\n",
       "      <th>140</th>\n",
       "      <td>2020</td>\n",
       "      <td>1.02</td>\n",
       "      <td>1.35</td>\n",
       "      <td>0.68</td>\n",
       "    </tr>\n",
       "    <tr>\n",
       "      <th>141</th>\n",
       "      <td>2021</td>\n",
       "      <td>0.85</td>\n",
       "      <td>1.14</td>\n",
       "      <td>0.56</td>\n",
       "    </tr>\n",
       "    <tr>\n",
       "      <th>142</th>\n",
       "      <td>2022</td>\n",
       "      <td>0.89</td>\n",
       "      <td>1.16</td>\n",
       "      <td>0.62</td>\n",
       "    </tr>\n",
       "  </tbody>\n",
       "</table>\n",
       "<p>143 rows × 4 columns</p>\n",
       "</div>"
      ],
      "text/plain": [
       "     Year  Glob  NHem  SHem\n",
       "0    1880 -0.17 -0.30 -0.04\n",
       "1    1881 -0.09 -0.19  0.01\n",
       "2    1882 -0.11 -0.23  0.00\n",
       "3    1883 -0.17 -0.29 -0.06\n",
       "4    1884 -0.28 -0.44 -0.14\n",
       "..    ...   ...   ...   ...\n",
       "138  2018  0.85  1.03  0.66\n",
       "139  2019  0.98  1.21  0.75\n",
       "140  2020  1.02  1.35  0.68\n",
       "141  2021  0.85  1.14  0.56\n",
       "142  2022  0.89  1.16  0.62\n",
       "\n",
       "[143 rows x 4 columns]"
      ]
     },
     "execution_count": 153,
     "metadata": {},
     "output_type": "execute_result"
    }
   ],
   "source": [
    "dat[['Year', 'Glob', 'NHem', 'SHem']]"
   ]
  },
  {
   "attachments": {},
   "cell_type": "markdown",
   "metadata": {},
   "source": [
    "To select all columns *except* for the specified ones, we can use the `.drop` method combined with `axis=1`:"
   ]
  },
  {
   "cell_type": "code",
   "execution_count": 154,
   "metadata": {},
   "outputs": [
    {
     "data": {
      "text/html": [
       "<div>\n",
       "<style scoped>\n",
       "    .dataframe tbody tr th:only-of-type {\n",
       "        vertical-align: middle;\n",
       "    }\n",
       "\n",
       "    .dataframe tbody tr th {\n",
       "        vertical-align: top;\n",
       "    }\n",
       "\n",
       "    .dataframe thead th {\n",
       "        text-align: right;\n",
       "    }\n",
       "</style>\n",
       "<table border=\"1\" class=\"dataframe\">\n",
       "  <thead>\n",
       "    <tr style=\"text-align: right;\">\n",
       "      <th></th>\n",
       "      <th>64N-90N</th>\n",
       "      <th>44N-64N</th>\n",
       "      <th>24N-44N</th>\n",
       "      <th>EQU-24N</th>\n",
       "      <th>24S-EQU</th>\n",
       "      <th>44S-24S</th>\n",
       "      <th>64S-44S</th>\n",
       "      <th>90S-64S</th>\n",
       "    </tr>\n",
       "  </thead>\n",
       "  <tbody>\n",
       "    <tr>\n",
       "      <th>0</th>\n",
       "      <td>-0.81</td>\n",
       "      <td>-0.50</td>\n",
       "      <td>-0.31</td>\n",
       "      <td>-0.15</td>\n",
       "      <td>-0.09</td>\n",
       "      <td>-0.03</td>\n",
       "      <td>0.05</td>\n",
       "      <td>0.67</td>\n",
       "    </tr>\n",
       "    <tr>\n",
       "      <th>1</th>\n",
       "      <td>-0.92</td>\n",
       "      <td>-0.47</td>\n",
       "      <td>-0.23</td>\n",
       "      <td>0.10</td>\n",
       "      <td>0.12</td>\n",
       "      <td>-0.04</td>\n",
       "      <td>-0.07</td>\n",
       "      <td>0.59</td>\n",
       "    </tr>\n",
       "    <tr>\n",
       "      <th>2</th>\n",
       "      <td>-1.42</td>\n",
       "      <td>-0.29</td>\n",
       "      <td>-0.18</td>\n",
       "      <td>-0.05</td>\n",
       "      <td>-0.04</td>\n",
       "      <td>0.02</td>\n",
       "      <td>0.04</td>\n",
       "      <td>0.62</td>\n",
       "    </tr>\n",
       "    <tr>\n",
       "      <th>3</th>\n",
       "      <td>-0.18</td>\n",
       "      <td>-0.57</td>\n",
       "      <td>-0.28</td>\n",
       "      <td>-0.17</td>\n",
       "      <td>-0.14</td>\n",
       "      <td>-0.03</td>\n",
       "      <td>0.07</td>\n",
       "      <td>0.50</td>\n",
       "    </tr>\n",
       "    <tr>\n",
       "      <th>4</th>\n",
       "      <td>-1.31</td>\n",
       "      <td>-0.65</td>\n",
       "      <td>-0.49</td>\n",
       "      <td>-0.12</td>\n",
       "      <td>-0.16</td>\n",
       "      <td>-0.18</td>\n",
       "      <td>-0.02</td>\n",
       "      <td>0.65</td>\n",
       "    </tr>\n",
       "    <tr>\n",
       "      <th>...</th>\n",
       "      <td>...</td>\n",
       "      <td>...</td>\n",
       "      <td>...</td>\n",
       "      <td>...</td>\n",
       "      <td>...</td>\n",
       "      <td>...</td>\n",
       "      <td>...</td>\n",
       "      <td>...</td>\n",
       "    </tr>\n",
       "    <tr>\n",
       "      <th>138</th>\n",
       "      <td>2.13</td>\n",
       "      <td>1.09</td>\n",
       "      <td>1.05</td>\n",
       "      <td>0.73</td>\n",
       "      <td>0.63</td>\n",
       "      <td>0.80</td>\n",
       "      <td>0.37</td>\n",
       "      <td>0.96</td>\n",
       "    </tr>\n",
       "    <tr>\n",
       "      <th>139</th>\n",
       "      <td>2.71</td>\n",
       "      <td>1.44</td>\n",
       "      <td>0.99</td>\n",
       "      <td>0.90</td>\n",
       "      <td>0.89</td>\n",
       "      <td>0.75</td>\n",
       "      <td>0.39</td>\n",
       "      <td>0.85</td>\n",
       "    </tr>\n",
       "    <tr>\n",
       "      <th>140</th>\n",
       "      <td>2.90</td>\n",
       "      <td>1.82</td>\n",
       "      <td>1.18</td>\n",
       "      <td>0.88</td>\n",
       "      <td>0.84</td>\n",
       "      <td>0.58</td>\n",
       "      <td>0.39</td>\n",
       "      <td>0.91</td>\n",
       "    </tr>\n",
       "    <tr>\n",
       "      <th>141</th>\n",
       "      <td>2.04</td>\n",
       "      <td>1.36</td>\n",
       "      <td>1.26</td>\n",
       "      <td>0.72</td>\n",
       "      <td>0.59</td>\n",
       "      <td>0.72</td>\n",
       "      <td>0.32</td>\n",
       "      <td>0.31</td>\n",
       "    </tr>\n",
       "    <tr>\n",
       "      <th>142</th>\n",
       "      <td>2.33</td>\n",
       "      <td>1.52</td>\n",
       "      <td>1.26</td>\n",
       "      <td>0.63</td>\n",
       "      <td>0.51</td>\n",
       "      <td>0.79</td>\n",
       "      <td>0.39</td>\n",
       "      <td>1.11</td>\n",
       "    </tr>\n",
       "  </tbody>\n",
       "</table>\n",
       "<p>143 rows × 8 columns</p>\n",
       "</div>"
      ],
      "text/plain": [
       "     64N-90N  44N-64N  24N-44N  EQU-24N  24S-EQU  44S-24S  64S-44S  90S-64S\n",
       "0      -0.81    -0.50    -0.31    -0.15    -0.09    -0.03     0.05     0.67\n",
       "1      -0.92    -0.47    -0.23     0.10     0.12    -0.04    -0.07     0.59\n",
       "2      -1.42    -0.29    -0.18    -0.05    -0.04     0.02     0.04     0.62\n",
       "3      -0.18    -0.57    -0.28    -0.17    -0.14    -0.03     0.07     0.50\n",
       "4      -1.31    -0.65    -0.49    -0.12    -0.16    -0.18    -0.02     0.65\n",
       "..       ...      ...      ...      ...      ...      ...      ...      ...\n",
       "138     2.13     1.09     1.05     0.73     0.63     0.80     0.37     0.96\n",
       "139     2.71     1.44     0.99     0.90     0.89     0.75     0.39     0.85\n",
       "140     2.90     1.82     1.18     0.88     0.84     0.58     0.39     0.91\n",
       "141     2.04     1.36     1.26     0.72     0.59     0.72     0.32     0.31\n",
       "142     2.33     1.52     1.26     0.63     0.51     0.79     0.39     1.11\n",
       "\n",
       "[143 rows x 8 columns]"
      ]
     },
     "execution_count": 154,
     "metadata": {},
     "output_type": "execute_result"
    }
   ],
   "source": [
    "dat.drop(['Year', 'Glob', 'NHem', 'SHem', '24N-90N', '24S-24N', '90S-24S'], axis=1)"
   ]
  },
  {
   "attachments": {},
   "cell_type": "markdown",
   "metadata": {},
   "source": [
    "Another useful technique is to use `.loc` combined with *slices* of column names. For example, we can select all columns between two specified ones:"
   ]
  },
  {
   "cell_type": "code",
   "execution_count": 155,
   "metadata": {},
   "outputs": [
    {
     "data": {
      "text/html": [
       "<div>\n",
       "<style scoped>\n",
       "    .dataframe tbody tr th:only-of-type {\n",
       "        vertical-align: middle;\n",
       "    }\n",
       "\n",
       "    .dataframe tbody tr th {\n",
       "        vertical-align: top;\n",
       "    }\n",
       "\n",
       "    .dataframe thead th {\n",
       "        text-align: right;\n",
       "    }\n",
       "</style>\n",
       "<table border=\"1\" class=\"dataframe\">\n",
       "  <thead>\n",
       "    <tr style=\"text-align: right;\">\n",
       "      <th></th>\n",
       "      <th>Year</th>\n",
       "      <th>Glob</th>\n",
       "      <th>NHem</th>\n",
       "      <th>SHem</th>\n",
       "    </tr>\n",
       "  </thead>\n",
       "  <tbody>\n",
       "    <tr>\n",
       "      <th>0</th>\n",
       "      <td>1880</td>\n",
       "      <td>-0.17</td>\n",
       "      <td>-0.30</td>\n",
       "      <td>-0.04</td>\n",
       "    </tr>\n",
       "    <tr>\n",
       "      <th>1</th>\n",
       "      <td>1881</td>\n",
       "      <td>-0.09</td>\n",
       "      <td>-0.19</td>\n",
       "      <td>0.01</td>\n",
       "    </tr>\n",
       "    <tr>\n",
       "      <th>2</th>\n",
       "      <td>1882</td>\n",
       "      <td>-0.11</td>\n",
       "      <td>-0.23</td>\n",
       "      <td>0.00</td>\n",
       "    </tr>\n",
       "    <tr>\n",
       "      <th>3</th>\n",
       "      <td>1883</td>\n",
       "      <td>-0.17</td>\n",
       "      <td>-0.29</td>\n",
       "      <td>-0.06</td>\n",
       "    </tr>\n",
       "    <tr>\n",
       "      <th>4</th>\n",
       "      <td>1884</td>\n",
       "      <td>-0.28</td>\n",
       "      <td>-0.44</td>\n",
       "      <td>-0.14</td>\n",
       "    </tr>\n",
       "    <tr>\n",
       "      <th>...</th>\n",
       "      <td>...</td>\n",
       "      <td>...</td>\n",
       "      <td>...</td>\n",
       "      <td>...</td>\n",
       "    </tr>\n",
       "    <tr>\n",
       "      <th>138</th>\n",
       "      <td>2018</td>\n",
       "      <td>0.85</td>\n",
       "      <td>1.03</td>\n",
       "      <td>0.66</td>\n",
       "    </tr>\n",
       "    <tr>\n",
       "      <th>139</th>\n",
       "      <td>2019</td>\n",
       "      <td>0.98</td>\n",
       "      <td>1.21</td>\n",
       "      <td>0.75</td>\n",
       "    </tr>\n",
       "    <tr>\n",
       "      <th>140</th>\n",
       "      <td>2020</td>\n",
       "      <td>1.02</td>\n",
       "      <td>1.35</td>\n",
       "      <td>0.68</td>\n",
       "    </tr>\n",
       "    <tr>\n",
       "      <th>141</th>\n",
       "      <td>2021</td>\n",
       "      <td>0.85</td>\n",
       "      <td>1.14</td>\n",
       "      <td>0.56</td>\n",
       "    </tr>\n",
       "    <tr>\n",
       "      <th>142</th>\n",
       "      <td>2022</td>\n",
       "      <td>0.89</td>\n",
       "      <td>1.16</td>\n",
       "      <td>0.62</td>\n",
       "    </tr>\n",
       "  </tbody>\n",
       "</table>\n",
       "<p>143 rows × 4 columns</p>\n",
       "</div>"
      ],
      "text/plain": [
       "     Year  Glob  NHem  SHem\n",
       "0    1880 -0.17 -0.30 -0.04\n",
       "1    1881 -0.09 -0.19  0.01\n",
       "2    1882 -0.11 -0.23  0.00\n",
       "3    1883 -0.17 -0.29 -0.06\n",
       "4    1884 -0.28 -0.44 -0.14\n",
       "..    ...   ...   ...   ...\n",
       "138  2018  0.85  1.03  0.66\n",
       "139  2019  0.98  1.21  0.75\n",
       "140  2020  1.02  1.35  0.68\n",
       "141  2021  0.85  1.14  0.56\n",
       "142  2022  0.89  1.16  0.62\n",
       "\n",
       "[143 rows x 4 columns]"
      ]
     },
     "execution_count": 155,
     "metadata": {},
     "output_type": "execute_result"
    }
   ],
   "source": [
    "dat.loc[:, 'Year':'SHem']"
   ]
  },
  {
   "attachments": {},
   "cell_type": "markdown",
   "metadata": {},
   "source": [
    "or all columns *before* a specified one:"
   ]
  },
  {
   "cell_type": "code",
   "execution_count": 156,
   "metadata": {},
   "outputs": [
    {
     "data": {
      "text/html": [
       "<div>\n",
       "<style scoped>\n",
       "    .dataframe tbody tr th:only-of-type {\n",
       "        vertical-align: middle;\n",
       "    }\n",
       "\n",
       "    .dataframe tbody tr th {\n",
       "        vertical-align: top;\n",
       "    }\n",
       "\n",
       "    .dataframe thead th {\n",
       "        text-align: right;\n",
       "    }\n",
       "</style>\n",
       "<table border=\"1\" class=\"dataframe\">\n",
       "  <thead>\n",
       "    <tr style=\"text-align: right;\">\n",
       "      <th></th>\n",
       "      <th>Year</th>\n",
       "      <th>Glob</th>\n",
       "      <th>NHem</th>\n",
       "      <th>SHem</th>\n",
       "    </tr>\n",
       "  </thead>\n",
       "  <tbody>\n",
       "    <tr>\n",
       "      <th>0</th>\n",
       "      <td>1880</td>\n",
       "      <td>-0.17</td>\n",
       "      <td>-0.30</td>\n",
       "      <td>-0.04</td>\n",
       "    </tr>\n",
       "    <tr>\n",
       "      <th>1</th>\n",
       "      <td>1881</td>\n",
       "      <td>-0.09</td>\n",
       "      <td>-0.19</td>\n",
       "      <td>0.01</td>\n",
       "    </tr>\n",
       "    <tr>\n",
       "      <th>2</th>\n",
       "      <td>1882</td>\n",
       "      <td>-0.11</td>\n",
       "      <td>-0.23</td>\n",
       "      <td>0.00</td>\n",
       "    </tr>\n",
       "    <tr>\n",
       "      <th>3</th>\n",
       "      <td>1883</td>\n",
       "      <td>-0.17</td>\n",
       "      <td>-0.29</td>\n",
       "      <td>-0.06</td>\n",
       "    </tr>\n",
       "    <tr>\n",
       "      <th>4</th>\n",
       "      <td>1884</td>\n",
       "      <td>-0.28</td>\n",
       "      <td>-0.44</td>\n",
       "      <td>-0.14</td>\n",
       "    </tr>\n",
       "    <tr>\n",
       "      <th>...</th>\n",
       "      <td>...</td>\n",
       "      <td>...</td>\n",
       "      <td>...</td>\n",
       "      <td>...</td>\n",
       "    </tr>\n",
       "    <tr>\n",
       "      <th>138</th>\n",
       "      <td>2018</td>\n",
       "      <td>0.85</td>\n",
       "      <td>1.03</td>\n",
       "      <td>0.66</td>\n",
       "    </tr>\n",
       "    <tr>\n",
       "      <th>139</th>\n",
       "      <td>2019</td>\n",
       "      <td>0.98</td>\n",
       "      <td>1.21</td>\n",
       "      <td>0.75</td>\n",
       "    </tr>\n",
       "    <tr>\n",
       "      <th>140</th>\n",
       "      <td>2020</td>\n",
       "      <td>1.02</td>\n",
       "      <td>1.35</td>\n",
       "      <td>0.68</td>\n",
       "    </tr>\n",
       "    <tr>\n",
       "      <th>141</th>\n",
       "      <td>2021</td>\n",
       "      <td>0.85</td>\n",
       "      <td>1.14</td>\n",
       "      <td>0.56</td>\n",
       "    </tr>\n",
       "    <tr>\n",
       "      <th>142</th>\n",
       "      <td>2022</td>\n",
       "      <td>0.89</td>\n",
       "      <td>1.16</td>\n",
       "      <td>0.62</td>\n",
       "    </tr>\n",
       "  </tbody>\n",
       "</table>\n",
       "<p>143 rows × 4 columns</p>\n",
       "</div>"
      ],
      "text/plain": [
       "     Year  Glob  NHem  SHem\n",
       "0    1880 -0.17 -0.30 -0.04\n",
       "1    1881 -0.09 -0.19  0.01\n",
       "2    1882 -0.11 -0.23  0.00\n",
       "3    1883 -0.17 -0.29 -0.06\n",
       "4    1884 -0.28 -0.44 -0.14\n",
       "..    ...   ...   ...   ...\n",
       "138  2018  0.85  1.03  0.66\n",
       "139  2019  0.98  1.21  0.75\n",
       "140  2020  1.02  1.35  0.68\n",
       "141  2021  0.85  1.14  0.56\n",
       "142  2022  0.89  1.16  0.62\n",
       "\n",
       "[143 rows x 4 columns]"
      ]
     },
     "execution_count": 156,
     "metadata": {},
     "output_type": "execute_result"
    }
   ],
   "source": [
    "dat.loc[:, :'SHem']"
   ]
  },
  {
   "attachments": {},
   "cell_type": "markdown",
   "metadata": {},
   "source": [
    "or all columns *after* a specified one:"
   ]
  },
  {
   "cell_type": "code",
   "execution_count": 157,
   "metadata": {},
   "outputs": [
    {
     "data": {
      "text/html": [
       "<div>\n",
       "<style scoped>\n",
       "    .dataframe tbody tr th:only-of-type {\n",
       "        vertical-align: middle;\n",
       "    }\n",
       "\n",
       "    .dataframe tbody tr th {\n",
       "        vertical-align: top;\n",
       "    }\n",
       "\n",
       "    .dataframe thead th {\n",
       "        text-align: right;\n",
       "    }\n",
       "</style>\n",
       "<table border=\"1\" class=\"dataframe\">\n",
       "  <thead>\n",
       "    <tr style=\"text-align: right;\">\n",
       "      <th></th>\n",
       "      <th>SHem</th>\n",
       "      <th>24N-90N</th>\n",
       "      <th>24S-24N</th>\n",
       "      <th>90S-24S</th>\n",
       "      <th>64N-90N</th>\n",
       "      <th>...</th>\n",
       "      <th>EQU-24N</th>\n",
       "      <th>24S-EQU</th>\n",
       "      <th>44S-24S</th>\n",
       "      <th>64S-44S</th>\n",
       "      <th>90S-64S</th>\n",
       "    </tr>\n",
       "  </thead>\n",
       "  <tbody>\n",
       "    <tr>\n",
       "      <th>0</th>\n",
       "      <td>-0.04</td>\n",
       "      <td>-0.39</td>\n",
       "      <td>-0.12</td>\n",
       "      <td>-0.01</td>\n",
       "      <td>-0.81</td>\n",
       "      <td>...</td>\n",
       "      <td>-0.15</td>\n",
       "      <td>-0.09</td>\n",
       "      <td>-0.03</td>\n",
       "      <td>0.05</td>\n",
       "      <td>0.67</td>\n",
       "    </tr>\n",
       "    <tr>\n",
       "      <th>1</th>\n",
       "      <td>0.01</td>\n",
       "      <td>-0.37</td>\n",
       "      <td>0.11</td>\n",
       "      <td>-0.06</td>\n",
       "      <td>-0.92</td>\n",
       "      <td>...</td>\n",
       "      <td>0.10</td>\n",
       "      <td>0.12</td>\n",
       "      <td>-0.04</td>\n",
       "      <td>-0.07</td>\n",
       "      <td>0.59</td>\n",
       "    </tr>\n",
       "    <tr>\n",
       "      <th>2</th>\n",
       "      <td>0.00</td>\n",
       "      <td>-0.33</td>\n",
       "      <td>-0.04</td>\n",
       "      <td>0.02</td>\n",
       "      <td>-1.42</td>\n",
       "      <td>...</td>\n",
       "      <td>-0.05</td>\n",
       "      <td>-0.04</td>\n",
       "      <td>0.02</td>\n",
       "      <td>0.04</td>\n",
       "      <td>0.62</td>\n",
       "    </tr>\n",
       "    <tr>\n",
       "      <th>3</th>\n",
       "      <td>-0.06</td>\n",
       "      <td>-0.36</td>\n",
       "      <td>-0.16</td>\n",
       "      <td>-0.01</td>\n",
       "      <td>-0.18</td>\n",
       "      <td>...</td>\n",
       "      <td>-0.17</td>\n",
       "      <td>-0.14</td>\n",
       "      <td>-0.03</td>\n",
       "      <td>0.07</td>\n",
       "      <td>0.50</td>\n",
       "    </tr>\n",
       "    <tr>\n",
       "      <th>4</th>\n",
       "      <td>-0.14</td>\n",
       "      <td>-0.62</td>\n",
       "      <td>-0.14</td>\n",
       "      <td>-0.13</td>\n",
       "      <td>-1.31</td>\n",
       "      <td>...</td>\n",
       "      <td>-0.12</td>\n",
       "      <td>-0.16</td>\n",
       "      <td>-0.18</td>\n",
       "      <td>-0.02</td>\n",
       "      <td>0.65</td>\n",
       "    </tr>\n",
       "    <tr>\n",
       "      <th>...</th>\n",
       "      <td>...</td>\n",
       "      <td>...</td>\n",
       "      <td>...</td>\n",
       "      <td>...</td>\n",
       "      <td>...</td>\n",
       "      <td>...</td>\n",
       "      <td>...</td>\n",
       "      <td>...</td>\n",
       "      <td>...</td>\n",
       "      <td>...</td>\n",
       "      <td>...</td>\n",
       "    </tr>\n",
       "    <tr>\n",
       "      <th>138</th>\n",
       "      <td>0.66</td>\n",
       "      <td>1.24</td>\n",
       "      <td>0.68</td>\n",
       "      <td>0.69</td>\n",
       "      <td>2.13</td>\n",
       "      <td>...</td>\n",
       "      <td>0.73</td>\n",
       "      <td>0.63</td>\n",
       "      <td>0.80</td>\n",
       "      <td>0.37</td>\n",
       "      <td>0.96</td>\n",
       "    </tr>\n",
       "    <tr>\n",
       "      <th>139</th>\n",
       "      <td>0.75</td>\n",
       "      <td>1.42</td>\n",
       "      <td>0.90</td>\n",
       "      <td>0.65</td>\n",
       "      <td>2.71</td>\n",
       "      <td>...</td>\n",
       "      <td>0.90</td>\n",
       "      <td>0.89</td>\n",
       "      <td>0.75</td>\n",
       "      <td>0.39</td>\n",
       "      <td>0.85</td>\n",
       "    </tr>\n",
       "    <tr>\n",
       "      <th>140</th>\n",
       "      <td>0.68</td>\n",
       "      <td>1.67</td>\n",
       "      <td>0.86</td>\n",
       "      <td>0.57</td>\n",
       "      <td>2.90</td>\n",
       "      <td>...</td>\n",
       "      <td>0.88</td>\n",
       "      <td>0.84</td>\n",
       "      <td>0.58</td>\n",
       "      <td>0.39</td>\n",
       "      <td>0.91</td>\n",
       "    </tr>\n",
       "    <tr>\n",
       "      <th>141</th>\n",
       "      <td>0.56</td>\n",
       "      <td>1.42</td>\n",
       "      <td>0.66</td>\n",
       "      <td>0.53</td>\n",
       "      <td>2.04</td>\n",
       "      <td>...</td>\n",
       "      <td>0.72</td>\n",
       "      <td>0.59</td>\n",
       "      <td>0.72</td>\n",
       "      <td>0.32</td>\n",
       "      <td>0.31</td>\n",
       "    </tr>\n",
       "    <tr>\n",
       "      <th>142</th>\n",
       "      <td>0.62</td>\n",
       "      <td>1.52</td>\n",
       "      <td>0.57</td>\n",
       "      <td>0.71</td>\n",
       "      <td>2.33</td>\n",
       "      <td>...</td>\n",
       "      <td>0.63</td>\n",
       "      <td>0.51</td>\n",
       "      <td>0.79</td>\n",
       "      <td>0.39</td>\n",
       "      <td>1.11</td>\n",
       "    </tr>\n",
       "  </tbody>\n",
       "</table>\n",
       "<p>143 rows × 12 columns</p>\n",
       "</div>"
      ],
      "text/plain": [
       "     SHem  24N-90N  24S-24N  90S-24S  64N-90N  ...  EQU-24N  24S-EQU  44S-24S  \\\n",
       "0   -0.04    -0.39    -0.12    -0.01    -0.81  ...    -0.15    -0.09    -0.03   \n",
       "1    0.01    -0.37     0.11    -0.06    -0.92  ...     0.10     0.12    -0.04   \n",
       "2    0.00    -0.33    -0.04     0.02    -1.42  ...    -0.05    -0.04     0.02   \n",
       "3   -0.06    -0.36    -0.16    -0.01    -0.18  ...    -0.17    -0.14    -0.03   \n",
       "4   -0.14    -0.62    -0.14    -0.13    -1.31  ...    -0.12    -0.16    -0.18   \n",
       "..    ...      ...      ...      ...      ...  ...      ...      ...      ...   \n",
       "138  0.66     1.24     0.68     0.69     2.13  ...     0.73     0.63     0.80   \n",
       "139  0.75     1.42     0.90     0.65     2.71  ...     0.90     0.89     0.75   \n",
       "140  0.68     1.67     0.86     0.57     2.90  ...     0.88     0.84     0.58   \n",
       "141  0.56     1.42     0.66     0.53     2.04  ...     0.72     0.59     0.72   \n",
       "142  0.62     1.52     0.57     0.71     2.33  ...     0.63     0.51     0.79   \n",
       "\n",
       "     64S-44S  90S-64S  \n",
       "0       0.05     0.67  \n",
       "1      -0.07     0.59  \n",
       "2       0.04     0.62  \n",
       "3       0.07     0.50  \n",
       "4      -0.02     0.65  \n",
       "..       ...      ...  \n",
       "138     0.37     0.96  \n",
       "139     0.39     0.85  \n",
       "140     0.39     0.91  \n",
       "141     0.32     0.31  \n",
       "142     0.39     1.11  \n",
       "\n",
       "[143 rows x 12 columns]"
      ]
     },
     "execution_count": 157,
     "metadata": {},
     "output_type": "execute_result"
    }
   ],
   "source": [
    "dat.loc[:, 'SHem':]"
   ]
  },
  {
   "attachments": {},
   "cell_type": "markdown",
   "metadata": {},
   "source": [
    "Again, note that in the last examples, the subset is *inclusive*, i.e., includes both the start and end columns."
   ]
  },
  {
   "attachments": {},
   "cell_type": "markdown",
   "metadata": {},
   "source": [
    "```{admonition} Exercise 05-c\n",
    ":class: important\n",
    "* How can we select all columns after the specified one *excluding* itself?\n",
    "```"
   ]
  },
  {
   "attachments": {},
   "cell_type": "markdown",
   "metadata": {},
   "source": [
    "(dataframe-selecting-rows)=\n",
    "#### Selecting `DataFrame` rows"
   ]
  },
  {
   "attachments": {},
   "cell_type": "markdown",
   "metadata": {},
   "source": [
    "Rows can be selected using `.loc` or `.iloc`, similarly to the way we use those methods to select columns. The difference is that we specify the first index, instead of the second. For example:"
   ]
  },
  {
   "cell_type": "code",
   "execution_count": 158,
   "metadata": {},
   "outputs": [
    {
     "data": {
      "text/html": [
       "<div>\n",
       "<style scoped>\n",
       "    .dataframe tbody tr th:only-of-type {\n",
       "        vertical-align: middle;\n",
       "    }\n",
       "\n",
       "    .dataframe tbody tr th {\n",
       "        vertical-align: top;\n",
       "    }\n",
       "\n",
       "    .dataframe thead th {\n",
       "        text-align: right;\n",
       "    }\n",
       "</style>\n",
       "<table border=\"1\" class=\"dataframe\">\n",
       "  <thead>\n",
       "    <tr style=\"text-align: right;\">\n",
       "      <th></th>\n",
       "      <th>Year</th>\n",
       "      <th>Glob</th>\n",
       "      <th>NHem</th>\n",
       "      <th>SHem</th>\n",
       "      <th>24N-90N</th>\n",
       "      <th>...</th>\n",
       "      <th>EQU-24N</th>\n",
       "      <th>24S-EQU</th>\n",
       "      <th>44S-24S</th>\n",
       "      <th>64S-44S</th>\n",
       "      <th>90S-64S</th>\n",
       "    </tr>\n",
       "  </thead>\n",
       "  <tbody>\n",
       "    <tr>\n",
       "      <th>0</th>\n",
       "      <td>1880</td>\n",
       "      <td>-0.17</td>\n",
       "      <td>-0.3</td>\n",
       "      <td>-0.04</td>\n",
       "      <td>-0.39</td>\n",
       "      <td>...</td>\n",
       "      <td>-0.15</td>\n",
       "      <td>-0.09</td>\n",
       "      <td>-0.03</td>\n",
       "      <td>0.05</td>\n",
       "      <td>0.67</td>\n",
       "    </tr>\n",
       "  </tbody>\n",
       "</table>\n",
       "<p>1 rows × 15 columns</p>\n",
       "</div>"
      ],
      "text/plain": [
       "   Year  Glob  NHem  SHem  24N-90N  ...  EQU-24N  24S-EQU  44S-24S  64S-44S  \\\n",
       "0  1880 -0.17  -0.3 -0.04    -0.39  ...    -0.15    -0.09    -0.03     0.05   \n",
       "\n",
       "   90S-64S  \n",
       "0     0.67  \n",
       "\n",
       "[1 rows x 15 columns]"
      ]
     },
     "execution_count": 158,
     "metadata": {},
     "output_type": "execute_result"
    }
   ],
   "source": [
    "dat.iloc[[0], :]     ## 1st row"
   ]
  },
  {
   "cell_type": "code",
   "execution_count": 159,
   "metadata": {},
   "outputs": [
    {
     "data": {
      "text/html": [
       "<div>\n",
       "<style scoped>\n",
       "    .dataframe tbody tr th:only-of-type {\n",
       "        vertical-align: middle;\n",
       "    }\n",
       "\n",
       "    .dataframe tbody tr th {\n",
       "        vertical-align: top;\n",
       "    }\n",
       "\n",
       "    .dataframe thead th {\n",
       "        text-align: right;\n",
       "    }\n",
       "</style>\n",
       "<table border=\"1\" class=\"dataframe\">\n",
       "  <thead>\n",
       "    <tr style=\"text-align: right;\">\n",
       "      <th></th>\n",
       "      <th>Year</th>\n",
       "      <th>Glob</th>\n",
       "      <th>NHem</th>\n",
       "      <th>SHem</th>\n",
       "      <th>24N-90N</th>\n",
       "      <th>...</th>\n",
       "      <th>EQU-24N</th>\n",
       "      <th>24S-EQU</th>\n",
       "      <th>44S-24S</th>\n",
       "      <th>64S-44S</th>\n",
       "      <th>90S-64S</th>\n",
       "    </tr>\n",
       "  </thead>\n",
       "  <tbody>\n",
       "    <tr>\n",
       "      <th>0</th>\n",
       "      <td>1880</td>\n",
       "      <td>-0.17</td>\n",
       "      <td>-0.30</td>\n",
       "      <td>-0.04</td>\n",
       "      <td>-0.39</td>\n",
       "      <td>...</td>\n",
       "      <td>-0.15</td>\n",
       "      <td>-0.09</td>\n",
       "      <td>-0.03</td>\n",
       "      <td>0.05</td>\n",
       "      <td>0.67</td>\n",
       "    </tr>\n",
       "    <tr>\n",
       "      <th>1</th>\n",
       "      <td>1881</td>\n",
       "      <td>-0.09</td>\n",
       "      <td>-0.19</td>\n",
       "      <td>0.01</td>\n",
       "      <td>-0.37</td>\n",
       "      <td>...</td>\n",
       "      <td>0.10</td>\n",
       "      <td>0.12</td>\n",
       "      <td>-0.04</td>\n",
       "      <td>-0.07</td>\n",
       "      <td>0.59</td>\n",
       "    </tr>\n",
       "    <tr>\n",
       "      <th>2</th>\n",
       "      <td>1882</td>\n",
       "      <td>-0.11</td>\n",
       "      <td>-0.23</td>\n",
       "      <td>0.00</td>\n",
       "      <td>-0.33</td>\n",
       "      <td>...</td>\n",
       "      <td>-0.05</td>\n",
       "      <td>-0.04</td>\n",
       "      <td>0.02</td>\n",
       "      <td>0.04</td>\n",
       "      <td>0.62</td>\n",
       "    </tr>\n",
       "  </tbody>\n",
       "</table>\n",
       "<p>3 rows × 15 columns</p>\n",
       "</div>"
      ],
      "text/plain": [
       "   Year  Glob  NHem  SHem  24N-90N  ...  EQU-24N  24S-EQU  44S-24S  64S-44S  \\\n",
       "0  1880 -0.17 -0.30 -0.04    -0.39  ...    -0.15    -0.09    -0.03     0.05   \n",
       "1  1881 -0.09 -0.19  0.01    -0.37  ...     0.10     0.12    -0.04    -0.07   \n",
       "2  1882 -0.11 -0.23  0.00    -0.33  ...    -0.05    -0.04     0.02     0.04   \n",
       "\n",
       "   90S-64S  \n",
       "0     0.67  \n",
       "1     0.59  \n",
       "2     0.62  \n",
       "\n",
       "[3 rows x 15 columns]"
      ]
     },
     "execution_count": 159,
     "metadata": {},
     "output_type": "execute_result"
    }
   ],
   "source": [
    "dat.iloc[0:3, :]     ## 1st row (inclusive) to 4th row (exclusive)"
   ]
  },
  {
   "cell_type": "code",
   "execution_count": 160,
   "metadata": {},
   "outputs": [
    {
     "data": {
      "text/html": [
       "<div>\n",
       "<style scoped>\n",
       "    .dataframe tbody tr th:only-of-type {\n",
       "        vertical-align: middle;\n",
       "    }\n",
       "\n",
       "    .dataframe tbody tr th {\n",
       "        vertical-align: top;\n",
       "    }\n",
       "\n",
       "    .dataframe thead th {\n",
       "        text-align: right;\n",
       "    }\n",
       "</style>\n",
       "<table border=\"1\" class=\"dataframe\">\n",
       "  <thead>\n",
       "    <tr style=\"text-align: right;\">\n",
       "      <th></th>\n",
       "      <th>Year</th>\n",
       "      <th>Glob</th>\n",
       "      <th>NHem</th>\n",
       "      <th>SHem</th>\n",
       "      <th>24N-90N</th>\n",
       "      <th>...</th>\n",
       "      <th>EQU-24N</th>\n",
       "      <th>24S-EQU</th>\n",
       "      <th>44S-24S</th>\n",
       "      <th>64S-44S</th>\n",
       "      <th>90S-64S</th>\n",
       "    </tr>\n",
       "  </thead>\n",
       "  <tbody>\n",
       "    <tr>\n",
       "      <th>0</th>\n",
       "      <td>1880</td>\n",
       "      <td>-0.17</td>\n",
       "      <td>-0.30</td>\n",
       "      <td>-0.04</td>\n",
       "      <td>-0.39</td>\n",
       "      <td>...</td>\n",
       "      <td>-0.15</td>\n",
       "      <td>-0.09</td>\n",
       "      <td>-0.03</td>\n",
       "      <td>0.05</td>\n",
       "      <td>0.67</td>\n",
       "    </tr>\n",
       "    <tr>\n",
       "      <th>2</th>\n",
       "      <td>1882</td>\n",
       "      <td>-0.11</td>\n",
       "      <td>-0.23</td>\n",
       "      <td>0.00</td>\n",
       "      <td>-0.33</td>\n",
       "      <td>...</td>\n",
       "      <td>-0.05</td>\n",
       "      <td>-0.04</td>\n",
       "      <td>0.02</td>\n",
       "      <td>0.04</td>\n",
       "      <td>0.62</td>\n",
       "    </tr>\n",
       "  </tbody>\n",
       "</table>\n",
       "<p>2 rows × 15 columns</p>\n",
       "</div>"
      ],
      "text/plain": [
       "   Year  Glob  NHem  SHem  24N-90N  ...  EQU-24N  24S-EQU  44S-24S  64S-44S  \\\n",
       "0  1880 -0.17 -0.30 -0.04    -0.39  ...    -0.15    -0.09    -0.03     0.05   \n",
       "2  1882 -0.11 -0.23  0.00    -0.33  ...    -0.05    -0.04     0.02     0.04   \n",
       "\n",
       "   90S-64S  \n",
       "0     0.67  \n",
       "2     0.62  \n",
       "\n",
       "[2 rows x 15 columns]"
      ]
     },
     "execution_count": 160,
     "metadata": {},
     "output_type": "execute_result"
    }
   ],
   "source": [
    "dat.iloc[[0, 2], :]  ## 1st and 3rd rows"
   ]
  },
  {
   "attachments": {},
   "cell_type": "markdown",
   "metadata": {},
   "source": [
    "```{admonition} Exercise 05-b\n",
    ":class: important\n",
    "* Create a subset of `dat` with the 1<sup>st</sup>, 3<sup>rd</sup>, and 5<sup>th</sup> rows.\n",
    "```"
   ]
  },
  {
   "attachments": {},
   "cell_type": "markdown",
   "metadata": {},
   "source": [
    "#### Selecting rows and columns"
   ]
  },
  {
   "attachments": {},
   "cell_type": "markdown",
   "metadata": {},
   "source": [
    "Both `DataFrame` dimensions can be subsetted at once, by passing two indices to `.loc` or to `.iloc`. For example, here we select a subset of `dat` with the first four rows and the first four columns (i.e., the top-left \"corner\" of the table), using `.iloc`:"
   ]
  },
  {
   "cell_type": "code",
   "execution_count": 161,
   "metadata": {},
   "outputs": [
    {
     "data": {
      "text/html": [
       "<div>\n",
       "<style scoped>\n",
       "    .dataframe tbody tr th:only-of-type {\n",
       "        vertical-align: middle;\n",
       "    }\n",
       "\n",
       "    .dataframe tbody tr th {\n",
       "        vertical-align: top;\n",
       "    }\n",
       "\n",
       "    .dataframe thead th {\n",
       "        text-align: right;\n",
       "    }\n",
       "</style>\n",
       "<table border=\"1\" class=\"dataframe\">\n",
       "  <thead>\n",
       "    <tr style=\"text-align: right;\">\n",
       "      <th></th>\n",
       "      <th>Year</th>\n",
       "      <th>Glob</th>\n",
       "      <th>NHem</th>\n",
       "      <th>SHem</th>\n",
       "    </tr>\n",
       "  </thead>\n",
       "  <tbody>\n",
       "    <tr>\n",
       "      <th>0</th>\n",
       "      <td>1880</td>\n",
       "      <td>-0.17</td>\n",
       "      <td>-0.30</td>\n",
       "      <td>-0.04</td>\n",
       "    </tr>\n",
       "    <tr>\n",
       "      <th>1</th>\n",
       "      <td>1881</td>\n",
       "      <td>-0.09</td>\n",
       "      <td>-0.19</td>\n",
       "      <td>0.01</td>\n",
       "    </tr>\n",
       "    <tr>\n",
       "      <th>2</th>\n",
       "      <td>1882</td>\n",
       "      <td>-0.11</td>\n",
       "      <td>-0.23</td>\n",
       "      <td>0.00</td>\n",
       "    </tr>\n",
       "    <tr>\n",
       "      <th>3</th>\n",
       "      <td>1883</td>\n",
       "      <td>-0.17</td>\n",
       "      <td>-0.29</td>\n",
       "      <td>-0.06</td>\n",
       "    </tr>\n",
       "  </tbody>\n",
       "</table>\n",
       "</div>"
      ],
      "text/plain": [
       "   Year  Glob  NHem  SHem\n",
       "0  1880 -0.17 -0.30 -0.04\n",
       "1  1881 -0.09 -0.19  0.01\n",
       "2  1882 -0.11 -0.23  0.00\n",
       "3  1883 -0.17 -0.29 -0.06"
      ]
     },
     "execution_count": 161,
     "metadata": {},
     "output_type": "execute_result"
    }
   ],
   "source": [
    "dat.iloc[0:4, 0:4]"
   ]
  },
  {
   "attachments": {},
   "cell_type": "markdown",
   "metadata": {},
   "source": [
    "The same can be acheived using separate steps, for example using `.loc` to select columns, and then `.iloc` to select rows:"
   ]
  },
  {
   "cell_type": "code",
   "execution_count": 162,
   "metadata": {},
   "outputs": [
    {
     "data": {
      "text/html": [
       "<div>\n",
       "<style scoped>\n",
       "    .dataframe tbody tr th:only-of-type {\n",
       "        vertical-align: middle;\n",
       "    }\n",
       "\n",
       "    .dataframe tbody tr th {\n",
       "        vertical-align: top;\n",
       "    }\n",
       "\n",
       "    .dataframe thead th {\n",
       "        text-align: right;\n",
       "    }\n",
       "</style>\n",
       "<table border=\"1\" class=\"dataframe\">\n",
       "  <thead>\n",
       "    <tr style=\"text-align: right;\">\n",
       "      <th></th>\n",
       "      <th>Year</th>\n",
       "      <th>Glob</th>\n",
       "      <th>NHem</th>\n",
       "      <th>SHem</th>\n",
       "    </tr>\n",
       "  </thead>\n",
       "  <tbody>\n",
       "    <tr>\n",
       "      <th>0</th>\n",
       "      <td>1880</td>\n",
       "      <td>-0.17</td>\n",
       "      <td>-0.30</td>\n",
       "      <td>-0.04</td>\n",
       "    </tr>\n",
       "    <tr>\n",
       "      <th>1</th>\n",
       "      <td>1881</td>\n",
       "      <td>-0.09</td>\n",
       "      <td>-0.19</td>\n",
       "      <td>0.01</td>\n",
       "    </tr>\n",
       "    <tr>\n",
       "      <th>2</th>\n",
       "      <td>1882</td>\n",
       "      <td>-0.11</td>\n",
       "      <td>-0.23</td>\n",
       "      <td>0.00</td>\n",
       "    </tr>\n",
       "    <tr>\n",
       "      <th>3</th>\n",
       "      <td>1883</td>\n",
       "      <td>-0.17</td>\n",
       "      <td>-0.29</td>\n",
       "      <td>-0.06</td>\n",
       "    </tr>\n",
       "  </tbody>\n",
       "</table>\n",
       "</div>"
      ],
      "text/plain": [
       "   Year  Glob  NHem  SHem\n",
       "0  1880 -0.17 -0.30 -0.04\n",
       "1  1881 -0.09 -0.19  0.01\n",
       "2  1882 -0.11 -0.23  0.00\n",
       "3  1883 -0.17 -0.29 -0.06"
      ]
     },
     "execution_count": 162,
     "metadata": {},
     "output_type": "execute_result"
    }
   ],
   "source": [
    "dat.loc[:, 'Year':'SHem'].iloc[0:4, :]"
   ]
  },
  {
   "attachments": {},
   "cell_type": "markdown",
   "metadata": {},
   "source": [
    "#### Selecting `DataFrame` values"
   ]
  },
  {
   "attachments": {},
   "cell_type": "markdown",
   "metadata": {},
   "source": [
    "Using the above-mentioned methods, we can access individual values from a `DataFrame` in several ways. The clearest syntax is probably splitting the operation into two parts: first selecting the *column*, then selecting the *index* within the column. For example, here is how we can get the first value in the `'Year'` column of `dat`:"
   ]
  },
  {
   "cell_type": "code",
   "execution_count": 163,
   "metadata": {},
   "outputs": [
    {
     "data": {
      "text/plain": [
       "1880"
      ]
     },
     "execution_count": 163,
     "metadata": {},
     "output_type": "execute_result"
    }
   ],
   "source": [
    "dat['Year'].iloc[0]"
   ]
  },
  {
   "attachments": {},
   "cell_type": "markdown",
   "metadata": {},
   "source": [
    "```{admonition} Exercise 05-d\n",
    ":class: important\n",
    "* How can we get the *last* value in the `'Year'` column of `dat`, without explicitly typing the value `141`?\n",
    "```"
   ]
  },
  {
   "attachments": {},
   "cell_type": "markdown",
   "metadata": {},
   "source": [
    "(dataframe-to-array)=\n",
    "## Convertsion to `ndarray`"
   ]
  },
  {
   "attachments": {},
   "cell_type": "markdown",
   "metadata": {},
   "source": [
    "A `Series` or a `DataFrame` is accessible as an `ndarray`, through the `.to_numpy` method. For example: "
   ]
  },
  {
   "cell_type": "code",
   "execution_count": 164,
   "metadata": {},
   "outputs": [
    {
     "data": {
      "text/plain": [
       "array([1880, 1881, 1882])"
      ]
     },
     "execution_count": 164,
     "metadata": {},
     "output_type": "execute_result"
    }
   ],
   "source": [
    "dat['Year'].iloc[0:3].to_numpy()  ## 'Series' to array"
   ]
  },
  {
   "cell_type": "code",
   "execution_count": 165,
   "metadata": {},
   "outputs": [
    {
     "data": {
      "text/plain": [
       "array([[-0.17, -0.3 ],\n",
       "       [-0.09, -0.19],\n",
       "       [-0.11, -0.23]])"
      ]
     },
     "execution_count": 165,
     "metadata": {},
     "output_type": "execute_result"
    }
   ],
   "source": [
    "dat.iloc[0:3, 1:3].to_numpy()     ## 'DataFrame' to array"
   ]
  },
  {
   "attachments": {},
   "cell_type": "markdown",
   "metadata": {},
   "source": [
    "Note that a `Series` is translated to a *one*-dimensional array, while a `DataFrame` is translated to a *two*-dimensional array."
   ]
  },
  {
   "attachments": {},
   "cell_type": "markdown",
   "metadata": {},
   "source": [
    "(pandas-to-list)=\n",
    "## Conversion to `list`"
   ]
  },
  {
   "attachments": {},
   "cell_type": "markdown",
   "metadata": {},
   "source": [
    "(pandas-series-to-list)=\n",
    "### `Series` to `list`"
   ]
  },
  {
   "attachments": {},
   "cell_type": "markdown",
   "metadata": {},
   "source": [
    "Sometimes, we may need to use basic Python methods to work with data contained in a `Series` or in a `DataFrame`. For that purpose, the `Series` or the `DataFrame` can be converted to a `list`."
   ]
  },
  {
   "attachments": {},
   "cell_type": "markdown",
   "metadata": {},
   "source": [
    "A `Series` can be converted to a `list` by directly applying the `.to_list` method, which is analogous to the `.tolist` method of `ndarray` (see {ref}`array-to-list`). For example, let us take a small `Series` of length 5:"
   ]
  },
  {
   "cell_type": "code",
   "execution_count": 166,
   "metadata": {},
   "outputs": [
    {
     "data": {
      "text/plain": [
       "0   -0.17\n",
       "1   -0.09\n",
       "2   -0.11\n",
       "3   -0.17\n",
       "4   -0.28\n",
       "Name: Glob, dtype: float64"
      ]
     },
     "execution_count": 166,
     "metadata": {},
     "output_type": "execute_result"
    }
   ],
   "source": [
    "s = dat['Glob'].iloc[0:5]\n",
    "s"
   ]
  },
  {
   "attachments": {},
   "cell_type": "markdown",
   "metadata": {},
   "source": [
    "Here is how the `Series` can be converted to a `list`, using the `.to_list` method:"
   ]
  },
  {
   "cell_type": "code",
   "execution_count": 167,
   "metadata": {},
   "outputs": [
    {
     "data": {
      "text/plain": [
       "[-0.17, -0.09, -0.11, -0.17, -0.28]"
      ]
     },
     "execution_count": 167,
     "metadata": {},
     "output_type": "execute_result"
    }
   ],
   "source": [
    "s.to_list()"
   ]
  },
  {
   "attachments": {},
   "cell_type": "markdown",
   "metadata": {},
   "source": [
    "### `DataFrame` to `list`"
   ]
  },
  {
   "attachments": {},
   "cell_type": "markdown",
   "metadata": {},
   "source": [
    "A `DataFrame` can also be converted to a `list`, in which case the list will be nested, with each *column* represented by an internal `list`. Let us take a small `DataFrame` with five rows and three columns as an example:"
   ]
  },
  {
   "cell_type": "code",
   "execution_count": 168,
   "metadata": {},
   "outputs": [
    {
     "data": {
      "text/html": [
       "<div>\n",
       "<style scoped>\n",
       "    .dataframe tbody tr th:only-of-type {\n",
       "        vertical-align: middle;\n",
       "    }\n",
       "\n",
       "    .dataframe tbody tr th {\n",
       "        vertical-align: top;\n",
       "    }\n",
       "\n",
       "    .dataframe thead th {\n",
       "        text-align: right;\n",
       "    }\n",
       "</style>\n",
       "<table border=\"1\" class=\"dataframe\">\n",
       "  <thead>\n",
       "    <tr style=\"text-align: right;\">\n",
       "      <th></th>\n",
       "      <th>Year</th>\n",
       "      <th>NHem</th>\n",
       "      <th>SHem</th>\n",
       "    </tr>\n",
       "  </thead>\n",
       "  <tbody>\n",
       "    <tr>\n",
       "      <th>0</th>\n",
       "      <td>1880</td>\n",
       "      <td>-0.30</td>\n",
       "      <td>-0.04</td>\n",
       "    </tr>\n",
       "    <tr>\n",
       "      <th>1</th>\n",
       "      <td>1881</td>\n",
       "      <td>-0.19</td>\n",
       "      <td>0.01</td>\n",
       "    </tr>\n",
       "    <tr>\n",
       "      <th>2</th>\n",
       "      <td>1882</td>\n",
       "      <td>-0.23</td>\n",
       "      <td>0.00</td>\n",
       "    </tr>\n",
       "    <tr>\n",
       "      <th>3</th>\n",
       "      <td>1883</td>\n",
       "      <td>-0.29</td>\n",
       "      <td>-0.06</td>\n",
       "    </tr>\n",
       "    <tr>\n",
       "      <th>4</th>\n",
       "      <td>1884</td>\n",
       "      <td>-0.44</td>\n",
       "      <td>-0.14</td>\n",
       "    </tr>\n",
       "  </tbody>\n",
       "</table>\n",
       "</div>"
      ],
      "text/plain": [
       "   Year  NHem  SHem\n",
       "0  1880 -0.30 -0.04\n",
       "1  1881 -0.19  0.01\n",
       "2  1882 -0.23  0.00\n",
       "3  1883 -0.29 -0.06\n",
       "4  1884 -0.44 -0.14"
      ]
     },
     "execution_count": 168,
     "metadata": {},
     "output_type": "execute_result"
    }
   ],
   "source": [
    "dat1 = dat[['Year', 'NHem', 'SHem']].iloc[0:5, :]\n",
    "dat1"
   ]
  },
  {
   "attachments": {},
   "cell_type": "markdown",
   "metadata": {},
   "source": [
    "To convert the `DataFrame` to a `list`, we cannot use the `.to_list` method directly. Instead, we need to go through the array representation using the `.to_numpy` method (see {ref}`dataframe-to-array`):"
   ]
  },
  {
   "cell_type": "code",
   "execution_count": 169,
   "metadata": {},
   "outputs": [
    {
     "data": {
      "text/plain": [
       "array([[ 1.880e+03, -3.000e-01, -4.000e-02],\n",
       "       [ 1.881e+03, -1.900e-01,  1.000e-02],\n",
       "       [ 1.882e+03, -2.300e-01,  0.000e+00],\n",
       "       [ 1.883e+03, -2.900e-01, -6.000e-02],\n",
       "       [ 1.884e+03, -4.400e-01, -1.400e-01]])"
      ]
     },
     "execution_count": 169,
     "metadata": {},
     "output_type": "execute_result"
    }
   ],
   "source": [
    "dat1.to_numpy()"
   ]
  },
  {
   "attachments": {},
   "cell_type": "markdown",
   "metadata": {},
   "source": [
    "Then, we can use the `numpy`'s `.tolist` method (see {ref}`array-to-list`), to go from `ndarray` to `list`:"
   ]
  },
  {
   "cell_type": "code",
   "execution_count": 170,
   "metadata": {},
   "outputs": [
    {
     "data": {
      "text/plain": [
       "[[1880.0, -0.3, -0.04],\n",
       " [1881.0, -0.19, 0.01],\n",
       " [1882.0, -0.23, 0.0],\n",
       " [1883.0, -0.29, -0.06],\n",
       " [1884.0, -0.44, -0.14]]"
      ]
     },
     "execution_count": 170,
     "metadata": {},
     "output_type": "execute_result"
    }
   ],
   "source": [
    "dat1.to_numpy().tolist()"
   ]
  },
  {
   "attachments": {},
   "cell_type": "markdown",
   "metadata": {},
   "source": [
    "(modifying-index)=\n",
    "## Modifying the index"
   ]
  },
  {
   "attachments": {},
   "cell_type": "markdown",
   "metadata": {},
   "source": [
    "### Overivew"
   ]
  },
  {
   "attachments": {},
   "cell_type": "markdown",
   "metadata": {},
   "source": [
    "In the above examples, the `Series` and `DataFrame` we created got the default, consecutive integer, index. As we will see, the index plays an important role in many operations in `pandas`. Therefore, often we would like to set a more meaningful, custom index. For example, it usually makes sense to set the index of a table representing a time series (such as `dat`) to the time points (such as `\"Year\"` values). Many `pandas` operations then utilize the index. For example, when plotting the data, the x-axis will show the time labels (see {ref}`pandas-line-plots`)."
   ]
  },
  {
   "attachments": {},
   "cell_type": "markdown",
   "metadata": {},
   "source": [
    "To set a new index, we:\n",
    "\n",
    "* Assign to the `.index` property of a `Series` (see {ref}`setting-series-index`)\n",
    "* Use the `.set_index` method of a `DataFrame` (see {ref}`setting-dataframe-index`)"
   ]
  },
  {
   "attachments": {},
   "cell_type": "markdown",
   "metadata": {},
   "source": [
    "To reset the index, i.e., get back to the default consecutive integer index, we use the `.reset_index` method (see {ref}`resetting-the-index`)."
   ]
  },
  {
   "attachments": {},
   "cell_type": "markdown",
   "metadata": {},
   "source": [
    "We demonstrate these three techniques in the following sub-sections."
   ]
  },
  {
   "attachments": {},
   "cell_type": "markdown",
   "metadata": {},
   "source": [
    "(setting-series-index)=\n",
    "### Setting `Series` index"
   ]
  },
  {
   "attachments": {},
   "cell_type": "markdown",
   "metadata": {},
   "source": [
    "Let us go back to the `name` series from the beginning of the chapter ({ref}`creating-series`):"
   ]
  },
  {
   "cell_type": "code",
   "execution_count": 171,
   "metadata": {},
   "outputs": [
    {
     "data": {
      "text/plain": [
       "0        Beer-Sheva Center\n",
       "1    Beer-Sheva University\n",
       "2                   Dimona\n",
       "dtype: object"
      ]
     },
     "execution_count": 171,
     "metadata": {},
     "output_type": "execute_result"
    }
   ],
   "source": [
    "name"
   ]
  },
  {
   "attachments": {},
   "cell_type": "markdown",
   "metadata": {},
   "source": [
    "The following expression sets the index of the `name` series as `['a','b','c']`, by assigning a `list` into the `index` property:"
   ]
  },
  {
   "cell_type": "code",
   "execution_count": 172,
   "metadata": {},
   "outputs": [
    {
     "data": {
      "text/plain": [
       "a        Beer-Sheva Center\n",
       "b    Beer-Sheva University\n",
       "c                   Dimona\n",
       "dtype: object"
      ]
     },
     "execution_count": 172,
     "metadata": {},
     "output_type": "execute_result"
    }
   ],
   "source": [
    "name.index = ['a', 'b', 'c']\n",
    "name"
   ]
  },
  {
   "attachments": {},
   "cell_type": "markdown",
   "metadata": {},
   "source": [
    "(setting-dataframe-index)=\n",
    "### Setting `DataFrame` index"
   ]
  },
  {
   "attachments": {},
   "cell_type": "markdown",
   "metadata": {},
   "source": [
    "The (row) index of a `DataFrame` can be modified using the `.set_index` method. The most useful (and default) scenario is where we want one of the columns in the `DataFrame` to serve as the index, while also removing it from the `DataFrame` columns to avoid duplication."
   ]
  },
  {
   "attachments": {},
   "cell_type": "markdown",
   "metadata": {},
   "source": [
    "For example, the following expression changes the index of `stations` to the station names:"
   ]
  },
  {
   "cell_type": "code",
   "execution_count": 173,
   "metadata": {},
   "outputs": [
    {
     "data": {
      "text/html": [
       "<div>\n",
       "<style scoped>\n",
       "    .dataframe tbody tr th:only-of-type {\n",
       "        vertical-align: middle;\n",
       "    }\n",
       "\n",
       "    .dataframe tbody tr th {\n",
       "        vertical-align: top;\n",
       "    }\n",
       "\n",
       "    .dataframe thead th {\n",
       "        text-align: right;\n",
       "    }\n",
       "</style>\n",
       "<table border=\"1\" class=\"dataframe\">\n",
       "  <thead>\n",
       "    <tr style=\"text-align: right;\">\n",
       "      <th></th>\n",
       "      <th>city</th>\n",
       "      <th>lines</th>\n",
       "      <th>piano</th>\n",
       "      <th>lon</th>\n",
       "      <th>lat</th>\n",
       "    </tr>\n",
       "    <tr>\n",
       "      <th>name</th>\n",
       "      <th></th>\n",
       "      <th></th>\n",
       "      <th></th>\n",
       "      <th></th>\n",
       "      <th></th>\n",
       "    </tr>\n",
       "  </thead>\n",
       "  <tbody>\n",
       "    <tr>\n",
       "      <th>Beer-Sheva Center</th>\n",
       "      <td>Beer-Sheva</td>\n",
       "      <td>4</td>\n",
       "      <td>False</td>\n",
       "      <td>34.798443</td>\n",
       "      <td>31.243288</td>\n",
       "    </tr>\n",
       "    <tr>\n",
       "      <th>Beer-Sheva University</th>\n",
       "      <td>Beer-Sheva</td>\n",
       "      <td>5</td>\n",
       "      <td>True</td>\n",
       "      <td>34.812831</td>\n",
       "      <td>31.260284</td>\n",
       "    </tr>\n",
       "    <tr>\n",
       "      <th>Dimona</th>\n",
       "      <td>Dimona</td>\n",
       "      <td>1</td>\n",
       "      <td>False</td>\n",
       "      <td>35.011635</td>\n",
       "      <td>31.068616</td>\n",
       "    </tr>\n",
       "  </tbody>\n",
       "</table>\n",
       "</div>"
      ],
      "text/plain": [
       "                             city  lines  piano        lon        lat\n",
       "name                                                                 \n",
       "Beer-Sheva Center      Beer-Sheva      4  False  34.798443  31.243288\n",
       "Beer-Sheva University  Beer-Sheva      5   True  34.812831  31.260284\n",
       "Dimona                     Dimona      1  False  35.011635  31.068616"
      ]
     },
     "execution_count": 173,
     "metadata": {},
     "output_type": "execute_result"
    }
   ],
   "source": [
    "stations = stations.set_index('name')\n",
    "stations"
   ]
  },
  {
   "attachments": {},
   "cell_type": "markdown",
   "metadata": {},
   "source": [
    "Now, `name` is no longer a column, but the *index* of `stations`."
   ]
  },
  {
   "attachments": {},
   "cell_type": "markdown",
   "metadata": {},
   "source": [
    "(resetting-the-index)=\n",
    "### Resetting the index"
   ]
  },
  {
   "attachments": {},
   "cell_type": "markdown",
   "metadata": {},
   "source": [
    "To reset the index of a `Series` or a `DataFrame`, we use the `.reset_index` method. As a result, the index will be replaced with the default consecutive integer sequence. In case we want to remove the information in the index altoghether, we use the `drop=True` option. Otherwise, the index will be \"transferred\" into a new column."
   ]
  },
  {
   "attachments": {},
   "cell_type": "markdown",
   "metadata": {},
   "source": [
    "For example, here is how we remove the `['a','b','c']` index, to get the original default index in the `name` `Series`. Note that the information in the index is lost and we get back to the original `Series`, due to the `drop=True` option:"
   ]
  },
  {
   "cell_type": "code",
   "execution_count": 174,
   "metadata": {},
   "outputs": [
    {
     "data": {
      "text/plain": [
       "0        Beer-Sheva Center\n",
       "1    Beer-Sheva University\n",
       "2                   Dimona\n",
       "dtype: object"
      ]
     },
     "execution_count": 174,
     "metadata": {},
     "output_type": "execute_result"
    }
   ],
   "source": [
    "name = name.reset_index(drop=True)\n",
    "name"
   ]
  },
  {
   "attachments": {},
   "cell_type": "markdown",
   "metadata": {},
   "source": [
    "And here is how we reset the row index in the `DataFrame` named `stations`. This time, we do not want to lose the information, therefore the index \"goes back\" to the `'name'` column:"
   ]
  },
  {
   "cell_type": "code",
   "execution_count": 175,
   "metadata": {},
   "outputs": [
    {
     "data": {
      "text/html": [
       "<div>\n",
       "<style scoped>\n",
       "    .dataframe tbody tr th:only-of-type {\n",
       "        vertical-align: middle;\n",
       "    }\n",
       "\n",
       "    .dataframe tbody tr th {\n",
       "        vertical-align: top;\n",
       "    }\n",
       "\n",
       "    .dataframe thead th {\n",
       "        text-align: right;\n",
       "    }\n",
       "</style>\n",
       "<table border=\"1\" class=\"dataframe\">\n",
       "  <thead>\n",
       "    <tr style=\"text-align: right;\">\n",
       "      <th></th>\n",
       "      <th>name</th>\n",
       "      <th>city</th>\n",
       "      <th>lines</th>\n",
       "      <th>piano</th>\n",
       "      <th>lon</th>\n",
       "      <th>lat</th>\n",
       "    </tr>\n",
       "  </thead>\n",
       "  <tbody>\n",
       "    <tr>\n",
       "      <th>0</th>\n",
       "      <td>Beer-Sheva Center</td>\n",
       "      <td>Beer-Sheva</td>\n",
       "      <td>4</td>\n",
       "      <td>False</td>\n",
       "      <td>34.798443</td>\n",
       "      <td>31.243288</td>\n",
       "    </tr>\n",
       "    <tr>\n",
       "      <th>1</th>\n",
       "      <td>Beer-Sheva University</td>\n",
       "      <td>Beer-Sheva</td>\n",
       "      <td>5</td>\n",
       "      <td>True</td>\n",
       "      <td>34.812831</td>\n",
       "      <td>31.260284</td>\n",
       "    </tr>\n",
       "    <tr>\n",
       "      <th>2</th>\n",
       "      <td>Dimona</td>\n",
       "      <td>Dimona</td>\n",
       "      <td>1</td>\n",
       "      <td>False</td>\n",
       "      <td>35.011635</td>\n",
       "      <td>31.068616</td>\n",
       "    </tr>\n",
       "  </tbody>\n",
       "</table>\n",
       "</div>"
      ],
      "text/plain": [
       "                    name        city  lines  piano        lon        lat\n",
       "0      Beer-Sheva Center  Beer-Sheva      4  False  34.798443  31.243288\n",
       "1  Beer-Sheva University  Beer-Sheva      5   True  34.812831  31.260284\n",
       "2                 Dimona      Dimona      1  False  35.011635  31.068616"
      ]
     },
     "execution_count": 175,
     "metadata": {},
     "output_type": "execute_result"
    }
   ],
   "source": [
    "stations = stations.reset_index()\n",
    "stations"
   ]
  },
  {
   "attachments": {},
   "cell_type": "markdown",
   "metadata": {},
   "source": [
    "(pandas-sorting)=\n",
    "## Sorting"
   ]
  },
  {
   "attachments": {},
   "cell_type": "markdown",
   "metadata": {},
   "source": [
    "A `DataFrame` can be sorted using the `.sort_values` method. The first parameter (`by`) accepts a column name, or a `list` of column names, to sort by. "
   ]
  },
  {
   "attachments": {},
   "cell_type": "markdown",
   "metadata": {},
   "source": [
    "For example, the following expression sorts the rows of `dat` according to the global temperature anomaly, from lowest (in 1909) to highest (in 2016):"
   ]
  },
  {
   "cell_type": "code",
   "execution_count": 176,
   "metadata": {},
   "outputs": [
    {
     "data": {
      "text/html": [
       "<div>\n",
       "<style scoped>\n",
       "    .dataframe tbody tr th:only-of-type {\n",
       "        vertical-align: middle;\n",
       "    }\n",
       "\n",
       "    .dataframe tbody tr th {\n",
       "        vertical-align: top;\n",
       "    }\n",
       "\n",
       "    .dataframe thead th {\n",
       "        text-align: right;\n",
       "    }\n",
       "</style>\n",
       "<table border=\"1\" class=\"dataframe\">\n",
       "  <thead>\n",
       "    <tr style=\"text-align: right;\">\n",
       "      <th></th>\n",
       "      <th>Year</th>\n",
       "      <th>Glob</th>\n",
       "      <th>NHem</th>\n",
       "      <th>SHem</th>\n",
       "      <th>24N-90N</th>\n",
       "      <th>...</th>\n",
       "      <th>EQU-24N</th>\n",
       "      <th>24S-EQU</th>\n",
       "      <th>44S-24S</th>\n",
       "      <th>64S-44S</th>\n",
       "      <th>90S-64S</th>\n",
       "    </tr>\n",
       "  </thead>\n",
       "  <tbody>\n",
       "    <tr>\n",
       "      <th>29</th>\n",
       "      <td>1909</td>\n",
       "      <td>-0.49</td>\n",
       "      <td>-0.50</td>\n",
       "      <td>-0.48</td>\n",
       "      <td>-0.54</td>\n",
       "      <td>...</td>\n",
       "      <td>-0.45</td>\n",
       "      <td>-0.53</td>\n",
       "      <td>-0.37</td>\n",
       "      <td>-0.52</td>\n",
       "      <td>-0.58</td>\n",
       "    </tr>\n",
       "    <tr>\n",
       "      <th>24</th>\n",
       "      <td>1904</td>\n",
       "      <td>-0.47</td>\n",
       "      <td>-0.48</td>\n",
       "      <td>-0.46</td>\n",
       "      <td>-0.52</td>\n",
       "      <td>...</td>\n",
       "      <td>-0.43</td>\n",
       "      <td>-0.50</td>\n",
       "      <td>-0.37</td>\n",
       "      <td>-0.49</td>\n",
       "      <td>-1.33</td>\n",
       "    </tr>\n",
       "    <tr>\n",
       "      <th>37</th>\n",
       "      <td>1917</td>\n",
       "      <td>-0.46</td>\n",
       "      <td>-0.57</td>\n",
       "      <td>-0.36</td>\n",
       "      <td>-0.50</td>\n",
       "      <td>...</td>\n",
       "      <td>-0.68</td>\n",
       "      <td>-0.59</td>\n",
       "      <td>-0.23</td>\n",
       "      <td>-0.09</td>\n",
       "      <td>0.05</td>\n",
       "    </tr>\n",
       "    <tr>\n",
       "      <th>31</th>\n",
       "      <td>1911</td>\n",
       "      <td>-0.44</td>\n",
       "      <td>-0.42</td>\n",
       "      <td>-0.46</td>\n",
       "      <td>-0.42</td>\n",
       "      <td>...</td>\n",
       "      <td>-0.43</td>\n",
       "      <td>-0.43</td>\n",
       "      <td>-0.43</td>\n",
       "      <td>-0.52</td>\n",
       "      <td>0.04</td>\n",
       "    </tr>\n",
       "    <tr>\n",
       "      <th>30</th>\n",
       "      <td>1910</td>\n",
       "      <td>-0.44</td>\n",
       "      <td>-0.45</td>\n",
       "      <td>-0.43</td>\n",
       "      <td>-0.42</td>\n",
       "      <td>...</td>\n",
       "      <td>-0.49</td>\n",
       "      <td>-0.50</td>\n",
       "      <td>-0.33</td>\n",
       "      <td>-0.45</td>\n",
       "      <td>0.15</td>\n",
       "    </tr>\n",
       "    <tr>\n",
       "      <th>...</th>\n",
       "      <td>...</td>\n",
       "      <td>...</td>\n",
       "      <td>...</td>\n",
       "      <td>...</td>\n",
       "      <td>...</td>\n",
       "      <td>...</td>\n",
       "      <td>...</td>\n",
       "      <td>...</td>\n",
       "      <td>...</td>\n",
       "      <td>...</td>\n",
       "      <td>...</td>\n",
       "    </tr>\n",
       "    <tr>\n",
       "      <th>135</th>\n",
       "      <td>2015</td>\n",
       "      <td>0.90</td>\n",
       "      <td>1.17</td>\n",
       "      <td>0.63</td>\n",
       "      <td>1.31</td>\n",
       "      <td>...</td>\n",
       "      <td>0.97</td>\n",
       "      <td>0.94</td>\n",
       "      <td>0.75</td>\n",
       "      <td>0.18</td>\n",
       "      <td>-0.30</td>\n",
       "    </tr>\n",
       "    <tr>\n",
       "      <th>137</th>\n",
       "      <td>2017</td>\n",
       "      <td>0.92</td>\n",
       "      <td>1.17</td>\n",
       "      <td>0.67</td>\n",
       "      <td>1.38</td>\n",
       "      <td>...</td>\n",
       "      <td>0.87</td>\n",
       "      <td>0.78</td>\n",
       "      <td>0.76</td>\n",
       "      <td>0.35</td>\n",
       "      <td>0.55</td>\n",
       "    </tr>\n",
       "    <tr>\n",
       "      <th>139</th>\n",
       "      <td>2019</td>\n",
       "      <td>0.98</td>\n",
       "      <td>1.21</td>\n",
       "      <td>0.75</td>\n",
       "      <td>1.42</td>\n",
       "      <td>...</td>\n",
       "      <td>0.90</td>\n",
       "      <td>0.89</td>\n",
       "      <td>0.75</td>\n",
       "      <td>0.39</td>\n",
       "      <td>0.85</td>\n",
       "    </tr>\n",
       "    <tr>\n",
       "      <th>136</th>\n",
       "      <td>2016</td>\n",
       "      <td>1.02</td>\n",
       "      <td>1.31</td>\n",
       "      <td>0.73</td>\n",
       "      <td>1.54</td>\n",
       "      <td>...</td>\n",
       "      <td>0.96</td>\n",
       "      <td>1.07</td>\n",
       "      <td>0.67</td>\n",
       "      <td>0.26</td>\n",
       "      <td>0.40</td>\n",
       "    </tr>\n",
       "    <tr>\n",
       "      <th>140</th>\n",
       "      <td>2020</td>\n",
       "      <td>1.02</td>\n",
       "      <td>1.35</td>\n",
       "      <td>0.68</td>\n",
       "      <td>1.67</td>\n",
       "      <td>...</td>\n",
       "      <td>0.88</td>\n",
       "      <td>0.84</td>\n",
       "      <td>0.58</td>\n",
       "      <td>0.39</td>\n",
       "      <td>0.91</td>\n",
       "    </tr>\n",
       "  </tbody>\n",
       "</table>\n",
       "<p>143 rows × 15 columns</p>\n",
       "</div>"
      ],
      "text/plain": [
       "     Year  Glob  NHem  SHem  24N-90N  ...  EQU-24N  24S-EQU  44S-24S  64S-44S  \\\n",
       "29   1909 -0.49 -0.50 -0.48    -0.54  ...    -0.45    -0.53    -0.37    -0.52   \n",
       "24   1904 -0.47 -0.48 -0.46    -0.52  ...    -0.43    -0.50    -0.37    -0.49   \n",
       "37   1917 -0.46 -0.57 -0.36    -0.50  ...    -0.68    -0.59    -0.23    -0.09   \n",
       "31   1911 -0.44 -0.42 -0.46    -0.42  ...    -0.43    -0.43    -0.43    -0.52   \n",
       "30   1910 -0.44 -0.45 -0.43    -0.42  ...    -0.49    -0.50    -0.33    -0.45   \n",
       "..    ...   ...   ...   ...      ...  ...      ...      ...      ...      ...   \n",
       "135  2015  0.90  1.17  0.63     1.31  ...     0.97     0.94     0.75     0.18   \n",
       "137  2017  0.92  1.17  0.67     1.38  ...     0.87     0.78     0.76     0.35   \n",
       "139  2019  0.98  1.21  0.75     1.42  ...     0.90     0.89     0.75     0.39   \n",
       "136  2016  1.02  1.31  0.73     1.54  ...     0.96     1.07     0.67     0.26   \n",
       "140  2020  1.02  1.35  0.68     1.67  ...     0.88     0.84     0.58     0.39   \n",
       "\n",
       "     90S-64S  \n",
       "29     -0.58  \n",
       "24     -1.33  \n",
       "37      0.05  \n",
       "31      0.04  \n",
       "30      0.15  \n",
       "..       ...  \n",
       "135    -0.30  \n",
       "137     0.55  \n",
       "139     0.85  \n",
       "136     0.40  \n",
       "140     0.91  \n",
       "\n",
       "[143 rows x 15 columns]"
      ]
     },
     "execution_count": 176,
     "metadata": {},
     "output_type": "execute_result"
    }
   ],
   "source": [
    "dat.sort_values('Glob')"
   ]
  },
  {
   "attachments": {},
   "cell_type": "markdown",
   "metadata": {},
   "source": [
    "The default is to sort in *ascending* order. If we want the opposite, i.e., a *descending* order, we need to specify `ascending=False`:"
   ]
  },
  {
   "cell_type": "code",
   "execution_count": 177,
   "metadata": {},
   "outputs": [
    {
     "data": {
      "text/html": [
       "<div>\n",
       "<style scoped>\n",
       "    .dataframe tbody tr th:only-of-type {\n",
       "        vertical-align: middle;\n",
       "    }\n",
       "\n",
       "    .dataframe tbody tr th {\n",
       "        vertical-align: top;\n",
       "    }\n",
       "\n",
       "    .dataframe thead th {\n",
       "        text-align: right;\n",
       "    }\n",
       "</style>\n",
       "<table border=\"1\" class=\"dataframe\">\n",
       "  <thead>\n",
       "    <tr style=\"text-align: right;\">\n",
       "      <th></th>\n",
       "      <th>Year</th>\n",
       "      <th>Glob</th>\n",
       "      <th>NHem</th>\n",
       "      <th>SHem</th>\n",
       "      <th>24N-90N</th>\n",
       "      <th>...</th>\n",
       "      <th>EQU-24N</th>\n",
       "      <th>24S-EQU</th>\n",
       "      <th>44S-24S</th>\n",
       "      <th>64S-44S</th>\n",
       "      <th>90S-64S</th>\n",
       "    </tr>\n",
       "  </thead>\n",
       "  <tbody>\n",
       "    <tr>\n",
       "      <th>140</th>\n",
       "      <td>2020</td>\n",
       "      <td>1.02</td>\n",
       "      <td>1.35</td>\n",
       "      <td>0.68</td>\n",
       "      <td>1.67</td>\n",
       "      <td>...</td>\n",
       "      <td>0.88</td>\n",
       "      <td>0.84</td>\n",
       "      <td>0.58</td>\n",
       "      <td>0.39</td>\n",
       "      <td>0.91</td>\n",
       "    </tr>\n",
       "    <tr>\n",
       "      <th>136</th>\n",
       "      <td>2016</td>\n",
       "      <td>1.02</td>\n",
       "      <td>1.31</td>\n",
       "      <td>0.73</td>\n",
       "      <td>1.54</td>\n",
       "      <td>...</td>\n",
       "      <td>0.96</td>\n",
       "      <td>1.07</td>\n",
       "      <td>0.67</td>\n",
       "      <td>0.26</td>\n",
       "      <td>0.40</td>\n",
       "    </tr>\n",
       "    <tr>\n",
       "      <th>139</th>\n",
       "      <td>2019</td>\n",
       "      <td>0.98</td>\n",
       "      <td>1.21</td>\n",
       "      <td>0.75</td>\n",
       "      <td>1.42</td>\n",
       "      <td>...</td>\n",
       "      <td>0.90</td>\n",
       "      <td>0.89</td>\n",
       "      <td>0.75</td>\n",
       "      <td>0.39</td>\n",
       "      <td>0.85</td>\n",
       "    </tr>\n",
       "    <tr>\n",
       "      <th>137</th>\n",
       "      <td>2017</td>\n",
       "      <td>0.92</td>\n",
       "      <td>1.17</td>\n",
       "      <td>0.67</td>\n",
       "      <td>1.38</td>\n",
       "      <td>...</td>\n",
       "      <td>0.87</td>\n",
       "      <td>0.78</td>\n",
       "      <td>0.76</td>\n",
       "      <td>0.35</td>\n",
       "      <td>0.55</td>\n",
       "    </tr>\n",
       "    <tr>\n",
       "      <th>135</th>\n",
       "      <td>2015</td>\n",
       "      <td>0.90</td>\n",
       "      <td>1.17</td>\n",
       "      <td>0.63</td>\n",
       "      <td>1.31</td>\n",
       "      <td>...</td>\n",
       "      <td>0.97</td>\n",
       "      <td>0.94</td>\n",
       "      <td>0.75</td>\n",
       "      <td>0.18</td>\n",
       "      <td>-0.30</td>\n",
       "    </tr>\n",
       "    <tr>\n",
       "      <th>...</th>\n",
       "      <td>...</td>\n",
       "      <td>...</td>\n",
       "      <td>...</td>\n",
       "      <td>...</td>\n",
       "      <td>...</td>\n",
       "      <td>...</td>\n",
       "      <td>...</td>\n",
       "      <td>...</td>\n",
       "      <td>...</td>\n",
       "      <td>...</td>\n",
       "      <td>...</td>\n",
       "    </tr>\n",
       "    <tr>\n",
       "      <th>31</th>\n",
       "      <td>1911</td>\n",
       "      <td>-0.44</td>\n",
       "      <td>-0.42</td>\n",
       "      <td>-0.46</td>\n",
       "      <td>-0.42</td>\n",
       "      <td>...</td>\n",
       "      <td>-0.43</td>\n",
       "      <td>-0.43</td>\n",
       "      <td>-0.43</td>\n",
       "      <td>-0.52</td>\n",
       "      <td>0.04</td>\n",
       "    </tr>\n",
       "    <tr>\n",
       "      <th>30</th>\n",
       "      <td>1910</td>\n",
       "      <td>-0.44</td>\n",
       "      <td>-0.45</td>\n",
       "      <td>-0.43</td>\n",
       "      <td>-0.42</td>\n",
       "      <td>...</td>\n",
       "      <td>-0.49</td>\n",
       "      <td>-0.50</td>\n",
       "      <td>-0.33</td>\n",
       "      <td>-0.45</td>\n",
       "      <td>0.15</td>\n",
       "    </tr>\n",
       "    <tr>\n",
       "      <th>37</th>\n",
       "      <td>1917</td>\n",
       "      <td>-0.46</td>\n",
       "      <td>-0.57</td>\n",
       "      <td>-0.36</td>\n",
       "      <td>-0.50</td>\n",
       "      <td>...</td>\n",
       "      <td>-0.68</td>\n",
       "      <td>-0.59</td>\n",
       "      <td>-0.23</td>\n",
       "      <td>-0.09</td>\n",
       "      <td>0.05</td>\n",
       "    </tr>\n",
       "    <tr>\n",
       "      <th>24</th>\n",
       "      <td>1904</td>\n",
       "      <td>-0.47</td>\n",
       "      <td>-0.48</td>\n",
       "      <td>-0.46</td>\n",
       "      <td>-0.52</td>\n",
       "      <td>...</td>\n",
       "      <td>-0.43</td>\n",
       "      <td>-0.50</td>\n",
       "      <td>-0.37</td>\n",
       "      <td>-0.49</td>\n",
       "      <td>-1.33</td>\n",
       "    </tr>\n",
       "    <tr>\n",
       "      <th>29</th>\n",
       "      <td>1909</td>\n",
       "      <td>-0.49</td>\n",
       "      <td>-0.50</td>\n",
       "      <td>-0.48</td>\n",
       "      <td>-0.54</td>\n",
       "      <td>...</td>\n",
       "      <td>-0.45</td>\n",
       "      <td>-0.53</td>\n",
       "      <td>-0.37</td>\n",
       "      <td>-0.52</td>\n",
       "      <td>-0.58</td>\n",
       "    </tr>\n",
       "  </tbody>\n",
       "</table>\n",
       "<p>143 rows × 15 columns</p>\n",
       "</div>"
      ],
      "text/plain": [
       "     Year  Glob  NHem  SHem  24N-90N  ...  EQU-24N  24S-EQU  44S-24S  64S-44S  \\\n",
       "140  2020  1.02  1.35  0.68     1.67  ...     0.88     0.84     0.58     0.39   \n",
       "136  2016  1.02  1.31  0.73     1.54  ...     0.96     1.07     0.67     0.26   \n",
       "139  2019  0.98  1.21  0.75     1.42  ...     0.90     0.89     0.75     0.39   \n",
       "137  2017  0.92  1.17  0.67     1.38  ...     0.87     0.78     0.76     0.35   \n",
       "135  2015  0.90  1.17  0.63     1.31  ...     0.97     0.94     0.75     0.18   \n",
       "..    ...   ...   ...   ...      ...  ...      ...      ...      ...      ...   \n",
       "31   1911 -0.44 -0.42 -0.46    -0.42  ...    -0.43    -0.43    -0.43    -0.52   \n",
       "30   1910 -0.44 -0.45 -0.43    -0.42  ...    -0.49    -0.50    -0.33    -0.45   \n",
       "37   1917 -0.46 -0.57 -0.36    -0.50  ...    -0.68    -0.59    -0.23    -0.09   \n",
       "24   1904 -0.47 -0.48 -0.46    -0.52  ...    -0.43    -0.50    -0.37    -0.49   \n",
       "29   1909 -0.49 -0.50 -0.48    -0.54  ...    -0.45    -0.53    -0.37    -0.52   \n",
       "\n",
       "     90S-64S  \n",
       "140     0.91  \n",
       "136     0.40  \n",
       "139     0.85  \n",
       "137     0.55  \n",
       "135    -0.30  \n",
       "..       ...  \n",
       "31      0.04  \n",
       "30      0.15  \n",
       "37      0.05  \n",
       "24     -1.33  \n",
       "29     -0.58  \n",
       "\n",
       "[143 rows x 15 columns]"
      ]
     },
     "execution_count": 177,
     "metadata": {},
     "output_type": "execute_result"
    }
   ],
   "source": [
    "dat.sort_values('Glob', ascending=False)"
   ]
  },
  {
   "attachments": {},
   "cell_type": "markdown",
   "metadata": {},
   "source": [
    "```{note}\n",
    "Check out [Pandas Tutor](https://pandastutor.com/vis.html) for a visual demonstration of common `pandas` operators!\n",
    "```"
   ]
  },
  {
   "attachments": {},
   "cell_type": "markdown",
   "metadata": {},
   "source": [
    "(pandas-plotting)=\n",
    "## Plotting (`pandas`)"
   ]
  },
  {
   "attachments": {},
   "cell_type": "markdown",
   "metadata": {},
   "source": [
    "(pandas-hist)=\n",
    "### Histograms (`pandas`)"
   ]
  },
  {
   "attachments": {},
   "cell_type": "markdown",
   "metadata": {},
   "source": [
    "`pandas` has several methods to visualize the information in a `Series` or a `DataFrame`, which are actually shortcuts to `matplotlib` functions (see {ref}`matplotlib`). These methods are useful for quick visual inspection of the data. "
   ]
  },
  {
   "attachments": {},
   "cell_type": "markdown",
   "metadata": {},
   "source": [
    "For example, we can draw a histogram of the column(s) in a `DataFrame` using the `.hist` method. For example:"
   ]
  },
  {
   "cell_type": "code",
   "execution_count": 178,
   "metadata": {},
   "outputs": [
    {
     "data": {
      "image/png": "[encoded data removed]",
      "text/plain": [
       "<Figure size 600x600 with 4 Axes>"
      ]
     },
     "metadata": {},
     "output_type": "display_data"
    }
   ],
   "source": [
    "dat[['Glob', 'SHem', 'NHem']].hist();"
   ]
  },
  {
   "attachments": {},
   "cell_type": "markdown",
   "metadata": {},
   "source": [
    "(pandas-line-plots)=\n",
    "### Line plots (`pandas`)"
   ]
  },
  {
   "attachments": {},
   "cell_type": "markdown",
   "metadata": {},
   "source": [
    "The `.plot` method, given a `Series` (or a `DataFrame` with one column), creates a line plot with the indices on the x-axis and the values on the y-axis:"
   ]
  },
  {
   "cell_type": "code",
   "execution_count": 179,
   "metadata": {},
   "outputs": [
    {
     "data": {
      "image/png": "[encoded data removed]",
      "text/plain": [
       "<Figure size 600x600 with 1 Axes>"
      ]
     },
     "metadata": {},
     "output_type": "display_data"
    }
   ],
   "source": [
    "dat['Glob'].plot();"
   ]
  },
  {
   "attachments": {},
   "cell_type": "markdown",
   "metadata": {},
   "source": [
    "In case we need to change the values on the x-axis, the simplest way is to set the required values as the index (see {ref}`modifying-index`). For example, here we set the `'Year'` column as the `DataFrame` index, then plot the `'Glob'` column. As a result, the measurement *year* appears on the x-axis instead of the default consecutive index:"
   ]
  },
  {
   "cell_type": "code",
   "execution_count": 180,
   "metadata": {},
   "outputs": [
    {
     "data": {
      "image/png": "[encoded data removed]",
      "text/plain": [
       "<Figure size 600x600 with 1 Axes>"
      ]
     },
     "metadata": {},
     "output_type": "display_data"
    }
   ],
   "source": [
    "dat.set_index('Year')['Glob'].plot();"
   ]
  },
  {
   "attachments": {},
   "cell_type": "markdown",
   "metadata": {},
   "source": [
    "Pay attention to the order of operations (from left to right) in the above expression:\n",
    "\n",
    "* `dat.set_index('Year')`—Setting the index\n",
    "* `['Glob']`—Extracting a column (as `Series`)\n",
    "* `.plot();`—Plotting"
   ]
  },
  {
   "attachments": {},
   "cell_type": "markdown",
   "metadata": {},
   "source": [
    "When we plot a `DataFrame` with more than one column, the columns are plotted as sepatate *series* in the same line plot. This is useful to compare the values in different columns. Fore example, plotting the `'Glob'`, `'NHem'`, and `'SHem'` columns demonstrates that in recent years Northern Hemisphere (`'NHem'`) temperatures have been relatively higher, while Southern Hemisphere (`'SHem'`) temperatures have been relatively lower, compared to the global average (`'Glob'`):"
   ]
  },
  {
   "cell_type": "code",
   "execution_count": 181,
   "metadata": {},
   "outputs": [
    {
     "data": {
      "image/png": "[encoded data removed]",
      "text/plain": [
       "<Figure size 600x600 with 1 Axes>"
      ]
     },
     "metadata": {},
     "output_type": "display_data"
    }
   ],
   "source": [
    "dat.set_index('Year')[['Glob', 'NHem', 'SHem']].plot();"
   ]
  },
  {
   "attachments": {},
   "cell_type": "markdown",
   "metadata": {},
   "source": [
    "(scatterplots)=\n",
    "### Scatterplots (`pandas`)"
   ]
  },
  {
   "attachments": {},
   "cell_type": "markdown",
   "metadata": {},
   "source": [
    "One more useful type of plot is a *scatterplot*, where we display the association between two series in the form of scattered points. To produce a scatterplot, we use the `.plot.scatter` method of a `DataFrame`, specifying the names of the columns to be displayed in the x-axis (`x`) and y-axis (`y`)."
   ]
  },
  {
   "attachments": {},
   "cell_type": "markdown",
   "metadata": {},
   "source": [
    "For example, the following expression shows the relation between the values in the `'NHem'` and `'SHem'` columns of `dat`:"
   ]
  },
  {
   "cell_type": "code",
   "execution_count": 182,
   "metadata": {},
   "outputs": [
    {
     "data": {
      "image/png": "[encoded data removed]",
      "text/plain": [
       "<Figure size 600x600 with 1 Axes>"
      ]
     },
     "metadata": {},
     "output_type": "display_data"
    }
   ],
   "source": [
    "dat.plot.scatter(x='NHem', y='SHem');"
   ]
  },
  {
   "attachments": {},
   "cell_type": "markdown",
   "metadata": {},
   "source": [
    "We clearly see that there is a strong positive association between Northern Hemisphere and Southern Hemisphere temperatures across years. Namely, in years when the Nothern Hemisphere temperature is high, the Southern Hemisphere temperature also tends to be high, and vice versa."
   ]
  },
  {
   "attachments": {},
   "cell_type": "markdown",
   "metadata": {},
   "source": [
    "(pandas-operators)=\n",
    "## Operators"
   ]
  },
  {
   "attachments": {},
   "cell_type": "markdown",
   "metadata": {},
   "source": [
    "(operators-on-series)=\n",
    "### Operators on `Series`"
   ]
  },
  {
   "attachments": {},
   "cell_type": "markdown",
   "metadata": {},
   "source": [
    "Operators and summary functions can be applied to `Series` objects, similarly to the way they can be applied to `numpy` arrays (see {ref}`numpy-vectorized-ops` and {ref}`summarizing-array-values`, respectively). For example, summary methods such as `.min`, `.max`, and `.mean` can be applied on a `Series` to summarize its respective properties. Here is how we can find out the start and end `'Year'` in `dat`:"
   ]
  },
  {
   "cell_type": "code",
   "execution_count": 183,
   "metadata": {},
   "outputs": [
    {
     "data": {
      "text/plain": [
       "1880"
      ]
     },
     "execution_count": 183,
     "metadata": {},
     "output_type": "execute_result"
    }
   ],
   "source": [
    "dat['Year'].min()"
   ]
  },
  {
   "cell_type": "code",
   "execution_count": 184,
   "metadata": {},
   "outputs": [
    {
     "data": {
      "text/plain": [
       "2022"
      ]
     },
     "execution_count": 184,
     "metadata": {},
     "output_type": "execute_result"
    }
   ],
   "source": [
    "dat['Year'].max()"
   ]
  },
  {
   "attachments": {},
   "cell_type": "markdown",
   "metadata": {},
   "source": [
    "and the average `'Glob'` value:"
   ]
  },
  {
   "cell_type": "code",
   "execution_count": 185,
   "metadata": {},
   "outputs": [
    {
     "data": {
      "text/plain": [
       "0.06034965034965038"
      ]
     },
     "execution_count": 185,
     "metadata": {},
     "output_type": "execute_result"
    }
   ],
   "source": [
    "dat['Glob'].mean()"
   ]
  },
  {
   "attachments": {},
   "cell_type": "markdown",
   "metadata": {},
   "source": [
    "We can also combine `Series` with individual values, or combine two series, to apply pairwise arithmetic or boolean operators. For example, here is how we can subtract `1` from all `'Year'` values:"
   ]
  },
  {
   "cell_type": "code",
   "execution_count": 186,
   "metadata": {},
   "outputs": [
    {
     "data": {
      "text/plain": [
       "0      1879\n",
       "1      1880\n",
       "2      1881\n",
       "3      1882\n",
       "4      1883\n",
       "       ... \n",
       "138    2017\n",
       "139    2018\n",
       "140    2019\n",
       "141    2020\n",
       "142    2021\n",
       "Name: Year, Length: 143, dtype: int64"
      ]
     },
     "execution_count": 186,
     "metadata": {},
     "output_type": "execute_result"
    }
   ],
   "source": [
    "dat['Year'] - 1"
   ]
  },
  {
   "attachments": {},
   "cell_type": "markdown",
   "metadata": {},
   "source": [
    "and here is how we can calculate the yearly differences between the Northern Hemisphere and Southern Hemisphere temperature anomalies:"
   ]
  },
  {
   "cell_type": "code",
   "execution_count": 187,
   "metadata": {},
   "outputs": [
    {
     "data": {
      "text/plain": [
       "0     -0.26\n",
       "1     -0.20\n",
       "2     -0.23\n",
       "3     -0.23\n",
       "4     -0.30\n",
       "       ... \n",
       "138    0.37\n",
       "139    0.46\n",
       "140    0.67\n",
       "141    0.58\n",
       "142    0.54\n",
       "Length: 143, dtype: float64"
      ]
     },
     "execution_count": 187,
     "metadata": {},
     "output_type": "execute_result"
    }
   ],
   "source": [
    "dat['NHem'] - dat['SHem']"
   ]
  },
  {
   "attachments": {},
   "cell_type": "markdown",
   "metadata": {},
   "source": [
    "Note that this is an arithmetic operation between two `Series`, which returns a new series."
   ]
  },
  {
   "attachments": {},
   "cell_type": "markdown",
   "metadata": {},
   "source": [
    "```{note}\n",
    "When performing operations between pairs of `Series` or `DataFrame`s, `pandas` aligns the elements according to the *index*, rather than the position. When the data come from the same table (such as in the last example), the indices are guaranteed to match. However, when the data come from *different* tables, you must make sure their indices match.\n",
    "```"
   ]
  },
  {
   "attachments": {},
   "cell_type": "markdown",
   "metadata": {},
   "source": [
    "### Operators on `DataFrame`s"
   ]
  },
  {
   "attachments": {},
   "cell_type": "markdown",
   "metadata": {},
   "source": [
    "Operating on an entire `DataFrame` is more complex than operating on a `Series` (see {ref}`operators-on-series`). Accordingly, operators behave in different ways. For example, arithmetic and boolean operations combined with an individual value are applied per-element, resulting in a new `DataFrame` (assuming that all columns are numeric):"
   ]
  },
  {
   "cell_type": "code",
   "execution_count": 188,
   "metadata": {},
   "outputs": [
    {
     "data": {
      "text/html": [
       "<div>\n",
       "<style scoped>\n",
       "    .dataframe tbody tr th:only-of-type {\n",
       "        vertical-align: middle;\n",
       "    }\n",
       "\n",
       "    .dataframe tbody tr th {\n",
       "        vertical-align: top;\n",
       "    }\n",
       "\n",
       "    .dataframe thead th {\n",
       "        text-align: right;\n",
       "    }\n",
       "</style>\n",
       "<table border=\"1\" class=\"dataframe\">\n",
       "  <thead>\n",
       "    <tr style=\"text-align: right;\">\n",
       "      <th></th>\n",
       "      <th>Year</th>\n",
       "      <th>Glob</th>\n",
       "      <th>NHem</th>\n",
       "      <th>SHem</th>\n",
       "      <th>24N-90N</th>\n",
       "      <th>...</th>\n",
       "      <th>EQU-24N</th>\n",
       "      <th>24S-EQU</th>\n",
       "      <th>44S-24S</th>\n",
       "      <th>64S-44S</th>\n",
       "      <th>90S-64S</th>\n",
       "    </tr>\n",
       "  </thead>\n",
       "  <tbody>\n",
       "    <tr>\n",
       "      <th>0</th>\n",
       "      <td>1870</td>\n",
       "      <td>-10.17</td>\n",
       "      <td>-10.30</td>\n",
       "      <td>-10.04</td>\n",
       "      <td>-10.39</td>\n",
       "      <td>...</td>\n",
       "      <td>-10.15</td>\n",
       "      <td>-10.09</td>\n",
       "      <td>-10.03</td>\n",
       "      <td>-9.95</td>\n",
       "      <td>-9.33</td>\n",
       "    </tr>\n",
       "    <tr>\n",
       "      <th>1</th>\n",
       "      <td>1871</td>\n",
       "      <td>-10.09</td>\n",
       "      <td>-10.19</td>\n",
       "      <td>-9.99</td>\n",
       "      <td>-10.37</td>\n",
       "      <td>...</td>\n",
       "      <td>-9.90</td>\n",
       "      <td>-9.88</td>\n",
       "      <td>-10.04</td>\n",
       "      <td>-10.07</td>\n",
       "      <td>-9.41</td>\n",
       "    </tr>\n",
       "    <tr>\n",
       "      <th>2</th>\n",
       "      <td>1872</td>\n",
       "      <td>-10.11</td>\n",
       "      <td>-10.23</td>\n",
       "      <td>-10.00</td>\n",
       "      <td>-10.33</td>\n",
       "      <td>...</td>\n",
       "      <td>-10.05</td>\n",
       "      <td>-10.04</td>\n",
       "      <td>-9.98</td>\n",
       "      <td>-9.96</td>\n",
       "      <td>-9.38</td>\n",
       "    </tr>\n",
       "    <tr>\n",
       "      <th>3</th>\n",
       "      <td>1873</td>\n",
       "      <td>-10.17</td>\n",
       "      <td>-10.29</td>\n",
       "      <td>-10.06</td>\n",
       "      <td>-10.36</td>\n",
       "      <td>...</td>\n",
       "      <td>-10.17</td>\n",
       "      <td>-10.14</td>\n",
       "      <td>-10.03</td>\n",
       "      <td>-9.93</td>\n",
       "      <td>-9.50</td>\n",
       "    </tr>\n",
       "    <tr>\n",
       "      <th>4</th>\n",
       "      <td>1874</td>\n",
       "      <td>-10.28</td>\n",
       "      <td>-10.44</td>\n",
       "      <td>-10.14</td>\n",
       "      <td>-10.62</td>\n",
       "      <td>...</td>\n",
       "      <td>-10.12</td>\n",
       "      <td>-10.16</td>\n",
       "      <td>-10.18</td>\n",
       "      <td>-10.02</td>\n",
       "      <td>-9.35</td>\n",
       "    </tr>\n",
       "    <tr>\n",
       "      <th>...</th>\n",
       "      <td>...</td>\n",
       "      <td>...</td>\n",
       "      <td>...</td>\n",
       "      <td>...</td>\n",
       "      <td>...</td>\n",
       "      <td>...</td>\n",
       "      <td>...</td>\n",
       "      <td>...</td>\n",
       "      <td>...</td>\n",
       "      <td>...</td>\n",
       "      <td>...</td>\n",
       "    </tr>\n",
       "    <tr>\n",
       "      <th>138</th>\n",
       "      <td>2008</td>\n",
       "      <td>-9.15</td>\n",
       "      <td>-8.97</td>\n",
       "      <td>-9.34</td>\n",
       "      <td>-8.76</td>\n",
       "      <td>...</td>\n",
       "      <td>-9.27</td>\n",
       "      <td>-9.37</td>\n",
       "      <td>-9.20</td>\n",
       "      <td>-9.63</td>\n",
       "      <td>-9.04</td>\n",
       "    </tr>\n",
       "    <tr>\n",
       "      <th>139</th>\n",
       "      <td>2009</td>\n",
       "      <td>-9.02</td>\n",
       "      <td>-8.79</td>\n",
       "      <td>-9.25</td>\n",
       "      <td>-8.58</td>\n",
       "      <td>...</td>\n",
       "      <td>-9.10</td>\n",
       "      <td>-9.11</td>\n",
       "      <td>-9.25</td>\n",
       "      <td>-9.61</td>\n",
       "      <td>-9.15</td>\n",
       "    </tr>\n",
       "    <tr>\n",
       "      <th>140</th>\n",
       "      <td>2010</td>\n",
       "      <td>-8.98</td>\n",
       "      <td>-8.65</td>\n",
       "      <td>-9.32</td>\n",
       "      <td>-8.33</td>\n",
       "      <td>...</td>\n",
       "      <td>-9.12</td>\n",
       "      <td>-9.16</td>\n",
       "      <td>-9.42</td>\n",
       "      <td>-9.61</td>\n",
       "      <td>-9.09</td>\n",
       "    </tr>\n",
       "    <tr>\n",
       "      <th>141</th>\n",
       "      <td>2011</td>\n",
       "      <td>-9.15</td>\n",
       "      <td>-8.86</td>\n",
       "      <td>-9.44</td>\n",
       "      <td>-8.58</td>\n",
       "      <td>...</td>\n",
       "      <td>-9.28</td>\n",
       "      <td>-9.41</td>\n",
       "      <td>-9.28</td>\n",
       "      <td>-9.68</td>\n",
       "      <td>-9.69</td>\n",
       "    </tr>\n",
       "    <tr>\n",
       "      <th>142</th>\n",
       "      <td>2012</td>\n",
       "      <td>-9.11</td>\n",
       "      <td>-8.84</td>\n",
       "      <td>-9.38</td>\n",
       "      <td>-8.48</td>\n",
       "      <td>...</td>\n",
       "      <td>-9.37</td>\n",
       "      <td>-9.49</td>\n",
       "      <td>-9.21</td>\n",
       "      <td>-9.61</td>\n",
       "      <td>-8.89</td>\n",
       "    </tr>\n",
       "  </tbody>\n",
       "</table>\n",
       "<p>143 rows × 15 columns</p>\n",
       "</div>"
      ],
      "text/plain": [
       "     Year   Glob   NHem   SHem  24N-90N  ...  EQU-24N  24S-EQU  44S-24S  \\\n",
       "0    1870 -10.17 -10.30 -10.04   -10.39  ...   -10.15   -10.09   -10.03   \n",
       "1    1871 -10.09 -10.19  -9.99   -10.37  ...    -9.90    -9.88   -10.04   \n",
       "2    1872 -10.11 -10.23 -10.00   -10.33  ...   -10.05   -10.04    -9.98   \n",
       "3    1873 -10.17 -10.29 -10.06   -10.36  ...   -10.17   -10.14   -10.03   \n",
       "4    1874 -10.28 -10.44 -10.14   -10.62  ...   -10.12   -10.16   -10.18   \n",
       "..    ...    ...    ...    ...      ...  ...      ...      ...      ...   \n",
       "138  2008  -9.15  -8.97  -9.34    -8.76  ...    -9.27    -9.37    -9.20   \n",
       "139  2009  -9.02  -8.79  -9.25    -8.58  ...    -9.10    -9.11    -9.25   \n",
       "140  2010  -8.98  -8.65  -9.32    -8.33  ...    -9.12    -9.16    -9.42   \n",
       "141  2011  -9.15  -8.86  -9.44    -8.58  ...    -9.28    -9.41    -9.28   \n",
       "142  2012  -9.11  -8.84  -9.38    -8.48  ...    -9.37    -9.49    -9.21   \n",
       "\n",
       "     64S-44S  90S-64S  \n",
       "0      -9.95    -9.33  \n",
       "1     -10.07    -9.41  \n",
       "2      -9.96    -9.38  \n",
       "3      -9.93    -9.50  \n",
       "4     -10.02    -9.35  \n",
       "..       ...      ...  \n",
       "138    -9.63    -9.04  \n",
       "139    -9.61    -9.15  \n",
       "140    -9.61    -9.09  \n",
       "141    -9.68    -9.69  \n",
       "142    -9.61    -8.89  \n",
       "\n",
       "[143 rows x 15 columns]"
      ]
     },
     "execution_count": 188,
     "metadata": {},
     "output_type": "execute_result"
    }
   ],
   "source": [
    "dat - 10"
   ]
  },
  {
   "attachments": {},
   "cell_type": "markdown",
   "metadata": {},
   "source": [
    "Methods such as `.mean`, however, are by default applied per column (i.e., `axis=0`):"
   ]
  },
  {
   "cell_type": "code",
   "execution_count": 189,
   "metadata": {},
   "outputs": [
    {
     "data": {
      "text/plain": [
       "Year       1951.000000\n",
       "Glob          0.060350\n",
       "NHem          0.088112\n",
       "SHem          0.032937\n",
       "24N-90N       0.109231\n",
       "              ...     \n",
       "EQU-24N       0.059161\n",
       "24S-EQU       0.080140\n",
       "44S-24S       0.044126\n",
       "64S-44S      -0.056783\n",
       "90S-64S      -0.080769\n",
       "Length: 15, dtype: float64"
      ]
     },
     "execution_count": 189,
     "metadata": {},
     "output_type": "execute_result"
    }
   ],
   "source": [
    "dat.mean()"
   ]
  },
  {
   "attachments": {},
   "cell_type": "markdown",
   "metadata": {},
   "source": [
    "We elaborate on this type of row- and column-wise operations later on (see {ref}`pandas-row-col-wise-operations`)."
   ]
  },
  {
   "attachments": {},
   "cell_type": "markdown",
   "metadata": {},
   "source": [
    "(pandas-creating-new-columns)=\n",
    "## Creating new columns"
   ]
  },
  {
   "attachments": {},
   "cell_type": "markdown",
   "metadata": {},
   "source": [
    "New `DataFrame` columns can be created by assignment of a `Series` to a non-existing column index. For example, the following expression calculates a `Series` of yearly differences between the Northern Hemisphere and Southern Hemisphere temperatures, as shown above, and assigns it to a *new* column named `diff`:"
   ]
  },
  {
   "cell_type": "code",
   "execution_count": 190,
   "metadata": {},
   "outputs": [
    {
     "data": {
      "text/html": [
       "<div>\n",
       "<style scoped>\n",
       "    .dataframe tbody tr th:only-of-type {\n",
       "        vertical-align: middle;\n",
       "    }\n",
       "\n",
       "    .dataframe tbody tr th {\n",
       "        vertical-align: top;\n",
       "    }\n",
       "\n",
       "    .dataframe thead th {\n",
       "        text-align: right;\n",
       "    }\n",
       "</style>\n",
       "<table border=\"1\" class=\"dataframe\">\n",
       "  <thead>\n",
       "    <tr style=\"text-align: right;\">\n",
       "      <th></th>\n",
       "      <th>Year</th>\n",
       "      <th>Glob</th>\n",
       "      <th>NHem</th>\n",
       "      <th>SHem</th>\n",
       "      <th>24N-90N</th>\n",
       "      <th>...</th>\n",
       "      <th>24S-EQU</th>\n",
       "      <th>44S-24S</th>\n",
       "      <th>64S-44S</th>\n",
       "      <th>90S-64S</th>\n",
       "      <th>diff</th>\n",
       "    </tr>\n",
       "  </thead>\n",
       "  <tbody>\n",
       "    <tr>\n",
       "      <th>0</th>\n",
       "      <td>1880</td>\n",
       "      <td>-0.17</td>\n",
       "      <td>-0.30</td>\n",
       "      <td>-0.04</td>\n",
       "      <td>-0.39</td>\n",
       "      <td>...</td>\n",
       "      <td>-0.09</td>\n",
       "      <td>-0.03</td>\n",
       "      <td>0.05</td>\n",
       "      <td>0.67</td>\n",
       "      <td>-0.26</td>\n",
       "    </tr>\n",
       "    <tr>\n",
       "      <th>1</th>\n",
       "      <td>1881</td>\n",
       "      <td>-0.09</td>\n",
       "      <td>-0.19</td>\n",
       "      <td>0.01</td>\n",
       "      <td>-0.37</td>\n",
       "      <td>...</td>\n",
       "      <td>0.12</td>\n",
       "      <td>-0.04</td>\n",
       "      <td>-0.07</td>\n",
       "      <td>0.59</td>\n",
       "      <td>-0.20</td>\n",
       "    </tr>\n",
       "    <tr>\n",
       "      <th>2</th>\n",
       "      <td>1882</td>\n",
       "      <td>-0.11</td>\n",
       "      <td>-0.23</td>\n",
       "      <td>0.00</td>\n",
       "      <td>-0.33</td>\n",
       "      <td>...</td>\n",
       "      <td>-0.04</td>\n",
       "      <td>0.02</td>\n",
       "      <td>0.04</td>\n",
       "      <td>0.62</td>\n",
       "      <td>-0.23</td>\n",
       "    </tr>\n",
       "    <tr>\n",
       "      <th>3</th>\n",
       "      <td>1883</td>\n",
       "      <td>-0.17</td>\n",
       "      <td>-0.29</td>\n",
       "      <td>-0.06</td>\n",
       "      <td>-0.36</td>\n",
       "      <td>...</td>\n",
       "      <td>-0.14</td>\n",
       "      <td>-0.03</td>\n",
       "      <td>0.07</td>\n",
       "      <td>0.50</td>\n",
       "      <td>-0.23</td>\n",
       "    </tr>\n",
       "    <tr>\n",
       "      <th>4</th>\n",
       "      <td>1884</td>\n",
       "      <td>-0.28</td>\n",
       "      <td>-0.44</td>\n",
       "      <td>-0.14</td>\n",
       "      <td>-0.62</td>\n",
       "      <td>...</td>\n",
       "      <td>-0.16</td>\n",
       "      <td>-0.18</td>\n",
       "      <td>-0.02</td>\n",
       "      <td>0.65</td>\n",
       "      <td>-0.30</td>\n",
       "    </tr>\n",
       "    <tr>\n",
       "      <th>...</th>\n",
       "      <td>...</td>\n",
       "      <td>...</td>\n",
       "      <td>...</td>\n",
       "      <td>...</td>\n",
       "      <td>...</td>\n",
       "      <td>...</td>\n",
       "      <td>...</td>\n",
       "      <td>...</td>\n",
       "      <td>...</td>\n",
       "      <td>...</td>\n",
       "      <td>...</td>\n",
       "    </tr>\n",
       "    <tr>\n",
       "      <th>138</th>\n",
       "      <td>2018</td>\n",
       "      <td>0.85</td>\n",
       "      <td>1.03</td>\n",
       "      <td>0.66</td>\n",
       "      <td>1.24</td>\n",
       "      <td>...</td>\n",
       "      <td>0.63</td>\n",
       "      <td>0.80</td>\n",
       "      <td>0.37</td>\n",
       "      <td>0.96</td>\n",
       "      <td>0.37</td>\n",
       "    </tr>\n",
       "    <tr>\n",
       "      <th>139</th>\n",
       "      <td>2019</td>\n",
       "      <td>0.98</td>\n",
       "      <td>1.21</td>\n",
       "      <td>0.75</td>\n",
       "      <td>1.42</td>\n",
       "      <td>...</td>\n",
       "      <td>0.89</td>\n",
       "      <td>0.75</td>\n",
       "      <td>0.39</td>\n",
       "      <td>0.85</td>\n",
       "      <td>0.46</td>\n",
       "    </tr>\n",
       "    <tr>\n",
       "      <th>140</th>\n",
       "      <td>2020</td>\n",
       "      <td>1.02</td>\n",
       "      <td>1.35</td>\n",
       "      <td>0.68</td>\n",
       "      <td>1.67</td>\n",
       "      <td>...</td>\n",
       "      <td>0.84</td>\n",
       "      <td>0.58</td>\n",
       "      <td>0.39</td>\n",
       "      <td>0.91</td>\n",
       "      <td>0.67</td>\n",
       "    </tr>\n",
       "    <tr>\n",
       "      <th>141</th>\n",
       "      <td>2021</td>\n",
       "      <td>0.85</td>\n",
       "      <td>1.14</td>\n",
       "      <td>0.56</td>\n",
       "      <td>1.42</td>\n",
       "      <td>...</td>\n",
       "      <td>0.59</td>\n",
       "      <td>0.72</td>\n",
       "      <td>0.32</td>\n",
       "      <td>0.31</td>\n",
       "      <td>0.58</td>\n",
       "    </tr>\n",
       "    <tr>\n",
       "      <th>142</th>\n",
       "      <td>2022</td>\n",
       "      <td>0.89</td>\n",
       "      <td>1.16</td>\n",
       "      <td>0.62</td>\n",
       "      <td>1.52</td>\n",
       "      <td>...</td>\n",
       "      <td>0.51</td>\n",
       "      <td>0.79</td>\n",
       "      <td>0.39</td>\n",
       "      <td>1.11</td>\n",
       "      <td>0.54</td>\n",
       "    </tr>\n",
       "  </tbody>\n",
       "</table>\n",
       "<p>143 rows × 16 columns</p>\n",
       "</div>"
      ],
      "text/plain": [
       "     Year  Glob  NHem  SHem  24N-90N  ...  24S-EQU  44S-24S  64S-44S  90S-64S  \\\n",
       "0    1880 -0.17 -0.30 -0.04    -0.39  ...    -0.09    -0.03     0.05     0.67   \n",
       "1    1881 -0.09 -0.19  0.01    -0.37  ...     0.12    -0.04    -0.07     0.59   \n",
       "2    1882 -0.11 -0.23  0.00    -0.33  ...    -0.04     0.02     0.04     0.62   \n",
       "3    1883 -0.17 -0.29 -0.06    -0.36  ...    -0.14    -0.03     0.07     0.50   \n",
       "4    1884 -0.28 -0.44 -0.14    -0.62  ...    -0.16    -0.18    -0.02     0.65   \n",
       "..    ...   ...   ...   ...      ...  ...      ...      ...      ...      ...   \n",
       "138  2018  0.85  1.03  0.66     1.24  ...     0.63     0.80     0.37     0.96   \n",
       "139  2019  0.98  1.21  0.75     1.42  ...     0.89     0.75     0.39     0.85   \n",
       "140  2020  1.02  1.35  0.68     1.67  ...     0.84     0.58     0.39     0.91   \n",
       "141  2021  0.85  1.14  0.56     1.42  ...     0.59     0.72     0.32     0.31   \n",
       "142  2022  0.89  1.16  0.62     1.52  ...     0.51     0.79     0.39     1.11   \n",
       "\n",
       "     diff  \n",
       "0   -0.26  \n",
       "1   -0.20  \n",
       "2   -0.23  \n",
       "3   -0.23  \n",
       "4   -0.30  \n",
       "..    ...  \n",
       "138  0.37  \n",
       "139  0.46  \n",
       "140  0.67  \n",
       "141  0.58  \n",
       "142  0.54  \n",
       "\n",
       "[143 rows x 16 columns]"
      ]
     },
     "execution_count": 190,
     "metadata": {},
     "output_type": "execute_result"
    }
   ],
   "source": [
    "dat['diff'] = dat['NHem'] - dat['SHem']\n",
    "dat"
   ]
  },
  {
   "attachments": {},
   "cell_type": "markdown",
   "metadata": {},
   "source": [
    "Here is a plot ({ref}`pandas-line-plots`) of the differences we just calulated, as function of time:"
   ]
  },
  {
   "cell_type": "code",
   "execution_count": 191,
   "metadata": {},
   "outputs": [
    {
     "data": {
      "image/png": "[encoded data removed]",
      "text/plain": [
       "<Figure size 600x600 with 1 Axes>"
      ]
     },
     "metadata": {},
     "output_type": "display_data"
    }
   ],
   "source": [
    "dat.set_index('Year')['diff'].plot();"
   ]
  },
  {
   "attachments": {},
   "cell_type": "markdown",
   "metadata": {},
   "source": [
    "We can also assign an expression that combines series with individual values:"
   ]
  },
  {
   "cell_type": "code",
   "execution_count": 192,
   "metadata": {},
   "outputs": [
    {
     "data": {
      "text/html": [
       "<div>\n",
       "<style scoped>\n",
       "    .dataframe tbody tr th:only-of-type {\n",
       "        vertical-align: middle;\n",
       "    }\n",
       "\n",
       "    .dataframe tbody tr th {\n",
       "        vertical-align: top;\n",
       "    }\n",
       "\n",
       "    .dataframe thead th {\n",
       "        text-align: right;\n",
       "    }\n",
       "</style>\n",
       "<table border=\"1\" class=\"dataframe\">\n",
       "  <thead>\n",
       "    <tr style=\"text-align: right;\">\n",
       "      <th></th>\n",
       "      <th>Year</th>\n",
       "      <th>Glob</th>\n",
       "      <th>NHem</th>\n",
       "      <th>SHem</th>\n",
       "      <th>24N-90N</th>\n",
       "      <th>...</th>\n",
       "      <th>44S-24S</th>\n",
       "      <th>64S-44S</th>\n",
       "      <th>90S-64S</th>\n",
       "      <th>diff</th>\n",
       "      <th>NHem2</th>\n",
       "    </tr>\n",
       "  </thead>\n",
       "  <tbody>\n",
       "    <tr>\n",
       "      <th>0</th>\n",
       "      <td>1880</td>\n",
       "      <td>-0.17</td>\n",
       "      <td>-0.30</td>\n",
       "      <td>-0.04</td>\n",
       "      <td>-0.39</td>\n",
       "      <td>...</td>\n",
       "      <td>-0.03</td>\n",
       "      <td>0.05</td>\n",
       "      <td>0.67</td>\n",
       "      <td>-0.26</td>\n",
       "      <td>-0.60</td>\n",
       "    </tr>\n",
       "    <tr>\n",
       "      <th>1</th>\n",
       "      <td>1881</td>\n",
       "      <td>-0.09</td>\n",
       "      <td>-0.19</td>\n",
       "      <td>0.01</td>\n",
       "      <td>-0.37</td>\n",
       "      <td>...</td>\n",
       "      <td>-0.04</td>\n",
       "      <td>-0.07</td>\n",
       "      <td>0.59</td>\n",
       "      <td>-0.20</td>\n",
       "      <td>-0.38</td>\n",
       "    </tr>\n",
       "    <tr>\n",
       "      <th>2</th>\n",
       "      <td>1882</td>\n",
       "      <td>-0.11</td>\n",
       "      <td>-0.23</td>\n",
       "      <td>0.00</td>\n",
       "      <td>-0.33</td>\n",
       "      <td>...</td>\n",
       "      <td>0.02</td>\n",
       "      <td>0.04</td>\n",
       "      <td>0.62</td>\n",
       "      <td>-0.23</td>\n",
       "      <td>-0.46</td>\n",
       "    </tr>\n",
       "    <tr>\n",
       "      <th>3</th>\n",
       "      <td>1883</td>\n",
       "      <td>-0.17</td>\n",
       "      <td>-0.29</td>\n",
       "      <td>-0.06</td>\n",
       "      <td>-0.36</td>\n",
       "      <td>...</td>\n",
       "      <td>-0.03</td>\n",
       "      <td>0.07</td>\n",
       "      <td>0.50</td>\n",
       "      <td>-0.23</td>\n",
       "      <td>-0.58</td>\n",
       "    </tr>\n",
       "    <tr>\n",
       "      <th>4</th>\n",
       "      <td>1884</td>\n",
       "      <td>-0.28</td>\n",
       "      <td>-0.44</td>\n",
       "      <td>-0.14</td>\n",
       "      <td>-0.62</td>\n",
       "      <td>...</td>\n",
       "      <td>-0.18</td>\n",
       "      <td>-0.02</td>\n",
       "      <td>0.65</td>\n",
       "      <td>-0.30</td>\n",
       "      <td>-0.88</td>\n",
       "    </tr>\n",
       "    <tr>\n",
       "      <th>...</th>\n",
       "      <td>...</td>\n",
       "      <td>...</td>\n",
       "      <td>...</td>\n",
       "      <td>...</td>\n",
       "      <td>...</td>\n",
       "      <td>...</td>\n",
       "      <td>...</td>\n",
       "      <td>...</td>\n",
       "      <td>...</td>\n",
       "      <td>...</td>\n",
       "      <td>...</td>\n",
       "    </tr>\n",
       "    <tr>\n",
       "      <th>138</th>\n",
       "      <td>2018</td>\n",
       "      <td>0.85</td>\n",
       "      <td>1.03</td>\n",
       "      <td>0.66</td>\n",
       "      <td>1.24</td>\n",
       "      <td>...</td>\n",
       "      <td>0.80</td>\n",
       "      <td>0.37</td>\n",
       "      <td>0.96</td>\n",
       "      <td>0.37</td>\n",
       "      <td>2.06</td>\n",
       "    </tr>\n",
       "    <tr>\n",
       "      <th>139</th>\n",
       "      <td>2019</td>\n",
       "      <td>0.98</td>\n",
       "      <td>1.21</td>\n",
       "      <td>0.75</td>\n",
       "      <td>1.42</td>\n",
       "      <td>...</td>\n",
       "      <td>0.75</td>\n",
       "      <td>0.39</td>\n",
       "      <td>0.85</td>\n",
       "      <td>0.46</td>\n",
       "      <td>2.42</td>\n",
       "    </tr>\n",
       "    <tr>\n",
       "      <th>140</th>\n",
       "      <td>2020</td>\n",
       "      <td>1.02</td>\n",
       "      <td>1.35</td>\n",
       "      <td>0.68</td>\n",
       "      <td>1.67</td>\n",
       "      <td>...</td>\n",
       "      <td>0.58</td>\n",
       "      <td>0.39</td>\n",
       "      <td>0.91</td>\n",
       "      <td>0.67</td>\n",
       "      <td>2.70</td>\n",
       "    </tr>\n",
       "    <tr>\n",
       "      <th>141</th>\n",
       "      <td>2021</td>\n",
       "      <td>0.85</td>\n",
       "      <td>1.14</td>\n",
       "      <td>0.56</td>\n",
       "      <td>1.42</td>\n",
       "      <td>...</td>\n",
       "      <td>0.72</td>\n",
       "      <td>0.32</td>\n",
       "      <td>0.31</td>\n",
       "      <td>0.58</td>\n",
       "      <td>2.28</td>\n",
       "    </tr>\n",
       "    <tr>\n",
       "      <th>142</th>\n",
       "      <td>2022</td>\n",
       "      <td>0.89</td>\n",
       "      <td>1.16</td>\n",
       "      <td>0.62</td>\n",
       "      <td>1.52</td>\n",
       "      <td>...</td>\n",
       "      <td>0.79</td>\n",
       "      <td>0.39</td>\n",
       "      <td>1.11</td>\n",
       "      <td>0.54</td>\n",
       "      <td>2.32</td>\n",
       "    </tr>\n",
       "  </tbody>\n",
       "</table>\n",
       "<p>143 rows × 17 columns</p>\n",
       "</div>"
      ],
      "text/plain": [
       "     Year  Glob  NHem  SHem  24N-90N  ...  44S-24S  64S-44S  90S-64S  diff  \\\n",
       "0    1880 -0.17 -0.30 -0.04    -0.39  ...    -0.03     0.05     0.67 -0.26   \n",
       "1    1881 -0.09 -0.19  0.01    -0.37  ...    -0.04    -0.07     0.59 -0.20   \n",
       "2    1882 -0.11 -0.23  0.00    -0.33  ...     0.02     0.04     0.62 -0.23   \n",
       "3    1883 -0.17 -0.29 -0.06    -0.36  ...    -0.03     0.07     0.50 -0.23   \n",
       "4    1884 -0.28 -0.44 -0.14    -0.62  ...    -0.18    -0.02     0.65 -0.30   \n",
       "..    ...   ...   ...   ...      ...  ...      ...      ...      ...   ...   \n",
       "138  2018  0.85  1.03  0.66     1.24  ...     0.80     0.37     0.96  0.37   \n",
       "139  2019  0.98  1.21  0.75     1.42  ...     0.75     0.39     0.85  0.46   \n",
       "140  2020  1.02  1.35  0.68     1.67  ...     0.58     0.39     0.91  0.67   \n",
       "141  2021  0.85  1.14  0.56     1.42  ...     0.72     0.32     0.31  0.58   \n",
       "142  2022  0.89  1.16  0.62     1.52  ...     0.79     0.39     1.11  0.54   \n",
       "\n",
       "     NHem2  \n",
       "0    -0.60  \n",
       "1    -0.38  \n",
       "2    -0.46  \n",
       "3    -0.58  \n",
       "4    -0.88  \n",
       "..     ...  \n",
       "138   2.06  \n",
       "139   2.42  \n",
       "140   2.70  \n",
       "141   2.28  \n",
       "142   2.32  \n",
       "\n",
       "[143 rows x 17 columns]"
      ]
     },
     "execution_count": 192,
     "metadata": {},
     "output_type": "execute_result"
    }
   ],
   "source": [
    "dat['NHem2'] = dat['NHem'] * 2\n",
    "dat"
   ]
  },
  {
   "attachments": {},
   "cell_type": "markdown",
   "metadata": {},
   "source": [
    "or an individual value on its own (in which case it is duplicated across all rows):"
   ]
  },
  {
   "cell_type": "code",
   "execution_count": 193,
   "metadata": {},
   "outputs": [
    {
     "data": {
      "text/html": [
       "<div>\n",
       "<style scoped>\n",
       "    .dataframe tbody tr th:only-of-type {\n",
       "        vertical-align: middle;\n",
       "    }\n",
       "\n",
       "    .dataframe tbody tr th {\n",
       "        vertical-align: top;\n",
       "    }\n",
       "\n",
       "    .dataframe thead th {\n",
       "        text-align: right;\n",
       "    }\n",
       "</style>\n",
       "<table border=\"1\" class=\"dataframe\">\n",
       "  <thead>\n",
       "    <tr style=\"text-align: right;\">\n",
       "      <th></th>\n",
       "      <th>Year</th>\n",
       "      <th>Glob</th>\n",
       "      <th>NHem</th>\n",
       "      <th>SHem</th>\n",
       "      <th>24N-90N</th>\n",
       "      <th>...</th>\n",
       "      <th>64S-44S</th>\n",
       "      <th>90S-64S</th>\n",
       "      <th>diff</th>\n",
       "      <th>NHem2</th>\n",
       "      <th>variable</th>\n",
       "    </tr>\n",
       "  </thead>\n",
       "  <tbody>\n",
       "    <tr>\n",
       "      <th>0</th>\n",
       "      <td>1880</td>\n",
       "      <td>-0.17</td>\n",
       "      <td>-0.30</td>\n",
       "      <td>-0.04</td>\n",
       "      <td>-0.39</td>\n",
       "      <td>...</td>\n",
       "      <td>0.05</td>\n",
       "      <td>0.67</td>\n",
       "      <td>-0.26</td>\n",
       "      <td>-0.60</td>\n",
       "      <td>temperature</td>\n",
       "    </tr>\n",
       "    <tr>\n",
       "      <th>1</th>\n",
       "      <td>1881</td>\n",
       "      <td>-0.09</td>\n",
       "      <td>-0.19</td>\n",
       "      <td>0.01</td>\n",
       "      <td>-0.37</td>\n",
       "      <td>...</td>\n",
       "      <td>-0.07</td>\n",
       "      <td>0.59</td>\n",
       "      <td>-0.20</td>\n",
       "      <td>-0.38</td>\n",
       "      <td>temperature</td>\n",
       "    </tr>\n",
       "    <tr>\n",
       "      <th>2</th>\n",
       "      <td>1882</td>\n",
       "      <td>-0.11</td>\n",
       "      <td>-0.23</td>\n",
       "      <td>0.00</td>\n",
       "      <td>-0.33</td>\n",
       "      <td>...</td>\n",
       "      <td>0.04</td>\n",
       "      <td>0.62</td>\n",
       "      <td>-0.23</td>\n",
       "      <td>-0.46</td>\n",
       "      <td>temperature</td>\n",
       "    </tr>\n",
       "    <tr>\n",
       "      <th>3</th>\n",
       "      <td>1883</td>\n",
       "      <td>-0.17</td>\n",
       "      <td>-0.29</td>\n",
       "      <td>-0.06</td>\n",
       "      <td>-0.36</td>\n",
       "      <td>...</td>\n",
       "      <td>0.07</td>\n",
       "      <td>0.50</td>\n",
       "      <td>-0.23</td>\n",
       "      <td>-0.58</td>\n",
       "      <td>temperature</td>\n",
       "    </tr>\n",
       "    <tr>\n",
       "      <th>4</th>\n",
       "      <td>1884</td>\n",
       "      <td>-0.28</td>\n",
       "      <td>-0.44</td>\n",
       "      <td>-0.14</td>\n",
       "      <td>-0.62</td>\n",
       "      <td>...</td>\n",
       "      <td>-0.02</td>\n",
       "      <td>0.65</td>\n",
       "      <td>-0.30</td>\n",
       "      <td>-0.88</td>\n",
       "      <td>temperature</td>\n",
       "    </tr>\n",
       "    <tr>\n",
       "      <th>...</th>\n",
       "      <td>...</td>\n",
       "      <td>...</td>\n",
       "      <td>...</td>\n",
       "      <td>...</td>\n",
       "      <td>...</td>\n",
       "      <td>...</td>\n",
       "      <td>...</td>\n",
       "      <td>...</td>\n",
       "      <td>...</td>\n",
       "      <td>...</td>\n",
       "      <td>...</td>\n",
       "    </tr>\n",
       "    <tr>\n",
       "      <th>138</th>\n",
       "      <td>2018</td>\n",
       "      <td>0.85</td>\n",
       "      <td>1.03</td>\n",
       "      <td>0.66</td>\n",
       "      <td>1.24</td>\n",
       "      <td>...</td>\n",
       "      <td>0.37</td>\n",
       "      <td>0.96</td>\n",
       "      <td>0.37</td>\n",
       "      <td>2.06</td>\n",
       "      <td>temperature</td>\n",
       "    </tr>\n",
       "    <tr>\n",
       "      <th>139</th>\n",
       "      <td>2019</td>\n",
       "      <td>0.98</td>\n",
       "      <td>1.21</td>\n",
       "      <td>0.75</td>\n",
       "      <td>1.42</td>\n",
       "      <td>...</td>\n",
       "      <td>0.39</td>\n",
       "      <td>0.85</td>\n",
       "      <td>0.46</td>\n",
       "      <td>2.42</td>\n",
       "      <td>temperature</td>\n",
       "    </tr>\n",
       "    <tr>\n",
       "      <th>140</th>\n",
       "      <td>2020</td>\n",
       "      <td>1.02</td>\n",
       "      <td>1.35</td>\n",
       "      <td>0.68</td>\n",
       "      <td>1.67</td>\n",
       "      <td>...</td>\n",
       "      <td>0.39</td>\n",
       "      <td>0.91</td>\n",
       "      <td>0.67</td>\n",
       "      <td>2.70</td>\n",
       "      <td>temperature</td>\n",
       "    </tr>\n",
       "    <tr>\n",
       "      <th>141</th>\n",
       "      <td>2021</td>\n",
       "      <td>0.85</td>\n",
       "      <td>1.14</td>\n",
       "      <td>0.56</td>\n",
       "      <td>1.42</td>\n",
       "      <td>...</td>\n",
       "      <td>0.32</td>\n",
       "      <td>0.31</td>\n",
       "      <td>0.58</td>\n",
       "      <td>2.28</td>\n",
       "      <td>temperature</td>\n",
       "    </tr>\n",
       "    <tr>\n",
       "      <th>142</th>\n",
       "      <td>2022</td>\n",
       "      <td>0.89</td>\n",
       "      <td>1.16</td>\n",
       "      <td>0.62</td>\n",
       "      <td>1.52</td>\n",
       "      <td>...</td>\n",
       "      <td>0.39</td>\n",
       "      <td>1.11</td>\n",
       "      <td>0.54</td>\n",
       "      <td>2.32</td>\n",
       "      <td>temperature</td>\n",
       "    </tr>\n",
       "  </tbody>\n",
       "</table>\n",
       "<p>143 rows × 18 columns</p>\n",
       "</div>"
      ],
      "text/plain": [
       "     Year  Glob  NHem  SHem  24N-90N  ...  64S-44S  90S-64S  diff  NHem2  \\\n",
       "0    1880 -0.17 -0.30 -0.04    -0.39  ...     0.05     0.67 -0.26  -0.60   \n",
       "1    1881 -0.09 -0.19  0.01    -0.37  ...    -0.07     0.59 -0.20  -0.38   \n",
       "2    1882 -0.11 -0.23  0.00    -0.33  ...     0.04     0.62 -0.23  -0.46   \n",
       "3    1883 -0.17 -0.29 -0.06    -0.36  ...     0.07     0.50 -0.23  -0.58   \n",
       "4    1884 -0.28 -0.44 -0.14    -0.62  ...    -0.02     0.65 -0.30  -0.88   \n",
       "..    ...   ...   ...   ...      ...  ...      ...      ...   ...    ...   \n",
       "138  2018  0.85  1.03  0.66     1.24  ...     0.37     0.96  0.37   2.06   \n",
       "139  2019  0.98  1.21  0.75     1.42  ...     0.39     0.85  0.46   2.42   \n",
       "140  2020  1.02  1.35  0.68     1.67  ...     0.39     0.91  0.67   2.70   \n",
       "141  2021  0.85  1.14  0.56     1.42  ...     0.32     0.31  0.58   2.28   \n",
       "142  2022  0.89  1.16  0.62     1.52  ...     0.39     1.11  0.54   2.32   \n",
       "\n",
       "        variable  \n",
       "0    temperature  \n",
       "1    temperature  \n",
       "2    temperature  \n",
       "3    temperature  \n",
       "4    temperature  \n",
       "..           ...  \n",
       "138  temperature  \n",
       "139  temperature  \n",
       "140  temperature  \n",
       "141  temperature  \n",
       "142  temperature  \n",
       "\n",
       "[143 rows x 18 columns]"
      ]
     },
     "execution_count": 193,
     "metadata": {},
     "output_type": "execute_result"
    }
   ],
   "source": [
    "dat['variable'] = 'temperature'\n",
    "dat"
   ]
  },
  {
   "attachments": {},
   "cell_type": "markdown",
   "metadata": {},
   "source": [
    "Let us delete the `'diff'`, `'NHem2'`, `'variable'` columns we just created to get the original version of `dat`:"
   ]
  },
  {
   "cell_type": "code",
   "execution_count": 194,
   "metadata": {},
   "outputs": [
    {
     "data": {
      "text/html": [
       "<div>\n",
       "<style scoped>\n",
       "    .dataframe tbody tr th:only-of-type {\n",
       "        vertical-align: middle;\n",
       "    }\n",
       "\n",
       "    .dataframe tbody tr th {\n",
       "        vertical-align: top;\n",
       "    }\n",
       "\n",
       "    .dataframe thead th {\n",
       "        text-align: right;\n",
       "    }\n",
       "</style>\n",
       "<table border=\"1\" class=\"dataframe\">\n",
       "  <thead>\n",
       "    <tr style=\"text-align: right;\">\n",
       "      <th></th>\n",
       "      <th>Year</th>\n",
       "      <th>Glob</th>\n",
       "      <th>NHem</th>\n",
       "      <th>SHem</th>\n",
       "      <th>24N-90N</th>\n",
       "      <th>...</th>\n",
       "      <th>EQU-24N</th>\n",
       "      <th>24S-EQU</th>\n",
       "      <th>44S-24S</th>\n",
       "      <th>64S-44S</th>\n",
       "      <th>90S-64S</th>\n",
       "    </tr>\n",
       "  </thead>\n",
       "  <tbody>\n",
       "    <tr>\n",
       "      <th>0</th>\n",
       "      <td>1880</td>\n",
       "      <td>-0.17</td>\n",
       "      <td>-0.30</td>\n",
       "      <td>-0.04</td>\n",
       "      <td>-0.39</td>\n",
       "      <td>...</td>\n",
       "      <td>-0.15</td>\n",
       "      <td>-0.09</td>\n",
       "      <td>-0.03</td>\n",
       "      <td>0.05</td>\n",
       "      <td>0.67</td>\n",
       "    </tr>\n",
       "    <tr>\n",
       "      <th>1</th>\n",
       "      <td>1881</td>\n",
       "      <td>-0.09</td>\n",
       "      <td>-0.19</td>\n",
       "      <td>0.01</td>\n",
       "      <td>-0.37</td>\n",
       "      <td>...</td>\n",
       "      <td>0.10</td>\n",
       "      <td>0.12</td>\n",
       "      <td>-0.04</td>\n",
       "      <td>-0.07</td>\n",
       "      <td>0.59</td>\n",
       "    </tr>\n",
       "    <tr>\n",
       "      <th>2</th>\n",
       "      <td>1882</td>\n",
       "      <td>-0.11</td>\n",
       "      <td>-0.23</td>\n",
       "      <td>0.00</td>\n",
       "      <td>-0.33</td>\n",
       "      <td>...</td>\n",
       "      <td>-0.05</td>\n",
       "      <td>-0.04</td>\n",
       "      <td>0.02</td>\n",
       "      <td>0.04</td>\n",
       "      <td>0.62</td>\n",
       "    </tr>\n",
       "    <tr>\n",
       "      <th>3</th>\n",
       "      <td>1883</td>\n",
       "      <td>-0.17</td>\n",
       "      <td>-0.29</td>\n",
       "      <td>-0.06</td>\n",
       "      <td>-0.36</td>\n",
       "      <td>...</td>\n",
       "      <td>-0.17</td>\n",
       "      <td>-0.14</td>\n",
       "      <td>-0.03</td>\n",
       "      <td>0.07</td>\n",
       "      <td>0.50</td>\n",
       "    </tr>\n",
       "    <tr>\n",
       "      <th>4</th>\n",
       "      <td>1884</td>\n",
       "      <td>-0.28</td>\n",
       "      <td>-0.44</td>\n",
       "      <td>-0.14</td>\n",
       "      <td>-0.62</td>\n",
       "      <td>...</td>\n",
       "      <td>-0.12</td>\n",
       "      <td>-0.16</td>\n",
       "      <td>-0.18</td>\n",
       "      <td>-0.02</td>\n",
       "      <td>0.65</td>\n",
       "    </tr>\n",
       "    <tr>\n",
       "      <th>...</th>\n",
       "      <td>...</td>\n",
       "      <td>...</td>\n",
       "      <td>...</td>\n",
       "      <td>...</td>\n",
       "      <td>...</td>\n",
       "      <td>...</td>\n",
       "      <td>...</td>\n",
       "      <td>...</td>\n",
       "      <td>...</td>\n",
       "      <td>...</td>\n",
       "      <td>...</td>\n",
       "    </tr>\n",
       "    <tr>\n",
       "      <th>138</th>\n",
       "      <td>2018</td>\n",
       "      <td>0.85</td>\n",
       "      <td>1.03</td>\n",
       "      <td>0.66</td>\n",
       "      <td>1.24</td>\n",
       "      <td>...</td>\n",
       "      <td>0.73</td>\n",
       "      <td>0.63</td>\n",
       "      <td>0.80</td>\n",
       "      <td>0.37</td>\n",
       "      <td>0.96</td>\n",
       "    </tr>\n",
       "    <tr>\n",
       "      <th>139</th>\n",
       "      <td>2019</td>\n",
       "      <td>0.98</td>\n",
       "      <td>1.21</td>\n",
       "      <td>0.75</td>\n",
       "      <td>1.42</td>\n",
       "      <td>...</td>\n",
       "      <td>0.90</td>\n",
       "      <td>0.89</td>\n",
       "      <td>0.75</td>\n",
       "      <td>0.39</td>\n",
       "      <td>0.85</td>\n",
       "    </tr>\n",
       "    <tr>\n",
       "      <th>140</th>\n",
       "      <td>2020</td>\n",
       "      <td>1.02</td>\n",
       "      <td>1.35</td>\n",
       "      <td>0.68</td>\n",
       "      <td>1.67</td>\n",
       "      <td>...</td>\n",
       "      <td>0.88</td>\n",
       "      <td>0.84</td>\n",
       "      <td>0.58</td>\n",
       "      <td>0.39</td>\n",
       "      <td>0.91</td>\n",
       "    </tr>\n",
       "    <tr>\n",
       "      <th>141</th>\n",
       "      <td>2021</td>\n",
       "      <td>0.85</td>\n",
       "      <td>1.14</td>\n",
       "      <td>0.56</td>\n",
       "      <td>1.42</td>\n",
       "      <td>...</td>\n",
       "      <td>0.72</td>\n",
       "      <td>0.59</td>\n",
       "      <td>0.72</td>\n",
       "      <td>0.32</td>\n",
       "      <td>0.31</td>\n",
       "    </tr>\n",
       "    <tr>\n",
       "      <th>142</th>\n",
       "      <td>2022</td>\n",
       "      <td>0.89</td>\n",
       "      <td>1.16</td>\n",
       "      <td>0.62</td>\n",
       "      <td>1.52</td>\n",
       "      <td>...</td>\n",
       "      <td>0.63</td>\n",
       "      <td>0.51</td>\n",
       "      <td>0.79</td>\n",
       "      <td>0.39</td>\n",
       "      <td>1.11</td>\n",
       "    </tr>\n",
       "  </tbody>\n",
       "</table>\n",
       "<p>143 rows × 15 columns</p>\n",
       "</div>"
      ],
      "text/plain": [
       "     Year  Glob  NHem  SHem  24N-90N  ...  EQU-24N  24S-EQU  44S-24S  64S-44S  \\\n",
       "0    1880 -0.17 -0.30 -0.04    -0.39  ...    -0.15    -0.09    -0.03     0.05   \n",
       "1    1881 -0.09 -0.19  0.01    -0.37  ...     0.10     0.12    -0.04    -0.07   \n",
       "2    1882 -0.11 -0.23  0.00    -0.33  ...    -0.05    -0.04     0.02     0.04   \n",
       "3    1883 -0.17 -0.29 -0.06    -0.36  ...    -0.17    -0.14    -0.03     0.07   \n",
       "4    1884 -0.28 -0.44 -0.14    -0.62  ...    -0.12    -0.16    -0.18    -0.02   \n",
       "..    ...   ...   ...   ...      ...  ...      ...      ...      ...      ...   \n",
       "138  2018  0.85  1.03  0.66     1.24  ...     0.73     0.63     0.80     0.37   \n",
       "139  2019  0.98  1.21  0.75     1.42  ...     0.90     0.89     0.75     0.39   \n",
       "140  2020  1.02  1.35  0.68     1.67  ...     0.88     0.84     0.58     0.39   \n",
       "141  2021  0.85  1.14  0.56     1.42  ...     0.72     0.59     0.72     0.32   \n",
       "142  2022  0.89  1.16  0.62     1.52  ...     0.63     0.51     0.79     0.39   \n",
       "\n",
       "     90S-64S  \n",
       "0       0.67  \n",
       "1       0.59  \n",
       "2       0.62  \n",
       "3       0.50  \n",
       "4       0.65  \n",
       "..       ...  \n",
       "138     0.96  \n",
       "139     0.85  \n",
       "140     0.91  \n",
       "141     0.31  \n",
       "142     1.11  \n",
       "\n",
       "[143 rows x 15 columns]"
      ]
     },
     "execution_count": 194,
     "metadata": {},
     "output_type": "execute_result"
    }
   ],
   "source": [
    "dat = dat.drop(['diff', 'NHem2', 'variable'], axis=1)\n",
    "dat"
   ]
  },
  {
   "attachments": {},
   "cell_type": "markdown",
   "metadata": {},
   "source": [
    "(dataframe-filtering)=\n",
    "## `DataFrame` filtering"
   ]
  },
  {
   "attachments": {},
   "cell_type": "markdown",
   "metadata": {},
   "source": [
    "(pandas-filtering-conditinal)=\n",
    "### Using conditional operators"
   ]
  },
  {
   "attachments": {},
   "cell_type": "markdown",
   "metadata": {},
   "source": [
    "Most often, instead of selecting rows by index or by position (see {ref}`dataframe-selecting-rows`), we want to *filter* rows by a condition that we apply on table values. For example, suppose that we want to get a subset of `dat` with all rows after the year `2017`. To do that, we can create a boolean `Series`, specifying which rows are to be retained:"
   ]
  },
  {
   "cell_type": "code",
   "execution_count": 195,
   "metadata": {},
   "outputs": [
    {
     "data": {
      "text/plain": [
       "0      False\n",
       "1      False\n",
       "2      False\n",
       "3      False\n",
       "4      False\n",
       "       ...  \n",
       "138     True\n",
       "139     True\n",
       "140     True\n",
       "141     True\n",
       "142     True\n",
       "Name: Year, Length: 143, dtype: bool"
      ]
     },
     "execution_count": 195,
     "metadata": {},
     "output_type": "execute_result"
    }
   ],
   "source": [
    "sel = dat['Year'] > 2017\n",
    "sel"
   ]
  },
  {
   "attachments": {},
   "cell_type": "markdown",
   "metadata": {},
   "source": [
    "Then, the boolean series can be passed as an *index* inside square brackets (`[`), to select those rows corresponding to `True`:"
   ]
  },
  {
   "cell_type": "code",
   "execution_count": 196,
   "metadata": {},
   "outputs": [
    {
     "data": {
      "text/html": [
       "<div>\n",
       "<style scoped>\n",
       "    .dataframe tbody tr th:only-of-type {\n",
       "        vertical-align: middle;\n",
       "    }\n",
       "\n",
       "    .dataframe tbody tr th {\n",
       "        vertical-align: top;\n",
       "    }\n",
       "\n",
       "    .dataframe thead th {\n",
       "        text-align: right;\n",
       "    }\n",
       "</style>\n",
       "<table border=\"1\" class=\"dataframe\">\n",
       "  <thead>\n",
       "    <tr style=\"text-align: right;\">\n",
       "      <th></th>\n",
       "      <th>Year</th>\n",
       "      <th>Glob</th>\n",
       "      <th>NHem</th>\n",
       "      <th>SHem</th>\n",
       "      <th>24N-90N</th>\n",
       "      <th>...</th>\n",
       "      <th>EQU-24N</th>\n",
       "      <th>24S-EQU</th>\n",
       "      <th>44S-24S</th>\n",
       "      <th>64S-44S</th>\n",
       "      <th>90S-64S</th>\n",
       "    </tr>\n",
       "  </thead>\n",
       "  <tbody>\n",
       "    <tr>\n",
       "      <th>138</th>\n",
       "      <td>2018</td>\n",
       "      <td>0.85</td>\n",
       "      <td>1.03</td>\n",
       "      <td>0.66</td>\n",
       "      <td>1.24</td>\n",
       "      <td>...</td>\n",
       "      <td>0.73</td>\n",
       "      <td>0.63</td>\n",
       "      <td>0.80</td>\n",
       "      <td>0.37</td>\n",
       "      <td>0.96</td>\n",
       "    </tr>\n",
       "    <tr>\n",
       "      <th>139</th>\n",
       "      <td>2019</td>\n",
       "      <td>0.98</td>\n",
       "      <td>1.21</td>\n",
       "      <td>0.75</td>\n",
       "      <td>1.42</td>\n",
       "      <td>...</td>\n",
       "      <td>0.90</td>\n",
       "      <td>0.89</td>\n",
       "      <td>0.75</td>\n",
       "      <td>0.39</td>\n",
       "      <td>0.85</td>\n",
       "    </tr>\n",
       "    <tr>\n",
       "      <th>140</th>\n",
       "      <td>2020</td>\n",
       "      <td>1.02</td>\n",
       "      <td>1.35</td>\n",
       "      <td>0.68</td>\n",
       "      <td>1.67</td>\n",
       "      <td>...</td>\n",
       "      <td>0.88</td>\n",
       "      <td>0.84</td>\n",
       "      <td>0.58</td>\n",
       "      <td>0.39</td>\n",
       "      <td>0.91</td>\n",
       "    </tr>\n",
       "    <tr>\n",
       "      <th>141</th>\n",
       "      <td>2021</td>\n",
       "      <td>0.85</td>\n",
       "      <td>1.14</td>\n",
       "      <td>0.56</td>\n",
       "      <td>1.42</td>\n",
       "      <td>...</td>\n",
       "      <td>0.72</td>\n",
       "      <td>0.59</td>\n",
       "      <td>0.72</td>\n",
       "      <td>0.32</td>\n",
       "      <td>0.31</td>\n",
       "    </tr>\n",
       "    <tr>\n",
       "      <th>142</th>\n",
       "      <td>2022</td>\n",
       "      <td>0.89</td>\n",
       "      <td>1.16</td>\n",
       "      <td>0.62</td>\n",
       "      <td>1.52</td>\n",
       "      <td>...</td>\n",
       "      <td>0.63</td>\n",
       "      <td>0.51</td>\n",
       "      <td>0.79</td>\n",
       "      <td>0.39</td>\n",
       "      <td>1.11</td>\n",
       "    </tr>\n",
       "  </tbody>\n",
       "</table>\n",
       "<p>5 rows × 15 columns</p>\n",
       "</div>"
      ],
      "text/plain": [
       "     Year  Glob  NHem  SHem  24N-90N  ...  EQU-24N  24S-EQU  44S-24S  64S-44S  \\\n",
       "138  2018  0.85  1.03  0.66     1.24  ...     0.73     0.63     0.80     0.37   \n",
       "139  2019  0.98  1.21  0.75     1.42  ...     0.90     0.89     0.75     0.39   \n",
       "140  2020  1.02  1.35  0.68     1.67  ...     0.88     0.84     0.58     0.39   \n",
       "141  2021  0.85  1.14  0.56     1.42  ...     0.72     0.59     0.72     0.32   \n",
       "142  2022  0.89  1.16  0.62     1.52  ...     0.63     0.51     0.79     0.39   \n",
       "\n",
       "     90S-64S  \n",
       "138     0.96  \n",
       "139     0.85  \n",
       "140     0.91  \n",
       "141     0.31  \n",
       "142     1.11  \n",
       "\n",
       "[5 rows x 15 columns]"
      ]
     },
     "execution_count": 196,
     "metadata": {},
     "output_type": "execute_result"
    }
   ],
   "source": [
    "dat[sel]"
   ]
  },
  {
   "attachments": {},
   "cell_type": "markdown",
   "metadata": {},
   "source": [
    "The same can be acheived in a single step, *without* storing the `Series` in a variable such as `sel`, as follows:"
   ]
  },
  {
   "cell_type": "code",
   "execution_count": 197,
   "metadata": {},
   "outputs": [
    {
     "data": {
      "text/html": [
       "<div>\n",
       "<style scoped>\n",
       "    .dataframe tbody tr th:only-of-type {\n",
       "        vertical-align: middle;\n",
       "    }\n",
       "\n",
       "    .dataframe tbody tr th {\n",
       "        vertical-align: top;\n",
       "    }\n",
       "\n",
       "    .dataframe thead th {\n",
       "        text-align: right;\n",
       "    }\n",
       "</style>\n",
       "<table border=\"1\" class=\"dataframe\">\n",
       "  <thead>\n",
       "    <tr style=\"text-align: right;\">\n",
       "      <th></th>\n",
       "      <th>Year</th>\n",
       "      <th>Glob</th>\n",
       "      <th>NHem</th>\n",
       "      <th>SHem</th>\n",
       "      <th>24N-90N</th>\n",
       "      <th>...</th>\n",
       "      <th>EQU-24N</th>\n",
       "      <th>24S-EQU</th>\n",
       "      <th>44S-24S</th>\n",
       "      <th>64S-44S</th>\n",
       "      <th>90S-64S</th>\n",
       "    </tr>\n",
       "  </thead>\n",
       "  <tbody>\n",
       "    <tr>\n",
       "      <th>138</th>\n",
       "      <td>2018</td>\n",
       "      <td>0.85</td>\n",
       "      <td>1.03</td>\n",
       "      <td>0.66</td>\n",
       "      <td>1.24</td>\n",
       "      <td>...</td>\n",
       "      <td>0.73</td>\n",
       "      <td>0.63</td>\n",
       "      <td>0.80</td>\n",
       "      <td>0.37</td>\n",
       "      <td>0.96</td>\n",
       "    </tr>\n",
       "    <tr>\n",
       "      <th>139</th>\n",
       "      <td>2019</td>\n",
       "      <td>0.98</td>\n",
       "      <td>1.21</td>\n",
       "      <td>0.75</td>\n",
       "      <td>1.42</td>\n",
       "      <td>...</td>\n",
       "      <td>0.90</td>\n",
       "      <td>0.89</td>\n",
       "      <td>0.75</td>\n",
       "      <td>0.39</td>\n",
       "      <td>0.85</td>\n",
       "    </tr>\n",
       "    <tr>\n",
       "      <th>140</th>\n",
       "      <td>2020</td>\n",
       "      <td>1.02</td>\n",
       "      <td>1.35</td>\n",
       "      <td>0.68</td>\n",
       "      <td>1.67</td>\n",
       "      <td>...</td>\n",
       "      <td>0.88</td>\n",
       "      <td>0.84</td>\n",
       "      <td>0.58</td>\n",
       "      <td>0.39</td>\n",
       "      <td>0.91</td>\n",
       "    </tr>\n",
       "    <tr>\n",
       "      <th>141</th>\n",
       "      <td>2021</td>\n",
       "      <td>0.85</td>\n",
       "      <td>1.14</td>\n",
       "      <td>0.56</td>\n",
       "      <td>1.42</td>\n",
       "      <td>...</td>\n",
       "      <td>0.72</td>\n",
       "      <td>0.59</td>\n",
       "      <td>0.72</td>\n",
       "      <td>0.32</td>\n",
       "      <td>0.31</td>\n",
       "    </tr>\n",
       "    <tr>\n",
       "      <th>142</th>\n",
       "      <td>2022</td>\n",
       "      <td>0.89</td>\n",
       "      <td>1.16</td>\n",
       "      <td>0.62</td>\n",
       "      <td>1.52</td>\n",
       "      <td>...</td>\n",
       "      <td>0.63</td>\n",
       "      <td>0.51</td>\n",
       "      <td>0.79</td>\n",
       "      <td>0.39</td>\n",
       "      <td>1.11</td>\n",
       "    </tr>\n",
       "  </tbody>\n",
       "</table>\n",
       "<p>5 rows × 15 columns</p>\n",
       "</div>"
      ],
      "text/plain": [
       "     Year  Glob  NHem  SHem  24N-90N  ...  EQU-24N  24S-EQU  44S-24S  64S-44S  \\\n",
       "138  2018  0.85  1.03  0.66     1.24  ...     0.73     0.63     0.80     0.37   \n",
       "139  2019  0.98  1.21  0.75     1.42  ...     0.90     0.89     0.75     0.39   \n",
       "140  2020  1.02  1.35  0.68     1.67  ...     0.88     0.84     0.58     0.39   \n",
       "141  2021  0.85  1.14  0.56     1.42  ...     0.72     0.59     0.72     0.32   \n",
       "142  2022  0.89  1.16  0.62     1.52  ...     0.63     0.51     0.79     0.39   \n",
       "\n",
       "     90S-64S  \n",
       "138     0.96  \n",
       "139     0.85  \n",
       "140     0.91  \n",
       "141     0.31  \n",
       "142     1.11  \n",
       "\n",
       "[5 rows x 15 columns]"
      ]
     },
     "execution_count": 197,
     "metadata": {},
     "output_type": "execute_result"
    }
   ],
   "source": [
    "dat[dat['Year'] > 2017]"
   ]
  },
  {
   "cell_type": "markdown",
   "metadata": {},
   "source": [
    "Here is an example with a more complex condition (note the parantheses!):"
   ]
  },
  {
   "cell_type": "code",
   "execution_count": 244,
   "metadata": {},
   "outputs": [
    {
     "data": {
      "text/html": [
       "<div>\n",
       "<style scoped>\n",
       "    .dataframe tbody tr th:only-of-type {\n",
       "        vertical-align: middle;\n",
       "    }\n",
       "\n",
       "    .dataframe tbody tr th {\n",
       "        vertical-align: top;\n",
       "    }\n",
       "\n",
       "    .dataframe thead th {\n",
       "        text-align: right;\n",
       "    }\n",
       "</style>\n",
       "<table border=\"1\" class=\"dataframe\">\n",
       "  <thead>\n",
       "    <tr style=\"text-align: right;\">\n",
       "      <th></th>\n",
       "      <th>Year</th>\n",
       "      <th>Glob</th>\n",
       "      <th>NHem</th>\n",
       "      <th>SHem</th>\n",
       "      <th>24N-90N</th>\n",
       "      <th>...</th>\n",
       "      <th>EQU-24N</th>\n",
       "      <th>24S-EQU</th>\n",
       "      <th>44S-24S</th>\n",
       "      <th>64S-44S</th>\n",
       "      <th>90S-64S</th>\n",
       "    </tr>\n",
       "  </thead>\n",
       "  <tbody>\n",
       "    <tr>\n",
       "      <th>138</th>\n",
       "      <td>2018</td>\n",
       "      <td>0.85</td>\n",
       "      <td>1.03</td>\n",
       "      <td>0.66</td>\n",
       "      <td>1.24</td>\n",
       "      <td>...</td>\n",
       "      <td>0.73</td>\n",
       "      <td>0.63</td>\n",
       "      <td>0.80</td>\n",
       "      <td>0.37</td>\n",
       "      <td>0.96</td>\n",
       "    </tr>\n",
       "    <tr>\n",
       "      <th>139</th>\n",
       "      <td>2019</td>\n",
       "      <td>0.98</td>\n",
       "      <td>1.21</td>\n",
       "      <td>0.75</td>\n",
       "      <td>1.42</td>\n",
       "      <td>...</td>\n",
       "      <td>0.90</td>\n",
       "      <td>0.89</td>\n",
       "      <td>0.75</td>\n",
       "      <td>0.39</td>\n",
       "      <td>0.85</td>\n",
       "    </tr>\n",
       "    <tr>\n",
       "      <th>140</th>\n",
       "      <td>2020</td>\n",
       "      <td>1.02</td>\n",
       "      <td>1.35</td>\n",
       "      <td>0.68</td>\n",
       "      <td>1.67</td>\n",
       "      <td>...</td>\n",
       "      <td>0.88</td>\n",
       "      <td>0.84</td>\n",
       "      <td>0.58</td>\n",
       "      <td>0.39</td>\n",
       "      <td>0.91</td>\n",
       "    </tr>\n",
       "  </tbody>\n",
       "</table>\n",
       "<p>3 rows × 15 columns</p>\n",
       "</div>"
      ],
      "text/plain": [
       "     Year  Glob  NHem  SHem  24N-90N  ...  EQU-24N  24S-EQU  44S-24S  64S-44S  \\\n",
       "138  2018  0.85  1.03  0.66     1.24  ...     0.73     0.63     0.80     0.37   \n",
       "139  2019  0.98  1.21  0.75     1.42  ...     0.90     0.89     0.75     0.39   \n",
       "140  2020  1.02  1.35  0.68     1.67  ...     0.88     0.84     0.58     0.39   \n",
       "\n",
       "     90S-64S  \n",
       "138     0.96  \n",
       "139     0.85  \n",
       "140     0.91  \n",
       "\n",
       "[3 rows x 15 columns]"
      ]
     },
     "execution_count": 244,
     "metadata": {},
     "output_type": "execute_result"
    }
   ],
   "source": [
    "dat[(dat['Year'] > 2017) & (dat['Year'] <= 2020)]"
   ]
  },
  {
   "attachments": {},
   "cell_type": "markdown",
   "metadata": {},
   "source": [
    "```{admonition} Exercise 05-e\n",
    ":class: important\n",
    "* Create a subset of `dat` with all rows where the global temperature anomaly (`'Glob'`) was above `1` degree.\n",
    "```"
   ]
  },
  {
   "attachments": {},
   "cell_type": "markdown",
   "metadata": {},
   "source": [
    "(pandas-using-isin)=\n",
    "### Using `.isin`"
   ]
  },
  {
   "attachments": {},
   "cell_type": "markdown",
   "metadata": {},
   "source": [
    "Sometimes, the condition we are interested in is not a comparison against an individual value (such as `>2017`, see {ref}`pandas-filtering-conditinal`), but multiple values. For example, suppose we want to extract the rows corresponding to the years `2008`, `2012`, and `2016`, in `dat`. One way is to compose a combined condition using `|`, using the `numpy` syntax we are familiar with (see {ref}`numpy-conditional-operators`). Again, recall that we must enclose each internal expression in breackets `(` so that it is evaluated before `|`:"
   ]
  },
  {
   "cell_type": "code",
   "execution_count": 198,
   "metadata": {},
   "outputs": [
    {
     "data": {
      "text/html": [
       "<div>\n",
       "<style scoped>\n",
       "    .dataframe tbody tr th:only-of-type {\n",
       "        vertical-align: middle;\n",
       "    }\n",
       "\n",
       "    .dataframe tbody tr th {\n",
       "        vertical-align: top;\n",
       "    }\n",
       "\n",
       "    .dataframe thead th {\n",
       "        text-align: right;\n",
       "    }\n",
       "</style>\n",
       "<table border=\"1\" class=\"dataframe\">\n",
       "  <thead>\n",
       "    <tr style=\"text-align: right;\">\n",
       "      <th></th>\n",
       "      <th>Year</th>\n",
       "      <th>Glob</th>\n",
       "      <th>NHem</th>\n",
       "      <th>SHem</th>\n",
       "      <th>24N-90N</th>\n",
       "      <th>...</th>\n",
       "      <th>EQU-24N</th>\n",
       "      <th>24S-EQU</th>\n",
       "      <th>44S-24S</th>\n",
       "      <th>64S-44S</th>\n",
       "      <th>90S-64S</th>\n",
       "    </tr>\n",
       "  </thead>\n",
       "  <tbody>\n",
       "    <tr>\n",
       "      <th>128</th>\n",
       "      <td>2008</td>\n",
       "      <td>0.54</td>\n",
       "      <td>0.68</td>\n",
       "      <td>0.41</td>\n",
       "      <td>0.91</td>\n",
       "      <td>...</td>\n",
       "      <td>0.33</td>\n",
       "      <td>0.42</td>\n",
       "      <td>0.53</td>\n",
       "      <td>0.09</td>\n",
       "      <td>0.60</td>\n",
       "    </tr>\n",
       "    <tr>\n",
       "      <th>132</th>\n",
       "      <td>2012</td>\n",
       "      <td>0.65</td>\n",
       "      <td>0.81</td>\n",
       "      <td>0.49</td>\n",
       "      <td>1.04</td>\n",
       "      <td>...</td>\n",
       "      <td>0.48</td>\n",
       "      <td>0.58</td>\n",
       "      <td>0.56</td>\n",
       "      <td>0.19</td>\n",
       "      <td>0.43</td>\n",
       "    </tr>\n",
       "    <tr>\n",
       "      <th>136</th>\n",
       "      <td>2016</td>\n",
       "      <td>1.02</td>\n",
       "      <td>1.31</td>\n",
       "      <td>0.73</td>\n",
       "      <td>1.54</td>\n",
       "      <td>...</td>\n",
       "      <td>0.96</td>\n",
       "      <td>1.07</td>\n",
       "      <td>0.67</td>\n",
       "      <td>0.26</td>\n",
       "      <td>0.40</td>\n",
       "    </tr>\n",
       "  </tbody>\n",
       "</table>\n",
       "<p>3 rows × 15 columns</p>\n",
       "</div>"
      ],
      "text/plain": [
       "     Year  Glob  NHem  SHem  24N-90N  ...  EQU-24N  24S-EQU  44S-24S  64S-44S  \\\n",
       "128  2008  0.54  0.68  0.41     0.91  ...     0.33     0.42     0.53     0.09   \n",
       "132  2012  0.65  0.81  0.49     1.04  ...     0.48     0.58     0.56     0.19   \n",
       "136  2016  1.02  1.31  0.73     1.54  ...     0.96     1.07     0.67     0.26   \n",
       "\n",
       "     90S-64S  \n",
       "128     0.60  \n",
       "132     0.43  \n",
       "136     0.40  \n",
       "\n",
       "[3 rows x 15 columns]"
      ]
     },
     "execution_count": 198,
     "metadata": {},
     "output_type": "execute_result"
    }
   ],
   "source": [
    "sel = (dat['Year'] == 2008) | (dat['Year'] == 2012) | (dat['Year'] == 2016)\n",
    "dat[sel]"
   ]
  },
  {
   "attachments": {},
   "cell_type": "markdown",
   "metadata": {},
   "source": [
    "As you can imagine, this method quickly becomes unfeasible if the number of items becomes large. Instead, we can use the `.isin` method, combined with a `list` of items to compare with the `Series` values:"
   ]
  },
  {
   "cell_type": "code",
   "execution_count": 199,
   "metadata": {},
   "outputs": [
    {
     "data": {
      "text/html": [
       "<div>\n",
       "<style scoped>\n",
       "    .dataframe tbody tr th:only-of-type {\n",
       "        vertical-align: middle;\n",
       "    }\n",
       "\n",
       "    .dataframe tbody tr th {\n",
       "        vertical-align: top;\n",
       "    }\n",
       "\n",
       "    .dataframe thead th {\n",
       "        text-align: right;\n",
       "    }\n",
       "</style>\n",
       "<table border=\"1\" class=\"dataframe\">\n",
       "  <thead>\n",
       "    <tr style=\"text-align: right;\">\n",
       "      <th></th>\n",
       "      <th>Year</th>\n",
       "      <th>Glob</th>\n",
       "      <th>NHem</th>\n",
       "      <th>SHem</th>\n",
       "      <th>24N-90N</th>\n",
       "      <th>...</th>\n",
       "      <th>EQU-24N</th>\n",
       "      <th>24S-EQU</th>\n",
       "      <th>44S-24S</th>\n",
       "      <th>64S-44S</th>\n",
       "      <th>90S-64S</th>\n",
       "    </tr>\n",
       "  </thead>\n",
       "  <tbody>\n",
       "    <tr>\n",
       "      <th>128</th>\n",
       "      <td>2008</td>\n",
       "      <td>0.54</td>\n",
       "      <td>0.68</td>\n",
       "      <td>0.41</td>\n",
       "      <td>0.91</td>\n",
       "      <td>...</td>\n",
       "      <td>0.33</td>\n",
       "      <td>0.42</td>\n",
       "      <td>0.53</td>\n",
       "      <td>0.09</td>\n",
       "      <td>0.60</td>\n",
       "    </tr>\n",
       "    <tr>\n",
       "      <th>132</th>\n",
       "      <td>2012</td>\n",
       "      <td>0.65</td>\n",
       "      <td>0.81</td>\n",
       "      <td>0.49</td>\n",
       "      <td>1.04</td>\n",
       "      <td>...</td>\n",
       "      <td>0.48</td>\n",
       "      <td>0.58</td>\n",
       "      <td>0.56</td>\n",
       "      <td>0.19</td>\n",
       "      <td>0.43</td>\n",
       "    </tr>\n",
       "    <tr>\n",
       "      <th>136</th>\n",
       "      <td>2016</td>\n",
       "      <td>1.02</td>\n",
       "      <td>1.31</td>\n",
       "      <td>0.73</td>\n",
       "      <td>1.54</td>\n",
       "      <td>...</td>\n",
       "      <td>0.96</td>\n",
       "      <td>1.07</td>\n",
       "      <td>0.67</td>\n",
       "      <td>0.26</td>\n",
       "      <td>0.40</td>\n",
       "    </tr>\n",
       "  </tbody>\n",
       "</table>\n",
       "<p>3 rows × 15 columns</p>\n",
       "</div>"
      ],
      "text/plain": [
       "     Year  Glob  NHem  SHem  24N-90N  ...  EQU-24N  24S-EQU  44S-24S  64S-44S  \\\n",
       "128  2008  0.54  0.68  0.41     0.91  ...     0.33     0.42     0.53     0.09   \n",
       "132  2012  0.65  0.81  0.49     1.04  ...     0.48     0.58     0.56     0.19   \n",
       "136  2016  1.02  1.31  0.73     1.54  ...     0.96     1.07     0.67     0.26   \n",
       "\n",
       "     90S-64S  \n",
       "128     0.60  \n",
       "132     0.43  \n",
       "136     0.40  \n",
       "\n",
       "[3 rows x 15 columns]"
      ]
     },
     "execution_count": 199,
     "metadata": {},
     "output_type": "execute_result"
    }
   ],
   "source": [
    "sel = dat['Year'].isin([2008, 2012, 2016])\n",
    "dat[sel]"
   ]
  },
  {
   "attachments": {},
   "cell_type": "markdown",
   "metadata": {},
   "source": [
    "Recall the `in` operator which we learned about earlier (see {ref}`the-in-operator`). The `in` operator is analogous to the `.isin` method, but intended for lists."
   ]
  },
  {
   "attachments": {},
   "cell_type": "markdown",
   "metadata": {},
   "source": [
    "```{admonition} Exercise 05-f\n",
    ":class: important\n",
    "* What do you think is the meaning of `dat[~sel]`? Try it to check your answer.\n",
    "```"
   ]
  },
  {
   "attachments": {},
   "cell_type": "markdown",
   "metadata": {},
   "source": [
    "### Assignment to subsets"
   ]
  },
  {
   "attachments": {},
   "cell_type": "markdown",
   "metadata": {},
   "source": [
    "When assigning to subsets of a column, we need to use the `.loc` method. Typically we combine:\n",
    "\n",
    "* A boolean `Series` in the *rows* index, to select the observations we want to modify\n",
    "* A single `string` in the *columns* index, to select the variable we want to modify"
   ]
  },
  {
   "attachments": {},
   "cell_type": "markdown",
   "metadata": {},
   "source": [
    "For example, the following expression sets the `'NHem'` column value to `12.3` in all years after 2017:"
   ]
  },
  {
   "cell_type": "code",
   "execution_count": 200,
   "metadata": {},
   "outputs": [
    {
     "data": {
      "text/html": [
       "<div>\n",
       "<style scoped>\n",
       "    .dataframe tbody tr th:only-of-type {\n",
       "        vertical-align: middle;\n",
       "    }\n",
       "\n",
       "    .dataframe tbody tr th {\n",
       "        vertical-align: top;\n",
       "    }\n",
       "\n",
       "    .dataframe thead th {\n",
       "        text-align: right;\n",
       "    }\n",
       "</style>\n",
       "<table border=\"1\" class=\"dataframe\">\n",
       "  <thead>\n",
       "    <tr style=\"text-align: right;\">\n",
       "      <th></th>\n",
       "      <th>Year</th>\n",
       "      <th>Glob</th>\n",
       "      <th>NHem</th>\n",
       "      <th>SHem</th>\n",
       "      <th>24N-90N</th>\n",
       "      <th>...</th>\n",
       "      <th>EQU-24N</th>\n",
       "      <th>24S-EQU</th>\n",
       "      <th>44S-24S</th>\n",
       "      <th>64S-44S</th>\n",
       "      <th>90S-64S</th>\n",
       "    </tr>\n",
       "  </thead>\n",
       "  <tbody>\n",
       "    <tr>\n",
       "      <th>0</th>\n",
       "      <td>1880</td>\n",
       "      <td>-0.17</td>\n",
       "      <td>-0.30</td>\n",
       "      <td>-0.04</td>\n",
       "      <td>-0.39</td>\n",
       "      <td>...</td>\n",
       "      <td>-0.15</td>\n",
       "      <td>-0.09</td>\n",
       "      <td>-0.03</td>\n",
       "      <td>0.05</td>\n",
       "      <td>0.67</td>\n",
       "    </tr>\n",
       "    <tr>\n",
       "      <th>1</th>\n",
       "      <td>1881</td>\n",
       "      <td>-0.09</td>\n",
       "      <td>-0.19</td>\n",
       "      <td>0.01</td>\n",
       "      <td>-0.37</td>\n",
       "      <td>...</td>\n",
       "      <td>0.10</td>\n",
       "      <td>0.12</td>\n",
       "      <td>-0.04</td>\n",
       "      <td>-0.07</td>\n",
       "      <td>0.59</td>\n",
       "    </tr>\n",
       "    <tr>\n",
       "      <th>2</th>\n",
       "      <td>1882</td>\n",
       "      <td>-0.11</td>\n",
       "      <td>-0.23</td>\n",
       "      <td>0.00</td>\n",
       "      <td>-0.33</td>\n",
       "      <td>...</td>\n",
       "      <td>-0.05</td>\n",
       "      <td>-0.04</td>\n",
       "      <td>0.02</td>\n",
       "      <td>0.04</td>\n",
       "      <td>0.62</td>\n",
       "    </tr>\n",
       "    <tr>\n",
       "      <th>3</th>\n",
       "      <td>1883</td>\n",
       "      <td>-0.17</td>\n",
       "      <td>-0.29</td>\n",
       "      <td>-0.06</td>\n",
       "      <td>-0.36</td>\n",
       "      <td>...</td>\n",
       "      <td>-0.17</td>\n",
       "      <td>-0.14</td>\n",
       "      <td>-0.03</td>\n",
       "      <td>0.07</td>\n",
       "      <td>0.50</td>\n",
       "    </tr>\n",
       "    <tr>\n",
       "      <th>4</th>\n",
       "      <td>1884</td>\n",
       "      <td>-0.28</td>\n",
       "      <td>-0.44</td>\n",
       "      <td>-0.14</td>\n",
       "      <td>-0.62</td>\n",
       "      <td>...</td>\n",
       "      <td>-0.12</td>\n",
       "      <td>-0.16</td>\n",
       "      <td>-0.18</td>\n",
       "      <td>-0.02</td>\n",
       "      <td>0.65</td>\n",
       "    </tr>\n",
       "    <tr>\n",
       "      <th>...</th>\n",
       "      <td>...</td>\n",
       "      <td>...</td>\n",
       "      <td>...</td>\n",
       "      <td>...</td>\n",
       "      <td>...</td>\n",
       "      <td>...</td>\n",
       "      <td>...</td>\n",
       "      <td>...</td>\n",
       "      <td>...</td>\n",
       "      <td>...</td>\n",
       "      <td>...</td>\n",
       "    </tr>\n",
       "    <tr>\n",
       "      <th>138</th>\n",
       "      <td>2018</td>\n",
       "      <td>0.85</td>\n",
       "      <td>999.00</td>\n",
       "      <td>0.66</td>\n",
       "      <td>1.24</td>\n",
       "      <td>...</td>\n",
       "      <td>0.73</td>\n",
       "      <td>0.63</td>\n",
       "      <td>0.80</td>\n",
       "      <td>0.37</td>\n",
       "      <td>0.96</td>\n",
       "    </tr>\n",
       "    <tr>\n",
       "      <th>139</th>\n",
       "      <td>2019</td>\n",
       "      <td>0.98</td>\n",
       "      <td>999.00</td>\n",
       "      <td>0.75</td>\n",
       "      <td>1.42</td>\n",
       "      <td>...</td>\n",
       "      <td>0.90</td>\n",
       "      <td>0.89</td>\n",
       "      <td>0.75</td>\n",
       "      <td>0.39</td>\n",
       "      <td>0.85</td>\n",
       "    </tr>\n",
       "    <tr>\n",
       "      <th>140</th>\n",
       "      <td>2020</td>\n",
       "      <td>1.02</td>\n",
       "      <td>999.00</td>\n",
       "      <td>0.68</td>\n",
       "      <td>1.67</td>\n",
       "      <td>...</td>\n",
       "      <td>0.88</td>\n",
       "      <td>0.84</td>\n",
       "      <td>0.58</td>\n",
       "      <td>0.39</td>\n",
       "      <td>0.91</td>\n",
       "    </tr>\n",
       "    <tr>\n",
       "      <th>141</th>\n",
       "      <td>2021</td>\n",
       "      <td>0.85</td>\n",
       "      <td>999.00</td>\n",
       "      <td>0.56</td>\n",
       "      <td>1.42</td>\n",
       "      <td>...</td>\n",
       "      <td>0.72</td>\n",
       "      <td>0.59</td>\n",
       "      <td>0.72</td>\n",
       "      <td>0.32</td>\n",
       "      <td>0.31</td>\n",
       "    </tr>\n",
       "    <tr>\n",
       "      <th>142</th>\n",
       "      <td>2022</td>\n",
       "      <td>0.89</td>\n",
       "      <td>999.00</td>\n",
       "      <td>0.62</td>\n",
       "      <td>1.52</td>\n",
       "      <td>...</td>\n",
       "      <td>0.63</td>\n",
       "      <td>0.51</td>\n",
       "      <td>0.79</td>\n",
       "      <td>0.39</td>\n",
       "      <td>1.11</td>\n",
       "    </tr>\n",
       "  </tbody>\n",
       "</table>\n",
       "<p>143 rows × 15 columns</p>\n",
       "</div>"
      ],
      "text/plain": [
       "     Year  Glob    NHem  SHem  24N-90N  ...  EQU-24N  24S-EQU  44S-24S  \\\n",
       "0    1880 -0.17   -0.30 -0.04    -0.39  ...    -0.15    -0.09    -0.03   \n",
       "1    1881 -0.09   -0.19  0.01    -0.37  ...     0.10     0.12    -0.04   \n",
       "2    1882 -0.11   -0.23  0.00    -0.33  ...    -0.05    -0.04     0.02   \n",
       "3    1883 -0.17   -0.29 -0.06    -0.36  ...    -0.17    -0.14    -0.03   \n",
       "4    1884 -0.28   -0.44 -0.14    -0.62  ...    -0.12    -0.16    -0.18   \n",
       "..    ...   ...     ...   ...      ...  ...      ...      ...      ...   \n",
       "138  2018  0.85  999.00  0.66     1.24  ...     0.73     0.63     0.80   \n",
       "139  2019  0.98  999.00  0.75     1.42  ...     0.90     0.89     0.75   \n",
       "140  2020  1.02  999.00  0.68     1.67  ...     0.88     0.84     0.58   \n",
       "141  2021  0.85  999.00  0.56     1.42  ...     0.72     0.59     0.72   \n",
       "142  2022  0.89  999.00  0.62     1.52  ...     0.63     0.51     0.79   \n",
       "\n",
       "     64S-44S  90S-64S  \n",
       "0       0.05     0.67  \n",
       "1      -0.07     0.59  \n",
       "2       0.04     0.62  \n",
       "3       0.07     0.50  \n",
       "4      -0.02     0.65  \n",
       "..       ...      ...  \n",
       "138     0.37     0.96  \n",
       "139     0.39     0.85  \n",
       "140     0.39     0.91  \n",
       "141     0.32     0.31  \n",
       "142     0.39     1.11  \n",
       "\n",
       "[143 rows x 15 columns]"
      ]
     },
     "execution_count": 200,
     "metadata": {},
     "output_type": "execute_result"
    }
   ],
   "source": [
    "dat.loc[dat['Year'] > 2017, 'NHem'] = 999\n",
    "dat"
   ]
  },
  {
   "attachments": {},
   "cell_type": "markdown",
   "metadata": {},
   "source": [
    "To get back to the original values, let us read the CSV file once again:"
   ]
  },
  {
   "cell_type": "code",
   "execution_count": 201,
   "metadata": {},
   "outputs": [
    {
     "data": {
      "text/html": [
       "<div>\n",
       "<style scoped>\n",
       "    .dataframe tbody tr th:only-of-type {\n",
       "        vertical-align: middle;\n",
       "    }\n",
       "\n",
       "    .dataframe tbody tr th {\n",
       "        vertical-align: top;\n",
       "    }\n",
       "\n",
       "    .dataframe thead th {\n",
       "        text-align: right;\n",
       "    }\n",
       "</style>\n",
       "<table border=\"1\" class=\"dataframe\">\n",
       "  <thead>\n",
       "    <tr style=\"text-align: right;\">\n",
       "      <th></th>\n",
       "      <th>Year</th>\n",
       "      <th>Glob</th>\n",
       "      <th>NHem</th>\n",
       "      <th>SHem</th>\n",
       "      <th>24N-90N</th>\n",
       "      <th>...</th>\n",
       "      <th>EQU-24N</th>\n",
       "      <th>24S-EQU</th>\n",
       "      <th>44S-24S</th>\n",
       "      <th>64S-44S</th>\n",
       "      <th>90S-64S</th>\n",
       "    </tr>\n",
       "  </thead>\n",
       "  <tbody>\n",
       "    <tr>\n",
       "      <th>0</th>\n",
       "      <td>1880</td>\n",
       "      <td>-0.17</td>\n",
       "      <td>-0.30</td>\n",
       "      <td>-0.04</td>\n",
       "      <td>-0.39</td>\n",
       "      <td>...</td>\n",
       "      <td>-0.15</td>\n",
       "      <td>-0.09</td>\n",
       "      <td>-0.03</td>\n",
       "      <td>0.05</td>\n",
       "      <td>0.67</td>\n",
       "    </tr>\n",
       "    <tr>\n",
       "      <th>1</th>\n",
       "      <td>1881</td>\n",
       "      <td>-0.09</td>\n",
       "      <td>-0.19</td>\n",
       "      <td>0.01</td>\n",
       "      <td>-0.37</td>\n",
       "      <td>...</td>\n",
       "      <td>0.10</td>\n",
       "      <td>0.12</td>\n",
       "      <td>-0.04</td>\n",
       "      <td>-0.07</td>\n",
       "      <td>0.59</td>\n",
       "    </tr>\n",
       "    <tr>\n",
       "      <th>2</th>\n",
       "      <td>1882</td>\n",
       "      <td>-0.11</td>\n",
       "      <td>-0.23</td>\n",
       "      <td>0.00</td>\n",
       "      <td>-0.33</td>\n",
       "      <td>...</td>\n",
       "      <td>-0.05</td>\n",
       "      <td>-0.04</td>\n",
       "      <td>0.02</td>\n",
       "      <td>0.04</td>\n",
       "      <td>0.62</td>\n",
       "    </tr>\n",
       "    <tr>\n",
       "      <th>3</th>\n",
       "      <td>1883</td>\n",
       "      <td>-0.17</td>\n",
       "      <td>-0.29</td>\n",
       "      <td>-0.06</td>\n",
       "      <td>-0.36</td>\n",
       "      <td>...</td>\n",
       "      <td>-0.17</td>\n",
       "      <td>-0.14</td>\n",
       "      <td>-0.03</td>\n",
       "      <td>0.07</td>\n",
       "      <td>0.50</td>\n",
       "    </tr>\n",
       "    <tr>\n",
       "      <th>4</th>\n",
       "      <td>1884</td>\n",
       "      <td>-0.28</td>\n",
       "      <td>-0.44</td>\n",
       "      <td>-0.14</td>\n",
       "      <td>-0.62</td>\n",
       "      <td>...</td>\n",
       "      <td>-0.12</td>\n",
       "      <td>-0.16</td>\n",
       "      <td>-0.18</td>\n",
       "      <td>-0.02</td>\n",
       "      <td>0.65</td>\n",
       "    </tr>\n",
       "    <tr>\n",
       "      <th>...</th>\n",
       "      <td>...</td>\n",
       "      <td>...</td>\n",
       "      <td>...</td>\n",
       "      <td>...</td>\n",
       "      <td>...</td>\n",
       "      <td>...</td>\n",
       "      <td>...</td>\n",
       "      <td>...</td>\n",
       "      <td>...</td>\n",
       "      <td>...</td>\n",
       "      <td>...</td>\n",
       "    </tr>\n",
       "    <tr>\n",
       "      <th>138</th>\n",
       "      <td>2018</td>\n",
       "      <td>0.85</td>\n",
       "      <td>1.03</td>\n",
       "      <td>0.66</td>\n",
       "      <td>1.24</td>\n",
       "      <td>...</td>\n",
       "      <td>0.73</td>\n",
       "      <td>0.63</td>\n",
       "      <td>0.80</td>\n",
       "      <td>0.37</td>\n",
       "      <td>0.96</td>\n",
       "    </tr>\n",
       "    <tr>\n",
       "      <th>139</th>\n",
       "      <td>2019</td>\n",
       "      <td>0.98</td>\n",
       "      <td>1.21</td>\n",
       "      <td>0.75</td>\n",
       "      <td>1.42</td>\n",
       "      <td>...</td>\n",
       "      <td>0.90</td>\n",
       "      <td>0.89</td>\n",
       "      <td>0.75</td>\n",
       "      <td>0.39</td>\n",
       "      <td>0.85</td>\n",
       "    </tr>\n",
       "    <tr>\n",
       "      <th>140</th>\n",
       "      <td>2020</td>\n",
       "      <td>1.02</td>\n",
       "      <td>1.35</td>\n",
       "      <td>0.68</td>\n",
       "      <td>1.67</td>\n",
       "      <td>...</td>\n",
       "      <td>0.88</td>\n",
       "      <td>0.84</td>\n",
       "      <td>0.58</td>\n",
       "      <td>0.39</td>\n",
       "      <td>0.91</td>\n",
       "    </tr>\n",
       "    <tr>\n",
       "      <th>141</th>\n",
       "      <td>2021</td>\n",
       "      <td>0.85</td>\n",
       "      <td>1.14</td>\n",
       "      <td>0.56</td>\n",
       "      <td>1.42</td>\n",
       "      <td>...</td>\n",
       "      <td>0.72</td>\n",
       "      <td>0.59</td>\n",
       "      <td>0.72</td>\n",
       "      <td>0.32</td>\n",
       "      <td>0.31</td>\n",
       "    </tr>\n",
       "    <tr>\n",
       "      <th>142</th>\n",
       "      <td>2022</td>\n",
       "      <td>0.89</td>\n",
       "      <td>1.16</td>\n",
       "      <td>0.62</td>\n",
       "      <td>1.52</td>\n",
       "      <td>...</td>\n",
       "      <td>0.63</td>\n",
       "      <td>0.51</td>\n",
       "      <td>0.79</td>\n",
       "      <td>0.39</td>\n",
       "      <td>1.11</td>\n",
       "    </tr>\n",
       "  </tbody>\n",
       "</table>\n",
       "<p>143 rows × 15 columns</p>\n",
       "</div>"
      ],
      "text/plain": [
       "     Year  Glob  NHem  SHem  24N-90N  ...  EQU-24N  24S-EQU  44S-24S  64S-44S  \\\n",
       "0    1880 -0.17 -0.30 -0.04    -0.39  ...    -0.15    -0.09    -0.03     0.05   \n",
       "1    1881 -0.09 -0.19  0.01    -0.37  ...     0.10     0.12    -0.04    -0.07   \n",
       "2    1882 -0.11 -0.23  0.00    -0.33  ...    -0.05    -0.04     0.02     0.04   \n",
       "3    1883 -0.17 -0.29 -0.06    -0.36  ...    -0.17    -0.14    -0.03     0.07   \n",
       "4    1884 -0.28 -0.44 -0.14    -0.62  ...    -0.12    -0.16    -0.18    -0.02   \n",
       "..    ...   ...   ...   ...      ...  ...      ...      ...      ...      ...   \n",
       "138  2018  0.85  1.03  0.66     1.24  ...     0.73     0.63     0.80     0.37   \n",
       "139  2019  0.98  1.21  0.75     1.42  ...     0.90     0.89     0.75     0.39   \n",
       "140  2020  1.02  1.35  0.68     1.67  ...     0.88     0.84     0.58     0.39   \n",
       "141  2021  0.85  1.14  0.56     1.42  ...     0.72     0.59     0.72     0.32   \n",
       "142  2022  0.89  1.16  0.62     1.52  ...     0.63     0.51     0.79     0.39   \n",
       "\n",
       "     90S-64S  \n",
       "0       0.67  \n",
       "1       0.59  \n",
       "2       0.62  \n",
       "3       0.50  \n",
       "4       0.65  \n",
       "..       ...  \n",
       "138     0.96  \n",
       "139     0.85  \n",
       "140     0.91  \n",
       "141     0.31  \n",
       "142     1.11  \n",
       "\n",
       "[143 rows x 15 columns]"
      ]
     },
     "execution_count": 201,
     "metadata": {},
     "output_type": "execute_result"
    }
   ],
   "source": [
    "dat = pd.read_csv('data/ZonAnn.Ts+dSST.csv')\n",
    "dat"
   ]
  },
  {
   "attachments": {},
   "cell_type": "markdown",
   "metadata": {},
   "source": [
    "(pandas-missing-data)=\n",
    "## Working with missing data (`pandas`)"
   ]
  },
  {
   "attachments": {},
   "cell_type": "markdown",
   "metadata": {},
   "source": [
    "### Missing data in `pandas`"
   ]
  },
  {
   "attachments": {},
   "cell_type": "markdown",
   "metadata": {},
   "source": [
    "Missing values, denoting that the true value is unknown, are an inevitable feature of real-world data. In plain-text formats, such as CSV, missing values are commonly just \"missing\", i.e., left blank, or marked with a labels such as the text `'NA'`. "
   ]
  },
  {
   "attachments": {},
   "cell_type": "markdown",
   "metadata": {},
   "source": [
    "Treatment of \"No Data\" values in `Series` and `DataFrame`s is derived from the underlying behavior in `numpy` ({ref}`numpy-nodata`), as `pandas` is based on `numpy`. Namely, \"No Data\" values are typically represented using `np.nan`."
   ]
  },
  {
   "attachments": {},
   "cell_type": "markdown",
   "metadata": {},
   "source": [
    "`pandas` may automatically transform the `Series` data type, and \"No Data\" representation, for optimized data storage. For example, a `Series` of type `int` which contains one or more `np.nan` value, is automatically transformed to `float`, similarly to the behaviour we have seen with `numpy` array ({ref}`numpy-nodata`):"
   ]
  },
  {
   "cell_type": "code",
   "execution_count": 202,
   "metadata": {},
   "outputs": [
    {
     "data": {
      "text/plain": [
       "0    7\n",
       "1    4\n",
       "2    3\n",
       "dtype: int64"
      ]
     },
     "execution_count": 202,
     "metadata": {},
     "output_type": "execute_result"
    }
   ],
   "source": [
    "pd.Series([7, 4, 3])"
   ]
  },
  {
   "cell_type": "code",
   "execution_count": 203,
   "metadata": {},
   "outputs": [
    {
     "data": {
      "text/plain": [
       "0    7.0\n",
       "1    NaN\n",
       "2    3.0\n",
       "dtype: float64"
      ]
     },
     "execution_count": 203,
     "metadata": {},
     "output_type": "execute_result"
    }
   ],
   "source": [
    "pd.Series([7, np.nan, 3])"
   ]
  },
  {
   "attachments": {},
   "cell_type": "markdown",
   "metadata": {},
   "source": [
    "Moreover, `None` values are automatically transformed to `np.nan` (unlike `numpy`, where `None` values are preserved, resulting in an `object` array):"
   ]
  },
  {
   "cell_type": "code",
   "execution_count": 204,
   "metadata": {},
   "outputs": [
    {
     "data": {
      "text/plain": [
       "0    7.0\n",
       "1    NaN\n",
       "2    3.0\n",
       "dtype: float64"
      ]
     },
     "execution_count": 204,
     "metadata": {},
     "output_type": "execute_result"
    }
   ],
   "source": [
    "pd.Series([7, None, 3])"
   ]
  },
  {
   "attachments": {},
   "cell_type": "markdown",
   "metadata": {},
   "source": [
    "\"No Data\" values are automatically assigned where necessary when creating a `Series` or a `DataFrame` through other methods too. For example, empty cells in a CSV file are assigned with `np.nan` when importing the CSV into a `DataFrame` (see {ref}`pandas-reading-from-file`). "
   ]
  },
  {
   "attachments": {},
   "cell_type": "markdown",
   "metadata": {},
   "source": [
    "The `trees.csv` file contains the locations, and other details, about trees in Beer-Sheva: \n",
    "\n",
    "* `'plate_num'`---The tree ID\n",
    "* `'tree_speci'`---The tree species\n",
    "* `'street_nam'`, `'neighborho'`---Street and neighborhood name, respectively\n",
    "* `'itm_x'`, `'itm_y'`---x- and y-coordinates in ITM, respectively \n",
    "* `'lon'`, `'lat'`---longitude and latitude, respectively "
   ]
  },
  {
   "attachments": {},
   "cell_type": "markdown",
   "metadata": {},
   "source": [
    "If you open the CSV file in a spreadsheet program (such as Excel), you will see that some of the cells are empty. Those cells are assigned with `np.nan` when importing the table:"
   ]
  },
  {
   "cell_type": "code",
   "execution_count": 205,
   "metadata": {},
   "outputs": [
    {
     "data": {
      "text/html": [
       "<div>\n",
       "<style scoped>\n",
       "    .dataframe tbody tr th:only-of-type {\n",
       "        vertical-align: middle;\n",
       "    }\n",
       "\n",
       "    .dataframe tbody tr th {\n",
       "        vertical-align: top;\n",
       "    }\n",
       "\n",
       "    .dataframe thead th {\n",
       "        text-align: right;\n",
       "    }\n",
       "</style>\n",
       "<table border=\"1\" class=\"dataframe\">\n",
       "  <thead>\n",
       "    <tr style=\"text-align: right;\">\n",
       "      <th></th>\n",
       "      <th>plate_num</th>\n",
       "      <th>tree_speci</th>\n",
       "      <th>street_nam</th>\n",
       "      <th>neighborho</th>\n",
       "      <th>itm_x</th>\n",
       "      <th>itm_y</th>\n",
       "      <th>lat</th>\n",
       "      <th>lon</th>\n",
       "    </tr>\n",
       "  </thead>\n",
       "  <tbody>\n",
       "    <tr>\n",
       "      <th>0</th>\n",
       "      <td>0</td>\n",
       "      <td>NaN</td>\n",
       "      <td>NaN</td>\n",
       "      <td>NaN</td>\n",
       "      <td>178851.0986</td>\n",
       "      <td>573942.6775</td>\n",
       "      <td>31.256378</td>\n",
       "      <td>34.778136</td>\n",
       "    </tr>\n",
       "    <tr>\n",
       "      <th>1</th>\n",
       "      <td>0</td>\n",
       "      <td>NaN</td>\n",
       "      <td>קדושי יאסי</td>\n",
       "      <td>NaN</td>\n",
       "      <td>177190.9032</td>\n",
       "      <td>575006.8485</td>\n",
       "      <td>31.265916</td>\n",
       "      <td>34.760662</td>\n",
       "    </tr>\n",
       "    <tr>\n",
       "      <th>2</th>\n",
       "      <td>0</td>\n",
       "      <td>NaN</td>\n",
       "      <td>טוביהו דוד</td>\n",
       "      <td>NaN</td>\n",
       "      <td>177262.2382</td>\n",
       "      <td>573712.8533</td>\n",
       "      <td>31.254248</td>\n",
       "      <td>34.761465</td>\n",
       "    </tr>\n",
       "    <tr>\n",
       "      <th>3</th>\n",
       "      <td>0</td>\n",
       "      <td>NaN</td>\n",
       "      <td>NaN</td>\n",
       "      <td>NaN</td>\n",
       "      <td>180647.9995</td>\n",
       "      <td>576674.5454</td>\n",
       "      <td>31.281077</td>\n",
       "      <td>34.796895</td>\n",
       "    </tr>\n",
       "    <tr>\n",
       "      <th>4</th>\n",
       "      <td>0</td>\n",
       "      <td>NaN</td>\n",
       "      <td>NaN</td>\n",
       "      <td>NaN</td>\n",
       "      <td>178965.5725</td>\n",
       "      <td>571592.4473</td>\n",
       "      <td>31.235185</td>\n",
       "      <td>34.779433</td>\n",
       "    </tr>\n",
       "    <tr>\n",
       "      <th>...</th>\n",
       "      <td>...</td>\n",
       "      <td>...</td>\n",
       "      <td>...</td>\n",
       "      <td>...</td>\n",
       "      <td>...</td>\n",
       "      <td>...</td>\n",
       "      <td>...</td>\n",
       "      <td>...</td>\n",
       "    </tr>\n",
       "    <tr>\n",
       "      <th>59566</th>\n",
       "      <td>0</td>\n",
       "      <td>NaN</td>\n",
       "      <td>אצ\"ל</td>\n",
       "      <td>NaN</td>\n",
       "      <td>177777.1526</td>\n",
       "      <td>574971.2819</td>\n",
       "      <td>31.265617</td>\n",
       "      <td>34.766818</td>\n",
       "    </tr>\n",
       "    <tr>\n",
       "      <th>59567</th>\n",
       "      <td>0</td>\n",
       "      <td>NaN</td>\n",
       "      <td>NaN</td>\n",
       "      <td>NaN</td>\n",
       "      <td>178736.2796</td>\n",
       "      <td>573397.7334</td>\n",
       "      <td>31.251459</td>\n",
       "      <td>34.776953</td>\n",
       "    </tr>\n",
       "    <tr>\n",
       "      <th>59568</th>\n",
       "      <td>0</td>\n",
       "      <td>NaN</td>\n",
       "      <td>NaN</td>\n",
       "      <td>NaN</td>\n",
       "      <td>178960.3601</td>\n",
       "      <td>570520.2996</td>\n",
       "      <td>31.225515</td>\n",
       "      <td>34.779421</td>\n",
       "    </tr>\n",
       "    <tr>\n",
       "      <th>59569</th>\n",
       "      <td>794</td>\n",
       "      <td>סיגלון עלי מימוסה</td>\n",
       "      <td>אלישר חיים משה</td>\n",
       "      <td>רמות</td>\n",
       "      <td>182565.0560</td>\n",
       "      <td>575781.1640</td>\n",
       "      <td>31.273082</td>\n",
       "      <td>34.817059</td>\n",
       "    </tr>\n",
       "    <tr>\n",
       "      <th>59570</th>\n",
       "      <td>0</td>\n",
       "      <td>NaN</td>\n",
       "      <td>NaN</td>\n",
       "      <td>NaN</td>\n",
       "      <td>178706.7497</td>\n",
       "      <td>570401.6750</td>\n",
       "      <td>31.224437</td>\n",
       "      <td>34.776764</td>\n",
       "    </tr>\n",
       "  </tbody>\n",
       "</table>\n",
       "<p>59571 rows × 8 columns</p>\n",
       "</div>"
      ],
      "text/plain": [
       "       plate_num         tree_speci      street_nam neighborho        itm_x  \\\n",
       "0              0                NaN             NaN        NaN  178851.0986   \n",
       "1              0                NaN      קדושי יאסי        NaN  177190.9032   \n",
       "2              0                NaN      טוביהו דוד        NaN  177262.2382   \n",
       "3              0                NaN             NaN        NaN  180647.9995   \n",
       "4              0                NaN             NaN        NaN  178965.5725   \n",
       "...          ...                ...             ...        ...          ...   \n",
       "59566          0                NaN            אצ\"ל        NaN  177777.1526   \n",
       "59567          0                NaN             NaN        NaN  178736.2796   \n",
       "59568          0                NaN             NaN        NaN  178960.3601   \n",
       "59569        794  סיגלון עלי מימוסה  אלישר חיים משה       רמות  182565.0560   \n",
       "59570          0                NaN             NaN        NaN  178706.7497   \n",
       "\n",
       "             itm_y        lat        lon  \n",
       "0      573942.6775  31.256378  34.778136  \n",
       "1      575006.8485  31.265916  34.760662  \n",
       "2      573712.8533  31.254248  34.761465  \n",
       "3      576674.5454  31.281077  34.796895  \n",
       "4      571592.4473  31.235185  34.779433  \n",
       "...            ...        ...        ...  \n",
       "59566  574971.2819  31.265617  34.766818  \n",
       "59567  573397.7334  31.251459  34.776953  \n",
       "59568  570520.2996  31.225515  34.779421  \n",
       "59569  575781.1640  31.273082  34.817059  \n",
       "59570  570401.6750  31.224437  34.776764  \n",
       "\n",
       "[59571 rows x 8 columns]"
      ]
     },
     "execution_count": 205,
     "metadata": {},
     "output_type": "execute_result"
    }
   ],
   "source": [
    "trees = pd.read_csv('data/trees.csv')\n",
    "trees"
   ]
  },
  {
   "cell_type": "markdown",
   "metadata": {},
   "source": [
    "First, let's make the column names more convenient:"
   ]
  },
  {
   "cell_type": "code",
   "execution_count": 206,
   "metadata": {},
   "outputs": [
    {
     "data": {
      "text/html": [
       "<div>\n",
       "<style scoped>\n",
       "    .dataframe tbody tr th:only-of-type {\n",
       "        vertical-align: middle;\n",
       "    }\n",
       "\n",
       "    .dataframe tbody tr th {\n",
       "        vertical-align: top;\n",
       "    }\n",
       "\n",
       "    .dataframe thead th {\n",
       "        text-align: right;\n",
       "    }\n",
       "</style>\n",
       "<table border=\"1\" class=\"dataframe\">\n",
       "  <thead>\n",
       "    <tr style=\"text-align: right;\">\n",
       "      <th></th>\n",
       "      <th>id</th>\n",
       "      <th>species</th>\n",
       "      <th>street</th>\n",
       "      <th>neighborhood</th>\n",
       "      <th>itm_x</th>\n",
       "      <th>itm_y</th>\n",
       "      <th>lat</th>\n",
       "      <th>lon</th>\n",
       "    </tr>\n",
       "  </thead>\n",
       "  <tbody>\n",
       "    <tr>\n",
       "      <th>0</th>\n",
       "      <td>0</td>\n",
       "      <td>NaN</td>\n",
       "      <td>NaN</td>\n",
       "      <td>NaN</td>\n",
       "      <td>178851.0986</td>\n",
       "      <td>573942.6775</td>\n",
       "      <td>31.256378</td>\n",
       "      <td>34.778136</td>\n",
       "    </tr>\n",
       "    <tr>\n",
       "      <th>1</th>\n",
       "      <td>0</td>\n",
       "      <td>NaN</td>\n",
       "      <td>קדושי יאסי</td>\n",
       "      <td>NaN</td>\n",
       "      <td>177190.9032</td>\n",
       "      <td>575006.8485</td>\n",
       "      <td>31.265916</td>\n",
       "      <td>34.760662</td>\n",
       "    </tr>\n",
       "    <tr>\n",
       "      <th>2</th>\n",
       "      <td>0</td>\n",
       "      <td>NaN</td>\n",
       "      <td>טוביהו דוד</td>\n",
       "      <td>NaN</td>\n",
       "      <td>177262.2382</td>\n",
       "      <td>573712.8533</td>\n",
       "      <td>31.254248</td>\n",
       "      <td>34.761465</td>\n",
       "    </tr>\n",
       "    <tr>\n",
       "      <th>3</th>\n",
       "      <td>0</td>\n",
       "      <td>NaN</td>\n",
       "      <td>NaN</td>\n",
       "      <td>NaN</td>\n",
       "      <td>180647.9995</td>\n",
       "      <td>576674.5454</td>\n",
       "      <td>31.281077</td>\n",
       "      <td>34.796895</td>\n",
       "    </tr>\n",
       "    <tr>\n",
       "      <th>4</th>\n",
       "      <td>0</td>\n",
       "      <td>NaN</td>\n",
       "      <td>NaN</td>\n",
       "      <td>NaN</td>\n",
       "      <td>178965.5725</td>\n",
       "      <td>571592.4473</td>\n",
       "      <td>31.235185</td>\n",
       "      <td>34.779433</td>\n",
       "    </tr>\n",
       "    <tr>\n",
       "      <th>...</th>\n",
       "      <td>...</td>\n",
       "      <td>...</td>\n",
       "      <td>...</td>\n",
       "      <td>...</td>\n",
       "      <td>...</td>\n",
       "      <td>...</td>\n",
       "      <td>...</td>\n",
       "      <td>...</td>\n",
       "    </tr>\n",
       "    <tr>\n",
       "      <th>59566</th>\n",
       "      <td>0</td>\n",
       "      <td>NaN</td>\n",
       "      <td>אצ\"ל</td>\n",
       "      <td>NaN</td>\n",
       "      <td>177777.1526</td>\n",
       "      <td>574971.2819</td>\n",
       "      <td>31.265617</td>\n",
       "      <td>34.766818</td>\n",
       "    </tr>\n",
       "    <tr>\n",
       "      <th>59567</th>\n",
       "      <td>0</td>\n",
       "      <td>NaN</td>\n",
       "      <td>NaN</td>\n",
       "      <td>NaN</td>\n",
       "      <td>178736.2796</td>\n",
       "      <td>573397.7334</td>\n",
       "      <td>31.251459</td>\n",
       "      <td>34.776953</td>\n",
       "    </tr>\n",
       "    <tr>\n",
       "      <th>59568</th>\n",
       "      <td>0</td>\n",
       "      <td>NaN</td>\n",
       "      <td>NaN</td>\n",
       "      <td>NaN</td>\n",
       "      <td>178960.3601</td>\n",
       "      <td>570520.2996</td>\n",
       "      <td>31.225515</td>\n",
       "      <td>34.779421</td>\n",
       "    </tr>\n",
       "    <tr>\n",
       "      <th>59569</th>\n",
       "      <td>794</td>\n",
       "      <td>סיגלון עלי מימוסה</td>\n",
       "      <td>אלישר חיים משה</td>\n",
       "      <td>רמות</td>\n",
       "      <td>182565.0560</td>\n",
       "      <td>575781.1640</td>\n",
       "      <td>31.273082</td>\n",
       "      <td>34.817059</td>\n",
       "    </tr>\n",
       "    <tr>\n",
       "      <th>59570</th>\n",
       "      <td>0</td>\n",
       "      <td>NaN</td>\n",
       "      <td>NaN</td>\n",
       "      <td>NaN</td>\n",
       "      <td>178706.7497</td>\n",
       "      <td>570401.6750</td>\n",
       "      <td>31.224437</td>\n",
       "      <td>34.776764</td>\n",
       "    </tr>\n",
       "  </tbody>\n",
       "</table>\n",
       "<p>59571 rows × 8 columns</p>\n",
       "</div>"
      ],
      "text/plain": [
       "        id            species          street neighborhood        itm_x  \\\n",
       "0        0                NaN             NaN          NaN  178851.0986   \n",
       "1        0                NaN      קדושי יאסי          NaN  177190.9032   \n",
       "2        0                NaN      טוביהו דוד          NaN  177262.2382   \n",
       "3        0                NaN             NaN          NaN  180647.9995   \n",
       "4        0                NaN             NaN          NaN  178965.5725   \n",
       "...    ...                ...             ...          ...          ...   \n",
       "59566    0                NaN            אצ\"ל          NaN  177777.1526   \n",
       "59567    0                NaN             NaN          NaN  178736.2796   \n",
       "59568    0                NaN             NaN          NaN  178960.3601   \n",
       "59569  794  סיגלון עלי מימוסה  אלישר חיים משה         רמות  182565.0560   \n",
       "59570    0                NaN             NaN          NaN  178706.7497   \n",
       "\n",
       "             itm_y        lat        lon  \n",
       "0      573942.6775  31.256378  34.778136  \n",
       "1      575006.8485  31.265916  34.760662  \n",
       "2      573712.8533  31.254248  34.761465  \n",
       "3      576674.5454  31.281077  34.796895  \n",
       "4      571592.4473  31.235185  34.779433  \n",
       "...            ...        ...        ...  \n",
       "59566  574971.2819  31.265617  34.766818  \n",
       "59567  573397.7334  31.251459  34.776953  \n",
       "59568  570520.2996  31.225515  34.779421  \n",
       "59569  575781.1640  31.273082  34.817059  \n",
       "59570  570401.6750  31.224437  34.776764  \n",
       "\n",
       "[59571 rows x 8 columns]"
      ]
     },
     "execution_count": 206,
     "metadata": {},
     "output_type": "execute_result"
    }
   ],
   "source": [
    "trees = trees.rename(columns={\n",
    "    'plate_num': 'id', \n",
    "    'tree_speci': 'species', \n",
    "    'street_nam': 'street', \n",
    "    'neighborho': 'neighborhood'\n",
    "})\n",
    "trees"
   ]
  },
  {
   "attachments": {},
   "cell_type": "markdown",
   "metadata": {},
   "source": [
    "For example, species of the first tree is unknown:"
   ]
  },
  {
   "cell_type": "code",
   "execution_count": 207,
   "metadata": {},
   "outputs": [
    {
     "data": {
      "text/plain": [
       "nan"
      ]
     },
     "execution_count": 207,
     "metadata": {},
     "output_type": "execute_result"
    }
   ],
   "source": [
    "trees['species'].iloc[0]"
   ]
  },
  {
   "attachments": {},
   "cell_type": "markdown",
   "metadata": {},
   "source": [
    "### Detecting with `pd.isna`"
   ]
  },
  {
   "attachments": {},
   "cell_type": "markdown",
   "metadata": {},
   "source": [
    "To detect \"No Data\" values, the `.isna` method (or `pd.isna` function) can be applied on a `Series` or a `DataFrame`. The result is a boolean mask that marks the missing values. The `pd.isna` function from `pandas` is analogous to the `np.isnan` function for arrays, which we learned about earlier (see {ref}`numpy-detecting-nodata`)."
   ]
  },
  {
   "attachments": {},
   "cell_type": "markdown",
   "metadata": {},
   "source": [
    "For example, `trees.isna()` returns a boolean `DataFrame`, of the same shape as `trees`, with `True` marking \"No Data\" values:"
   ]
  },
  {
   "cell_type": "code",
   "execution_count": 208,
   "metadata": {},
   "outputs": [
    {
     "data": {
      "text/html": [
       "<div>\n",
       "<style scoped>\n",
       "    .dataframe tbody tr th:only-of-type {\n",
       "        vertical-align: middle;\n",
       "    }\n",
       "\n",
       "    .dataframe tbody tr th {\n",
       "        vertical-align: top;\n",
       "    }\n",
       "\n",
       "    .dataframe thead th {\n",
       "        text-align: right;\n",
       "    }\n",
       "</style>\n",
       "<table border=\"1\" class=\"dataframe\">\n",
       "  <thead>\n",
       "    <tr style=\"text-align: right;\">\n",
       "      <th></th>\n",
       "      <th>id</th>\n",
       "      <th>species</th>\n",
       "      <th>street</th>\n",
       "      <th>neighborhood</th>\n",
       "      <th>itm_x</th>\n",
       "      <th>itm_y</th>\n",
       "      <th>lat</th>\n",
       "      <th>lon</th>\n",
       "    </tr>\n",
       "  </thead>\n",
       "  <tbody>\n",
       "    <tr>\n",
       "      <th>0</th>\n",
       "      <td>False</td>\n",
       "      <td>True</td>\n",
       "      <td>True</td>\n",
       "      <td>True</td>\n",
       "      <td>False</td>\n",
       "      <td>False</td>\n",
       "      <td>False</td>\n",
       "      <td>False</td>\n",
       "    </tr>\n",
       "    <tr>\n",
       "      <th>1</th>\n",
       "      <td>False</td>\n",
       "      <td>True</td>\n",
       "      <td>False</td>\n",
       "      <td>True</td>\n",
       "      <td>False</td>\n",
       "      <td>False</td>\n",
       "      <td>False</td>\n",
       "      <td>False</td>\n",
       "    </tr>\n",
       "    <tr>\n",
       "      <th>2</th>\n",
       "      <td>False</td>\n",
       "      <td>True</td>\n",
       "      <td>False</td>\n",
       "      <td>True</td>\n",
       "      <td>False</td>\n",
       "      <td>False</td>\n",
       "      <td>False</td>\n",
       "      <td>False</td>\n",
       "    </tr>\n",
       "    <tr>\n",
       "      <th>3</th>\n",
       "      <td>False</td>\n",
       "      <td>True</td>\n",
       "      <td>True</td>\n",
       "      <td>True</td>\n",
       "      <td>False</td>\n",
       "      <td>False</td>\n",
       "      <td>False</td>\n",
       "      <td>False</td>\n",
       "    </tr>\n",
       "    <tr>\n",
       "      <th>4</th>\n",
       "      <td>False</td>\n",
       "      <td>True</td>\n",
       "      <td>True</td>\n",
       "      <td>True</td>\n",
       "      <td>False</td>\n",
       "      <td>False</td>\n",
       "      <td>False</td>\n",
       "      <td>False</td>\n",
       "    </tr>\n",
       "    <tr>\n",
       "      <th>...</th>\n",
       "      <td>...</td>\n",
       "      <td>...</td>\n",
       "      <td>...</td>\n",
       "      <td>...</td>\n",
       "      <td>...</td>\n",
       "      <td>...</td>\n",
       "      <td>...</td>\n",
       "      <td>...</td>\n",
       "    </tr>\n",
       "    <tr>\n",
       "      <th>59566</th>\n",
       "      <td>False</td>\n",
       "      <td>True</td>\n",
       "      <td>False</td>\n",
       "      <td>True</td>\n",
       "      <td>False</td>\n",
       "      <td>False</td>\n",
       "      <td>False</td>\n",
       "      <td>False</td>\n",
       "    </tr>\n",
       "    <tr>\n",
       "      <th>59567</th>\n",
       "      <td>False</td>\n",
       "      <td>True</td>\n",
       "      <td>True</td>\n",
       "      <td>True</td>\n",
       "      <td>False</td>\n",
       "      <td>False</td>\n",
       "      <td>False</td>\n",
       "      <td>False</td>\n",
       "    </tr>\n",
       "    <tr>\n",
       "      <th>59568</th>\n",
       "      <td>False</td>\n",
       "      <td>True</td>\n",
       "      <td>True</td>\n",
       "      <td>True</td>\n",
       "      <td>False</td>\n",
       "      <td>False</td>\n",
       "      <td>False</td>\n",
       "      <td>False</td>\n",
       "    </tr>\n",
       "    <tr>\n",
       "      <th>59569</th>\n",
       "      <td>False</td>\n",
       "      <td>False</td>\n",
       "      <td>False</td>\n",
       "      <td>False</td>\n",
       "      <td>False</td>\n",
       "      <td>False</td>\n",
       "      <td>False</td>\n",
       "      <td>False</td>\n",
       "    </tr>\n",
       "    <tr>\n",
       "      <th>59570</th>\n",
       "      <td>False</td>\n",
       "      <td>True</td>\n",
       "      <td>True</td>\n",
       "      <td>True</td>\n",
       "      <td>False</td>\n",
       "      <td>False</td>\n",
       "      <td>False</td>\n",
       "      <td>False</td>\n",
       "    </tr>\n",
       "  </tbody>\n",
       "</table>\n",
       "<p>59571 rows × 8 columns</p>\n",
       "</div>"
      ],
      "text/plain": [
       "          id  species  street  neighborhood  itm_x  itm_y    lat    lon\n",
       "0      False     True    True          True  False  False  False  False\n",
       "1      False     True   False          True  False  False  False  False\n",
       "2      False     True   False          True  False  False  False  False\n",
       "3      False     True    True          True  False  False  False  False\n",
       "4      False     True    True          True  False  False  False  False\n",
       "...      ...      ...     ...           ...    ...    ...    ...    ...\n",
       "59566  False     True   False          True  False  False  False  False\n",
       "59567  False     True    True          True  False  False  False  False\n",
       "59568  False     True    True          True  False  False  False  False\n",
       "59569  False    False   False         False  False  False  False  False\n",
       "59570  False     True    True          True  False  False  False  False\n",
       "\n",
       "[59571 rows x 8 columns]"
      ]
     },
     "execution_count": 208,
     "metadata": {},
     "output_type": "execute_result"
    }
   ],
   "source": [
    "trees.isna()"
   ]
  },
  {
   "attachments": {},
   "cell_type": "markdown",
   "metadata": {},
   "source": [
    "Similarly, the `.isna()` method applied on a `Series` returns a new boolean `Series` where \"No Data\" values are marked with `True`:"
   ]
  },
  {
   "cell_type": "code",
   "execution_count": 209,
   "metadata": {},
   "outputs": [
    {
     "data": {
      "text/plain": [
       "0         True\n",
       "1         True\n",
       "2         True\n",
       "3         True\n",
       "4         True\n",
       "         ...  \n",
       "59566     True\n",
       "59567     True\n",
       "59568     True\n",
       "59569    False\n",
       "59570     True\n",
       "Name: species, Length: 59571, dtype: bool"
      ]
     },
     "execution_count": 209,
     "metadata": {},
     "output_type": "execute_result"
    }
   ],
   "source": [
    "trees['species'].isna()"
   ]
  },
  {
   "attachments": {},
   "cell_type": "markdown",
   "metadata": {},
   "source": [
    "The `~` operator (see {ref}`numpy-conditional-operators`) reverses a boolean `Series`. This is very useful in the context of \"No Data\" masks, since it can reverse the mask so that it points at *non*-missing values."
   ]
  },
  {
   "attachments": {},
   "cell_type": "markdown",
   "metadata": {},
   "source": [
    "For example, here is how we can get the reverse of `trees.isna()`:"
   ]
  },
  {
   "cell_type": "code",
   "execution_count": 210,
   "metadata": {},
   "outputs": [
    {
     "data": {
      "text/html": [
       "<div>\n",
       "<style scoped>\n",
       "    .dataframe tbody tr th:only-of-type {\n",
       "        vertical-align: middle;\n",
       "    }\n",
       "\n",
       "    .dataframe tbody tr th {\n",
       "        vertical-align: top;\n",
       "    }\n",
       "\n",
       "    .dataframe thead th {\n",
       "        text-align: right;\n",
       "    }\n",
       "</style>\n",
       "<table border=\"1\" class=\"dataframe\">\n",
       "  <thead>\n",
       "    <tr style=\"text-align: right;\">\n",
       "      <th></th>\n",
       "      <th>id</th>\n",
       "      <th>species</th>\n",
       "      <th>street</th>\n",
       "      <th>neighborhood</th>\n",
       "      <th>itm_x</th>\n",
       "      <th>itm_y</th>\n",
       "      <th>lat</th>\n",
       "      <th>lon</th>\n",
       "    </tr>\n",
       "  </thead>\n",
       "  <tbody>\n",
       "    <tr>\n",
       "      <th>0</th>\n",
       "      <td>True</td>\n",
       "      <td>False</td>\n",
       "      <td>False</td>\n",
       "      <td>False</td>\n",
       "      <td>True</td>\n",
       "      <td>True</td>\n",
       "      <td>True</td>\n",
       "      <td>True</td>\n",
       "    </tr>\n",
       "    <tr>\n",
       "      <th>1</th>\n",
       "      <td>True</td>\n",
       "      <td>False</td>\n",
       "      <td>True</td>\n",
       "      <td>False</td>\n",
       "      <td>True</td>\n",
       "      <td>True</td>\n",
       "      <td>True</td>\n",
       "      <td>True</td>\n",
       "    </tr>\n",
       "    <tr>\n",
       "      <th>2</th>\n",
       "      <td>True</td>\n",
       "      <td>False</td>\n",
       "      <td>True</td>\n",
       "      <td>False</td>\n",
       "      <td>True</td>\n",
       "      <td>True</td>\n",
       "      <td>True</td>\n",
       "      <td>True</td>\n",
       "    </tr>\n",
       "    <tr>\n",
       "      <th>3</th>\n",
       "      <td>True</td>\n",
       "      <td>False</td>\n",
       "      <td>False</td>\n",
       "      <td>False</td>\n",
       "      <td>True</td>\n",
       "      <td>True</td>\n",
       "      <td>True</td>\n",
       "      <td>True</td>\n",
       "    </tr>\n",
       "    <tr>\n",
       "      <th>4</th>\n",
       "      <td>True</td>\n",
       "      <td>False</td>\n",
       "      <td>False</td>\n",
       "      <td>False</td>\n",
       "      <td>True</td>\n",
       "      <td>True</td>\n",
       "      <td>True</td>\n",
       "      <td>True</td>\n",
       "    </tr>\n",
       "    <tr>\n",
       "      <th>...</th>\n",
       "      <td>...</td>\n",
       "      <td>...</td>\n",
       "      <td>...</td>\n",
       "      <td>...</td>\n",
       "      <td>...</td>\n",
       "      <td>...</td>\n",
       "      <td>...</td>\n",
       "      <td>...</td>\n",
       "    </tr>\n",
       "    <tr>\n",
       "      <th>59566</th>\n",
       "      <td>True</td>\n",
       "      <td>False</td>\n",
       "      <td>True</td>\n",
       "      <td>False</td>\n",
       "      <td>True</td>\n",
       "      <td>True</td>\n",
       "      <td>True</td>\n",
       "      <td>True</td>\n",
       "    </tr>\n",
       "    <tr>\n",
       "      <th>59567</th>\n",
       "      <td>True</td>\n",
       "      <td>False</td>\n",
       "      <td>False</td>\n",
       "      <td>False</td>\n",
       "      <td>True</td>\n",
       "      <td>True</td>\n",
       "      <td>True</td>\n",
       "      <td>True</td>\n",
       "    </tr>\n",
       "    <tr>\n",
       "      <th>59568</th>\n",
       "      <td>True</td>\n",
       "      <td>False</td>\n",
       "      <td>False</td>\n",
       "      <td>False</td>\n",
       "      <td>True</td>\n",
       "      <td>True</td>\n",
       "      <td>True</td>\n",
       "      <td>True</td>\n",
       "    </tr>\n",
       "    <tr>\n",
       "      <th>59569</th>\n",
       "      <td>True</td>\n",
       "      <td>True</td>\n",
       "      <td>True</td>\n",
       "      <td>True</td>\n",
       "      <td>True</td>\n",
       "      <td>True</td>\n",
       "      <td>True</td>\n",
       "      <td>True</td>\n",
       "    </tr>\n",
       "    <tr>\n",
       "      <th>59570</th>\n",
       "      <td>True</td>\n",
       "      <td>False</td>\n",
       "      <td>False</td>\n",
       "      <td>False</td>\n",
       "      <td>True</td>\n",
       "      <td>True</td>\n",
       "      <td>True</td>\n",
       "      <td>True</td>\n",
       "    </tr>\n",
       "  </tbody>\n",
       "</table>\n",
       "<p>59571 rows × 8 columns</p>\n",
       "</div>"
      ],
      "text/plain": [
       "         id  species  street  neighborhood  itm_x  itm_y   lat   lon\n",
       "0      True    False   False         False   True   True  True  True\n",
       "1      True    False    True         False   True   True  True  True\n",
       "2      True    False    True         False   True   True  True  True\n",
       "3      True    False   False         False   True   True  True  True\n",
       "4      True    False   False         False   True   True  True  True\n",
       "...     ...      ...     ...           ...    ...    ...   ...   ...\n",
       "59566  True    False    True         False   True   True  True  True\n",
       "59567  True    False   False         False   True   True  True  True\n",
       "59568  True    False   False         False   True   True  True  True\n",
       "59569  True     True    True          True   True   True  True  True\n",
       "59570  True    False   False         False   True   True  True  True\n",
       "\n",
       "[59571 rows x 8 columns]"
      ]
     },
     "execution_count": 210,
     "metadata": {},
     "output_type": "execute_result"
    }
   ],
   "source": [
    "~trees.isna()"
   ]
  },
  {
   "attachments": {},
   "cell_type": "markdown",
   "metadata": {},
   "source": [
    "and here is how we can get the reverse of `trees['spedies'].isna()`:"
   ]
  },
  {
   "cell_type": "code",
   "execution_count": 211,
   "metadata": {},
   "outputs": [
    {
     "data": {
      "text/plain": [
       "0        False\n",
       "1        False\n",
       "2        False\n",
       "3        False\n",
       "4        False\n",
       "         ...  \n",
       "59566    False\n",
       "59567    False\n",
       "59568    False\n",
       "59569     True\n",
       "59570    False\n",
       "Name: species, Length: 59571, dtype: bool"
      ]
     },
     "execution_count": 211,
     "metadata": {},
     "output_type": "execute_result"
    }
   ],
   "source": [
    "~trees['species'].isna()"
   ]
  },
  {
   "attachments": {},
   "cell_type": "markdown",
   "metadata": {},
   "source": [
    "Another possible use of `~` and `.isna` is to extract the non-missing values from a series. Here is an example:"
   ]
  },
  {
   "cell_type": "code",
   "execution_count": 212,
   "metadata": {},
   "outputs": [
    {
     "data": {
      "text/plain": [
       "16                אשל הפרקים\n",
       "24         סיגלון עלה מימוזה\n",
       "26                זית אירופי\n",
       "31                מילה סורית\n",
       "38            מילה פנסילבנית\n",
       "                ...         \n",
       "59552         מילה פנסילבנית\n",
       "59554    מילה ירוקת עד אובלי\n",
       "59557         בוהיניה מגוונת\n",
       "59558          מילה ירוקת עד\n",
       "59569      סיגלון עלי מימוסה\n",
       "Name: species, Length: 14866, dtype: object"
      ]
     },
     "execution_count": 212,
     "metadata": {},
     "output_type": "execute_result"
    }
   ],
   "source": [
    "trees['species'][~trees['species'].isna()]"
   ]
  },
  {
   "attachments": {},
   "cell_type": "markdown",
   "metadata": {},
   "source": [
    "However, there is a dedicated method called `.dropna` to do that with shorter code (see {ref}`removing-with-dropna`):"
   ]
  },
  {
   "cell_type": "code",
   "execution_count": 213,
   "metadata": {},
   "outputs": [
    {
     "data": {
      "text/plain": [
       "16                אשל הפרקים\n",
       "24         סיגלון עלה מימוזה\n",
       "26                זית אירופי\n",
       "31                מילה סורית\n",
       "38            מילה פנסילבנית\n",
       "                ...         \n",
       "59552         מילה פנסילבנית\n",
       "59554    מילה ירוקת עד אובלי\n",
       "59557         בוהיניה מגוונת\n",
       "59558          מילה ירוקת עד\n",
       "59569      סיגלון עלי מימוסה\n",
       "Name: species, Length: 14866, dtype: object"
      ]
     },
     "execution_count": 213,
     "metadata": {},
     "output_type": "execute_result"
    }
   ],
   "source": [
    "trees['species'].dropna()"
   ]
  },
  {
   "attachments": {},
   "cell_type": "markdown",
   "metadata": {},
   "source": [
    "Similarly, we can extract `DataFrame` rows where a particular column is non-missing. For example, here we have those `trees` rows that have a non-missing `'species'` value:"
   ]
  },
  {
   "cell_type": "code",
   "execution_count": 214,
   "metadata": {},
   "outputs": [
    {
     "data": {
      "text/html": [
       "<div>\n",
       "<style scoped>\n",
       "    .dataframe tbody tr th:only-of-type {\n",
       "        vertical-align: middle;\n",
       "    }\n",
       "\n",
       "    .dataframe tbody tr th {\n",
       "        vertical-align: top;\n",
       "    }\n",
       "\n",
       "    .dataframe thead th {\n",
       "        text-align: right;\n",
       "    }\n",
       "</style>\n",
       "<table border=\"1\" class=\"dataframe\">\n",
       "  <thead>\n",
       "    <tr style=\"text-align: right;\">\n",
       "      <th></th>\n",
       "      <th>id</th>\n",
       "      <th>species</th>\n",
       "      <th>street</th>\n",
       "      <th>neighborhood</th>\n",
       "      <th>itm_x</th>\n",
       "      <th>itm_y</th>\n",
       "      <th>lat</th>\n",
       "      <th>lon</th>\n",
       "    </tr>\n",
       "  </thead>\n",
       "  <tbody>\n",
       "    <tr>\n",
       "      <th>16</th>\n",
       "      <td>3781</td>\n",
       "      <td>אשל הפרקים</td>\n",
       "      <td>אבן עזרא אברהם</td>\n",
       "      <td>שכונה ד</td>\n",
       "      <td>179643.7211</td>\n",
       "      <td>575520.3612</td>\n",
       "      <td>31.270634</td>\n",
       "      <td>34.786395</td>\n",
       "    </tr>\n",
       "    <tr>\n",
       "      <th>24</th>\n",
       "      <td>11181</td>\n",
       "      <td>סיגלון עלה מימוזה</td>\n",
       "      <td>מאיר גרוסמן</td>\n",
       "      <td>נווה זאב</td>\n",
       "      <td>177779.1452</td>\n",
       "      <td>571815.6028</td>\n",
       "      <td>31.237156</td>\n",
       "      <td>34.766971</td>\n",
       "    </tr>\n",
       "    <tr>\n",
       "      <th>26</th>\n",
       "      <td>9863</td>\n",
       "      <td>זית אירופי</td>\n",
       "      <td>יהודה אלחריזי</td>\n",
       "      <td>נאות לון</td>\n",
       "      <td>177533.4705</td>\n",
       "      <td>573428.4568</td>\n",
       "      <td>31.251693</td>\n",
       "      <td>34.764324</td>\n",
       "    </tr>\n",
       "    <tr>\n",
       "      <th>31</th>\n",
       "      <td>1722</td>\n",
       "      <td>מילה סורית</td>\n",
       "      <td>שריג נחום</td>\n",
       "      <td>רמות הרכס</td>\n",
       "      <td>181497.2680</td>\n",
       "      <td>576827.3730</td>\n",
       "      <td>31.282484</td>\n",
       "      <td>34.805808</td>\n",
       "    </tr>\n",
       "    <tr>\n",
       "      <th>38</th>\n",
       "      <td>16510</td>\n",
       "      <td>מילה פנסילבנית</td>\n",
       "      <td>NaN</td>\n",
       "      <td>שכונה א</td>\n",
       "      <td>179617.3045</td>\n",
       "      <td>572772.0315</td>\n",
       "      <td>31.245846</td>\n",
       "      <td>34.786227</td>\n",
       "    </tr>\n",
       "    <tr>\n",
       "      <th>...</th>\n",
       "      <td>...</td>\n",
       "      <td>...</td>\n",
       "      <td>...</td>\n",
       "      <td>...</td>\n",
       "      <td>...</td>\n",
       "      <td>...</td>\n",
       "      <td>...</td>\n",
       "      <td>...</td>\n",
       "    </tr>\n",
       "    <tr>\n",
       "      <th>59552</th>\n",
       "      <td>16542</td>\n",
       "      <td>מילה פנסילבנית</td>\n",
       "      <td>NaN</td>\n",
       "      <td>שכונה א</td>\n",
       "      <td>179430.3376</td>\n",
       "      <td>572819.7487</td>\n",
       "      <td>31.246270</td>\n",
       "      <td>34.784262</td>\n",
       "    </tr>\n",
       "    <tr>\n",
       "      <th>59554</th>\n",
       "      <td>7501</td>\n",
       "      <td>מילה ירוקת עד אובלי</td>\n",
       "      <td>אברהם אבינו</td>\n",
       "      <td>שכונה ד</td>\n",
       "      <td>180421.5505</td>\n",
       "      <td>575430.0755</td>\n",
       "      <td>31.269846</td>\n",
       "      <td>34.794565</td>\n",
       "    </tr>\n",
       "    <tr>\n",
       "      <th>59557</th>\n",
       "      <td>11225</td>\n",
       "      <td>בוהיניה מגוונת</td>\n",
       "      <td>מישאל דהאן</td>\n",
       "      <td>נווה זאב</td>\n",
       "      <td>177619.4177</td>\n",
       "      <td>571312.0208</td>\n",
       "      <td>31.232608</td>\n",
       "      <td>34.765315</td>\n",
       "    </tr>\n",
       "    <tr>\n",
       "      <th>59558</th>\n",
       "      <td>9324</td>\n",
       "      <td>מילה ירוקת עד</td>\n",
       "      <td>אילן רמון</td>\n",
       "      <td>נאות לון</td>\n",
       "      <td>176737.6179</td>\n",
       "      <td>573644.9874</td>\n",
       "      <td>31.253617</td>\n",
       "      <td>34.755960</td>\n",
       "    </tr>\n",
       "    <tr>\n",
       "      <th>59569</th>\n",
       "      <td>794</td>\n",
       "      <td>סיגלון עלי מימוסה</td>\n",
       "      <td>אלישר חיים משה</td>\n",
       "      <td>רמות</td>\n",
       "      <td>182565.0560</td>\n",
       "      <td>575781.1640</td>\n",
       "      <td>31.273082</td>\n",
       "      <td>34.817059</td>\n",
       "    </tr>\n",
       "  </tbody>\n",
       "</table>\n",
       "<p>14866 rows × 8 columns</p>\n",
       "</div>"
      ],
      "text/plain": [
       "          id              species          street neighborhood        itm_x  \\\n",
       "16      3781           אשל הפרקים  אבן עזרא אברהם      שכונה ד  179643.7211   \n",
       "24     11181    סיגלון עלה מימוזה     מאיר גרוסמן     נווה זאב  177779.1452   \n",
       "26      9863           זית אירופי   יהודה אלחריזי     נאות לון  177533.4705   \n",
       "31      1722           מילה סורית       שריג נחום    רמות הרכס  181497.2680   \n",
       "38     16510       מילה פנסילבנית             NaN      שכונה א  179617.3045   \n",
       "...      ...                  ...             ...          ...          ...   \n",
       "59552  16542       מילה פנסילבנית             NaN      שכונה א  179430.3376   \n",
       "59554   7501  מילה ירוקת עד אובלי     אברהם אבינו      שכונה ד  180421.5505   \n",
       "59557  11225       בוהיניה מגוונת      מישאל דהאן     נווה זאב  177619.4177   \n",
       "59558   9324        מילה ירוקת עד       אילן רמון     נאות לון  176737.6179   \n",
       "59569    794    סיגלון עלי מימוסה  אלישר חיים משה         רמות  182565.0560   \n",
       "\n",
       "             itm_y        lat        lon  \n",
       "16     575520.3612  31.270634  34.786395  \n",
       "24     571815.6028  31.237156  34.766971  \n",
       "26     573428.4568  31.251693  34.764324  \n",
       "31     576827.3730  31.282484  34.805808  \n",
       "38     572772.0315  31.245846  34.786227  \n",
       "...            ...        ...        ...  \n",
       "59552  572819.7487  31.246270  34.784262  \n",
       "59554  575430.0755  31.269846  34.794565  \n",
       "59557  571312.0208  31.232608  34.765315  \n",
       "59558  573644.9874  31.253617  34.755960  \n",
       "59569  575781.1640  31.273082  34.817059  \n",
       "\n",
       "[14866 rows x 8 columns]"
      ]
     },
     "execution_count": 214,
     "metadata": {},
     "output_type": "execute_result"
    }
   ],
   "source": [
    "trees[~trees['species'].isna()]"
   ]
  },
  {
   "attachments": {},
   "cell_type": "markdown",
   "metadata": {},
   "source": [
    "```{note} \n",
    "Instead of reversing the output of `pd.isna` with the `~operator`, another option is to use the inverse method `.notna`, which returns the *non-missing* mask.\n",
    "```"
   ]
  },
  {
   "attachments": {},
   "cell_type": "markdown",
   "metadata": {},
   "source": [
    "Finally, it is often useful to combine the `.isna` method with `.any` to find out if a `Series` contains at least one missing value:"
   ]
  },
  {
   "cell_type": "code",
   "execution_count": 215,
   "metadata": {},
   "outputs": [
    {
     "data": {
      "text/plain": [
       "True"
      ]
     },
     "execution_count": 215,
     "metadata": {},
     "output_type": "execute_result"
    }
   ],
   "source": [
    "trees['species'].isna().any()"
   ]
  },
  {
   "cell_type": "code",
   "execution_count": 216,
   "metadata": {},
   "outputs": [
    {
     "data": {
      "text/plain": [
       "False"
      ]
     },
     "execution_count": 216,
     "metadata": {},
     "output_type": "execute_result"
    }
   ],
   "source": [
    "trees['id'].isna().any()"
   ]
  },
  {
   "attachments": {},
   "cell_type": "markdown",
   "metadata": {},
   "source": [
    "or to find out which columns contain at least one missing value:"
   ]
  },
  {
   "cell_type": "code",
   "execution_count": 217,
   "metadata": {},
   "outputs": [
    {
     "data": {
      "text/plain": [
       "id              False\n",
       "species          True\n",
       "street           True\n",
       "neighborhood     True\n",
       "itm_x           False\n",
       "itm_y           False\n",
       "lat             False\n",
       "lon             False\n",
       "dtype: bool"
      ]
     },
     "execution_count": 217,
     "metadata": {},
     "output_type": "execute_result"
    }
   ],
   "source": [
    "trees.isna().any()"
   ]
  },
  {
   "attachments": {},
   "cell_type": "markdown",
   "metadata": {},
   "source": [
    "We can also use `.sum` to find out how many missing value are there in each column:"
   ]
  },
  {
   "cell_type": "code",
   "execution_count": 218,
   "metadata": {},
   "outputs": [
    {
     "data": {
      "text/plain": [
       "id                  0\n",
       "species         44705\n",
       "street          31678\n",
       "neighborhood    42121\n",
       "itm_x               0\n",
       "itm_y               0\n",
       "lat                 0\n",
       "lon                 0\n",
       "dtype: int64"
      ]
     },
     "execution_count": 218,
     "metadata": {},
     "output_type": "execute_result"
    }
   ],
   "source": [
    "trees.isna().sum()"
   ]
  },
  {
   "cell_type": "markdown",
   "metadata": {},
   "source": [
    "or `.mean` to find the *proportion* of missing values in each column:"
   ]
  },
  {
   "cell_type": "code",
   "execution_count": 219,
   "metadata": {},
   "outputs": [
    {
     "data": {
      "text/plain": [
       "id              0.000000\n",
       "species         0.750449\n",
       "street          0.531769\n",
       "neighborhood    0.707072\n",
       "itm_x           0.000000\n",
       "itm_y           0.000000\n",
       "lat             0.000000\n",
       "lon             0.000000\n",
       "dtype: float64"
      ]
     },
     "execution_count": 219,
     "metadata": {},
     "output_type": "execute_result"
    }
   ],
   "source": [
    "trees.isna().mean()"
   ]
  },
  {
   "attachments": {},
   "cell_type": "markdown",
   "metadata": {},
   "source": [
    "(pandas-operations-with-missing-data)=\n",
    "### Operators with missing values"
   ]
  },
  {
   "attachments": {},
   "cell_type": "markdown",
   "metadata": {},
   "source": [
    "When applying a method such as `.sum`, `.mean`, `.min`, or `.max` (or the respective `np.*` function) on a `Series`, the \"No Data\" values are ignored. That is, the result is based only on the non-missing values. For example:"
   ]
  },
  {
   "cell_type": "code",
   "execution_count": 220,
   "metadata": {},
   "outputs": [
    {
     "data": {
      "text/html": [
       "<div>\n",
       "<style scoped>\n",
       "    .dataframe tbody tr th:only-of-type {\n",
       "        vertical-align: middle;\n",
       "    }\n",
       "\n",
       "    .dataframe tbody tr th {\n",
       "        vertical-align: top;\n",
       "    }\n",
       "\n",
       "    .dataframe thead th {\n",
       "        text-align: right;\n",
       "    }\n",
       "</style>\n",
       "<table border=\"1\" class=\"dataframe\">\n",
       "  <thead>\n",
       "    <tr style=\"text-align: right;\">\n",
       "      <th></th>\n",
       "      <th>id</th>\n",
       "      <th>species</th>\n",
       "      <th>street</th>\n",
       "      <th>neighborhood</th>\n",
       "      <th>itm_x</th>\n",
       "      <th>itm_y</th>\n",
       "      <th>lat</th>\n",
       "      <th>lon</th>\n",
       "      <th>sigalon</th>\n",
       "    </tr>\n",
       "  </thead>\n",
       "  <tbody>\n",
       "    <tr>\n",
       "      <th>0</th>\n",
       "      <td>0</td>\n",
       "      <td>NaN</td>\n",
       "      <td>NaN</td>\n",
       "      <td>NaN</td>\n",
       "      <td>178851.0986</td>\n",
       "      <td>573942.6775</td>\n",
       "      <td>31.256378</td>\n",
       "      <td>34.778136</td>\n",
       "      <td>NaN</td>\n",
       "    </tr>\n",
       "    <tr>\n",
       "      <th>1</th>\n",
       "      <td>0</td>\n",
       "      <td>NaN</td>\n",
       "      <td>קדושי יאסי</td>\n",
       "      <td>NaN</td>\n",
       "      <td>177190.9032</td>\n",
       "      <td>575006.8485</td>\n",
       "      <td>31.265916</td>\n",
       "      <td>34.760662</td>\n",
       "      <td>NaN</td>\n",
       "    </tr>\n",
       "    <tr>\n",
       "      <th>2</th>\n",
       "      <td>0</td>\n",
       "      <td>NaN</td>\n",
       "      <td>טוביהו דוד</td>\n",
       "      <td>NaN</td>\n",
       "      <td>177262.2382</td>\n",
       "      <td>573712.8533</td>\n",
       "      <td>31.254248</td>\n",
       "      <td>34.761465</td>\n",
       "      <td>NaN</td>\n",
       "    </tr>\n",
       "    <tr>\n",
       "      <th>3</th>\n",
       "      <td>0</td>\n",
       "      <td>NaN</td>\n",
       "      <td>NaN</td>\n",
       "      <td>NaN</td>\n",
       "      <td>180647.9995</td>\n",
       "      <td>576674.5454</td>\n",
       "      <td>31.281077</td>\n",
       "      <td>34.796895</td>\n",
       "      <td>NaN</td>\n",
       "    </tr>\n",
       "    <tr>\n",
       "      <th>4</th>\n",
       "      <td>0</td>\n",
       "      <td>NaN</td>\n",
       "      <td>NaN</td>\n",
       "      <td>NaN</td>\n",
       "      <td>178965.5725</td>\n",
       "      <td>571592.4473</td>\n",
       "      <td>31.235185</td>\n",
       "      <td>34.779433</td>\n",
       "      <td>NaN</td>\n",
       "    </tr>\n",
       "    <tr>\n",
       "      <th>...</th>\n",
       "      <td>...</td>\n",
       "      <td>...</td>\n",
       "      <td>...</td>\n",
       "      <td>...</td>\n",
       "      <td>...</td>\n",
       "      <td>...</td>\n",
       "      <td>...</td>\n",
       "      <td>...</td>\n",
       "      <td>...</td>\n",
       "    </tr>\n",
       "    <tr>\n",
       "      <th>59566</th>\n",
       "      <td>0</td>\n",
       "      <td>NaN</td>\n",
       "      <td>אצ\"ל</td>\n",
       "      <td>NaN</td>\n",
       "      <td>177777.1526</td>\n",
       "      <td>574971.2819</td>\n",
       "      <td>31.265617</td>\n",
       "      <td>34.766818</td>\n",
       "      <td>NaN</td>\n",
       "    </tr>\n",
       "    <tr>\n",
       "      <th>59567</th>\n",
       "      <td>0</td>\n",
       "      <td>NaN</td>\n",
       "      <td>NaN</td>\n",
       "      <td>NaN</td>\n",
       "      <td>178736.2796</td>\n",
       "      <td>573397.7334</td>\n",
       "      <td>31.251459</td>\n",
       "      <td>34.776953</td>\n",
       "      <td>NaN</td>\n",
       "    </tr>\n",
       "    <tr>\n",
       "      <th>59568</th>\n",
       "      <td>0</td>\n",
       "      <td>NaN</td>\n",
       "      <td>NaN</td>\n",
       "      <td>NaN</td>\n",
       "      <td>178960.3601</td>\n",
       "      <td>570520.2996</td>\n",
       "      <td>31.225515</td>\n",
       "      <td>34.779421</td>\n",
       "      <td>NaN</td>\n",
       "    </tr>\n",
       "    <tr>\n",
       "      <th>59569</th>\n",
       "      <td>794</td>\n",
       "      <td>סיגלון עלי מימוסה</td>\n",
       "      <td>אלישר חיים משה</td>\n",
       "      <td>רמות</td>\n",
       "      <td>182565.0560</td>\n",
       "      <td>575781.1640</td>\n",
       "      <td>31.273082</td>\n",
       "      <td>34.817059</td>\n",
       "      <td>1.0</td>\n",
       "    </tr>\n",
       "    <tr>\n",
       "      <th>59570</th>\n",
       "      <td>0</td>\n",
       "      <td>NaN</td>\n",
       "      <td>NaN</td>\n",
       "      <td>NaN</td>\n",
       "      <td>178706.7497</td>\n",
       "      <td>570401.6750</td>\n",
       "      <td>31.224437</td>\n",
       "      <td>34.776764</td>\n",
       "      <td>NaN</td>\n",
       "    </tr>\n",
       "  </tbody>\n",
       "</table>\n",
       "<p>59571 rows × 9 columns</p>\n",
       "</div>"
      ],
      "text/plain": [
       "        id            species          street neighborhood        itm_x  \\\n",
       "0        0                NaN             NaN          NaN  178851.0986   \n",
       "1        0                NaN      קדושי יאסי          NaN  177190.9032   \n",
       "2        0                NaN      טוביהו דוד          NaN  177262.2382   \n",
       "3        0                NaN             NaN          NaN  180647.9995   \n",
       "4        0                NaN             NaN          NaN  178965.5725   \n",
       "...    ...                ...             ...          ...          ...   \n",
       "59566    0                NaN            אצ\"ל          NaN  177777.1526   \n",
       "59567    0                NaN             NaN          NaN  178736.2796   \n",
       "59568    0                NaN             NaN          NaN  178960.3601   \n",
       "59569  794  סיגלון עלי מימוסה  אלישר חיים משה         רמות  182565.0560   \n",
       "59570    0                NaN             NaN          NaN  178706.7497   \n",
       "\n",
       "             itm_y        lat        lon  sigalon  \n",
       "0      573942.6775  31.256378  34.778136      NaN  \n",
       "1      575006.8485  31.265916  34.760662      NaN  \n",
       "2      573712.8533  31.254248  34.761465      NaN  \n",
       "3      576674.5454  31.281077  34.796895      NaN  \n",
       "4      571592.4473  31.235185  34.779433      NaN  \n",
       "...            ...        ...        ...      ...  \n",
       "59566  574971.2819  31.265617  34.766818      NaN  \n",
       "59567  573397.7334  31.251459  34.776953      NaN  \n",
       "59568  570520.2996  31.225515  34.779421      NaN  \n",
       "59569  575781.1640  31.273082  34.817059      1.0  \n",
       "59570  570401.6750  31.224437  34.776764      NaN  \n",
       "\n",
       "[59571 rows x 9 columns]"
      ]
     },
     "execution_count": 220,
     "metadata": {},
     "output_type": "execute_result"
    }
   ],
   "source": [
    "trees.loc[trees['species'] == 'סיגלון עלי מימוסה', 'sigalon'] = 1\n",
    "trees"
   ]
  },
  {
   "cell_type": "code",
   "execution_count": 221,
   "metadata": {},
   "outputs": [
    {
     "data": {
      "text/plain": [
       "2055.0"
      ]
     },
     "execution_count": 221,
     "metadata": {},
     "output_type": "execute_result"
    }
   ],
   "source": [
    "trees['sigalon'].sum()"
   ]
  },
  {
   "attachments": {},
   "cell_type": "markdown",
   "metadata": {},
   "source": [
    "Note that this behavior is specific to `pandas`, and unlike what we have seen with `numpy` arrays, where these opertions return \"No Data\" if at least one of the values in the array is \"No Data\" (see {ref}`numpy-operations-with-nodata`):"
   ]
  },
  {
   "cell_type": "code",
   "execution_count": 222,
   "metadata": {},
   "outputs": [
    {
     "data": {
      "text/plain": [
       "nan"
      ]
     },
     "execution_count": 222,
     "metadata": {},
     "output_type": "execute_result"
    }
   ],
   "source": [
    "trees['sigalon'].to_numpy().sum()"
   ]
  },
  {
   "attachments": {},
   "cell_type": "markdown",
   "metadata": {},
   "source": [
    "Element-by-element operations, however, expectedly result in \"No Data\" when applied to \"No Data\" elements, since the result cannot be computed at all. For example:"
   ]
  },
  {
   "cell_type": "code",
   "execution_count": 223,
   "metadata": {},
   "outputs": [
    {
     "data": {
      "text/plain": [
       "0        NaN\n",
       "1        NaN\n",
       "2        NaN\n",
       "3        NaN\n",
       "4        NaN\n",
       "        ... \n",
       "59566    NaN\n",
       "59567    NaN\n",
       "59568    NaN\n",
       "59569    2.0\n",
       "59570    NaN\n",
       "Name: sigalon, Length: 59571, dtype: float64"
      ]
     },
     "execution_count": 223,
     "metadata": {},
     "output_type": "execute_result"
    }
   ],
   "source": [
    "trees['sigalon'] * 2"
   ]
  },
  {
   "attachments": {},
   "cell_type": "markdown",
   "metadata": {},
   "source": [
    "(removing-with-dropna)=\n",
    "### Removing with `.dropna`"
   ]
  },
  {
   "attachments": {},
   "cell_type": "markdown",
   "metadata": {},
   "source": [
    "The `.dropna` method can be used to remove missing values from a `DataFrame` (or a `Series`). The default is to drop all rows that have at least one missing value, i.e., keeping only *complete observations*. For example:"
   ]
  },
  {
   "cell_type": "code",
   "execution_count": 224,
   "metadata": {},
   "outputs": [
    {
     "data": {
      "text/html": [
       "<div>\n",
       "<style scoped>\n",
       "    .dataframe tbody tr th:only-of-type {\n",
       "        vertical-align: middle;\n",
       "    }\n",
       "\n",
       "    .dataframe tbody tr th {\n",
       "        vertical-align: top;\n",
       "    }\n",
       "\n",
       "    .dataframe thead th {\n",
       "        text-align: right;\n",
       "    }\n",
       "</style>\n",
       "<table border=\"1\" class=\"dataframe\">\n",
       "  <thead>\n",
       "    <tr style=\"text-align: right;\">\n",
       "      <th></th>\n",
       "      <th>id</th>\n",
       "      <th>species</th>\n",
       "      <th>street</th>\n",
       "      <th>neighborhood</th>\n",
       "      <th>itm_x</th>\n",
       "      <th>itm_y</th>\n",
       "      <th>lat</th>\n",
       "      <th>lon</th>\n",
       "      <th>sigalon</th>\n",
       "    </tr>\n",
       "  </thead>\n",
       "  <tbody>\n",
       "    <tr>\n",
       "      <th>46</th>\n",
       "      <td>147</td>\n",
       "      <td>סיגלון עלי מימוסה</td>\n",
       "      <td>אורי צבי</td>\n",
       "      <td>רמות</td>\n",
       "      <td>182514.8560</td>\n",
       "      <td>576183.1820</td>\n",
       "      <td>31.276706</td>\n",
       "      <td>34.816517</td>\n",
       "      <td>1.0</td>\n",
       "    </tr>\n",
       "    <tr>\n",
       "      <th>94</th>\n",
       "      <td>6879</td>\n",
       "      <td>סיגלון עלי מימוסה</td>\n",
       "      <td>פינקל שמעון</td>\n",
       "      <td>נווה מנחם</td>\n",
       "      <td>176749.0495</td>\n",
       "      <td>574848.2124</td>\n",
       "      <td>31.264469</td>\n",
       "      <td>34.756029</td>\n",
       "      <td>1.0</td>\n",
       "    </tr>\n",
       "    <tr>\n",
       "      <th>101</th>\n",
       "      <td>8590</td>\n",
       "      <td>סיגלון עלי מימוסה</td>\n",
       "      <td>דרך אילת</td>\n",
       "      <td>מרכז אזרחי</td>\n",
       "      <td>180686.9014</td>\n",
       "      <td>572493.2768</td>\n",
       "      <td>31.243368</td>\n",
       "      <td>34.797465</td>\n",
       "      <td>1.0</td>\n",
       "    </tr>\n",
       "    <tr>\n",
       "      <th>109</th>\n",
       "      <td>750</td>\n",
       "      <td>סיגלון עלי מימוסה</td>\n",
       "      <td>אלישר חיים משה</td>\n",
       "      <td>רמות</td>\n",
       "      <td>182639.7940</td>\n",
       "      <td>575771.6170</td>\n",
       "      <td>31.272998</td>\n",
       "      <td>34.817845</td>\n",
       "      <td>1.0</td>\n",
       "    </tr>\n",
       "    <tr>\n",
       "      <th>118</th>\n",
       "      <td>1697</td>\n",
       "      <td>סיגלון עלי מימוסה</td>\n",
       "      <td>האוזנר גדעון</td>\n",
       "      <td>רמות הרכס</td>\n",
       "      <td>181421.0310</td>\n",
       "      <td>577302.3120</td>\n",
       "      <td>31.286765</td>\n",
       "      <td>34.804989</td>\n",
       "      <td>1.0</td>\n",
       "    </tr>\n",
       "    <tr>\n",
       "      <th>...</th>\n",
       "      <td>...</td>\n",
       "      <td>...</td>\n",
       "      <td>...</td>\n",
       "      <td>...</td>\n",
       "      <td>...</td>\n",
       "      <td>...</td>\n",
       "      <td>...</td>\n",
       "      <td>...</td>\n",
       "      <td>...</td>\n",
       "    </tr>\n",
       "    <tr>\n",
       "      <th>59497</th>\n",
       "      <td>6881</td>\n",
       "      <td>סיגלון עלי מימוסה</td>\n",
       "      <td>פינקל שמעון</td>\n",
       "      <td>נווה מנחם</td>\n",
       "      <td>176769.5141</td>\n",
       "      <td>574839.2052</td>\n",
       "      <td>31.264389</td>\n",
       "      <td>34.756244</td>\n",
       "      <td>1.0</td>\n",
       "    </tr>\n",
       "    <tr>\n",
       "      <th>59512</th>\n",
       "      <td>1702</td>\n",
       "      <td>סיגלון עלי מימוסה</td>\n",
       "      <td>האוזנר גדעון</td>\n",
       "      <td>רמות הרכס</td>\n",
       "      <td>181449.1440</td>\n",
       "      <td>577213.9830</td>\n",
       "      <td>31.285969</td>\n",
       "      <td>34.805287</td>\n",
       "      <td>1.0</td>\n",
       "    </tr>\n",
       "    <tr>\n",
       "      <th>59529</th>\n",
       "      <td>217</td>\n",
       "      <td>סיגלון עלי מימוסה</td>\n",
       "      <td>הר בוקר</td>\n",
       "      <td>רמות</td>\n",
       "      <td>181888.6660</td>\n",
       "      <td>575877.2040</td>\n",
       "      <td>31.273927</td>\n",
       "      <td>34.809953</td>\n",
       "      <td>1.0</td>\n",
       "    </tr>\n",
       "    <tr>\n",
       "      <th>59538</th>\n",
       "      <td>417</td>\n",
       "      <td>סיגלון עלי מימוסה</td>\n",
       "      <td>אמיר אברהם</td>\n",
       "      <td>רמות</td>\n",
       "      <td>183246.8270</td>\n",
       "      <td>576113.8890</td>\n",
       "      <td>31.276104</td>\n",
       "      <td>34.824206</td>\n",
       "      <td>1.0</td>\n",
       "    </tr>\n",
       "    <tr>\n",
       "      <th>59569</th>\n",
       "      <td>794</td>\n",
       "      <td>סיגלון עלי מימוסה</td>\n",
       "      <td>אלישר חיים משה</td>\n",
       "      <td>רמות</td>\n",
       "      <td>182565.0560</td>\n",
       "      <td>575781.1640</td>\n",
       "      <td>31.273082</td>\n",
       "      <td>34.817059</td>\n",
       "      <td>1.0</td>\n",
       "    </tr>\n",
       "  </tbody>\n",
       "</table>\n",
       "<p>1930 rows × 9 columns</p>\n",
       "</div>"
      ],
      "text/plain": [
       "         id            species          street neighborhood        itm_x  \\\n",
       "46      147  סיגלון עלי מימוסה        אורי צבי         רמות  182514.8560   \n",
       "94     6879  סיגלון עלי מימוסה     פינקל שמעון    נווה מנחם  176749.0495   \n",
       "101    8590  סיגלון עלי מימוסה        דרך אילת   מרכז אזרחי  180686.9014   \n",
       "109     750  סיגלון עלי מימוסה  אלישר חיים משה         רמות  182639.7940   \n",
       "118    1697  סיגלון עלי מימוסה    האוזנר גדעון    רמות הרכס  181421.0310   \n",
       "...     ...                ...             ...          ...          ...   \n",
       "59497  6881  סיגלון עלי מימוסה     פינקל שמעון    נווה מנחם  176769.5141   \n",
       "59512  1702  סיגלון עלי מימוסה    האוזנר גדעון    רמות הרכס  181449.1440   \n",
       "59529   217  סיגלון עלי מימוסה         הר בוקר         רמות  181888.6660   \n",
       "59538   417  סיגלון עלי מימוסה      אמיר אברהם         רמות  183246.8270   \n",
       "59569   794  סיגלון עלי מימוסה  אלישר חיים משה         רמות  182565.0560   \n",
       "\n",
       "             itm_y        lat        lon  sigalon  \n",
       "46     576183.1820  31.276706  34.816517      1.0  \n",
       "94     574848.2124  31.264469  34.756029      1.0  \n",
       "101    572493.2768  31.243368  34.797465      1.0  \n",
       "109    575771.6170  31.272998  34.817845      1.0  \n",
       "118    577302.3120  31.286765  34.804989      1.0  \n",
       "...            ...        ...        ...      ...  \n",
       "59497  574839.2052  31.264389  34.756244      1.0  \n",
       "59512  577213.9830  31.285969  34.805287      1.0  \n",
       "59529  575877.2040  31.273927  34.809953      1.0  \n",
       "59538  576113.8890  31.276104  34.824206      1.0  \n",
       "59569  575781.1640  31.273082  34.817059      1.0  \n",
       "\n",
       "[1930 rows x 9 columns]"
      ]
     },
     "execution_count": 224,
     "metadata": {},
     "output_type": "execute_result"
    }
   ],
   "source": [
    "trees.dropna()"
   ]
  },
  {
   "attachments": {},
   "cell_type": "markdown",
   "metadata": {},
   "source": [
    "```{note}\n",
    "There are other parameters of `.dropna` for dropping columns instead of rows, or dropping rows or column using a threshold of \"acceptable\" minimum number of non-missing values. See the documentation for details: <https://pandas.pydata.org/docs/reference/api/pandas.DataFrame.dropna.html>.\n",
    "```"
   ]
  },
  {
   "attachments": {},
   "cell_type": "markdown",
   "metadata": {},
   "source": [
    "### Replacing with `.fillna`"
   ]
  },
  {
   "attachments": {},
   "cell_type": "markdown",
   "metadata": {},
   "source": [
    "Missing values can be replaced using the `.fillna` method. The parameter specifies which new value should be placed instead of the \"No Data\" values. For example, here is how we can replace the \"No Data\" values in the `'sigalon'` column of `trees` with `0`:"
   ]
  },
  {
   "cell_type": "code",
   "execution_count": 226,
   "metadata": {},
   "outputs": [
    {
     "data": {
      "text/plain": [
       "0        0.0\n",
       "1        0.0\n",
       "2        0.0\n",
       "3        0.0\n",
       "4        0.0\n",
       "        ... \n",
       "59566    0.0\n",
       "59567    0.0\n",
       "59568    0.0\n",
       "59569    1.0\n",
       "59570    0.0\n",
       "Name: sigalon, Length: 59571, dtype: float64"
      ]
     },
     "execution_count": 226,
     "metadata": {},
     "output_type": "execute_result"
    }
   ],
   "source": [
    "trees['sigalon'].fillna(0)"
   ]
  },
  {
   "attachments": {},
   "cell_type": "markdown",
   "metadata": {},
   "source": [
    "or assign the result back to the `trees` table:"
   ]
  },
  {
   "cell_type": "code",
   "execution_count": 227,
   "metadata": {},
   "outputs": [
    {
     "data": {
      "text/html": [
       "<div>\n",
       "<style scoped>\n",
       "    .dataframe tbody tr th:only-of-type {\n",
       "        vertical-align: middle;\n",
       "    }\n",
       "\n",
       "    .dataframe tbody tr th {\n",
       "        vertical-align: top;\n",
       "    }\n",
       "\n",
       "    .dataframe thead th {\n",
       "        text-align: right;\n",
       "    }\n",
       "</style>\n",
       "<table border=\"1\" class=\"dataframe\">\n",
       "  <thead>\n",
       "    <tr style=\"text-align: right;\">\n",
       "      <th></th>\n",
       "      <th>id</th>\n",
       "      <th>species</th>\n",
       "      <th>street</th>\n",
       "      <th>neighborhood</th>\n",
       "      <th>itm_x</th>\n",
       "      <th>itm_y</th>\n",
       "      <th>lat</th>\n",
       "      <th>lon</th>\n",
       "      <th>sigalon</th>\n",
       "    </tr>\n",
       "  </thead>\n",
       "  <tbody>\n",
       "    <tr>\n",
       "      <th>0</th>\n",
       "      <td>0</td>\n",
       "      <td>NaN</td>\n",
       "      <td>NaN</td>\n",
       "      <td>NaN</td>\n",
       "      <td>178851.0986</td>\n",
       "      <td>573942.6775</td>\n",
       "      <td>31.256378</td>\n",
       "      <td>34.778136</td>\n",
       "      <td>0.0</td>\n",
       "    </tr>\n",
       "    <tr>\n",
       "      <th>1</th>\n",
       "      <td>0</td>\n",
       "      <td>NaN</td>\n",
       "      <td>קדושי יאסי</td>\n",
       "      <td>NaN</td>\n",
       "      <td>177190.9032</td>\n",
       "      <td>575006.8485</td>\n",
       "      <td>31.265916</td>\n",
       "      <td>34.760662</td>\n",
       "      <td>0.0</td>\n",
       "    </tr>\n",
       "    <tr>\n",
       "      <th>2</th>\n",
       "      <td>0</td>\n",
       "      <td>NaN</td>\n",
       "      <td>טוביהו דוד</td>\n",
       "      <td>NaN</td>\n",
       "      <td>177262.2382</td>\n",
       "      <td>573712.8533</td>\n",
       "      <td>31.254248</td>\n",
       "      <td>34.761465</td>\n",
       "      <td>0.0</td>\n",
       "    </tr>\n",
       "    <tr>\n",
       "      <th>3</th>\n",
       "      <td>0</td>\n",
       "      <td>NaN</td>\n",
       "      <td>NaN</td>\n",
       "      <td>NaN</td>\n",
       "      <td>180647.9995</td>\n",
       "      <td>576674.5454</td>\n",
       "      <td>31.281077</td>\n",
       "      <td>34.796895</td>\n",
       "      <td>0.0</td>\n",
       "    </tr>\n",
       "    <tr>\n",
       "      <th>4</th>\n",
       "      <td>0</td>\n",
       "      <td>NaN</td>\n",
       "      <td>NaN</td>\n",
       "      <td>NaN</td>\n",
       "      <td>178965.5725</td>\n",
       "      <td>571592.4473</td>\n",
       "      <td>31.235185</td>\n",
       "      <td>34.779433</td>\n",
       "      <td>0.0</td>\n",
       "    </tr>\n",
       "    <tr>\n",
       "      <th>...</th>\n",
       "      <td>...</td>\n",
       "      <td>...</td>\n",
       "      <td>...</td>\n",
       "      <td>...</td>\n",
       "      <td>...</td>\n",
       "      <td>...</td>\n",
       "      <td>...</td>\n",
       "      <td>...</td>\n",
       "      <td>...</td>\n",
       "    </tr>\n",
       "    <tr>\n",
       "      <th>59566</th>\n",
       "      <td>0</td>\n",
       "      <td>NaN</td>\n",
       "      <td>אצ\"ל</td>\n",
       "      <td>NaN</td>\n",
       "      <td>177777.1526</td>\n",
       "      <td>574971.2819</td>\n",
       "      <td>31.265617</td>\n",
       "      <td>34.766818</td>\n",
       "      <td>0.0</td>\n",
       "    </tr>\n",
       "    <tr>\n",
       "      <th>59567</th>\n",
       "      <td>0</td>\n",
       "      <td>NaN</td>\n",
       "      <td>NaN</td>\n",
       "      <td>NaN</td>\n",
       "      <td>178736.2796</td>\n",
       "      <td>573397.7334</td>\n",
       "      <td>31.251459</td>\n",
       "      <td>34.776953</td>\n",
       "      <td>0.0</td>\n",
       "    </tr>\n",
       "    <tr>\n",
       "      <th>59568</th>\n",
       "      <td>0</td>\n",
       "      <td>NaN</td>\n",
       "      <td>NaN</td>\n",
       "      <td>NaN</td>\n",
       "      <td>178960.3601</td>\n",
       "      <td>570520.2996</td>\n",
       "      <td>31.225515</td>\n",
       "      <td>34.779421</td>\n",
       "      <td>0.0</td>\n",
       "    </tr>\n",
       "    <tr>\n",
       "      <th>59569</th>\n",
       "      <td>794</td>\n",
       "      <td>סיגלון עלי מימוסה</td>\n",
       "      <td>אלישר חיים משה</td>\n",
       "      <td>רמות</td>\n",
       "      <td>182565.0560</td>\n",
       "      <td>575781.1640</td>\n",
       "      <td>31.273082</td>\n",
       "      <td>34.817059</td>\n",
       "      <td>1.0</td>\n",
       "    </tr>\n",
       "    <tr>\n",
       "      <th>59570</th>\n",
       "      <td>0</td>\n",
       "      <td>NaN</td>\n",
       "      <td>NaN</td>\n",
       "      <td>NaN</td>\n",
       "      <td>178706.7497</td>\n",
       "      <td>570401.6750</td>\n",
       "      <td>31.224437</td>\n",
       "      <td>34.776764</td>\n",
       "      <td>0.0</td>\n",
       "    </tr>\n",
       "  </tbody>\n",
       "</table>\n",
       "<p>59571 rows × 9 columns</p>\n",
       "</div>"
      ],
      "text/plain": [
       "        id            species          street neighborhood        itm_x  \\\n",
       "0        0                NaN             NaN          NaN  178851.0986   \n",
       "1        0                NaN      קדושי יאסי          NaN  177190.9032   \n",
       "2        0                NaN      טוביהו דוד          NaN  177262.2382   \n",
       "3        0                NaN             NaN          NaN  180647.9995   \n",
       "4        0                NaN             NaN          NaN  178965.5725   \n",
       "...    ...                ...             ...          ...          ...   \n",
       "59566    0                NaN            אצ\"ל          NaN  177777.1526   \n",
       "59567    0                NaN             NaN          NaN  178736.2796   \n",
       "59568    0                NaN             NaN          NaN  178960.3601   \n",
       "59569  794  סיגלון עלי מימוסה  אלישר חיים משה         רמות  182565.0560   \n",
       "59570    0                NaN             NaN          NaN  178706.7497   \n",
       "\n",
       "             itm_y        lat        lon  sigalon  \n",
       "0      573942.6775  31.256378  34.778136      0.0  \n",
       "1      575006.8485  31.265916  34.760662      0.0  \n",
       "2      573712.8533  31.254248  34.761465      0.0  \n",
       "3      576674.5454  31.281077  34.796895      0.0  \n",
       "4      571592.4473  31.235185  34.779433      0.0  \n",
       "...            ...        ...        ...      ...  \n",
       "59566  574971.2819  31.265617  34.766818      0.0  \n",
       "59567  573397.7334  31.251459  34.776953      0.0  \n",
       "59568  570520.2996  31.225515  34.779421      0.0  \n",
       "59569  575781.1640  31.273082  34.817059      1.0  \n",
       "59570  570401.6750  31.224437  34.776764      0.0  \n",
       "\n",
       "[59571 rows x 9 columns]"
      ]
     },
     "execution_count": 227,
     "metadata": {},
     "output_type": "execute_result"
    }
   ],
   "source": [
    "trees['sigalon'] = trees['sigalon'].fillna(0)\n",
    "trees"
   ]
  },
  {
   "attachments": {},
   "cell_type": "markdown",
   "metadata": {},
   "source": [
    "Let us return to the original `trees` table:"
   ]
  },
  {
   "cell_type": "code",
   "execution_count": 229,
   "metadata": {},
   "outputs": [
    {
     "data": {
      "text/html": [
       "<div>\n",
       "<style scoped>\n",
       "    .dataframe tbody tr th:only-of-type {\n",
       "        vertical-align: middle;\n",
       "    }\n",
       "\n",
       "    .dataframe tbody tr th {\n",
       "        vertical-align: top;\n",
       "    }\n",
       "\n",
       "    .dataframe thead th {\n",
       "        text-align: right;\n",
       "    }\n",
       "</style>\n",
       "<table border=\"1\" class=\"dataframe\">\n",
       "  <thead>\n",
       "    <tr style=\"text-align: right;\">\n",
       "      <th></th>\n",
       "      <th>plate_num</th>\n",
       "      <th>tree_speci</th>\n",
       "      <th>street_nam</th>\n",
       "      <th>neighborho</th>\n",
       "      <th>itm_x</th>\n",
       "      <th>itm_y</th>\n",
       "      <th>lat</th>\n",
       "      <th>lon</th>\n",
       "    </tr>\n",
       "  </thead>\n",
       "  <tbody>\n",
       "    <tr>\n",
       "      <th>0</th>\n",
       "      <td>0</td>\n",
       "      <td>NaN</td>\n",
       "      <td>NaN</td>\n",
       "      <td>NaN</td>\n",
       "      <td>178851.0986</td>\n",
       "      <td>573942.6775</td>\n",
       "      <td>31.256378</td>\n",
       "      <td>34.778136</td>\n",
       "    </tr>\n",
       "    <tr>\n",
       "      <th>1</th>\n",
       "      <td>0</td>\n",
       "      <td>NaN</td>\n",
       "      <td>קדושי יאסי</td>\n",
       "      <td>NaN</td>\n",
       "      <td>177190.9032</td>\n",
       "      <td>575006.8485</td>\n",
       "      <td>31.265916</td>\n",
       "      <td>34.760662</td>\n",
       "    </tr>\n",
       "    <tr>\n",
       "      <th>2</th>\n",
       "      <td>0</td>\n",
       "      <td>NaN</td>\n",
       "      <td>טוביהו דוד</td>\n",
       "      <td>NaN</td>\n",
       "      <td>177262.2382</td>\n",
       "      <td>573712.8533</td>\n",
       "      <td>31.254248</td>\n",
       "      <td>34.761465</td>\n",
       "    </tr>\n",
       "    <tr>\n",
       "      <th>3</th>\n",
       "      <td>0</td>\n",
       "      <td>NaN</td>\n",
       "      <td>NaN</td>\n",
       "      <td>NaN</td>\n",
       "      <td>180647.9995</td>\n",
       "      <td>576674.5454</td>\n",
       "      <td>31.281077</td>\n",
       "      <td>34.796895</td>\n",
       "    </tr>\n",
       "    <tr>\n",
       "      <th>4</th>\n",
       "      <td>0</td>\n",
       "      <td>NaN</td>\n",
       "      <td>NaN</td>\n",
       "      <td>NaN</td>\n",
       "      <td>178965.5725</td>\n",
       "      <td>571592.4473</td>\n",
       "      <td>31.235185</td>\n",
       "      <td>34.779433</td>\n",
       "    </tr>\n",
       "    <tr>\n",
       "      <th>...</th>\n",
       "      <td>...</td>\n",
       "      <td>...</td>\n",
       "      <td>...</td>\n",
       "      <td>...</td>\n",
       "      <td>...</td>\n",
       "      <td>...</td>\n",
       "      <td>...</td>\n",
       "      <td>...</td>\n",
       "    </tr>\n",
       "    <tr>\n",
       "      <th>59566</th>\n",
       "      <td>0</td>\n",
       "      <td>NaN</td>\n",
       "      <td>אצ\"ל</td>\n",
       "      <td>NaN</td>\n",
       "      <td>177777.1526</td>\n",
       "      <td>574971.2819</td>\n",
       "      <td>31.265617</td>\n",
       "      <td>34.766818</td>\n",
       "    </tr>\n",
       "    <tr>\n",
       "      <th>59567</th>\n",
       "      <td>0</td>\n",
       "      <td>NaN</td>\n",
       "      <td>NaN</td>\n",
       "      <td>NaN</td>\n",
       "      <td>178736.2796</td>\n",
       "      <td>573397.7334</td>\n",
       "      <td>31.251459</td>\n",
       "      <td>34.776953</td>\n",
       "    </tr>\n",
       "    <tr>\n",
       "      <th>59568</th>\n",
       "      <td>0</td>\n",
       "      <td>NaN</td>\n",
       "      <td>NaN</td>\n",
       "      <td>NaN</td>\n",
       "      <td>178960.3601</td>\n",
       "      <td>570520.2996</td>\n",
       "      <td>31.225515</td>\n",
       "      <td>34.779421</td>\n",
       "    </tr>\n",
       "    <tr>\n",
       "      <th>59569</th>\n",
       "      <td>794</td>\n",
       "      <td>סיגלון עלי מימוסה</td>\n",
       "      <td>אלישר חיים משה</td>\n",
       "      <td>רמות</td>\n",
       "      <td>182565.0560</td>\n",
       "      <td>575781.1640</td>\n",
       "      <td>31.273082</td>\n",
       "      <td>34.817059</td>\n",
       "    </tr>\n",
       "    <tr>\n",
       "      <th>59570</th>\n",
       "      <td>0</td>\n",
       "      <td>NaN</td>\n",
       "      <td>NaN</td>\n",
       "      <td>NaN</td>\n",
       "      <td>178706.7497</td>\n",
       "      <td>570401.6750</td>\n",
       "      <td>31.224437</td>\n",
       "      <td>34.776764</td>\n",
       "    </tr>\n",
       "  </tbody>\n",
       "</table>\n",
       "<p>59571 rows × 8 columns</p>\n",
       "</div>"
      ],
      "text/plain": [
       "       plate_num         tree_speci      street_nam neighborho        itm_x  \\\n",
       "0              0                NaN             NaN        NaN  178851.0986   \n",
       "1              0                NaN      קדושי יאסי        NaN  177190.9032   \n",
       "2              0                NaN      טוביהו דוד        NaN  177262.2382   \n",
       "3              0                NaN             NaN        NaN  180647.9995   \n",
       "4              0                NaN             NaN        NaN  178965.5725   \n",
       "...          ...                ...             ...        ...          ...   \n",
       "59566          0                NaN            אצ\"ל        NaN  177777.1526   \n",
       "59567          0                NaN             NaN        NaN  178736.2796   \n",
       "59568          0                NaN             NaN        NaN  178960.3601   \n",
       "59569        794  סיגלון עלי מימוסה  אלישר חיים משה       רמות  182565.0560   \n",
       "59570          0                NaN             NaN        NaN  178706.7497   \n",
       "\n",
       "             itm_y        lat        lon  \n",
       "0      573942.6775  31.256378  34.778136  \n",
       "1      575006.8485  31.265916  34.760662  \n",
       "2      573712.8533  31.254248  34.761465  \n",
       "3      576674.5454  31.281077  34.796895  \n",
       "4      571592.4473  31.235185  34.779433  \n",
       "...            ...        ...        ...  \n",
       "59566  574971.2819  31.265617  34.766818  \n",
       "59567  573397.7334  31.251459  34.776953  \n",
       "59568  570520.2996  31.225515  34.779421  \n",
       "59569  575781.1640  31.273082  34.817059  \n",
       "59570  570401.6750  31.224437  34.776764  \n",
       "\n",
       "[59571 rows x 8 columns]"
      ]
     },
     "execution_count": 229,
     "metadata": {},
     "output_type": "execute_result"
    }
   ],
   "source": [
    "trees = pd.read_csv('data/trees.csv')\n",
    "trees"
   ]
  },
  {
   "attachments": {},
   "cell_type": "markdown",
   "metadata": {},
   "source": [
    "## Copies"
   ]
  },
  {
   "attachments": {},
   "cell_type": "markdown",
   "metadata": {},
   "source": [
    "One more thing we need to be aware when working with `pandas` is the distinction between references and copies. The `pandas` package (and `geopandas` which extends it, see {ref}`geopandas1`) behaves similarly to `numpy` with respect to copies (see {ref}`numpy-references-and-copies`). We must be aware of whether we are creating a view or a copy of a `DataFrame`, to avoid unexpected results."
   ]
  },
  {
   "attachments": {},
   "cell_type": "markdown",
   "metadata": {},
   "source": [
    "Here is a small demonstration, very similar to the one we did with `numpy` arrays (see {ref}`numpy-references-and-copies`). Suppose that we create a copy of `dat`, named `dat2`:"
   ]
  },
  {
   "cell_type": "code",
   "execution_count": 110,
   "metadata": {},
   "outputs": [],
   "source": [
    "dat2 = dat"
   ]
  },
  {
   "attachments": {},
   "cell_type": "markdown",
   "metadata": {},
   "source": [
    "Next, we modify `dat2`, assigning a new value such as `9999` into a particular cell (e.g., 2<sup>nd</sup> row, 2<sup>nd</sup> column):"
   ]
  },
  {
   "cell_type": "code",
   "execution_count": 111,
   "metadata": {},
   "outputs": [],
   "source": [
    "dat2.iloc[1, 1] = 9999"
   ]
  },
  {
   "attachments": {},
   "cell_type": "markdown",
   "metadata": {},
   "source": [
    "The printout of the table top-left \"corner\" demonstrates the value was actually changed:"
   ]
  },
  {
   "cell_type": "code",
   "execution_count": 112,
   "metadata": {},
   "outputs": [
    {
     "data": {
      "text/html": [
       "<div>\n",
       "<style scoped>\n",
       "    .dataframe tbody tr th:only-of-type {\n",
       "        vertical-align: middle;\n",
       "    }\n",
       "\n",
       "    .dataframe tbody tr th {\n",
       "        vertical-align: top;\n",
       "    }\n",
       "\n",
       "    .dataframe thead th {\n",
       "        text-align: right;\n",
       "    }\n",
       "</style>\n",
       "<table border=\"1\" class=\"dataframe\">\n",
       "  <thead>\n",
       "    <tr style=\"text-align: right;\">\n",
       "      <th></th>\n",
       "      <th>Year</th>\n",
       "      <th>Glob</th>\n",
       "      <th>NHem</th>\n",
       "      <th>SHem</th>\n",
       "    </tr>\n",
       "  </thead>\n",
       "  <tbody>\n",
       "    <tr>\n",
       "      <th>0</th>\n",
       "      <td>1880</td>\n",
       "      <td>-0.16</td>\n",
       "      <td>-0.29</td>\n",
       "      <td>-0.04</td>\n",
       "    </tr>\n",
       "    <tr>\n",
       "      <th>1</th>\n",
       "      <td>1881</td>\n",
       "      <td>9999.00</td>\n",
       "      <td>-0.17</td>\n",
       "      <td>0.01</td>\n",
       "    </tr>\n",
       "    <tr>\n",
       "      <th>2</th>\n",
       "      <td>1882</td>\n",
       "      <td>-0.11</td>\n",
       "      <td>-0.21</td>\n",
       "      <td>0.00</td>\n",
       "    </tr>\n",
       "    <tr>\n",
       "      <th>3</th>\n",
       "      <td>1883</td>\n",
       "      <td>-0.17</td>\n",
       "      <td>-0.28</td>\n",
       "      <td>-0.06</td>\n",
       "    </tr>\n",
       "  </tbody>\n",
       "</table>\n",
       "</div>"
      ],
      "text/plain": [
       "   Year     Glob  NHem  SHem\n",
       "0  1880    -0.16 -0.29 -0.04\n",
       "1  1881  9999.00 -0.17  0.01\n",
       "2  1882    -0.11 -0.21  0.00\n",
       "3  1883    -0.17 -0.28 -0.06"
      ]
     },
     "execution_count": 112,
     "metadata": {},
     "output_type": "execute_result"
    }
   ],
   "source": [
    "dat2.iloc[:4, :4]"
   ]
  },
  {
   "attachments": {},
   "cell_type": "markdown",
   "metadata": {},
   "source": [
    "What may be surprising, again, is that the original table `dat` has also changed. We thus demonstrated that `dat2` is a reference to `dat`, rather than an independent copy: "
   ]
  },
  {
   "cell_type": "code",
   "execution_count": 113,
   "metadata": {},
   "outputs": [
    {
     "data": {
      "text/html": [
       "<div>\n",
       "<style scoped>\n",
       "    .dataframe tbody tr th:only-of-type {\n",
       "        vertical-align: middle;\n",
       "    }\n",
       "\n",
       "    .dataframe tbody tr th {\n",
       "        vertical-align: top;\n",
       "    }\n",
       "\n",
       "    .dataframe thead th {\n",
       "        text-align: right;\n",
       "    }\n",
       "</style>\n",
       "<table border=\"1\" class=\"dataframe\">\n",
       "  <thead>\n",
       "    <tr style=\"text-align: right;\">\n",
       "      <th></th>\n",
       "      <th>Year</th>\n",
       "      <th>Glob</th>\n",
       "      <th>NHem</th>\n",
       "      <th>SHem</th>\n",
       "    </tr>\n",
       "  </thead>\n",
       "  <tbody>\n",
       "    <tr>\n",
       "      <th>0</th>\n",
       "      <td>1880</td>\n",
       "      <td>-0.16</td>\n",
       "      <td>-0.29</td>\n",
       "      <td>-0.04</td>\n",
       "    </tr>\n",
       "    <tr>\n",
       "      <th>1</th>\n",
       "      <td>1881</td>\n",
       "      <td>9999.00</td>\n",
       "      <td>-0.17</td>\n",
       "      <td>0.01</td>\n",
       "    </tr>\n",
       "    <tr>\n",
       "      <th>2</th>\n",
       "      <td>1882</td>\n",
       "      <td>-0.11</td>\n",
       "      <td>-0.21</td>\n",
       "      <td>0.00</td>\n",
       "    </tr>\n",
       "    <tr>\n",
       "      <th>3</th>\n",
       "      <td>1883</td>\n",
       "      <td>-0.17</td>\n",
       "      <td>-0.28</td>\n",
       "      <td>-0.06</td>\n",
       "    </tr>\n",
       "  </tbody>\n",
       "</table>\n",
       "</div>"
      ],
      "text/plain": [
       "   Year     Glob  NHem  SHem\n",
       "0  1880    -0.16 -0.29 -0.04\n",
       "1  1881  9999.00 -0.17  0.01\n",
       "2  1882    -0.11 -0.21  0.00\n",
       "3  1883    -0.17 -0.28 -0.06"
      ]
     },
     "execution_count": 113,
     "metadata": {},
     "output_type": "execute_result"
    }
   ],
   "source": [
    "dat.iloc[:4, :4]"
   ]
  },
  {
   "attachments": {},
   "cell_type": "markdown",
   "metadata": {},
   "source": [
    "To create an independent copy, so that its modifications are not reflected in the original, we need to explicitly use the `.copy` method, as in:"
   ]
  },
  {
   "cell_type": "code",
   "execution_count": 114,
   "metadata": {},
   "outputs": [],
   "source": [
    "dat2 = dat.copy()"
   ]
  },
  {
   "attachments": {},
   "cell_type": "markdown",
   "metadata": {},
   "source": [
    "Let us read the CSV file again to get back to the original values:"
   ]
  },
  {
   "cell_type": "code",
   "execution_count": 115,
   "metadata": {},
   "outputs": [],
   "source": [
    "dat = pd.read_csv('data/ZonAnn.Ts+dSST.csv')"
   ]
  },
  {
   "attachments": {},
   "cell_type": "markdown",
   "metadata": {},
   "source": [
    "(pandas-writing)=\n",
    "## Writing to file"
   ]
  },
  {
   "attachments": {},
   "cell_type": "markdown",
   "metadata": {},
   "source": [
    "A `DataFrame` can be exported to several formats, such as CSV or Excel, using the appropriate method. For example, exporting to CSV is done using the `.to_csv` method."
   ]
  },
  {
   "attachments": {},
   "cell_type": "markdown",
   "metadata": {},
   "source": [
    "Here is how we can export the `DataFrame` named `stations`, which we created in the beginning of the chapter (see {ref}`creating-dataframe`), to a CSV file named `stations.csv` in the `output` directory. The additional `index=False` argument specifies that we do not want to export the index values, which is usually the case:"
   ]
  },
  {
   "cell_type": "code",
   "execution_count": 116,
   "metadata": {},
   "outputs": [],
   "source": [
    "stations.to_csv('output/stations.csv', index=False)"
   ]
  },
  {
   "attachments": {},
   "cell_type": "markdown",
   "metadata": {},
   "source": [
    "Note that the file is exported to a sub-directory named `output` (which must already exist!)."
   ]
  },
  {
   "attachments": {},
   "cell_type": "markdown",
   "metadata": {},
   "source": [
    "The way the resulting file `stations.csv` is displayed in a spreadsheet program, such as Microsoft Excel or LibreOffice Calc, is shown in {numref}`exported-csv`. "
   ]
  },
  {
   "attachments": {},
   "cell_type": "markdown",
   "metadata": {},
   "source": [
    "```{figure} images/exported_csv.png\n",
    "---\n",
    "name: exported-csv\n",
    "---\n",
    "The `DataFrame` named `stations` when exported to CSV file and opened in LibreOffice Calc \n",
    "```"
   ]
  },
  {
   "attachments": {},
   "cell_type": "markdown",
   "metadata": {},
   "source": [
    "(exercise-pandas1)=\n",
    "## More exercises"
   ]
  },
  {
   "attachments": {},
   "cell_type": "markdown",
   "metadata": {},
   "source": [
    "```{admonition} Exercise 05-g\n",
    ":class: important\n",
    "* Import the file `trees.csv` into a `DataFrame`. \n",
    "* How many observations with non-missing `'species'` are there? (answer: `14866`)\n",
    "* How many observations with non-missing `'street'` **and** non-missing `'neighborhood'` are there? (answer: `12450`)\n",
    "* How many unique species names are there (excluding `np.nan`)? (answer: `130`)"
   ]
  },
  {
   "attachments": {},
   "cell_type": "markdown",
   "metadata": {},
   "source": [
    "## Exercise solutions"
   ]
  },
  {
   "cell_type": "code",
   "execution_count": 117,
   "metadata": {
    "tags": [
     "remove-cell"
    ]
   },
   "outputs": [],
   "source": [
    "from myst_nb import glue"
   ]
  },
  {
   "attachments": {},
   "cell_type": "markdown",
   "metadata": {},
   "source": [
    "### Exercise 05-d"
   ]
  },
  {
   "cell_type": "code",
   "execution_count": 119,
   "metadata": {
    "tags": []
   },
   "outputs": [
    {
     "data": {
      "text/plain": [
       "2021"
      ]
     },
     "execution_count": 119,
     "metadata": {},
     "output_type": "execute_result"
    }
   ],
   "source": [
    "import pandas as pd\n",
    "dat = pd.read_csv('data/ZonAnn.Ts+dSST.csv')\n",
    "dat['Year'].iloc[dat.shape[0]-1]"
   ]
  },
  {
   "attachments": {},
   "cell_type": "markdown",
   "metadata": {},
   "source": [
    "### Exercise 05-g"
   ]
  },
  {
   "cell_type": "code",
   "execution_count": 1,
   "metadata": {
    "tags": []
   },
   "outputs": [
    {
     "data": {
      "text/plain": [
       "14866"
      ]
     },
     "execution_count": 1,
     "metadata": {},
     "output_type": "execute_result"
    }
   ],
   "source": [
    "import pandas as pd\n",
    "trees = pd.read_csv('data/trees.csv')\n",
    "trees = trees.rename(columns={\n",
    "    'plate_num': 'id', \n",
    "    'tree_speci': 'species', \n",
    "    'street_nam': 'street', \n",
    "    'neighborho': 'neighborhood'\n",
    "})\n",
    "trees['species'].notna().sum()"
   ]
  },
  {
   "cell_type": "code",
   "execution_count": 241,
   "metadata": {},
   "outputs": [
    {
     "data": {
      "text/plain": [
       "12450"
      ]
     },
     "execution_count": 241,
     "metadata": {},
     "output_type": "execute_result"
    }
   ],
   "source": [
    "(trees['street'].notna() & trees['neighborhood'].notna()).sum()"
   ]
  },
  {
   "cell_type": "code",
   "execution_count": 253,
   "metadata": {},
   "outputs": [
    {
     "data": {
      "text/plain": [
       "130"
      ]
     },
     "execution_count": 253,
     "metadata": {},
     "output_type": "execute_result"
    }
   ],
   "source": [
    "trees['species'].nunique()"
   ]
  }
 ],
 "metadata": {
  "interpreter": {
   "hash": "31f2aee4e71d21fbe5cf8b01ff0e069b9275f58929596ceb00d14d90e3e16cd6"
  },
  "kernelspec": {
   "display_name": "Python 3.8.10 64-bit",
   "language": "python",
   "name": "python3"
  },
  "language_info": {
   "codemirror_mode": {
    "name": "ipython",
    "version": 3
   },
   "file_extension": ".py",
   "mimetype": "text/x-python",
   "name": "python",
   "nbconvert_exporter": "python",
   "pygments_lexer": "ipython3",
   "version": "3.10.12"
  },
  "toc-autonumbering": true,
  "toc-showcode": false,
  "toc-showmarkdowntxt": false
 },
 "nbformat": 4,
 "nbformat_minor": 4
}
